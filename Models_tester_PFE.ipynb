{
  "nbformat": 4,
  "nbformat_minor": 0,
  "metadata": {
    "colab": {
      "name": "Models_tester.ipynb",
      "provenance": [],
      "collapsed_sections": [],
      "mount_file_id": "1wiIFvK2mhrUyb2mQpTh7UgdeyljsMwEZ",
      "authorship_tag": "ABX9TyPj0P/WFfy3wIid4Xmpb2aI",
      "include_colab_link": true
    },
    "kernelspec": {
      "name": "python3",
      "display_name": "Python 3"
    },
    "language_info": {
      "name": "python"
    }
  },
  "cells": [
    {
      "cell_type": "markdown",
      "metadata": {
        "id": "view-in-github",
        "colab_type": "text"
      },
      "source": [
        "<a href=\"https://colab.research.google.com/github/lyeslehara1996/Matser_SI_DL/blob/main/Models_tester_PFE.ipynb\" target=\"_parent\"><img src=\"https://colab.research.google.com/assets/colab-badge.svg\" alt=\"Open In Colab\"/></a>"
      ]
    },
    {
      "cell_type": "code",
      "metadata": {
        "colab": {
          "base_uri": "https://localhost:8080/"
        },
        "id": "nflhM1NA1Psq",
        "outputId": "075041ac-a083-4504-de0d-b9b2ce61e5c5"
      },
      "source": [
        "from tensorflow.keras.optimizers import Adam,Adamax,Adagrad,SGD,RMSprop\n",
        "import keras.metrics as metrics\n",
        "from keras import backend as K\n",
        "from keras.layers import Bidirectional, Dense, Embedding, Input, Lambda, LSTM,GRU, RepeatVector, TimeDistributed, Layer, Activation, Dropout\n",
        "from keras.models import Model\n",
        "import tensorflow as tf\n",
        "import pandas as pd\n",
        "import numpy as np\n",
        "import os\n",
        "\n",
        "from keras import backend as K\n",
        "from keras import regularizers,constraints\n",
        "from keras import metrics\n",
        "from sklearn.metrics import accuracy_score, f1_score, precision_score, recall_score, classification_report, confusion_matrix\n",
        "\n",
        "from keras import initializers as initializers\n",
        "\n",
        "from keras.callbacks import ModelCheckpoint\n",
        "from keras.datasets import imdb\n",
        "from keras.preprocessing.sequence import pad_sequences\n",
        "from tensorflow import  keras\n",
        "import pandas as pd \n",
        "import re \n",
        "import nltk\n",
        "\n",
        "\n",
        "import matplotlib.pyplot as plt\n",
        "import numpy as np\n",
        "from numpy import asarray\n",
        "from numpy import zeros\n",
        "from keras.layers import Dropout\n",
        "\n",
        "from nltk.tokenize import word_tokenize\n",
        "from nltk.tokenize.toktok import ToktokTokenizer\n",
        "from keras.preprocessing.text import Tokenizer\n",
        "from nltk.tokenize import TweetTokenizer\n",
        "import string as st\n",
        "SAVEd = False\n",
        "\n",
        "\n",
        "from sklearn.preprocessing import LabelEncoder\n",
        "from keras.preprocessing.sequence import pad_sequences\n",
        "from keras.models import Sequential\n",
        "from keras.layers import Dense, Embedding, LSTM, SpatialDropout1D\n",
        "from sklearn.model_selection import train_test_split\n",
        "\n",
        "from nltk.corpus import stopwords\n",
        "from keras.utils.np_utils import to_categorical\n",
        "nltk.download('stopwords')\n",
        "nltk.download('punkt')\n",
        "\"\"\" Dataset\"\"\"\n",
        "\n",
        "from keras.callbacks import EarlyStopping\n",
        "from keras.callbacks import ModelCheckpoint"
      ],
      "execution_count": 169,
      "outputs": [
        {
          "output_type": "stream",
          "name": "stdout",
          "text": [
            "[nltk_data] Downloading package stopwords to /root/nltk_data...\n",
            "[nltk_data]   Package stopwords is already up-to-date!\n",
            "[nltk_data] Downloading package punkt to /root/nltk_data...\n",
            "[nltk_data]   Package punkt is already up-to-date!\n"
          ]
        }
      ]
    },
    {
      "cell_type": "code",
      "metadata": {
        "colab": {
          "base_uri": "https://localhost:8080/",
          "height": 201
        },
        "id": "ogIwWdqL1uLx",
        "outputId": "f218b6e8-be73-4dd8-eda0-ebc03c96a7ae"
      },
      "source": [
        "\n",
        "df=pd.read_excel(\"/content/drive/MyDrive/dossier_de_travail/SemEval2017A.xlsx\")\n",
        "\n",
        "df.drop(\"Unnamed: 3\", axis=1, inplace=True)\n",
        "df.drop(\"Unnamed: 4\", axis=1, inplace=True)\n",
        "df.drop(\"Unnamed: 5\", axis=1, inplace=True)\n",
        "df.drop(\"Unnamed: 6\", axis=1, inplace=True)\n",
        "\n",
        "df.head()\n"
      ],
      "execution_count": 6,
      "outputs": [
        {
          "output_type": "execute_result",
          "data": {
            "text/html": [
              "<div>\n",
              "<style scoped>\n",
              "    .dataframe tbody tr th:only-of-type {\n",
              "        vertical-align: middle;\n",
              "    }\n",
              "\n",
              "    .dataframe tbody tr th {\n",
              "        vertical-align: top;\n",
              "    }\n",
              "\n",
              "    .dataframe thead th {\n",
              "        text-align: right;\n",
              "    }\n",
              "</style>\n",
              "<table border=\"1\" class=\"dataframe\">\n",
              "  <thead>\n",
              "    <tr style=\"text-align: right;\">\n",
              "      <th></th>\n",
              "      <th>ID</th>\n",
              "      <th>Polarity</th>\n",
              "      <th>Comments</th>\n",
              "    </tr>\n",
              "  </thead>\n",
              "  <tbody>\n",
              "    <tr>\n",
              "      <th>0</th>\n",
              "      <td>619950566786113024</td>\n",
              "      <td>neutral</td>\n",
              "      <td>Picturehouse's, Pink Floyd's, 'Roger Waters: T...</td>\n",
              "    </tr>\n",
              "    <tr>\n",
              "      <th>1</th>\n",
              "      <td>619969366986235008</td>\n",
              "      <td>neutral</td>\n",
              "      <td>Order Go Set a Watchman in store or through ou...</td>\n",
              "    </tr>\n",
              "    <tr>\n",
              "      <th>2</th>\n",
              "      <td>619971047195044992</td>\n",
              "      <td>negative</td>\n",
              "      <td>If these runway renovations at the airport pre...</td>\n",
              "    </tr>\n",
              "    <tr>\n",
              "      <th>3</th>\n",
              "      <td>619974445185302016</td>\n",
              "      <td>neutral</td>\n",
              "      <td>If you could ask an onstage interview question...</td>\n",
              "    </tr>\n",
              "    <tr>\n",
              "      <th>4</th>\n",
              "      <td>619987808317406976</td>\n",
              "      <td>positive</td>\n",
              "      <td>A portion of book sales from our Harper Lee/Go...</td>\n",
              "    </tr>\n",
              "  </tbody>\n",
              "</table>\n",
              "</div>"
            ],
            "text/plain": [
              "                   ID  ...                                           Comments\n",
              "0  619950566786113024  ...  Picturehouse's, Pink Floyd's, 'Roger Waters: T...\n",
              "1  619969366986235008  ...  Order Go Set a Watchman in store or through ou...\n",
              "2  619971047195044992  ...  If these runway renovations at the airport pre...\n",
              "3  619974445185302016  ...  If you could ask an onstage interview question...\n",
              "4  619987808317406976  ...  A portion of book sales from our Harper Lee/Go...\n",
              "\n",
              "[5 rows x 3 columns]"
            ]
          },
          "metadata": {},
          "execution_count": 6
        }
      ]
    },
    {
      "cell_type": "code",
      "metadata": {
        "colab": {
          "base_uri": "https://localhost:8080/",
          "height": 558
        },
        "id": "nYVUMrQ11y_b",
        "outputId": "e6a1dc9f-9191-4fae-8346-da58ee928b93"
      },
      "source": [
        "\n",
        "#supprimer les lignes qui contient des valeur null \n",
        "df.Polarity.unique()\n",
        "df.dropna(subset=['Polarity'], inplace=True)\n",
        "df.Polarity.unique()\n",
        "df.info()\n",
        "\n",
        "\n",
        "plt.figure(figsize=(8,6))\n",
        "df.Polarity.hist(xlabelsize=14)\n",
        "plt.show()\n",
        "\n"
      ],
      "execution_count": 7,
      "outputs": [
        {
          "output_type": "stream",
          "name": "stdout",
          "text": [
            "<class 'pandas.core.frame.DataFrame'>\n",
            "Int64Index: 20632 entries, 0 to 20632\n",
            "Data columns (total 3 columns):\n",
            " #   Column    Non-Null Count  Dtype \n",
            "---  ------    --------------  ----- \n",
            " 0   ID        20632 non-null  object\n",
            " 1   Polarity  20632 non-null  object\n",
            " 2   Comments  20632 non-null  object\n",
            "dtypes: object(3)\n",
            "memory usage: 644.8+ KB\n"
          ]
        },
        {
          "output_type": "display_data",
          "data": {
            "image/png": "[encoded data removed]",
            "text/plain": [
              "<Figure size 576x432 with 1 Axes>"
            ]
          },
          "metadata": {
            "needs_background": "light"
          }
        }
      ]
    },
    {
      "cell_type": "code",
      "metadata": {
        "colab": {
          "base_uri": "https://localhost:8080/",
          "height": 201
        },
        "id": "NJfbjF_y1y7n",
        "outputId": "8bf288e6-671f-4049-fd1e-535cd49b3136"
      },
      "source": [
        "#### transformet les mots en miniscule ######\n",
        "df.Comments=df.Comments.str.lower()\n",
        "df.head()"
      ],
      "execution_count": 8,
      "outputs": [
        {
          "output_type": "execute_result",
          "data": {
            "text/html": [
              "<div>\n",
              "<style scoped>\n",
              "    .dataframe tbody tr th:only-of-type {\n",
              "        vertical-align: middle;\n",
              "    }\n",
              "\n",
              "    .dataframe tbody tr th {\n",
              "        vertical-align: top;\n",
              "    }\n",
              "\n",
              "    .dataframe thead th {\n",
              "        text-align: right;\n",
              "    }\n",
              "</style>\n",
              "<table border=\"1\" class=\"dataframe\">\n",
              "  <thead>\n",
              "    <tr style=\"text-align: right;\">\n",
              "      <th></th>\n",
              "      <th>ID</th>\n",
              "      <th>Polarity</th>\n",
              "      <th>Comments</th>\n",
              "    </tr>\n",
              "  </thead>\n",
              "  <tbody>\n",
              "    <tr>\n",
              "      <th>0</th>\n",
              "      <td>619950566786113024</td>\n",
              "      <td>neutral</td>\n",
              "      <td>picturehouse's, pink floyd's, 'roger waters: t...</td>\n",
              "    </tr>\n",
              "    <tr>\n",
              "      <th>1</th>\n",
              "      <td>619969366986235008</td>\n",
              "      <td>neutral</td>\n",
              "      <td>order go set a watchman in store or through ou...</td>\n",
              "    </tr>\n",
              "    <tr>\n",
              "      <th>2</th>\n",
              "      <td>619971047195044992</td>\n",
              "      <td>negative</td>\n",
              "      <td>if these runway renovations at the airport pre...</td>\n",
              "    </tr>\n",
              "    <tr>\n",
              "      <th>3</th>\n",
              "      <td>619974445185302016</td>\n",
              "      <td>neutral</td>\n",
              "      <td>if you could ask an onstage interview question...</td>\n",
              "    </tr>\n",
              "    <tr>\n",
              "      <th>4</th>\n",
              "      <td>619987808317406976</td>\n",
              "      <td>positive</td>\n",
              "      <td>a portion of book sales from our harper lee/go...</td>\n",
              "    </tr>\n",
              "  </tbody>\n",
              "</table>\n",
              "</div>"
            ],
            "text/plain": [
              "                   ID  ...                                           Comments\n",
              "0  619950566786113024  ...  picturehouse's, pink floyd's, 'roger waters: t...\n",
              "1  619969366986235008  ...  order go set a watchman in store or through ou...\n",
              "2  619971047195044992  ...  if these runway renovations at the airport pre...\n",
              "3  619974445185302016  ...  if you could ask an onstage interview question...\n",
              "4  619987808317406976  ...  a portion of book sales from our harper lee/go...\n",
              "\n",
              "[5 rows x 3 columns]"
            ]
          },
          "metadata": {},
          "execution_count": 8
        }
      ]
    },
    {
      "cell_type": "code",
      "metadata": {
        "id": "JzL_B6es1y4A"
      },
      "source": [
        "\n",
        "###################STOP WORDS################\n",
        "#STOP WORDS\n",
        "#Tokenization of text\n",
        "\n",
        "tokenizer=ToktokTokenizer()\n",
        "#Setting English stopwords\n",
        "stopword_list=nltk.corpus.stopwords.words('english')\n",
        "\n",
        "#removing the stopwords\n",
        "def remove_stopwords(text, is_lower_case=False):\n",
        "    tokens = tokenizer.tokenize(text)\n",
        "    tokens = [token.strip() for token in tokens]\n",
        "    if is_lower_case:\n",
        "        filtered_tokens = [token for token in tokens if token not in stopword_list]\n",
        "    else:\n",
        "        filtered_tokens = [token for token in tokens if token.lower() not in stopword_list]\n",
        "    filtered_text = ' '.join(filtered_tokens)    \n",
        "    return filtered_text\n",
        "#Apply function on review column\n",
        "df['Comments']=df['Comments'].apply(remove_stopwords)"
      ],
      "execution_count": 9,
      "outputs": []
    },
    {
      "cell_type": "code",
      "metadata": {
        "id": "Juz4M2h01y0X"
      },
      "source": [
        "\n",
        "############supprission des caractere spiciaux Dans Commantaire #########\n",
        "df['Comments'] = df['Comments'].apply(lambda x: re.sub(r'https?:\\/\\/\\S+', ' ', str(x)))\n",
        "df['Comments'] = df['Comments'].apply(lambda x: re.sub(r\"www\\.[a-z]?\\.?(com)+|[a-z]+\\.(com)\", ' ', str(x)))\n",
        "df['Comments'] = df['Comments'].apply(lambda x: re.sub(r'{link}', ' ', str(x)))\n",
        "df['Comments'] = df['Comments'].apply(lambda x: re.sub(r'&[a-z]+;', ' ', str(x)))\n",
        "df['Comments'] = df['Comments'].apply(lambda x: re.sub(r\"[^a-z]\", ' ', str(x)))\n",
        "df['Comments'] = df['Comments'].apply(lambda x: re.sub(r'@mention', ' ', str(x)))\n",
        "df['Comments'] = df['Comments'].apply(lambda x: \" \".join(x.lower() for x in str(x).split()  if len(x)>3 ))"
      ],
      "execution_count": 10,
      "outputs": []
    },
    {
      "cell_type": "code",
      "metadata": {
        "id": "rIefrx6R1ywZ"
      },
      "source": [
        "#######deviser en review and labels ######\n",
        "\n",
        "\n",
        "reviews =  df[['Comments']]\n",
        "labels =  df[['Polarity']]\n",
        "\n",
        "corpus= []\n",
        "for text in reviews['Comments']:\n",
        "    words= [word.lower() for word in word_tokenize(text)]\n",
        "    corpus.append(words)\n",
        "\n",
        "num_words=len(corpus)\n"
      ],
      "execution_count": 12,
      "outputs": []
    },
    {
      "cell_type": "code",
      "metadata": {
        "colab": {
          "base_uri": "https://localhost:8080/"
        },
        "id": "Kdt9efeb2S63",
        "outputId": "ff78bdc3-6182-427b-b3b5-f85c5027c3de"
      },
      "source": [
        "####reviews sans ponctuation #######\n",
        "\n",
        "revue_sans_ponctuation=[]\n",
        "for sentence in reviews['Comments']:\n",
        "\n",
        "    revue_sans_ponctuation.append(' '.join(Word.strip(st.punctuation) for Word in sentence.split()))\n",
        "\n",
        "reviews_cleaned = np.asarray(revue_sans_ponctuation)\n",
        "reviews_cleaned\n",
        "\n",
        "\n",
        "\n",
        "review_array = np.asarray(revue_sans_ponctuation)\n",
        "label_array = np.asarray(labels['Polarity'])\n",
        "\n",
        "reviews_labels = np.stack((review_array, label_array), axis = 1)\n",
        "\n",
        "reviews_labels"
      ],
      "execution_count": 13,
      "outputs": [
        {
          "output_type": "execute_result",
          "data": {
            "text/plain": [
              "array([['picturehouse pink floyd roger waters walll opening sept making waves watch trailer rolling stone look',\n",
              "        'neutral'],\n",
              "       ['order watchman store website tuesday half price gsaw gsawatchmanbook',\n",
              "        'neutral'],\n",
              "       ['runway renovations airport prevent seeing taylor swift monday blood meaning',\n",
              "        'negative'],\n",
              "       ...,\n",
              "       ['hours arrived saudi arabia tuesday turkish president recep tayyip erdogan accused syria president mercilessly',\n",
              "        'neutral'],\n",
              "       ['vanityfair alex kardashian worth love kardashian conure',\n",
              "        'negative'],\n",
              "       ['guess even pandora knows justin bieber grown condom played',\n",
              "        'neutral']], dtype=object)"
            ]
          },
          "metadata": {},
          "execution_count": 13
        }
      ]
    },
    {
      "cell_type": "code",
      "metadata": {
        "colab": {
          "base_uri": "https://localhost:8080/"
        },
        "id": "ADk6nAf92S4N",
        "outputId": "b6d370d1-a86c-4093-d437-0e3ed327975a"
      },
      "source": [
        "########Encoder les polarity  ##############\n",
        "encoder = LabelEncoder()\n",
        "encoder.fit(label_array)\n",
        "encoded_labels = encoder.transform(label_array)\n",
        "encoded_labels = to_categorical(encoded_labels)\n",
        "encoded_labels"
      ],
      "execution_count": 14,
      "outputs": [
        {
          "output_type": "execute_result",
          "data": {
            "text/plain": [
              "array([[0., 1., 0.],\n",
              "       [0., 1., 0.],\n",
              "       [1., 0., 0.],\n",
              "       ...,\n",
              "       [0., 1., 0.],\n",
              "       [1., 0., 0.],\n",
              "       [0., 1., 0.]], dtype=float32)"
            ]
          },
          "metadata": {},
          "execution_count": 14
        }
      ]
    },
    {
      "cell_type": "code",
      "metadata": {
        "colab": {
          "base_uri": "https://localhost:8080/"
        },
        "id": "DnGlcf3z2S1H",
        "outputId": "d6cbdf53-306b-42e1-ed00-2ec50e858312"
      },
      "source": [
        "##### Train and Test\n",
        "review_train, review_test, label_train, label_test = train_test_split(reviews_cleaned, encoded_labels, test_size=0.20, random_state=42)\n",
        "print(review_train.shape, label_train.shape)\n",
        "print(review_test.shape, label_test.shape)\n",
        "\n",
        "tokenizer = Tokenizer(num_words=2000)\n",
        "tokenizer.fit_on_texts(review_train)\n",
        "\n",
        "review_train = tokenizer.texts_to_sequences(review_train)\n",
        "review_test = tokenizer.texts_to_sequences(review_test)\n",
        "\n",
        "vocab_size = len(tokenizer.word_index) + 1"
      ],
      "execution_count": 15,
      "outputs": [
        {
          "output_type": "stream",
          "name": "stdout",
          "text": [
            "(16505,) (16505, 3)\n",
            "(4127,) (4127, 3)\n"
          ]
        }
      ]
    },
    {
      "cell_type": "code",
      "metadata": {
        "colab": {
          "base_uri": "https://localhost:8080/"
        },
        "id": "XwtVyikE2SyF",
        "outputId": "b160d5f9-adef-43cd-cd16-9c1eecc40731"
      },
      "source": [
        "embeddings_dictionary = dict()\n",
        "glove_file = open('/content/drive/MyDrive/dossier_de_travail/glove.6B.100d.txt', encoding=\"utf8\")\n",
        "\n",
        "for line in glove_file:\n",
        "    records = line.split()\n",
        "    word = records[0]\n",
        "    vector_dimensions = asarray(records[1:], dtype='float32')\n",
        "    embeddings_dictionary [word] = vector_dimensions\n",
        "    \n",
        "glove_file.close()\n",
        "\n",
        "embedding_matrix = zeros((vocab_size, 100))\n",
        "for word, index in tokenizer.word_index.items():\n",
        "    embedding_vector = embeddings_dictionary.get(word)\n",
        "    if embedding_vector is not None:\n",
        "        embedding_matrix[index] = embedding_vector\n",
        "        \n",
        "print(embedding_matrix[1].shape)"
      ],
      "execution_count": 16,
      "outputs": [
        {
          "output_type": "stream",
          "name": "stdout",
          "text": [
            "(100,)\n"
          ]
        }
      ]
    },
    {
      "cell_type": "code",
      "metadata": {
        "colab": {
          "base_uri": "https://localhost:8080/"
        },
        "id": "N123nFPj2Sut",
        "outputId": "a80ab72b-f48f-417f-ba35-17e44db040e3"
      },
      "source": [
        "X_train=review_train  \n",
        "X_test=review_test\n",
        "y_train=label_train   \n",
        "y_test=label_test\n",
        "MAX_LENGTH = 100\n",
        "NUM_WORDS = vocab_size\n",
        "X_train = pad_sequences(X_train, padding='post', maxlen=MAX_LENGTH)\n",
        "X_test = pad_sequences(X_test, padding='post', maxlen=MAX_LENGTH)\n",
        "\n",
        "train_index = np.random.choice(np.arange(X_train.shape[0]), 400, replace=False)     \n",
        "test_index = np.random.choice(np.arange(X_test.shape[0]), 250, replace=False)      \n",
        "\n",
        "X_train = X_train[train_index]\n",
        "y_train = y_train[train_index]\n",
        "\n",
        "X_test = X_test[test_index]\n",
        "y_test = y_test[test_index]\n",
        "print('X_train',X_train.shape)\n",
        "print('y_train',y_train.shape)\n",
        "print('X_test',X_test.shape)\n",
        "print('y_test',y_test.shape)\n"
      ],
      "execution_count": 17,
      "outputs": [
        {
          "output_type": "stream",
          "name": "stdout",
          "text": [
            "X_train (400, 100)\n",
            "y_train (400, 3)\n",
            "X_test (250, 100)\n",
            "y_test (250, 3)\n"
          ]
        }
      ]
    },
    {
      "cell_type": "code",
      "metadata": {
        "id": "ba-JfuKD2qtT"
      },
      "source": [
        "def recall_m(y_true, y_pred):\n",
        "    true_positives = K.sum(K.round(K.clip(y_true * y_pred, 0, 1)))\n",
        "    possible_positives = K.sum(K.round(K.clip(y_true, 0, 1)))\n",
        "    recall = true_positives / (possible_positives + K.epsilon())\n",
        "    \n",
        "    return recall\n",
        "\n",
        "def precision_m(y_true, y_pred):\n",
        "    true_positives = K.sum(K.round(K.clip(y_true * y_pred, 0, 1)))\n",
        "    predicted_positives = K.sum(K.round(K.clip(y_pred, 0, 1)))\n",
        "    precision = true_positives / (predicted_positives + K.epsilon())\n",
        "    return precision\n",
        "\n",
        "def f1_m(y_true, y_pred):\n",
        "    precision = precision_m(y_true, y_pred)\n",
        "    recall = recall_m(y_true, y_pred)\n",
        "    return 2*((precision*recall)/(precision+recall+K.epsilon()))\n",
        "\t\n",
        "\t\n",
        "  #metrics=['acc',f1_m,precision_m, recall_m]"
      ],
      "execution_count": 111,
      "outputs": []
    },
    {
      "cell_type": "code",
      "metadata": {
        "id": "fKO2Qq_f34YF"
      },
      "source": [
        ""
      ],
      "execution_count": null,
      "outputs": []
    },
    {
      "cell_type": "markdown",
      "metadata": {
        "id": "5o3bI5n5346G"
      },
      "source": [
        "# Model_1"
      ]
    },
    {
      "cell_type": "code",
      "metadata": {
        "colab": {
          "base_uri": "https://localhost:8080/"
        },
        "id": "VjPi35x12Sro",
        "outputId": "862bf32a-d89b-4cad-f322-38de7219ff52"
      },
      "source": [
        "MODEL_FILE_PATH = '/content/drive/MyDrive/ModelTest2'\n",
        "MODEL_FILE_NAME = 'Model1.h5'\n",
        "Model_1 = Sequential()\n",
        "Model_1.add(Embedding(vocab_size,100,weights=[embedding_matrix], input_length=100, trainable=False,name='word_embedding'))\n",
        "\n",
        "Model_1.add( LSTM(500, dropout=0.25,return_sequences=True))\n",
        "Model_1.add(Dropout(0.25))\n",
        "\n",
        "Model_1.add(LSTM(250, dropout=0.25,return_sequences=True))\n",
        "Model_1.add(Dropout(0.25))\n",
        "\n",
        "Model_1.add( LSTM(50, dropout=0.25,return_sequences=False))\n",
        "\n",
        "Model_1.add(Dense(3,activation='softmax'))\n",
        "\n",
        "early_stopping = EarlyStopping(monitor='val_loss', mode='min', verbose=1, patience=10)\n",
        "\n",
        "save_best = ModelCheckpoint(os.path.join(MODEL_FILE_PATH,MODEL_FILE_NAME), \n",
        "                     monitor='val_accuracy', \n",
        "                     mode='max', \n",
        "                     verbose=1, \n",
        "                     save_best_only=True) \n",
        "\n",
        "Model_1.compile(loss='binary_crossentropy',optimizer=Adam(learning_rate=0.0001),metrics=['accuracy',f1_m,precision_m, recall_m])\n",
        "\n",
        "Model_1.summary()"
      ],
      "execution_count": 101,
      "outputs": [
        {
          "output_type": "stream",
          "name": "stdout",
          "text": [
            "Model: \"sequential_7\"\n",
            "_________________________________________________________________\n",
            " Layer (type)                Output Shape              Param #   \n",
            "=================================================================\n",
            " word_embedding (Embedding)  (None, 100, 100)          2281400   \n",
            "                                                                 \n",
            " lstm_53 (LSTM)              (None, 100, 500)          1202000   \n",
            "                                                                 \n",
            " dropout_61 (Dropout)        (None, 100, 500)          0         \n",
            "                                                                 \n",
            " lstm_54 (LSTM)              (None, 100, 250)          751000    \n",
            "                                                                 \n",
            " dropout_62 (Dropout)        (None, 100, 250)          0         \n",
            "                                                                 \n",
            " lstm_55 (LSTM)              (None, 50)                60200     \n",
            "                                                                 \n",
            " dense_182 (Dense)           (None, 3)                 153       \n",
            "                                                                 \n",
            "=================================================================\n",
            "Total params: 4,294,753\n",
            "Trainable params: 2,013,353\n",
            "Non-trainable params: 2,281,400\n",
            "_________________________________________________________________\n"
          ]
        }
      ]
    },
    {
      "cell_type": "code",
      "metadata": {
        "colab": {
          "base_uri": "https://localhost:8080/"
        },
        "id": "afUQ0Cns2qqH",
        "outputId": "6be1f29a-e7d7-4ea5-dddf-4db600563113"
      },
      "source": [
        "history=Model_1.fit(X_train, y_train, batch_size=128, epochs=100, verbose=1, validation_data=(X_test,y_test),callbacks=[early_stopping, save_best])\n"
      ],
      "execution_count": null,
      "outputs": [
        {
          "output_type": "stream",
          "name": "stdout",
          "text": [
            "Epoch 1/100\n",
            "4/4 [==============================] - ETA: 0s - loss: 0.6925 - accuracy: 0.4350 - f1_m: 0.0000e+00 - precision_m: 0.0000e+00 - recall_m: 0.0000e+00\n",
            "Epoch 00001: val_accuracy improved from -inf to 0.48800, saving model to /content/drive/MyDrive/ModelTest2/Model1.h5\n",
            "4/4 [==============================] - 23s 4s/step - loss: 0.6925 - accuracy: 0.4350 - f1_m: 0.0000e+00 - precision_m: 0.0000e+00 - recall_m: 0.0000e+00 - val_loss: 0.6907 - val_accuracy: 0.4880 - val_f1_m: 0.0000e+00 - val_precision_m: 0.0000e+00 - val_recall_m: 0.0000e+00\n",
            "Epoch 2/100\n",
            "4/4 [==============================] - ETA: 0s - loss: 0.6900 - accuracy: 0.4575 - f1_m: 0.0000e+00 - precision_m: 0.0000e+00 - recall_m: 0.0000e+00\n",
            "Epoch 00002: val_accuracy did not improve from 0.48800\n",
            "4/4 [==============================] - 16s 4s/step - loss: 0.6900 - accuracy: 0.4575 - f1_m: 0.0000e+00 - precision_m: 0.0000e+00 - recall_m: 0.0000e+00 - val_loss: 0.6871 - val_accuracy: 0.4880 - val_f1_m: 0.0000e+00 - val_precision_m: 0.0000e+00 - val_recall_m: 0.0000e+00\n",
            "Epoch 3/100\n",
            "4/4 [==============================] - ETA: 0s - loss: 0.6859 - accuracy: 0.4575 - f1_m: 0.0000e+00 - precision_m: 0.0000e+00 - recall_m: 0.0000e+00\n",
            "Epoch 00003: val_accuracy did not improve from 0.48800\n",
            "4/4 [==============================] - 16s 4s/step - loss: 0.6859 - accuracy: 0.4575 - f1_m: 0.0000e+00 - precision_m: 0.0000e+00 - recall_m: 0.0000e+00 - val_loss: 0.6806 - val_accuracy: 0.4880 - val_f1_m: 0.0000e+00 - val_precision_m: 0.0000e+00 - val_recall_m: 0.0000e+00\n",
            "Epoch 4/100\n",
            "4/4 [==============================] - ETA: 0s - loss: 0.6784 - accuracy: 0.4575 - f1_m: 0.0000e+00 - precision_m: 0.0000e+00 - recall_m: 0.0000e+00\n",
            "Epoch 00004: val_accuracy did not improve from 0.48800\n",
            "4/4 [==============================] - 16s 4s/step - loss: 0.6784 - accuracy: 0.4575 - f1_m: 0.0000e+00 - precision_m: 0.0000e+00 - recall_m: 0.0000e+00 - val_loss: 0.6659 - val_accuracy: 0.4880 - val_f1_m: 0.0000e+00 - val_precision_m: 0.0000e+00 - val_recall_m: 0.0000e+00\n",
            "Epoch 5/100\n",
            "4/4 [==============================] - ETA: 0s - loss: 0.6610 - accuracy: 0.4575 - f1_m: 0.0000e+00 - precision_m: 0.0000e+00 - recall_m: 0.0000e+00\n",
            "Epoch 00005: val_accuracy did not improve from 0.48800\n",
            "4/4 [==============================] - 16s 4s/step - loss: 0.6610 - accuracy: 0.4575 - f1_m: 0.0000e+00 - precision_m: 0.0000e+00 - recall_m: 0.0000e+00 - val_loss: 0.6257 - val_accuracy: 0.4880 - val_f1_m: 0.0000e+00 - val_precision_m: 0.0000e+00 - val_recall_m: 0.0000e+00\n",
            "Epoch 6/100\n",
            "4/4 [==============================] - ETA: 0s - loss: 0.6171 - accuracy: 0.4575 - f1_m: 0.2283 - precision_m: 0.2812 - recall_m: 0.2188\n",
            "Epoch 00006: val_accuracy did not improve from 0.48800\n",
            "4/4 [==============================] - 16s 4s/step - loss: 0.6171 - accuracy: 0.4575 - f1_m: 0.2283 - precision_m: 0.2812 - recall_m: 0.2188 - val_loss: 0.6068 - val_accuracy: 0.4880 - val_f1_m: 0.4894 - val_precision_m: 0.4894 - val_recall_m: 0.4894\n",
            "Epoch 7/100\n",
            "4/4 [==============================] - ETA: 0s - loss: 0.6137 - accuracy: 0.4575 - f1_m: 0.4531 - precision_m: 0.4531 - recall_m: 0.4531\n",
            "Epoch 00007: val_accuracy did not improve from 0.48800\n",
            "4/4 [==============================] - 16s 4s/step - loss: 0.6137 - accuracy: 0.4575 - f1_m: 0.4531 - precision_m: 0.4531 - recall_m: 0.4531 - val_loss: 0.5978 - val_accuracy: 0.4880 - val_f1_m: 0.4894 - val_precision_m: 0.4894 - val_recall_m: 0.4894\n",
            "Epoch 8/100\n",
            "4/4 [==============================] - ETA: 0s - loss: 0.6019 - accuracy: 0.4575 - f1_m: 0.2397 - precision_m: 0.3410 - recall_m: 0.1973\n",
            "Epoch 00008: val_accuracy did not improve from 0.48800\n",
            "4/4 [==============================] - 16s 4s/step - loss: 0.6019 - accuracy: 0.4575 - f1_m: 0.2397 - precision_m: 0.3410 - recall_m: 0.1973 - val_loss: 0.5992 - val_accuracy: 0.4880 - val_f1_m: 0.0000e+00 - val_precision_m: 0.0000e+00 - val_recall_m: 0.0000e+00\n",
            "Epoch 9/100\n",
            "4/4 [==============================] - ETA: 0s - loss: 0.6035 - accuracy: 0.4575 - f1_m: 0.0076 - precision_m: 0.1667 - recall_m: 0.0039\n",
            "Epoch 00009: val_accuracy did not improve from 0.48800\n",
            "4/4 [==============================] - 16s 4s/step - loss: 0.6035 - accuracy: 0.4575 - f1_m: 0.0076 - precision_m: 0.1667 - recall_m: 0.0039 - val_loss: 0.5982 - val_accuracy: 0.4880 - val_f1_m: 0.0000e+00 - val_precision_m: 0.0000e+00 - val_recall_m: 0.0000e+00\n",
            "Epoch 10/100\n",
            "4/4 [==============================] - ETA: 0s - loss: 0.6013 - accuracy: 0.4550 - f1_m: 0.0039 - precision_m: 0.2500 - recall_m: 0.0020\n",
            "Epoch 00010: val_accuracy did not improve from 0.48800\n",
            "4/4 [==============================] - 16s 4s/step - loss: 0.6013 - accuracy: 0.4550 - f1_m: 0.0039 - precision_m: 0.2500 - recall_m: 0.0020 - val_loss: 0.5988 - val_accuracy: 0.4880 - val_f1_m: 0.0000e+00 - val_precision_m: 0.0000e+00 - val_recall_m: 0.0000e+00\n",
            "Epoch 11/100\n",
            "4/4 [==============================] - ETA: 0s - loss: 0.6019 - accuracy: 0.4525 - f1_m: 0.0115 - precision_m: 0.4167 - recall_m: 0.0059\n",
            "Epoch 00011: val_accuracy did not improve from 0.48800\n",
            "4/4 [==============================] - 16s 4s/step - loss: 0.6019 - accuracy: 0.4525 - f1_m: 0.0115 - precision_m: 0.4167 - recall_m: 0.0059 - val_loss: 0.5998 - val_accuracy: 0.4880 - val_f1_m: 0.0000e+00 - val_precision_m: 0.0000e+00 - val_recall_m: 0.0000e+00\n",
            "Epoch 12/100\n",
            "4/4 [==============================] - ETA: 0s - loss: 0.6017 - accuracy: 0.4300 - f1_m: 0.1783 - precision_m: 0.5324 - recall_m: 0.1133\n",
            "Epoch 00012: val_accuracy did not improve from 0.48800\n",
            "4/4 [==============================] - 16s 4s/step - loss: 0.6017 - accuracy: 0.4300 - f1_m: 0.1783 - precision_m: 0.5324 - recall_m: 0.1133 - val_loss: 0.5971 - val_accuracy: 0.4840 - val_f1_m: 0.4796 - val_precision_m: 0.4999 - val_recall_m: 0.4611\n",
            "Epoch 13/100\n",
            "4/4 [==============================] - ETA: 0s - loss: 0.5948 - accuracy: 0.4600 - f1_m: 0.3886 - precision_m: 0.4855 - recall_m: 0.3262\n",
            "Epoch 00013: val_accuracy did not improve from 0.48800\n",
            "4/4 [==============================] - 16s 4s/step - loss: 0.5948 - accuracy: 0.4600 - f1_m: 0.3886 - precision_m: 0.4855 - recall_m: 0.3262 - val_loss: 0.6595 - val_accuracy: 0.4640 - val_f1_m: 0.3783 - val_precision_m: 0.4552 - val_recall_m: 0.3247\n",
            "Epoch 14/100\n",
            "4/4 [==============================] - ETA: 0s - loss: 0.6165 - accuracy: 0.4525 - f1_m: 0.4125 - precision_m: 0.4639 - recall_m: 0.3730\n",
            "Epoch 00014: val_accuracy did not improve from 0.48800\n",
            "4/4 [==============================] - 16s 4s/step - loss: 0.6165 - accuracy: 0.4525 - f1_m: 0.4125 - precision_m: 0.4639 - recall_m: 0.3730 - val_loss: 0.5944 - val_accuracy: 0.4880 - val_f1_m: 0.4835 - val_precision_m: 0.4990 - val_recall_m: 0.4691\n",
            "Epoch 15/100\n",
            "4/4 [==============================] - ETA: 0s - loss: 0.5990 - accuracy: 0.4575 - f1_m: 0.4635 - precision_m: 0.4868 - recall_m: 0.4434\n",
            "Epoch 00015: val_accuracy did not improve from 0.48800\n",
            "4/4 [==============================] - 16s 4s/step - loss: 0.5990 - accuracy: 0.4575 - f1_m: 0.4635 - precision_m: 0.4868 - recall_m: 0.4434 - val_loss: 0.5965 - val_accuracy: 0.4880 - val_f1_m: 0.4857 - val_precision_m: 0.4903 - val_recall_m: 0.4812\n",
            "Epoch 16/100\n",
            "4/4 [==============================] - ETA: 0s - loss: 0.6014 - accuracy: 0.4575 - f1_m: 0.5082 - precision_m: 0.5525 - recall_m: 0.4707\n",
            "Epoch 00016: val_accuracy did not improve from 0.48800\n",
            "4/4 [==============================] - 16s 4s/step - loss: 0.6014 - accuracy: 0.4575 - f1_m: 0.5082 - precision_m: 0.5525 - recall_m: 0.4707 - val_loss: 0.5956 - val_accuracy: 0.4880 - val_f1_m: 0.4894 - val_precision_m: 0.4894 - val_recall_m: 0.4894\n",
            "Epoch 17/100\n",
            "4/4 [==============================] - ETA: 0s - loss: 0.6019 - accuracy: 0.4575 - f1_m: 0.4384 - precision_m: 0.4414 - recall_m: 0.4355\n",
            "Epoch 00017: val_accuracy did not improve from 0.48800\n",
            "4/4 [==============================] - 16s 4s/step - loss: 0.6019 - accuracy: 0.4575 - f1_m: 0.4384 - precision_m: 0.4414 - recall_m: 0.4355 - val_loss: 0.5941 - val_accuracy: 0.4880 - val_f1_m: 0.4894 - val_precision_m: 0.4894 - val_recall_m: 0.4894\n",
            "Epoch 18/100\n",
            "4/4 [==============================] - ETA: 0s - loss: 0.6010 - accuracy: 0.4575 - f1_m: 0.4395 - precision_m: 0.4395 - recall_m: 0.4395\n",
            "Epoch 00018: val_accuracy did not improve from 0.48800\n",
            "4/4 [==============================] - 16s 4s/step - loss: 0.6010 - accuracy: 0.4575 - f1_m: 0.4395 - precision_m: 0.4395 - recall_m: 0.4395 - val_loss: 0.5939 - val_accuracy: 0.4880 - val_f1_m: 0.4894 - val_precision_m: 0.4894 - val_recall_m: 0.4894\n",
            "Epoch 19/100\n",
            "4/4 [==============================] - ETA: 0s - loss: 0.6006 - accuracy: 0.4575 - f1_m: 0.4395 - precision_m: 0.4395 - recall_m: 0.4395\n",
            "Epoch 00019: val_accuracy did not improve from 0.48800\n",
            "4/4 [==============================] - 16s 4s/step - loss: 0.6006 - accuracy: 0.4575 - f1_m: 0.4395 - precision_m: 0.4395 - recall_m: 0.4395 - val_loss: 0.5941 - val_accuracy: 0.4880 - val_f1_m: 0.4894 - val_precision_m: 0.4894 - val_recall_m: 0.4894\n",
            "Epoch 20/100\n",
            "4/4 [==============================] - ETA: 0s - loss: 0.6001 - accuracy: 0.4575 - f1_m: 0.4320 - precision_m: 0.4542 - recall_m: 0.4141\n",
            "Epoch 00020: val_accuracy did not improve from 0.48800\n",
            "4/4 [==============================] - 16s 4s/step - loss: 0.6001 - accuracy: 0.4575 - f1_m: 0.4320 - precision_m: 0.4542 - recall_m: 0.4141 - val_loss: 0.5950 - val_accuracy: 0.4880 - val_f1_m: 0.4877 - val_precision_m: 0.4943 - val_recall_m: 0.4812\n",
            "Epoch 21/100\n",
            "4/4 [==============================] - ETA: 0s - loss: 0.5997 - accuracy: 0.4550 - f1_m: 0.2229 - precision_m: 0.5830 - recall_m: 0.1621\n",
            "Epoch 00021: val_accuracy did not improve from 0.48800\n",
            "4/4 [==============================] - 16s 4s/step - loss: 0.5997 - accuracy: 0.4550 - f1_m: 0.2229 - precision_m: 0.5830 - recall_m: 0.1621 - val_loss: 0.5959 - val_accuracy: 0.4880 - val_f1_m: 0.0000e+00 - val_precision_m: 0.0000e+00 - val_recall_m: 0.0000e+00\n",
            "Epoch 22/100\n",
            "4/4 [==============================] - ETA: 0s - loss: 0.5991 - accuracy: 0.4575 - f1_m: 0.0924 - precision_m: 0.3810 - recall_m: 0.0527\n",
            "Epoch 00022: val_accuracy did not improve from 0.48800\n",
            "4/4 [==============================] - 16s 4s/step - loss: 0.5991 - accuracy: 0.4575 - f1_m: 0.0924 - precision_m: 0.3810 - recall_m: 0.0527 - val_loss: 0.5961 - val_accuracy: 0.4880 - val_f1_m: 0.0000e+00 - val_precision_m: 0.0000e+00 - val_recall_m: 0.0000e+00\n",
            "Epoch 23/100\n",
            "4/4 [==============================] - ETA: 0s - loss: 0.5988 - accuracy: 0.4650 - f1_m: 0.2385 - precision_m: 0.4930 - recall_m: 0.1602\n",
            "Epoch 00023: val_accuracy did not improve from 0.48800\n",
            "4/4 [==============================] - 16s 4s/step - loss: 0.5988 - accuracy: 0.4650 - f1_m: 0.2385 - precision_m: 0.4930 - recall_m: 0.1602 - val_loss: 0.5962 - val_accuracy: 0.4880 - val_f1_m: 0.0000e+00 - val_precision_m: 0.0000e+00 - val_recall_m: 0.0000e+00\n",
            "Epoch 24/100\n",
            "4/4 [==============================] - ETA: 0s - loss: 0.5974 - accuracy: 0.4575 - f1_m: 0.3929 - precision_m: 0.5115 - recall_m: 0.3281\n",
            "Epoch 00024: val_accuracy did not improve from 0.48800\n",
            "4/4 [==============================] - 16s 4s/step - loss: 0.5974 - accuracy: 0.4575 - f1_m: 0.3929 - precision_m: 0.5115 - recall_m: 0.3281 - val_loss: 0.5921 - val_accuracy: 0.4880 - val_f1_m: 0.4877 - val_precision_m: 0.4943 - val_recall_m: 0.4812\n",
            "Epoch 25/100\n",
            "4/4 [==============================] - ETA: 0s - loss: 0.5961 - accuracy: 0.4575 - f1_m: 0.4328 - precision_m: 0.4450 - recall_m: 0.4219\n",
            "Epoch 00025: val_accuracy did not improve from 0.48800\n",
            "4/4 [==============================] - 16s 4s/step - loss: 0.5961 - accuracy: 0.4575 - f1_m: 0.4328 - precision_m: 0.4450 - recall_m: 0.4219 - val_loss: 0.5906 - val_accuracy: 0.4880 - val_f1_m: 0.4877 - val_precision_m: 0.4943 - val_recall_m: 0.4812\n",
            "Epoch 26/100\n",
            "4/4 [==============================] - ETA: 0s - loss: 0.5962 - accuracy: 0.4575 - f1_m: 0.4853 - precision_m: 0.4947 - recall_m: 0.4766\n",
            "Epoch 00026: val_accuracy did not improve from 0.48800\n",
            "4/4 [==============================] - 16s 4s/step - loss: 0.5962 - accuracy: 0.4575 - f1_m: 0.4853 - precision_m: 0.4947 - recall_m: 0.4766 - val_loss: 0.5881 - val_accuracy: 0.4880 - val_f1_m: 0.4854 - val_precision_m: 0.4941 - val_recall_m: 0.4771\n",
            "Epoch 27/100\n",
            "4/4 [==============================] - ETA: 0s - loss: 0.5894 - accuracy: 0.4575 - f1_m: 0.4682 - precision_m: 0.4736 - recall_m: 0.4629\n",
            "Epoch 00027: val_accuracy did not improve from 0.48800\n",
            "4/4 [==============================] - 16s 4s/step - loss: 0.5894 - accuracy: 0.4575 - f1_m: 0.4682 - precision_m: 0.4736 - recall_m: 0.4629 - val_loss: 0.5923 - val_accuracy: 0.4840 - val_f1_m: 0.4892 - val_precision_m: 0.5018 - val_recall_m: 0.4771\n",
            "Epoch 28/100\n",
            "4/4 [==============================] - ETA: 0s - loss: 0.5877 - accuracy: 0.4650 - f1_m: 0.4408 - precision_m: 0.5074 - recall_m: 0.3926\n",
            "Epoch 00028: val_accuracy did not improve from 0.48800\n",
            "4/4 [==============================] - 16s 4s/step - loss: 0.5877 - accuracy: 0.4650 - f1_m: 0.4408 - precision_m: 0.5074 - recall_m: 0.3926 - val_loss: 0.5964 - val_accuracy: 0.4680 - val_f1_m: 0.4017 - val_precision_m: 0.4814 - val_recall_m: 0.3446\n",
            "Epoch 29/100\n",
            "4/4 [==============================] - ETA: 0s - loss: 0.5847 - accuracy: 0.4900 - f1_m: 0.4315 - precision_m: 0.5531 - recall_m: 0.3555\n",
            "Epoch 00029: val_accuracy did not improve from 0.48800\n",
            "4/4 [==============================] - 16s 4s/step - loss: 0.5847 - accuracy: 0.4900 - f1_m: 0.4315 - precision_m: 0.5531 - recall_m: 0.3555 - val_loss: 0.5863 - val_accuracy: 0.4440 - val_f1_m: 0.3704 - val_precision_m: 0.4622 - val_recall_m: 0.3090\n",
            "Epoch 30/100\n",
            "4/4 [==============================] - ETA: 0s - loss: 0.5784 - accuracy: 0.4825 - f1_m: 0.3864 - precision_m: 0.4791 - recall_m: 0.3242\n",
            "Epoch 00030: val_accuracy did not improve from 0.48800\n",
            "4/4 [==============================] - 16s 4s/step - loss: 0.5784 - accuracy: 0.4825 - f1_m: 0.3864 - precision_m: 0.4791 - recall_m: 0.3242 - val_loss: 0.5841 - val_accuracy: 0.4600 - val_f1_m: 0.4319 - val_precision_m: 0.5054 - val_recall_m: 0.3772\n",
            "Epoch 31/100\n",
            "4/4 [==============================] - ETA: 0s - loss: 0.5754 - accuracy: 0.4800 - f1_m: 0.4025 - precision_m: 0.4947 - recall_m: 0.3398\n",
            "Epoch 00031: val_accuracy improved from 0.48800 to 0.50000, saving model to /content/drive/MyDrive/ModelTest2/Model1.h5\n",
            "4/4 [==============================] - 16s 4s/step - loss: 0.5754 - accuracy: 0.4800 - f1_m: 0.4025 - precision_m: 0.4947 - recall_m: 0.3398 - val_loss: 0.5841 - val_accuracy: 0.5000 - val_f1_m: 0.4495 - val_precision_m: 0.5185 - val_recall_m: 0.3967\n",
            "Epoch 32/100\n",
            "4/4 [==============================] - ETA: 0s - loss: 0.5759 - accuracy: 0.4700 - f1_m: 0.4386 - precision_m: 0.5300 - recall_m: 0.3770\n",
            "Epoch 00032: val_accuracy did not improve from 0.50000\n",
            "4/4 [==============================] - 16s 4s/step - loss: 0.5759 - accuracy: 0.4700 - f1_m: 0.4386 - precision_m: 0.5300 - recall_m: 0.3770 - val_loss: 0.5794 - val_accuracy: 0.4920 - val_f1_m: 0.4716 - val_precision_m: 0.5237 - val_recall_m: 0.4289\n",
            "Epoch 33/100\n",
            "4/4 [==============================] - ETA: 0s - loss: 0.5726 - accuracy: 0.4775 - f1_m: 0.4483 - precision_m: 0.4979 - recall_m: 0.4082\n",
            "Epoch 00033: val_accuracy did not improve from 0.50000\n",
            "4/4 [==============================] - 16s 4s/step - loss: 0.5726 - accuracy: 0.4775 - f1_m: 0.4483 - precision_m: 0.4979 - recall_m: 0.4082 - val_loss: 0.5770 - val_accuracy: 0.4680 - val_f1_m: 0.4391 - val_precision_m: 0.4972 - val_recall_m: 0.3934\n",
            "Epoch 34/100\n",
            "4/4 [==============================] - ETA: 0s - loss: 0.5713 - accuracy: 0.5075 - f1_m: 0.4621 - precision_m: 0.5473 - recall_m: 0.4004\n",
            "Epoch 00034: val_accuracy did not improve from 0.50000\n",
            "4/4 [==============================] - 16s 4s/step - loss: 0.5713 - accuracy: 0.5075 - f1_m: 0.4621 - precision_m: 0.5473 - recall_m: 0.4004 - val_loss: 0.5742 - val_accuracy: 0.4760 - val_f1_m: 0.4466 - val_precision_m: 0.4978 - val_recall_m: 0.4051\n",
            "Epoch 35/100\n",
            "4/4 [==============================] - ETA: 0s - loss: 0.5656 - accuracy: 0.5225 - f1_m: 0.4462 - precision_m: 0.4985 - recall_m: 0.4043\n",
            "Epoch 00035: val_accuracy improved from 0.50000 to 0.52400, saving model to /content/drive/MyDrive/ModelTest2/Model1.h5\n",
            "4/4 [==============================] - 16s 4s/step - loss: 0.5656 - accuracy: 0.5225 - f1_m: 0.4462 - precision_m: 0.4985 - recall_m: 0.4043 - val_loss: 0.5830 - val_accuracy: 0.5240 - val_f1_m: 0.5040 - val_precision_m: 0.5447 - val_recall_m: 0.4689\n",
            "Epoch 36/100\n",
            "4/4 [==============================] - ETA: 0s - loss: 0.5675 - accuracy: 0.5275 - f1_m: 0.4928 - precision_m: 0.5300 - recall_m: 0.4609\n",
            "Epoch 00036: val_accuracy did not improve from 0.52400\n",
            "4/4 [==============================] - 16s 4s/step - loss: 0.5675 - accuracy: 0.5275 - f1_m: 0.4928 - precision_m: 0.5300 - recall_m: 0.4609 - val_loss: 0.5735 - val_accuracy: 0.5040 - val_f1_m: 0.4565 - val_precision_m: 0.4932 - val_recall_m: 0.4250\n",
            "Epoch 37/100\n",
            "4/4 [==============================] - ETA: 0s - loss: 0.5616 - accuracy: 0.5525 - f1_m: 0.5004 - precision_m: 0.5589 - recall_m: 0.4531\n",
            "Epoch 00037: val_accuracy improved from 0.52400 to 0.54000, saving model to /content/drive/MyDrive/ModelTest2/Model1.h5\n",
            "4/4 [==============================] - 17s 4s/step - loss: 0.5616 - accuracy: 0.5525 - f1_m: 0.5004 - precision_m: 0.5589 - recall_m: 0.4531 - val_loss: 0.5787 - val_accuracy: 0.5400 - val_f1_m: 0.5245 - val_precision_m: 0.5616 - val_recall_m: 0.4920\n",
            "Epoch 38/100\n",
            "4/4 [==============================] - ETA: 0s - loss: 0.5613 - accuracy: 0.5525 - f1_m: 0.5213 - precision_m: 0.5902 - recall_m: 0.4688\n",
            "Epoch 00038: val_accuracy did not improve from 0.54000\n",
            "4/4 [==============================] - 16s 4s/step - loss: 0.5613 - accuracy: 0.5525 - f1_m: 0.5213 - precision_m: 0.5902 - recall_m: 0.4688 - val_loss: 0.5794 - val_accuracy: 0.5320 - val_f1_m: 0.5157 - val_precision_m: 0.5469 - val_recall_m: 0.4879\n",
            "Epoch 39/100\n",
            "4/4 [==============================] - ETA: 0s - loss: 0.5599 - accuracy: 0.5400 - f1_m: 0.5356 - precision_m: 0.5799 - recall_m: 0.4980\n",
            "Epoch 00039: val_accuracy did not improve from 0.54000\n",
            "4/4 [==============================] - 16s 4s/step - loss: 0.5599 - accuracy: 0.5400 - f1_m: 0.5356 - precision_m: 0.5799 - recall_m: 0.4980 - val_loss: 0.5715 - val_accuracy: 0.5240 - val_f1_m: 0.5119 - val_precision_m: 0.5284 - val_recall_m: 0.4965\n",
            "Epoch 40/100\n",
            "4/4 [==============================] - ETA: 0s - loss: 0.5568 - accuracy: 0.5475 - f1_m: 0.4993 - precision_m: 0.5180 - recall_m: 0.4824\n",
            "Epoch 00040: val_accuracy did not improve from 0.54000\n",
            "4/4 [==============================] - 16s 4s/step - loss: 0.5568 - accuracy: 0.5475 - f1_m: 0.4993 - precision_m: 0.5180 - recall_m: 0.4824 - val_loss: 0.5693 - val_accuracy: 0.4960 - val_f1_m: 0.4961 - val_precision_m: 0.5121 - val_recall_m: 0.4810\n",
            "Epoch 41/100\n",
            "4/4 [==============================] - ETA: 0s - loss: 0.5618 - accuracy: 0.5225 - f1_m: 0.4822 - precision_m: 0.5106 - recall_m: 0.4570\n",
            "Epoch 00041: val_accuracy did not improve from 0.54000\n",
            "4/4 [==============================] - 16s 4s/step - loss: 0.5618 - accuracy: 0.5225 - f1_m: 0.4822 - precision_m: 0.5106 - recall_m: 0.4570 - val_loss: 0.5816 - val_accuracy: 0.4960 - val_f1_m: 0.4801 - val_precision_m: 0.5081 - val_recall_m: 0.4553\n",
            "Epoch 42/100\n",
            "4/4 [==============================] - ETA: 0s - loss: 0.5534 - accuracy: 0.5625 - f1_m: 0.5402 - precision_m: 0.5722 - recall_m: 0.5117\n",
            "Epoch 00042: val_accuracy did not improve from 0.54000\n",
            "4/4 [==============================] - 16s 4s/step - loss: 0.5534 - accuracy: 0.5625 - f1_m: 0.5402 - precision_m: 0.5722 - recall_m: 0.5117 - val_loss: 0.5715 - val_accuracy: 0.5280 - val_f1_m: 0.5110 - val_precision_m: 0.5322 - val_recall_m: 0.4916\n",
            "Epoch 43/100\n",
            "4/4 [==============================] - ETA: 0s - loss: 0.5571 - accuracy: 0.5700 - f1_m: 0.5762 - precision_m: 0.6127 - recall_m: 0.5449\n",
            "Epoch 00043: val_accuracy did not improve from 0.54000\n",
            "4/4 [==============================] - 16s 4s/step - loss: 0.5571 - accuracy: 0.5700 - f1_m: 0.5762 - precision_m: 0.6127 - recall_m: 0.5449 - val_loss: 0.5945 - val_accuracy: 0.4800 - val_f1_m: 0.4815 - val_precision_m: 0.4963 - val_recall_m: 0.4678\n",
            "Epoch 44/100\n",
            "4/4 [==============================] - ETA: 0s - loss: 0.5535 - accuracy: 0.5300 - f1_m: 0.5507 - precision_m: 0.5823 - recall_m: 0.5234\n",
            "Epoch 00044: val_accuracy did not improve from 0.54000\n",
            "4/4 [==============================] - 16s 4s/step - loss: 0.5535 - accuracy: 0.5300 - f1_m: 0.5507 - precision_m: 0.5823 - recall_m: 0.5234 - val_loss: 0.5640 - val_accuracy: 0.5280 - val_f1_m: 0.5249 - val_precision_m: 0.5384 - val_recall_m: 0.5121\n",
            "Epoch 45/100\n",
            "4/4 [==============================] - ETA: 0s - loss: 0.5495 - accuracy: 0.5475 - f1_m: 0.5422 - precision_m: 0.5817 - recall_m: 0.5098\n",
            "Epoch 00045: val_accuracy did not improve from 0.54000\n",
            "4/4 [==============================] - 16s 4s/step - loss: 0.5495 - accuracy: 0.5475 - f1_m: 0.5422 - precision_m: 0.5817 - recall_m: 0.5098 - val_loss: 0.5710 - val_accuracy: 0.5320 - val_f1_m: 0.5175 - val_precision_m: 0.5374 - val_recall_m: 0.4990\n",
            "Epoch 46/100\n",
            "4/4 [==============================] - ETA: 0s - loss: 0.5394 - accuracy: 0.5975 - f1_m: 0.5971 - precision_m: 0.6268 - recall_m: 0.5703\n",
            "Epoch 00046: val_accuracy did not improve from 0.54000\n",
            "4/4 [==============================] - 16s 4s/step - loss: 0.5394 - accuracy: 0.5975 - f1_m: 0.5971 - precision_m: 0.6268 - recall_m: 0.5703 - val_loss: 0.5680 - val_accuracy: 0.5000 - val_f1_m: 0.4837 - val_precision_m: 0.5147 - val_recall_m: 0.4566\n",
            "Epoch 47/100\n",
            "4/4 [==============================] - ETA: 0s - loss: 0.5465 - accuracy: 0.5950 - f1_m: 0.5394 - precision_m: 0.5829 - recall_m: 0.5020\n",
            "Epoch 00047: val_accuracy did not improve from 0.54000\n",
            "4/4 [==============================] - 16s 4s/step - loss: 0.5465 - accuracy: 0.5950 - f1_m: 0.5394 - precision_m: 0.5829 - recall_m: 0.5020 - val_loss: 0.5669 - val_accuracy: 0.5320 - val_f1_m: 0.5159 - val_precision_m: 0.5383 - val_recall_m: 0.4953\n",
            "Epoch 48/100\n",
            "4/4 [==============================] - ETA: 0s - loss: 0.5400 - accuracy: 0.5825 - f1_m: 0.5594 - precision_m: 0.5989 - recall_m: 0.5254\n",
            "Epoch 00048: val_accuracy did not improve from 0.54000\n",
            "4/4 [==============================] - 16s 4s/step - loss: 0.5400 - accuracy: 0.5825 - f1_m: 0.5594 - precision_m: 0.5989 - recall_m: 0.5254 - val_loss: 0.5677 - val_accuracy: 0.5160 - val_f1_m: 0.5145 - val_precision_m: 0.5298 - val_recall_m: 0.5000\n",
            "Epoch 49/100\n",
            "4/4 [==============================] - ETA: 0s - loss: 0.5264 - accuracy: 0.5950 - f1_m: 0.5949 - precision_m: 0.6087 - recall_m: 0.5820\n",
            "Epoch 00049: val_accuracy did not improve from 0.54000\n",
            "4/4 [==============================] - 16s 4s/step - loss: 0.5264 - accuracy: 0.5950 - f1_m: 0.5949 - precision_m: 0.6087 - recall_m: 0.5820 - val_loss: 0.5726 - val_accuracy: 0.5080 - val_f1_m: 0.5115 - val_precision_m: 0.5187 - val_recall_m: 0.5045\n",
            "Epoch 50/100\n",
            "4/4 [==============================] - ETA: 0s - loss: 0.5353 - accuracy: 0.5800 - f1_m: 0.5539 - precision_m: 0.5697 - recall_m: 0.5391\n",
            "Epoch 00050: val_accuracy did not improve from 0.54000\n",
            "4/4 [==============================] - 16s 4s/step - loss: 0.5353 - accuracy: 0.5800 - f1_m: 0.5539 - precision_m: 0.5697 - recall_m: 0.5391 - val_loss: 0.5813 - val_accuracy: 0.5040 - val_f1_m: 0.5041 - val_precision_m: 0.5073 - val_recall_m: 0.5010\n",
            "Epoch 51/100\n",
            "4/4 [==============================] - ETA: 0s - loss: 0.5839 - accuracy: 0.4975 - f1_m: 0.4976 - precision_m: 0.5011 - recall_m: 0.4941\n",
            "Epoch 00051: val_accuracy did not improve from 0.54000\n",
            "4/4 [==============================] - 16s 4s/step - loss: 0.5839 - accuracy: 0.4975 - f1_m: 0.4976 - precision_m: 0.5011 - recall_m: 0.4941 - val_loss: 0.6437 - val_accuracy: 0.4680 - val_f1_m: 0.4623 - val_precision_m: 0.4690 - val_recall_m: 0.4559\n",
            "Epoch 52/100\n",
            "1/4 [======>.......................] - ETA: 12s - loss: 0.5806 - accuracy: 0.5156 - f1_m: 0.4980 - precision_m: 0.5124 - recall_m: 0.4844"
          ]
        }
      ]
    },
    {
      "cell_type": "code",
      "metadata": {
        "colab": {
          "base_uri": "https://localhost:8080/"
        },
        "id": "D4kkEDHM4Mnj",
        "outputId": "0f27975b-4b6f-40e4-bf8c-6960058888ea"
      },
      "source": [
        "Model_1.evaluate(X_test,y_test,verbose=1)"
      ],
      "execution_count": 25,
      "outputs": [
        {
          "output_type": "stream",
          "name": "stdout",
          "text": [
            "8/8 [==============================] - 4s 473ms/step - loss: 0.5956 - accuracy: 0.4840 - f1_m: 0.3101 - precision_m: 0.4795 - recall_m: 0.2320\n"
          ]
        },
        {
          "output_type": "execute_result",
          "data": {
            "text/plain": [
              "[0.5956372022628784,\n",
              " 0.48399999737739563,\n",
              " 0.3101371228694916,\n",
              " 0.47952333092689514,\n",
              " 0.2319711595773697]"
            ]
          },
          "metadata": {},
          "execution_count": 25
        }
      ]
    },
    {
      "cell_type": "code",
      "metadata": {
        "colab": {
          "base_uri": "https://localhost:8080/",
          "height": 850
        },
        "id": "oCdLl8Zr2qnB",
        "outputId": "3b3abdc4-704f-4f66-91a4-fa695639133a"
      },
      "source": [
        "plt.plot(history.history['accuracy'])\n",
        "plt.plot(history.history['val_accuracy'])\n",
        "plt.title('model accuracy')\n",
        "plt.ylabel('accuracy')\n",
        "plt.xlabel('epoch')\n",
        "plt.legend(['train', 'validation'], loc='upper left')\n",
        "plt.show()\n",
        "# Plot of loss in each epoch\n",
        "plt.plot(history.history['loss'])\n",
        "plt.plot(history.history['val_loss'])\n",
        "plt.title('model loss')\n",
        "plt.ylabel('loss')\n",
        "plt.xlabel('epoch')\n",
        "plt.legend(['train', 'validation'], loc='upper left')\n",
        "plt.show()\n",
        "\n",
        "\n",
        "\n",
        "plt.plot(history.history['f1_m'])\n",
        "plt.plot(history.history['val_f1_m'])\n",
        "\n",
        "plt.title('model F1_score')\n",
        "plt.ylabel('f1_m')\n",
        "plt.xlabel('epoch')\n",
        "plt.legend(['train','test'], loc='upper left')\n",
        "plt.show()\n"
      ],
      "execution_count": 31,
      "outputs": [
        {
          "output_type": "display_data",
          "data": {
            "image/png": "[encoded data removed]",
            "text/plain": [
              "<Figure size 432x288 with 1 Axes>"
            ]
          },
          "metadata": {
            "needs_background": "light"
          }
        },
        {
          "output_type": "display_data",
          "data": {
            "image/png": "[encoded data removed]",
            "text/plain": [
              "<Figure size 432x288 with 1 Axes>"
            ]
          },
          "metadata": {
            "needs_background": "light"
          }
        },
        {
          "output_type": "display_data",
          "data": {
            "image/png": "[encoded data removed]",
            "text/plain": [
              "<Figure size 432x288 with 1 Axes>"
            ]
          },
          "metadata": {
            "needs_background": "light"
          }
        }
      ]
    },
    {
      "cell_type": "markdown",
      "metadata": {
        "id": "cA0AZGbk7y4u"
      },
      "source": [
        "# Model_2"
      ]
    },
    {
      "cell_type": "code",
      "metadata": {
        "colab": {
          "base_uri": "https://localhost:8080/"
        },
        "id": "vzjHCXKp7I6_",
        "outputId": "d7c2ac96-d065-4299-a435-43af64014842"
      },
      "source": [
        "MODEL_FILE_PATH = '/content/drive/MyDrive/ModelTest2'\n",
        "MODEL_FILE_NAME = 'Mode_2.h5'\n",
        "Model_2 = Sequential()\n",
        "Model_2.add(Embedding(vocab_size,100,weights=[embedding_matrix], input_length=100, trainable=False,name='word_embedding'))\n",
        "\n",
        "Model_2.add( Bidirectional( LSTM(500, dropout=0.25,return_sequences=True)))\n",
        "Model_2.add(Dropout(0.25))\n",
        "\n",
        "Model_2.add(Bidirectional(LSTM(250, dropout=0.25,return_sequences=True)))\n",
        "Model_2.add(Dropout(0.25))\n",
        "\n",
        "Model_2.add(Bidirectional( LSTM(50, dropout=0.25,return_sequences=False)))\n",
        "\n",
        "Model_2.add(Dense(3,activation='softmax'))\n",
        "\n",
        "early_stopping = EarlyStopping(monitor='val_loss', mode='min', verbose=1, patience=10)\n",
        "\n",
        "save_best = ModelCheckpoint(os.path.join(MODEL_FILE_PATH,MODEL_FILE_NAME), \n",
        "                     monitor='val_accuracy', \n",
        "                     mode='max', \n",
        "                     verbose=1, \n",
        "                     save_best_only=True) \n",
        "\n",
        "Model_2.compile(loss='binary_crossentropy',optimizer=Adam(learning_rate=0.0001),metrics=['accuracy',f1_m,precision_m, recall_m])\n",
        "\n",
        "Model_2.summary()"
      ],
      "execution_count": 33,
      "outputs": [
        {
          "output_type": "stream",
          "name": "stdout",
          "text": [
            "Model: \"sequential_5\"\n",
            "_________________________________________________________________\n",
            " Layer (type)                Output Shape              Param #   \n",
            "=================================================================\n",
            " word_embedding (Embedding)  (None, 100, 100)          2281400   \n",
            "                                                                 \n",
            " bidirectional (Bidirectiona  (None, 100, 1000)        2404000   \n",
            " l)                                                              \n",
            "                                                                 \n",
            " dropout_8 (Dropout)         (None, 100, 1000)         0         \n",
            "                                                                 \n",
            " bidirectional_1 (Bidirectio  (None, 100, 500)         2502000   \n",
            " nal)                                                            \n",
            "                                                                 \n",
            " dropout_9 (Dropout)         (None, 100, 500)          0         \n",
            "                                                                 \n",
            " bidirectional_2 (Bidirectio  (None, 100)              220400    \n",
            " nal)                                                            \n",
            "                                                                 \n",
            " dense_4 (Dense)             (None, 3)                 303       \n",
            "                                                                 \n",
            "=================================================================\n",
            "Total params: 7,408,103\n",
            "Trainable params: 5,126,703\n",
            "Non-trainable params: 2,281,400\n",
            "_________________________________________________________________\n"
          ]
        }
      ]
    },
    {
      "cell_type": "code",
      "metadata": {
        "colab": {
          "base_uri": "https://localhost:8080/"
        },
        "id": "nKIKvXsP9dYh",
        "outputId": "f98ffef9-7e33-4962-88f0-e6e143cb64c2"
      },
      "source": [
        "history=Model_2.fit(X_train, y_train, batch_size=128, epochs=100, verbose=1, validation_data=(X_test,y_test),callbacks=[early_stopping, save_best])\n"
      ],
      "execution_count": 34,
      "outputs": [
        {
          "output_type": "stream",
          "name": "stdout",
          "text": [
            "Epoch 1/100\n",
            "4/4 [==============================] - ETA: 0s - loss: 0.6885 - accuracy: 0.3100 - f1_m: 0.0000e+00 - precision_m: 0.0000e+00 - recall_m: 0.0000e+00 WARNING:tensorflow:Can save best model only with val_pred_acc available, skipping.\n",
            "4/4 [==============================] - 56s 11s/step - loss: 0.6885 - accuracy: 0.3100 - f1_m: 0.0000e+00 - precision_m: 0.0000e+00 - recall_m: 0.0000e+00 - val_loss: 0.6558 - val_accuracy: 0.4520 - val_f1_m: 0.0000e+00 - val_precision_m: 0.0000e+00 - val_recall_m: 0.0000e+00\n",
            "Epoch 2/100\n",
            "4/4 [==============================] - ETA: 0s - loss: 0.6498 - accuracy: 0.4825 - f1_m: 0.0000e+00 - precision_m: 0.0000e+00 - recall_m: 0.0000e+00 WARNING:tensorflow:Can save best model only with val_pred_acc available, skipping.\n",
            "4/4 [==============================] - 41s 10s/step - loss: 0.6498 - accuracy: 0.4825 - f1_m: 0.0000e+00 - precision_m: 0.0000e+00 - recall_m: 0.0000e+00 - val_loss: 0.6278 - val_accuracy: 0.4840 - val_f1_m: 0.0000e+00 - val_precision_m: 0.0000e+00 - val_recall_m: 0.0000e+00\n",
            "Epoch 3/100\n",
            "4/4 [==============================] - ETA: 0s - loss: 0.6267 - accuracy: 0.4625 - f1_m: 0.0000e+00 - precision_m: 0.0000e+00 - recall_m: 0.0000e+00 WARNING:tensorflow:Can save best model only with val_pred_acc available, skipping.\n",
            "4/4 [==============================] - 41s 10s/step - loss: 0.6267 - accuracy: 0.4625 - f1_m: 0.0000e+00 - precision_m: 0.0000e+00 - recall_m: 0.0000e+00 - val_loss: 0.6106 - val_accuracy: 0.4840 - val_f1_m: 0.0238 - val_precision_m: 0.7500 - val_recall_m: 0.0121\n",
            "Epoch 4/100\n",
            "4/4 [==============================] - ETA: 0s - loss: 0.6110 - accuracy: 0.4650 - f1_m: 0.0510 - precision_m: 0.4708 - recall_m: 0.0273 WARNING:tensorflow:Can save best model only with val_pred_acc available, skipping.\n",
            "4/4 [==============================] - 40s 10s/step - loss: 0.6110 - accuracy: 0.4650 - f1_m: 0.0510 - precision_m: 0.4708 - recall_m: 0.0273 - val_loss: 0.6022 - val_accuracy: 0.4840 - val_f1_m: 0.0455 - val_precision_m: 0.3750 - val_recall_m: 0.0244\n",
            "Epoch 5/100\n",
            "4/4 [==============================] - ETA: 0s - loss: 0.6021 - accuracy: 0.4650 - f1_m: 0.0514 - precision_m: 0.4924 - recall_m: 0.0273 WARNING:tensorflow:Can save best model only with val_pred_acc available, skipping.\n",
            "4/4 [==============================] - 40s 10s/step - loss: 0.6021 - accuracy: 0.4650 - f1_m: 0.0514 - precision_m: 0.4924 - recall_m: 0.0273 - val_loss: 0.5999 - val_accuracy: 0.4640 - val_f1_m: 0.0379 - val_precision_m: 0.2500 - val_recall_m: 0.0205\n",
            "Epoch 6/100\n",
            "4/4 [==============================] - ETA: 0s - loss: 0.5971 - accuracy: 0.4925 - f1_m: 0.1377 - precision_m: 0.5931 - recall_m: 0.0781 WARNING:tensorflow:Can save best model only with val_pred_acc available, skipping.\n",
            "4/4 [==============================] - 40s 10s/step - loss: 0.5971 - accuracy: 0.4925 - f1_m: 0.1377 - precision_m: 0.5931 - recall_m: 0.0781 - val_loss: 0.6005 - val_accuracy: 0.4960 - val_f1_m: 0.1049 - val_precision_m: 0.4048 - val_recall_m: 0.0605\n",
            "Epoch 7/100\n",
            "4/4 [==============================] - ETA: 0s - loss: 0.5948 - accuracy: 0.5175 - f1_m: 0.2551 - precision_m: 0.6617 - recall_m: 0.1582 WARNING:tensorflow:Can save best model only with val_pred_acc available, skipping.\n",
            "4/4 [==============================] - 40s 10s/step - loss: 0.5948 - accuracy: 0.5175 - f1_m: 0.2551 - precision_m: 0.6617 - recall_m: 0.1582 - val_loss: 0.6021 - val_accuracy: 0.4920 - val_f1_m: 0.1965 - val_precision_m: 0.4222 - val_recall_m: 0.1281\n",
            "Epoch 8/100\n",
            "4/4 [==============================] - ETA: 0s - loss: 0.5922 - accuracy: 0.5425 - f1_m: 0.2394 - precision_m: 0.4452 - recall_m: 0.1641 WARNING:tensorflow:Can save best model only with val_pred_acc available, skipping.\n",
            "4/4 [==============================] - 40s 10s/step - loss: 0.5922 - accuracy: 0.5425 - f1_m: 0.2394 - precision_m: 0.4452 - recall_m: 0.1641 - val_loss: 0.5993 - val_accuracy: 0.4920 - val_f1_m: 0.3125 - val_precision_m: 0.4926 - val_recall_m: 0.2288\n",
            "Epoch 9/100\n",
            "4/4 [==============================] - ETA: 0s - loss: 0.5859 - accuracy: 0.5225 - f1_m: 0.4175 - precision_m: 0.5778 - recall_m: 0.3301 WARNING:tensorflow:Can save best model only with val_pred_acc available, skipping.\n",
            "4/4 [==============================] - 40s 10s/step - loss: 0.5859 - accuracy: 0.5225 - f1_m: 0.4175 - precision_m: 0.5778 - recall_m: 0.3301 - val_loss: 0.5927 - val_accuracy: 0.4640 - val_f1_m: 0.4093 - val_precision_m: 0.4943 - val_recall_m: 0.3493\n",
            "Epoch 10/100\n",
            "4/4 [==============================] - ETA: 0s - loss: 0.5825 - accuracy: 0.5025 - f1_m: 0.4619 - precision_m: 0.5468 - recall_m: 0.4023 WARNING:tensorflow:Can save best model only with val_pred_acc available, skipping.\n",
            "4/4 [==============================] - 40s 10s/step - loss: 0.5825 - accuracy: 0.5025 - f1_m: 0.4619 - precision_m: 0.5468 - recall_m: 0.4023 - val_loss: 0.5895 - val_accuracy: 0.4760 - val_f1_m: 0.4218 - val_precision_m: 0.4916 - val_recall_m: 0.3696\n",
            "Epoch 11/100\n",
            "4/4 [==============================] - ETA: 0s - loss: 0.5796 - accuracy: 0.4850 - f1_m: 0.4575 - precision_m: 0.5403 - recall_m: 0.3984 WARNING:tensorflow:Can save best model only with val_pred_acc available, skipping.\n",
            "4/4 [==============================] - 40s 10s/step - loss: 0.5796 - accuracy: 0.4850 - f1_m: 0.4575 - precision_m: 0.5403 - recall_m: 0.3984 - val_loss: 0.5871 - val_accuracy: 0.4720 - val_f1_m: 0.4102 - val_precision_m: 0.4889 - val_recall_m: 0.3534\n",
            "Epoch 12/100\n",
            "4/4 [==============================] - ETA: 0s - loss: 0.5754 - accuracy: 0.5300 - f1_m: 0.4564 - precision_m: 0.5779 - recall_m: 0.3789 WARNING:tensorflow:Can save best model only with val_pred_acc available, skipping.\n",
            "4/4 [==============================] - 40s 10s/step - loss: 0.5754 - accuracy: 0.5300 - f1_m: 0.4564 - precision_m: 0.5779 - recall_m: 0.3789 - val_loss: 0.5894 - val_accuracy: 0.4720 - val_f1_m: 0.4344 - val_precision_m: 0.5204 - val_recall_m: 0.3729\n",
            "Epoch 13/100\n",
            "4/4 [==============================] - ETA: 0s - loss: 0.5717 - accuracy: 0.5375 - f1_m: 0.4521 - precision_m: 0.5680 - recall_m: 0.3770 WARNING:tensorflow:Can save best model only with val_pred_acc available, skipping.\n",
            "4/4 [==============================] - 40s 10s/step - loss: 0.5717 - accuracy: 0.5375 - f1_m: 0.4521 - precision_m: 0.5680 - recall_m: 0.3770 - val_loss: 0.5837 - val_accuracy: 0.4840 - val_f1_m: 0.4527 - val_precision_m: 0.5198 - val_recall_m: 0.4014\n",
            "Epoch 14/100\n",
            "4/4 [==============================] - ETA: 0s - loss: 0.5622 - accuracy: 0.5725 - f1_m: 0.5073 - precision_m: 0.5856 - recall_m: 0.4492 WARNING:tensorflow:Can save best model only with val_pred_acc available, skipping.\n",
            "4/4 [==============================] - 40s 10s/step - loss: 0.5622 - accuracy: 0.5725 - f1_m: 0.5073 - precision_m: 0.5856 - recall_m: 0.4492 - val_loss: 0.5866 - val_accuracy: 0.4800 - val_f1_m: 0.4256 - val_precision_m: 0.5039 - val_recall_m: 0.3684\n",
            "Epoch 15/100\n",
            "4/4 [==============================] - ETA: 0s - loss: 0.5590 - accuracy: 0.5550 - f1_m: 0.5008 - precision_m: 0.6167 - recall_m: 0.4238 WARNING:tensorflow:Can save best model only with val_pred_acc available, skipping.\n",
            "4/4 [==============================] - 40s 10s/step - loss: 0.5590 - accuracy: 0.5550 - f1_m: 0.5008 - precision_m: 0.6167 - recall_m: 0.4238 - val_loss: 0.5847 - val_accuracy: 0.4840 - val_f1_m: 0.4354 - val_precision_m: 0.5088 - val_recall_m: 0.3805\n",
            "Epoch 16/100\n",
            "4/4 [==============================] - ETA: 0s - loss: 0.5528 - accuracy: 0.5800 - f1_m: 0.4792 - precision_m: 0.5636 - recall_m: 0.4180 WARNING:tensorflow:Can save best model only with val_pred_acc available, skipping.\n",
            "4/4 [==============================] - 40s 10s/step - loss: 0.5528 - accuracy: 0.5800 - f1_m: 0.4792 - precision_m: 0.5636 - recall_m: 0.4180 - val_loss: 0.5770 - val_accuracy: 0.4960 - val_f1_m: 0.4694 - val_precision_m: 0.5125 - val_recall_m: 0.4330\n",
            "Epoch 17/100\n",
            "4/4 [==============================] - ETA: 0s - loss: 0.5505 - accuracy: 0.5600 - f1_m: 0.5092 - precision_m: 0.5605 - recall_m: 0.4668 WARNING:tensorflow:Can save best model only with val_pred_acc available, skipping.\n",
            "4/4 [==============================] - 40s 10s/step - loss: 0.5505 - accuracy: 0.5600 - f1_m: 0.5092 - precision_m: 0.5605 - recall_m: 0.4668 - val_loss: 0.5962 - val_accuracy: 0.4600 - val_f1_m: 0.4274 - val_precision_m: 0.4588 - val_recall_m: 0.4002\n",
            "Epoch 18/100\n",
            "4/4 [==============================] - ETA: 0s - loss: 0.5465 - accuracy: 0.5625 - f1_m: 0.5710 - precision_m: 0.6516 - recall_m: 0.5137 WARNING:tensorflow:Can save best model only with val_pred_acc available, skipping.\n",
            "4/4 [==============================] - 40s 10s/step - loss: 0.5465 - accuracy: 0.5625 - f1_m: 0.5710 - precision_m: 0.6516 - recall_m: 0.5137 - val_loss: 0.5771 - val_accuracy: 0.5000 - val_f1_m: 0.4892 - val_precision_m: 0.5111 - val_recall_m: 0.4691\n",
            "Epoch 19/100\n",
            "4/4 [==============================] - ETA: 0s - loss: 0.5369 - accuracy: 0.5900 - f1_m: 0.5745 - precision_m: 0.6124 - recall_m: 0.5410 WARNING:tensorflow:Can save best model only with val_pred_acc available, skipping.\n",
            "4/4 [==============================] - 40s 10s/step - loss: 0.5369 - accuracy: 0.5900 - f1_m: 0.5745 - precision_m: 0.6124 - recall_m: 0.5410 - val_loss: 0.5751 - val_accuracy: 0.4960 - val_f1_m: 0.4786 - val_precision_m: 0.5026 - val_recall_m: 0.4568\n",
            "Epoch 20/100\n",
            "4/4 [==============================] - ETA: 0s - loss: 0.5338 - accuracy: 0.5825 - f1_m: 0.5279 - precision_m: 0.5553 - recall_m: 0.5039 WARNING:tensorflow:Can save best model only with val_pred_acc available, skipping.\n",
            "4/4 [==============================] - 40s 10s/step - loss: 0.5338 - accuracy: 0.5825 - f1_m: 0.5279 - precision_m: 0.5553 - recall_m: 0.5039 - val_loss: 0.5763 - val_accuracy: 0.5040 - val_f1_m: 0.4925 - val_precision_m: 0.5135 - val_recall_m: 0.4732\n",
            "Epoch 21/100\n",
            "4/4 [==============================] - ETA: 0s - loss: 0.5294 - accuracy: 0.6000 - f1_m: 0.5930 - precision_m: 0.6374 - recall_m: 0.5547 WARNING:tensorflow:Can save best model only with val_pred_acc available, skipping.\n",
            "4/4 [==============================] - 41s 10s/step - loss: 0.5294 - accuracy: 0.6000 - f1_m: 0.5930 - precision_m: 0.6374 - recall_m: 0.5547 - val_loss: 0.5823 - val_accuracy: 0.5040 - val_f1_m: 0.4796 - val_precision_m: 0.5152 - val_recall_m: 0.4492\n",
            "Epoch 22/100\n",
            "4/4 [==============================] - ETA: 0s - loss: 0.5281 - accuracy: 0.5750 - f1_m: 0.5482 - precision_m: 0.5763 - recall_m: 0.5234 WARNING:tensorflow:Can save best model only with val_pred_acc available, skipping.\n",
            "4/4 [==============================] - 40s 10s/step - loss: 0.5281 - accuracy: 0.5750 - f1_m: 0.5482 - precision_m: 0.5763 - recall_m: 0.5234 - val_loss: 0.5725 - val_accuracy: 0.5160 - val_f1_m: 0.4894 - val_precision_m: 0.5115 - val_recall_m: 0.4691\n",
            "Epoch 23/100\n",
            "4/4 [==============================] - ETA: 0s - loss: 0.5190 - accuracy: 0.5850 - f1_m: 0.6345 - precision_m: 0.6763 - recall_m: 0.5977 WARNING:tensorflow:Can save best model only with val_pred_acc available, skipping.\n",
            "4/4 [==============================] - 40s 10s/step - loss: 0.5190 - accuracy: 0.5850 - f1_m: 0.6345 - precision_m: 0.6763 - recall_m: 0.5977 - val_loss: 0.5758 - val_accuracy: 0.5000 - val_f1_m: 0.4839 - val_precision_m: 0.5088 - val_recall_m: 0.4613\n",
            "Epoch 24/100\n",
            "4/4 [==============================] - ETA: 0s - loss: 0.5173 - accuracy: 0.5950 - f1_m: 0.5828 - precision_m: 0.5983 - recall_m: 0.5684 WARNING:tensorflow:Can save best model only with val_pred_acc available, skipping.\n",
            "4/4 [==============================] - 40s 10s/step - loss: 0.5173 - accuracy: 0.5950 - f1_m: 0.5828 - precision_m: 0.5983 - recall_m: 0.5684 - val_loss: 0.5737 - val_accuracy: 0.5000 - val_f1_m: 0.4939 - val_precision_m: 0.5031 - val_recall_m: 0.4851\n",
            "Epoch 25/100\n",
            "4/4 [==============================] - ETA: 0s - loss: 0.5141 - accuracy: 0.6050 - f1_m: 0.5830 - precision_m: 0.6074 - recall_m: 0.5605WARNING:tensorflow:Can save best model only with val_pred_acc available, skipping.\n",
            "4/4 [==============================] - 43s 11s/step - loss: 0.5141 - accuracy: 0.6050 - f1_m: 0.5830 - precision_m: 0.6074 - recall_m: 0.5605 - val_loss: 0.5732 - val_accuracy: 0.5000 - val_f1_m: 0.4979 - val_precision_m: 0.5250 - val_recall_m: 0.4740\n",
            "Epoch 26/100\n",
            "4/4 [==============================] - ETA: 0s - loss: 0.5093 - accuracy: 0.6150 - f1_m: 0.6270 - precision_m: 0.6586 - recall_m: 0.5996WARNING:tensorflow:Can save best model only with val_pred_acc available, skipping.\n",
            "4/4 [==============================] - 39s 10s/step - loss: 0.5093 - accuracy: 0.6150 - f1_m: 0.6270 - precision_m: 0.6586 - recall_m: 0.5996 - val_loss: 0.5858 - val_accuracy: 0.5320 - val_f1_m: 0.5043 - val_precision_m: 0.5414 - val_recall_m: 0.4725\n",
            "Epoch 27/100\n",
            "4/4 [==============================] - ETA: 0s - loss: 0.5149 - accuracy: 0.6100 - f1_m: 0.5958 - precision_m: 0.6392 - recall_m: 0.5586WARNING:tensorflow:Can save best model only with val_pred_acc available, skipping.\n",
            "4/4 [==============================] - 39s 10s/step - loss: 0.5149 - accuracy: 0.6100 - f1_m: 0.5958 - precision_m: 0.6392 - recall_m: 0.5586 - val_loss: 0.5736 - val_accuracy: 0.5200 - val_f1_m: 0.5198 - val_precision_m: 0.5501 - val_recall_m: 0.4935\n",
            "Epoch 28/100\n",
            "4/4 [==============================] - ETA: 0s - loss: 0.5012 - accuracy: 0.6025 - f1_m: 0.5889 - precision_m: 0.6303 - recall_m: 0.5527 WARNING:tensorflow:Can save best model only with val_pred_acc available, skipping.\n",
            "4/4 [==============================] - 39s 10s/step - loss: 0.5012 - accuracy: 0.6025 - f1_m: 0.5889 - precision_m: 0.6303 - recall_m: 0.5527 - val_loss: 0.5792 - val_accuracy: 0.5280 - val_f1_m: 0.5197 - val_precision_m: 0.5505 - val_recall_m: 0.4933\n",
            "Epoch 29/100\n",
            "4/4 [==============================] - ETA: 0s - loss: 0.4977 - accuracy: 0.6425 - f1_m: 0.6179 - precision_m: 0.6622 - recall_m: 0.5801 WARNING:tensorflow:Can save best model only with val_pred_acc available, skipping.\n",
            "4/4 [==============================] - 39s 10s/step - loss: 0.4977 - accuracy: 0.6425 - f1_m: 0.6179 - precision_m: 0.6622 - recall_m: 0.5801 - val_loss: 0.5845 - val_accuracy: 0.5240 - val_f1_m: 0.5144 - val_precision_m: 0.5381 - val_recall_m: 0.4935\n",
            "Epoch 30/100\n",
            "4/4 [==============================] - ETA: 0s - loss: 0.4937 - accuracy: 0.6350 - f1_m: 0.6643 - precision_m: 0.7041 - recall_m: 0.6289WARNING:tensorflow:Can save best model only with val_pred_acc available, skipping.\n",
            "4/4 [==============================] - 39s 10s/step - loss: 0.4937 - accuracy: 0.6350 - f1_m: 0.6643 - precision_m: 0.7041 - recall_m: 0.6289 - val_loss: 0.5936 - val_accuracy: 0.5360 - val_f1_m: 0.5036 - val_precision_m: 0.5285 - val_recall_m: 0.4810\n",
            "Epoch 31/100\n",
            "4/4 [==============================] - ETA: 0s - loss: 0.4814 - accuracy: 0.6475 - f1_m: 0.6435 - precision_m: 0.6771 - recall_m: 0.6133 WARNING:tensorflow:Can save best model only with val_pred_acc available, skipping.\n",
            "4/4 [==============================] - 39s 10s/step - loss: 0.4814 - accuracy: 0.6475 - f1_m: 0.6435 - precision_m: 0.6771 - recall_m: 0.6133 - val_loss: 0.5882 - val_accuracy: 0.5120 - val_f1_m: 0.4972 - val_precision_m: 0.5238 - val_recall_m: 0.4734\n",
            "Epoch 32/100\n",
            "4/4 [==============================] - ETA: 0s - loss: 0.4907 - accuracy: 0.6450 - f1_m: 0.6436 - precision_m: 0.6920 - recall_m: 0.6016 WARNING:tensorflow:Can save best model only with val_pred_acc available, skipping.\n",
            "4/4 [==============================] - 39s 10s/step - loss: 0.4907 - accuracy: 0.6450 - f1_m: 0.6436 - precision_m: 0.6920 - recall_m: 0.6016 - val_loss: 0.6026 - val_accuracy: 0.5280 - val_f1_m: 0.5055 - val_precision_m: 0.5336 - val_recall_m: 0.4803\n",
            "Epoch 00032: early stopping\n"
          ]
        }
      ]
    },
    {
      "cell_type": "code",
      "metadata": {
        "colab": {
          "base_uri": "https://localhost:8080/"
        },
        "id": "ZF10hrEY7fP4",
        "outputId": "f18faee2-f5b3-4e7c-cd84-d888156552ac"
      },
      "source": [
        "Model_2.evaluate(X_test,y_test,verbose=1)"
      ],
      "execution_count": 35,
      "outputs": [
        {
          "output_type": "stream",
          "name": "stdout",
          "text": [
            "8/8 [==============================] - 9s 1s/step - loss: 0.6026 - accuracy: 0.5280 - f1_m: 0.5051 - precision_m: 0.5334 - recall_m: 0.4805\n"
          ]
        },
        {
          "output_type": "execute_result",
          "data": {
            "text/plain": [
              "[0.602588951587677,\n",
              " 0.527999997138977,\n",
              " 0.505092442035675,\n",
              " 0.5334460735321045,\n",
              " 0.48046875]"
            ]
          },
          "metadata": {},
          "execution_count": 35
        }
      ]
    },
    {
      "cell_type": "code",
      "metadata": {
        "colab": {
          "base_uri": "https://localhost:8080/",
          "height": 850
        },
        "id": "KL7iwFPr7e3i",
        "outputId": "068eba6c-7bb8-4104-cd4e-d5c1c6f7e7fa"
      },
      "source": [
        "plt.plot(history.history['accuracy'])\n",
        "plt.plot(history.history['val_accuracy'])\n",
        "plt.title('model accuracy')\n",
        "plt.ylabel('accuracy')\n",
        "plt.xlabel('epoch')\n",
        "plt.legend(['train', 'validation'], loc='upper left')\n",
        "plt.show()\n",
        "# Plot of loss in each epoch\n",
        "plt.plot(history.history['loss'])\n",
        "plt.plot(history.history['val_loss'])\n",
        "plt.title('model loss')\n",
        "plt.ylabel('loss')\n",
        "plt.xlabel('epoch')\n",
        "plt.legend(['train', 'validation'], loc='upper left')\n",
        "plt.show()\n",
        "\n",
        "plt.plot(history.history['f1_m'])\n",
        "plt.plot(history.history['val_f1_m'])\n",
        "\n",
        "plt.title('model F1_score')\n",
        "plt.ylabel('f1_m')\n",
        "plt.xlabel('epoch')\n",
        "plt.legend(['train','test'], loc='upper left')\n",
        "plt.show()\n"
      ],
      "execution_count": 37,
      "outputs": [
        {
          "output_type": "display_data",
          "data": {
            "image/png": "[encoded data removed]",
            "text/plain": [
              "<Figure size 432x288 with 1 Axes>"
            ]
          },
          "metadata": {
            "needs_background": "light"
          }
        },
        {
          "output_type": "display_data",
          "data": {
            "image/png": "[encoded data removed]",
            "text/plain": [
              "<Figure size 432x288 with 1 Axes>"
            ]
          },
          "metadata": {
            "needs_background": "light"
          }
        },
        {
          "output_type": "display_data",
          "data": {
            "image/png": "[encoded data removed]",
            "text/plain": [
              "<Figure size 432x288 with 1 Axes>"
            ]
          },
          "metadata": {
            "needs_background": "light"
          }
        }
      ]
    },
    {
      "cell_type": "markdown",
      "metadata": {
        "id": "0jwaQD2V8d9t"
      },
      "source": [
        "# Model Transformer avec Multi_head_self_Attention"
      ]
    },
    {
      "cell_type": "markdown",
      "metadata": {
        "id": "JsTTCmMd8hJe"
      },
      "source": [
        "**Code de l'attention :**"
      ]
    },
    {
      "cell_type": "code",
      "metadata": {
        "id": "-S_iyqdm8TLh"
      },
      "source": [
        "\n",
        "LR = 0.0001 # Default for Adam is 0.001\n",
        "N_BATCH = 128\n",
        "N_EPOCHS = 20\n",
        "N_HEADS = 8\n",
        "DIM_HIDDEN = 300 # Dimensionality of the hidden state h_t outputted by the LSTM\n",
        "# Dimensionality of the weight matrices used while computing the attention, note that we divide this into n_head parts later\n",
        "DIM_KEY = N_HEADS*64\n",
        "\n",
        "\n",
        "# A more general and complete version of the layer defined in the linked keras example\n",
        "\n",
        "class MultiHeadSelfAttention(Layer):\n",
        "    \"\"\" This uses Bahadanau attention \"\"\"\n",
        "    \n",
        "    def __init__(self, num_heads = 8, weights_dim = 64):\n",
        "        \"\"\" Constructor: Initializes parameters of the Attention layer \"\"\"\n",
        "        \n",
        "        # Initialize base class:\n",
        "        super(MultiHeadSelfAttention, self).__init__()\n",
        "        \n",
        "        # Initialize parameters of the layer:\n",
        "        self.num_heads = num_heads\n",
        "        self.weights_dim = weights_dim\n",
        "        \n",
        "        if self.weights_dim % self.num_heads != 0:\n",
        "            raise ValueError(f\"Weights dimension = {weights_dim} should be divisible by number of heads = {num_heads} to ensure proper division into sub-matrices\")\n",
        "            \n",
        "        # We use this to divide the Q,K,V matrices into num_heads submatrices, to compute multi-headed attention\n",
        "        self.sub_matrix_dim = self.weights_dim // self.num_heads \n",
        "        \n",
        "       \n",
        "        \n",
        "        # Weight matrices for computing query, key and value (Note that we haven't defined an activation function anywhere)\n",
        "        # Important: In keras units contain the shape of the output\n",
        "        self.W_q = Dense(units = weights_dim) \n",
        "        self.W_k = Dense(units = weights_dim)\n",
        "        self.W_v = Dense(units = weights_dim)\n",
        "        \n",
        "        \n",
        "    def get_config(self):\n",
        "        \"\"\" Required for saving/loading the model \"\"\"\n",
        "        config = super().get_config().copy()\n",
        "        config.update({\n",
        "            \"num_heads\" : self.num_heads,\n",
        "            \"weights_dim\" : self.weights_dim\n",
        "            # All args of __init__() must be included here\n",
        "        })\n",
        "        return config\n",
        "    \n",
        "    \n",
        "    def build(self, input_shape):\n",
        "        \"\"\" Initializes various weights dynamically based on input_shape \"\"\"\n",
        "        input_dim = input_shape[-1]\n",
        "        self.input_dim = input_dim\n",
        "        # Weight matrix for combining the output from multiple heads:\n",
        "        # Takes in input of shape (batch_size, seq_len, weights_dim) returns output of shape (batch_size, seq_len, input_dim)\n",
        "        self.W_h = Dense(units = input_dim)\n",
        "\n",
        "        \n",
        "    def attention(self, query, key, value):\n",
        "        \"\"\" The main logic \"\"\"\n",
        "        # Compute the raw score = QK^T \n",
        "        score = tf.matmul(query, key, transpose_b=True)\n",
        "        \n",
        "        # Scale by dimension of K\n",
        "        dim_key = tf.cast(tf.shape(key)[-1], tf.float32) # == DIM_KEY\n",
        "        scaled_score = score / tf.math.sqrt(dim_key)\n",
        "        \n",
        "        # Weights are the softmax of scaled scores\n",
        "        weights = tf.nn.softmax(scaled_score, axis=-1)\n",
        "        \n",
        "        # The final output of the attention layer (weighted sum of hidden states)\n",
        "        output = tf.matmul(weights, value)\n",
        "        \n",
        "        return output, weights\n",
        "\n",
        "    \n",
        "    def separate_heads(self, x, batch_size):\n",
        "        \"\"\" \n",
        "            Splits the given x into num_heads submatrices and returns the result as a concatenation of these sub-matrices\n",
        "        \"\"\"\n",
        "        x = tf.reshape(x, (batch_size, -1, self.num_heads, self.sub_matrix_dim))\n",
        "        return tf.transpose(x, perm=[0, 2, 1, 3])\n",
        "\n",
        "    \n",
        "    def call(self, inputs):\n",
        "        \"\"\" All computations take place here \"\"\"\n",
        "        \n",
        "        batch_size = tf.shape(inputs)[0]\n",
        "        \n",
        "        # Compute Q = W_q*X\n",
        "        query = self.W_q(inputs)  # (batch_size, seq_len, weights_dim)\n",
        "        \n",
        "        # Compute K = W_k*X\n",
        "        key = self.W_k(inputs)  # (batch_size, seq_len, weights_dim)\n",
        "        \n",
        "        # Compute V = W_v*X\n",
        "        value = self.W_v(inputs)  # (batch_size, seq_len, weights_dim)\n",
        "        \n",
        "        # Split into n_heads submatrices\n",
        "        query = self.separate_heads(query, batch_size)  # (batch_size, num_heads, seq_len, sub_matrix_dim)\n",
        "        key = self.separate_heads(key, batch_size)  # (batch_size, num_heads, seq_len, sub_matrix_dim)\n",
        "        value = self.separate_heads(value, batch_size) # (batch_size, num_heads, seq_len, sub_matrix_dim)\n",
        "        \n",
        "        # Compute attention (contains weights and attentions for all heads):\n",
        "        attention, weights = self.attention(query, key, value)\n",
        "        attention = tf.transpose(attention, perm=[0, 2, 1, 3])  # (batch_size, seq_len, num_heads, sub_matrix_dim)\n",
        "        \n",
        "        # Concatenate all attentions from different heads (squeeze the last dimension):\n",
        "        concat_attention = tf.reshape(attention, (batch_size, -1, self.weights_dim))  # (batch_size, seq_len, weights_dim)\n",
        "        \n",
        "        # Use a weighted average of the attentions from different heads:\n",
        "        output = self.W_h(concat_attention)  # (batch_size, seq_len, input_dim)\n",
        "        \n",
        "        return output\n",
        "    \n",
        "    \n",
        "    def compute_output_shape(self, input_shape):\n",
        "        print(input_shape)\n",
        "        \"\"\" Specifies the output shape of the custom layer, without this, the model doesn't work \"\"\"\n",
        "        return input_shape\n"
      ],
      "execution_count": 89,
      "outputs": []
    },
    {
      "cell_type": "code",
      "metadata": {
        "colab": {
          "base_uri": "https://localhost:8080/"
        },
        "id": "cx4DXIFt7xFD",
        "outputId": "ba8bf45c-8cd9-46c9-e463-2e7aa21725dd"
      },
      "source": [
        "\n",
        "def buildModel1():\n",
        "    \n",
        "    # The input as sequences:\n",
        "    input_layer = Input(shape=(MAX_LENGTH,))\n",
        "    # Create the embedding layer\n",
        "    embedding_layer = Embedding(\n",
        "        vocab_size,\n",
        "        100,\n",
        "        weights = [embedding_matrix],\n",
        "        input_length = MAX_LENGTH,\n",
        "        trainable = False # No need to train as our embeddings are already finetuned on Twitter data\n",
        "    )\n",
        "    # Create the embeddings\n",
        "    embedded_sequences = embedding_layer(input_layer)\n",
        "\n",
        "    # Single layer BiLSTM architecture\n",
        "    word_gru3 = Bidirectional(\n",
        "        LSTM(\n",
        "            units = 300,  \n",
        "            dropout = 0.3,\n",
        "            return_sequences = True,\n",
        "        ),\n",
        "        merge_mode = \"concat\" # Just like in Transformers, thus output h = [h_f; h_b] will have dimension 2*DIM_HIDDEN\n",
        "    )(embedded_sequences) \n",
        "\n",
        "\n",
        "    \n",
        "    # Adding multiheaded self attention\n",
        "    x = MultiHeadSelfAttention(N_HEADS, DIM_KEY)(word_gru3)\n",
        "    \n",
        "    outputs = Flatten()(x)\n",
        "    \n",
        "    model = Model(input_layer, outputs)\n",
        "    return model\n",
        "\n",
        "def buildModel2():\n",
        "    input_layer = Input(shape = (2*MAX_LENGTH*DIM_HIDDEN,))\n",
        "    # Fully connected classifer\n",
        "    x = Dense(1024, activation = \"relu\")(input_layer)\n",
        "    x = Dropout(0.2)(x)\n",
        "    x = Dense(256, activation = \"relu\")(x)\n",
        "    x = Dropout(0.2)(x)\n",
        "    x = Dense(32, activation = \"relu\")(x)\n",
        "    outputs = Dense(3, activation = \"softmax\")(x)\n",
        "    model = Model(input_layer, outputs)\n",
        "    return model\n",
        "\n",
        "def combineModels():\n",
        "    model1 = buildModel1()\n",
        "    model2 = buildModel2()\n",
        "    \n",
        "    input1 = Input(shape=(MAX_LENGTH,))\n",
        "    out1 = model1(input1)\n",
        "    out2 = model2(out1)\n",
        "    \n",
        "    model = Model(input1, out2)\n",
        "    return model\n",
        "\n",
        "#model = buildModel()\n",
        "model = combineModels()\n",
        "model.compile(\n",
        "    optimizer ='adam', \n",
        "    loss = \"binary_crossentropy\", # As binary classification\n",
        "    metrics = ['accuracy'] # Balanced classes, thus good enough metric\n",
        ")\n",
        "\n",
        "\n",
        "\n",
        "print(model.summary())\n",
        "\n"
      ],
      "execution_count": 141,
      "outputs": [
        {
          "output_type": "stream",
          "name": "stdout",
          "text": [
            "Model: \"model_121\"\n",
            "_________________________________________________________________\n",
            " Layer (type)                Output Shape              Param #   \n",
            "=================================================================\n",
            " input_129 (InputLayer)      [(None, 100)]             0         \n",
            "                                                                 \n",
            " model_119 (Functional)      (None, None)              4474736   \n",
            "                                                                 \n",
            " model_120 (Functional)      (None, 3)                 61711747  \n",
            "                                                                 \n",
            "=================================================================\n",
            "Total params: 66,186,483\n",
            "Trainable params: 63,905,083\n",
            "Non-trainable params: 2,281,400\n",
            "_________________________________________________________________\n",
            "None\n"
          ]
        }
      ]
    },
    {
      "cell_type": "code",
      "metadata": {
        "colab": {
          "base_uri": "https://localhost:8080/"
        },
        "id": "LCMh6EtR7w7V",
        "outputId": "960dd704-c6dd-4da3-f507-e4e8bbcaab90"
      },
      "source": [
        "history=model.fit(X_train, y_train, batch_size=128, epochs=100, verbose=1, validation_data=(X_test,y_test),callbacks=[early_stopping, save_best])\n"
      ],
      "execution_count": 142,
      "outputs": [
        {
          "output_type": "stream",
          "name": "stdout",
          "text": [
            "Epoch 1/100\n",
            "4/4 [==============================] - ETA: 0s - loss: 0.8561 - accuracy: 0.3375\n",
            "Epoch 00001: val_accuracy improved from 0.35600 to 0.48400, saving model to /content/drive/MyDrive/ModelTest2/Model_3.h5\n",
            "4/4 [==============================] - 151s 7s/step - loss: 0.8561 - accuracy: 0.3375 - val_loss: 0.6347 - val_accuracy: 0.4840\n",
            "Epoch 2/100\n",
            "4/4 [==============================] - ETA: 0s - loss: 0.6292 - accuracy: 0.4650\n",
            "Epoch 00002: val_accuracy improved from 0.48400 to 0.48800, saving model to /content/drive/MyDrive/ModelTest2/Model_3.h5\n",
            "4/4 [==============================] - 30s 8s/step - loss: 0.6292 - accuracy: 0.4650 - val_loss: 0.6163 - val_accuracy: 0.4880\n",
            "Epoch 3/100\n",
            "4/4 [==============================] - ETA: 0s - loss: 0.5946 - accuracy: 0.4850\n",
            "Epoch 00003: val_accuracy did not improve from 0.48800\n",
            "4/4 [==============================] - 24s 6s/step - loss: 0.5946 - accuracy: 0.4850 - val_loss: 0.6060 - val_accuracy: 0.4200\n",
            "Epoch 4/100\n",
            "4/4 [==============================] - ETA: 0s - loss: 0.5769 - accuracy: 0.5025\n",
            "Epoch 00004: val_accuracy improved from 0.48800 to 0.49200, saving model to /content/drive/MyDrive/ModelTest2/Model_3.h5\n",
            "4/4 [==============================] - 28s 7s/step - loss: 0.5769 - accuracy: 0.5025 - val_loss: 0.5918 - val_accuracy: 0.4920\n",
            "Epoch 5/100\n",
            "4/4 [==============================] - ETA: 0s - loss: 0.5604 - accuracy: 0.5600\n",
            "Epoch 00005: val_accuracy did not improve from 0.49200\n",
            "4/4 [==============================] - 24s 6s/step - loss: 0.5604 - accuracy: 0.5600 - val_loss: 0.6488 - val_accuracy: 0.4480\n",
            "Epoch 6/100\n",
            "4/4 [==============================] - ETA: 0s - loss: 0.5306 - accuracy: 0.5900\n",
            "Epoch 00006: val_accuracy did not improve from 0.49200\n",
            "4/4 [==============================] - 21s 5s/step - loss: 0.5306 - accuracy: 0.5900 - val_loss: 0.6204 - val_accuracy: 0.4880\n",
            "Epoch 7/100\n",
            "4/4 [==============================] - ETA: 0s - loss: 0.5221 - accuracy: 0.5725\n",
            "Epoch 00007: val_accuracy did not improve from 0.49200\n",
            "4/4 [==============================] - 21s 5s/step - loss: 0.5221 - accuracy: 0.5725 - val_loss: 0.6467 - val_accuracy: 0.4240\n",
            "Epoch 8/100\n",
            "4/4 [==============================] - ETA: 0s - loss: 0.5586 - accuracy: 0.5325\n",
            "Epoch 00008: val_accuracy improved from 0.49200 to 0.54800, saving model to /content/drive/MyDrive/ModelTest2/Model_3.h5\n",
            "4/4 [==============================] - 28s 8s/step - loss: 0.5586 - accuracy: 0.5325 - val_loss: 0.5833 - val_accuracy: 0.5480\n",
            "Epoch 9/100\n",
            "4/4 [==============================] - ETA: 0s - loss: 0.5259 - accuracy: 0.5600\n",
            "Epoch 00009: val_accuracy did not improve from 0.54800\n",
            "4/4 [==============================] - 24s 6s/step - loss: 0.5259 - accuracy: 0.5600 - val_loss: 0.6879 - val_accuracy: 0.4720\n",
            "Epoch 10/100\n",
            "4/4 [==============================] - ETA: 0s - loss: 0.5642 - accuracy: 0.5625\n",
            "Epoch 00010: val_accuracy did not improve from 0.54800\n",
            "4/4 [==============================] - 21s 5s/step - loss: 0.5642 - accuracy: 0.5625 - val_loss: 0.5892 - val_accuracy: 0.5240\n",
            "Epoch 11/100\n",
            "4/4 [==============================] - ETA: 0s - loss: 0.5358 - accuracy: 0.5600\n",
            "Epoch 00011: val_accuracy did not improve from 0.54800\n",
            "4/4 [==============================] - 21s 5s/step - loss: 0.5358 - accuracy: 0.5600 - val_loss: 0.5885 - val_accuracy: 0.4640\n",
            "Epoch 12/100\n",
            "4/4 [==============================] - ETA: 0s - loss: 0.5343 - accuracy: 0.5975\n",
            "Epoch 00012: val_accuracy did not improve from 0.54800\n",
            "4/4 [==============================] - 21s 5s/step - loss: 0.5343 - accuracy: 0.5975 - val_loss: 0.6209 - val_accuracy: 0.4440\n",
            "Epoch 13/100\n",
            "4/4 [==============================] - ETA: 0s - loss: 0.4964 - accuracy: 0.6500\n",
            "Epoch 00013: val_accuracy did not improve from 0.54800\n",
            "4/4 [==============================] - 21s 5s/step - loss: 0.4964 - accuracy: 0.6500 - val_loss: 0.6584 - val_accuracy: 0.4800\n",
            "Epoch 14/100\n",
            "4/4 [==============================] - ETA: 0s - loss: 0.4995 - accuracy: 0.6400\n",
            "Epoch 00014: val_accuracy did not improve from 0.54800\n",
            "4/4 [==============================] - 22s 5s/step - loss: 0.4995 - accuracy: 0.6400 - val_loss: 0.7042 - val_accuracy: 0.5000\n",
            "Epoch 15/100\n",
            "4/4 [==============================] - ETA: 0s - loss: 0.4840 - accuracy: 0.6400\n",
            "Epoch 00015: val_accuracy did not improve from 0.54800\n",
            "4/4 [==============================] - 21s 5s/step - loss: 0.4840 - accuracy: 0.6400 - val_loss: 0.6301 - val_accuracy: 0.4200\n",
            "Epoch 16/100\n",
            "4/4 [==============================] - ETA: 0s - loss: 0.5496 - accuracy: 0.5400\n",
            "Epoch 00016: val_accuracy did not improve from 0.54800\n",
            "4/4 [==============================] - 21s 5s/step - loss: 0.5496 - accuracy: 0.5400 - val_loss: 0.5815 - val_accuracy: 0.4840\n",
            "Epoch 17/100\n",
            "4/4 [==============================] - ETA: 0s - loss: 0.5083 - accuracy: 0.6100\n",
            "Epoch 00017: val_accuracy did not improve from 0.54800\n",
            "4/4 [==============================] - 22s 5s/step - loss: 0.5083 - accuracy: 0.6100 - val_loss: 0.6292 - val_accuracy: 0.5040\n",
            "Epoch 18/100\n",
            "4/4 [==============================] - ETA: 0s - loss: 0.4590 - accuracy: 0.6950\n",
            "Epoch 00018: val_accuracy did not improve from 0.54800\n",
            "4/4 [==============================] - 22s 5s/step - loss: 0.4590 - accuracy: 0.6950 - val_loss: 0.7783 - val_accuracy: 0.5080\n",
            "Epoch 19/100\n",
            "4/4 [==============================] - ETA: 0s - loss: 0.5206 - accuracy: 0.6325\n",
            "Epoch 00019: val_accuracy did not improve from 0.54800\n",
            "4/4 [==============================] - 22s 5s/step - loss: 0.5206 - accuracy: 0.6325 - val_loss: 0.6906 - val_accuracy: 0.5000\n",
            "Epoch 20/100\n",
            "4/4 [==============================] - ETA: 0s - loss: 0.4924 - accuracy: 0.6475\n",
            "Epoch 00020: val_accuracy did not improve from 0.54800\n",
            "4/4 [==============================] - 22s 5s/step - loss: 0.4924 - accuracy: 0.6475 - val_loss: 0.6094 - val_accuracy: 0.5040\n",
            "Epoch 21/100\n",
            "4/4 [==============================] - ETA: 0s - loss: 0.4507 - accuracy: 0.6800\n",
            "Epoch 00021: val_accuracy did not improve from 0.54800\n",
            "4/4 [==============================] - 22s 5s/step - loss: 0.4507 - accuracy: 0.6800 - val_loss: 0.6236 - val_accuracy: 0.5160\n",
            "Epoch 22/100\n",
            "4/4 [==============================] - ETA: 0s - loss: 0.4415 - accuracy: 0.6725\n",
            "Epoch 00022: val_accuracy did not improve from 0.54800\n",
            "4/4 [==============================] - 21s 5s/step - loss: 0.4415 - accuracy: 0.6725 - val_loss: 0.7149 - val_accuracy: 0.5280\n",
            "Epoch 23/100\n",
            "4/4 [==============================] - ETA: 0s - loss: 0.4586 - accuracy: 0.6850\n",
            "Epoch 00023: val_accuracy did not improve from 0.54800\n",
            "4/4 [==============================] - 21s 5s/step - loss: 0.4586 - accuracy: 0.6850 - val_loss: 0.7118 - val_accuracy: 0.5080\n",
            "Epoch 24/100\n",
            "4/4 [==============================] - ETA: 0s - loss: 0.4281 - accuracy: 0.6700\n",
            "Epoch 00024: val_accuracy did not improve from 0.54800\n",
            "4/4 [==============================] - 21s 5s/step - loss: 0.4281 - accuracy: 0.6700 - val_loss: 0.6988 - val_accuracy: 0.4800\n",
            "Epoch 25/100\n",
            "4/4 [==============================] - ETA: 0s - loss: 0.4020 - accuracy: 0.7100\n",
            "Epoch 00025: val_accuracy did not improve from 0.54800\n",
            "4/4 [==============================] - 21s 5s/step - loss: 0.4020 - accuracy: 0.7100 - val_loss: 0.7124 - val_accuracy: 0.5280\n",
            "Epoch 26/100\n",
            "4/4 [==============================] - ETA: 0s - loss: 0.4556 - accuracy: 0.6700\n",
            "Epoch 00026: val_accuracy did not improve from 0.54800\n",
            "4/4 [==============================] - 21s 5s/step - loss: 0.4556 - accuracy: 0.6700 - val_loss: 0.7573 - val_accuracy: 0.5120\n",
            "Epoch 00026: early stopping\n"
          ]
        }
      ]
    },
    {
      "cell_type": "code",
      "metadata": {
        "colab": {
          "base_uri": "https://localhost:8080/"
        },
        "id": "Av9oGM3d7wzs",
        "outputId": "57f25acc-d618-42d8-c21a-c223b90a7855"
      },
      "source": [
        "model.evaluate(X_test,y_test,verbose=1)"
      ],
      "execution_count": 145,
      "outputs": [
        {
          "output_type": "stream",
          "name": "stdout",
          "text": [
            "8/8 [==============================] - 4s 499ms/step - loss: 0.7573 - accuracy: 0.5120\n"
          ]
        },
        {
          "output_type": "execute_result",
          "data": {
            "text/plain": [
              "[0.7573044300079346, 0.5120000243186951]"
            ]
          },
          "metadata": {},
          "execution_count": 145
        }
      ]
    },
    {
      "cell_type": "code",
      "metadata": {
        "colab": {
          "base_uri": "https://localhost:8080/",
          "height": 573
        },
        "id": "2RXgZ8067wvh",
        "outputId": "a23a84a6-9d8c-4ff0-c3ce-3c211cc7ee05"
      },
      "source": [
        "plt.plot(history.history['accuracy'])\n",
        "plt.plot(history.history['val_accuracy'])\n",
        "plt.title('model accuracy')\n",
        "plt.ylabel('accuracy')\n",
        "plt.xlabel('epoch')\n",
        "plt.legend(['train', 'validation'], loc='upper left')\n",
        "plt.show()\n",
        "# Plot of loss in each epoch\n",
        "plt.plot(history.history['loss'])\n",
        "plt.plot(history.history['val_loss'])\n",
        "plt.title('model loss')\n",
        "plt.ylabel('loss')\n",
        "plt.xlabel('epoch')\n",
        "plt.legend(['train', 'validation'], loc='upper left')\n",
        "plt.show()\n"
      ],
      "execution_count": 144,
      "outputs": [
        {
          "output_type": "display_data",
          "data": {
            "image/png": "[encoded data removed]",
            "text/plain": [
              "<Figure size 432x288 with 1 Axes>"
            ]
          },
          "metadata": {
            "needs_background": "light"
          }
        },
        {
          "output_type": "display_data",
          "data": {
            "image/png": "[encoded data removed]",
            "text/plain": [
              "<Figure size 432x288 with 1 Axes>"
            ]
          },
          "metadata": {
            "needs_background": "light"
          }
        }
      ]
    },
    {
      "cell_type": "markdown",
      "metadata": {
        "id": "iCAtJSIS6fBx"
      },
      "source": [
        "# Model_4 "
      ]
    },
    {
      "cell_type": "markdown",
      "metadata": {
        "id": "_aZYspFt6o-E"
      },
      "source": [
        "code de self attention"
      ]
    },
    {
      "cell_type": "code",
      "metadata": {
        "id": "4WIoxuMi6exK"
      },
      "source": [
        "class Attention(Layer):\n",
        "    def __init__(self, step_dim,\n",
        "                 W_regularizer=None, b_regularizer=None,\n",
        "                 W_constraint=None, b_constraint=None,\n",
        "                 bias=True, **kwargs):\n",
        "        \n",
        "        self.supports_masking = True\n",
        "        #self.init = initializations.get('glorot_uniform')\n",
        "        self.init = initializers.get('glorot_uniform')\n",
        "\n",
        "        self.W_regularizer = regularizers.get(W_regularizer)\n",
        "        self.b_regularizer = regularizers.get(b_regularizer)\n",
        "\n",
        "        self.W_constraint = constraints.get(W_constraint)\n",
        "        self.b_constraint = constraints.get(b_constraint)\n",
        "\n",
        "        self.bias = bias\n",
        "        self.step_dim = step_dim\n",
        "        self.features_dim = 0\n",
        "        super(Attention, self).__init__(**kwargs)\n",
        "\n",
        "    def build(self, input_shape):\n",
        "        assert len(input_shape) == 3\n",
        "\n",
        "       # self.w = self.add_weight(name='attention_weigth',shape=(input_shape[-1],1), initializer='normal')            \n",
        "       #self.b = self.add_weight(name='attention_bias',shape=(input_shape[-2],1), initializer='zero')\n",
        "        \n",
        "        self.W = self.add_weight(name='{}_W'.format(self.name),\n",
        "                                shape= (input_shape[-1],),\n",
        "                                 initializer=self.init,\n",
        "                                 regularizer=self.W_regularizer,\n",
        "                                 constraint=self.W_constraint)\n",
        "        self.features_dim = input_shape[-1]\n",
        "\n",
        "        if self.bias:\n",
        "            self.b = self.add_weight(name='{}_b'.format(self.name),\n",
        "                                      shape=(input_shape[1],),\n",
        "                                     initializer='zero',\n",
        "                                     regularizer=self.b_regularizer,\n",
        "                                     constraint=self.b_constraint)\n",
        "        else:\n",
        "            self.b = None\n",
        "\n",
        "        self.built = True\n",
        "\n",
        "    def compute_mask(self, input, input_mask=None):\n",
        "        # do not pass the mask to the next layers\n",
        "        return None\n",
        "\n",
        "    def call(self, x, mask=None):\n",
        "        # eij = K.dot(x, self.W) TF backend doesn't support it\n",
        "\n",
        "        # features_dim = self.W.shape[0]\n",
        "        # step_dim = x._keras_shape[1]\n",
        "\n",
        "        features_dim = self.features_dim\n",
        "        step_dim = self.step_dim\n",
        "\n",
        "        eij = K.reshape(K.dot(K.reshape(x, (-1, features_dim)), K.reshape(self.W, (features_dim, 1))), (-1, step_dim))\n",
        "\n",
        "        if self.bias:\n",
        "            eij += self.b\n",
        "\n",
        "        eij = K.tanh(eij)\n",
        "\n",
        "        a = K.exp(eij)\n",
        "\n",
        "        # apply mask after the exp. will be re-normalized next\n",
        "        if mask is not None:\n",
        "            # Cast the mask to floatX to avoid float64 upcasting in theano\n",
        "            a *= K.cast(mask, K.floatx())\n",
        "\n",
        "        # in some cases especially in the early stages of training the sum may be almost zero\n",
        "        a /= K.cast(K.sum(a, axis=1, keepdims=True) + K.epsilon(), K.floatx())\n",
        "\n",
        "        a = K.expand_dims(a)\n",
        "        weighted_input = x * a\n",
        "    #print weigthted_input.shape\n",
        "        return K.sum(weighted_input, axis=1)\n",
        "\n",
        "    def compute_output_shape(self, input_shape):\n",
        "        #return input_shape[0], input_shape[-1]\n",
        "        return input_shape[0],  self.features_dim\n",
        "\n",
        "    def get_config(self):\n",
        "\n",
        "        config = super().get_config().copy()\n",
        "        config.update({\n",
        "            'vocab_size':   self.W_regularizer,\n",
        "            'num_layers': self.step_dim,\n",
        "            'units': self.b_regularizer,\n",
        "            'd_model': self.W_constraint,\n",
        "            'num_heads': self.b_constraint,\n",
        "        })\n",
        "        return config\n"
      ],
      "execution_count": 176,
      "outputs": []
    },
    {
      "cell_type": "code",
      "metadata": {
        "colab": {
          "base_uri": "https://localhost:8080/"
        },
        "id": "dDuXCC066eoQ",
        "outputId": "a2be9d2d-7332-4f18-ab20-3d14ccab427a"
      },
      "source": [
        "MODEL_FILE_PATH = '/content/drive/MyDrive/ModelTest2'\n",
        "MODEL_FILE_NAME = 'Mode_4.h5'\n",
        "\n",
        "input_comment = Input(shape = (MAX_LENGTH,), dtype = 'int32')\n",
        "embedding_layer = Embedding(vocab_size, 100, weights = [embedding_matrix], input_length = MAX_LENGTH, trainable = False)\n",
        "\n",
        "embedded_sequence = embedding_layer(input_comment)\n",
        "x = Bidirectional(LSTM(300, dropout = 0.25, return_sequences = True)) (embedded_sequence)\n",
        "\n",
        "merged = Attention(MAX_LENGTH)(x)\n",
        "merged = Dense(1024, activation='relu')(merged)\n",
        "merged = Dropout(0.25)(merged)\n",
        "merged = Dense(64, activation='relu')(merged)\n",
        "merged = Dropout(0.25)(merged)\n",
        "merged = Dense(32, activation='relu')(merged)\n",
        "merged = Dropout(0.25)(merged)\n",
        "#merged = BatchNormalization()(merged)\n",
        "preds = Dense(3, activation='softmax')(merged)\n",
        "model = Model(inputs=[input_comment], outputs=preds)\n",
        "    \n",
        "    \n",
        "early_stopping = EarlyStopping(monitor='val_loss', mode='min', verbose=1, patience=5)\n",
        "\n",
        "save_best = ModelCheckpoint(os.path.join(MODEL_FILE_PATH,MODEL_FILE_NAME), \n",
        "                     monitor='val_accuracy', \n",
        "                     mode='max', \n",
        "                     verbose=1, \n",
        "                     save_best_only=True) \n",
        "\n",
        "\n",
        "model.compile(loss='binary_crossentropy',\n",
        "        optimizer=Adam(learning_rate=0.0001),\n",
        "        metrics=['accuracy',f1_m,precision_m, recall_m])\n",
        "print(model.summary())\n",
        "\n",
        "\n",
        "\n",
        "history = model.fit(\n",
        "    X_train,\n",
        "    y_train, \n",
        "    batch_size = 128, \n",
        "    epochs = 100,\n",
        "    validation_data = (X_test,y_test), \n",
        "    callbacks=[early_stopping, save_best]\n",
        ")"
      ],
      "execution_count": 178,
      "outputs": [
        {
          "output_type": "stream",
          "name": "stdout",
          "text": [
            "Model: \"model_124\"\n",
            "_________________________________________________________________\n",
            " Layer (type)                Output Shape              Param #   \n",
            "=================================================================\n",
            " input_143 (InputLayer)      [(None, 100)]             0         \n",
            "                                                                 \n",
            " embedding_63 (Embedding)    (None, 100, 100)          2281400   \n",
            "                                                                 \n",
            " bidirectional_68 (Bidirecti  (None, 100, 600)         962400    \n",
            " onal)                                                           \n",
            "                                                                 \n",
            " attention_3 (Attention)     (None, 600)               700       \n",
            "                                                                 \n",
            " dense_324 (Dense)           (None, 1024)              615424    \n",
            "                                                                 \n",
            " dropout_107 (Dropout)       (None, 1024)              0         \n",
            "                                                                 \n",
            " dense_325 (Dense)           (None, 64)                65600     \n",
            "                                                                 \n",
            " dropout_108 (Dropout)       (None, 64)                0         \n",
            "                                                                 \n",
            " dense_326 (Dense)           (None, 32)                2080      \n",
            "                                                                 \n",
            " dropout_109 (Dropout)       (None, 32)                0         \n",
            "                                                                 \n",
            " dense_327 (Dense)           (None, 3)                 99        \n",
            "                                                                 \n",
            "=================================================================\n",
            "Total params: 3,927,703\n",
            "Trainable params: 1,646,303\n",
            "Non-trainable params: 2,281,400\n",
            "_________________________________________________________________\n",
            "None\n",
            "Epoch 1/100\n",
            "4/4 [==============================] - ETA: 0s - loss: 0.6925 - accuracy: 0.3100 - f1_m: 0.0000e+00 - precision_m: 0.0000e+00 - recall_m: 0.0000e+00\n",
            "Epoch 00001: val_accuracy improved from -inf to 0.35200, saving model to /content/drive/MyDrive/ModelTest2/Mode_4.h5\n",
            "4/4 [==============================] - 14s 3s/step - loss: 0.6925 - accuracy: 0.3100 - f1_m: 0.0000e+00 - precision_m: 0.0000e+00 - recall_m: 0.0000e+00 - val_loss: 0.6906 - val_accuracy: 0.3520 - val_f1_m: 0.0000e+00 - val_precision_m: 0.0000e+00 - val_recall_m: 0.0000e+00\n",
            "Epoch 2/100\n",
            "4/4 [==============================] - ETA: 0s - loss: 0.6898 - accuracy: 0.4275 - f1_m: 0.0000e+00 - precision_m: 0.0000e+00 - recall_m: 0.0000e+00\n",
            "Epoch 00002: val_accuracy improved from 0.35200 to 0.36400, saving model to /content/drive/MyDrive/ModelTest2/Mode_4.h5\n",
            "4/4 [==============================] - 9s 2s/step - loss: 0.6898 - accuracy: 0.4275 - f1_m: 0.0000e+00 - precision_m: 0.0000e+00 - recall_m: 0.0000e+00 - val_loss: 0.6875 - val_accuracy: 0.3640 - val_f1_m: 0.0000e+00 - val_precision_m: 0.0000e+00 - val_recall_m: 0.0000e+00\n",
            "Epoch 3/100\n",
            "4/4 [==============================] - ETA: 0s - loss: 0.6869 - accuracy: 0.4200 - f1_m: 0.0000e+00 - precision_m: 0.0000e+00 - recall_m: 0.0000e+00\n",
            "Epoch 00003: val_accuracy improved from 0.36400 to 0.40000, saving model to /content/drive/MyDrive/ModelTest2/Mode_4.h5\n",
            "4/4 [==============================] - 8s 2s/step - loss: 0.6869 - accuracy: 0.4200 - f1_m: 0.0000e+00 - precision_m: 0.0000e+00 - recall_m: 0.0000e+00 - val_loss: 0.6835 - val_accuracy: 0.4000 - val_f1_m: 0.0000e+00 - val_precision_m: 0.0000e+00 - val_recall_m: 0.0000e+00\n",
            "Epoch 4/100\n",
            "4/4 [==============================] - ETA: 0s - loss: 0.6826 - accuracy: 0.4150 - f1_m: 0.0000e+00 - precision_m: 0.0000e+00 - recall_m: 0.0000e+00\n",
            "Epoch 00004: val_accuracy did not improve from 0.40000\n",
            "4/4 [==============================] - 8s 2s/step - loss: 0.6826 - accuracy: 0.4150 - f1_m: 0.0000e+00 - precision_m: 0.0000e+00 - recall_m: 0.0000e+00 - val_loss: 0.6783 - val_accuracy: 0.3800 - val_f1_m: 0.0000e+00 - val_precision_m: 0.0000e+00 - val_recall_m: 0.0000e+00\n",
            "Epoch 5/100\n",
            "4/4 [==============================] - ETA: 0s - loss: 0.6775 - accuracy: 0.4200 - f1_m: 0.0000e+00 - precision_m: 0.0000e+00 - recall_m: 0.0000e+00\n",
            "Epoch 00005: val_accuracy did not improve from 0.40000\n",
            "4/4 [==============================] - 8s 2s/step - loss: 0.6775 - accuracy: 0.4200 - f1_m: 0.0000e+00 - precision_m: 0.0000e+00 - recall_m: 0.0000e+00 - val_loss: 0.6712 - val_accuracy: 0.3920 - val_f1_m: 0.0000e+00 - val_precision_m: 0.0000e+00 - val_recall_m: 0.0000e+00\n",
            "Epoch 6/100\n",
            "4/4 [==============================] - ETA: 0s - loss: 0.6716 - accuracy: 0.4200 - f1_m: 0.0000e+00 - precision_m: 0.0000e+00 - recall_m: 0.0000e+00\n",
            "Epoch 00006: val_accuracy did not improve from 0.40000\n",
            "4/4 [==============================] - 8s 2s/step - loss: 0.6716 - accuracy: 0.4200 - f1_m: 0.0000e+00 - precision_m: 0.0000e+00 - recall_m: 0.0000e+00 - val_loss: 0.6614 - val_accuracy: 0.3800 - val_f1_m: 0.0000e+00 - val_precision_m: 0.0000e+00 - val_recall_m: 0.0000e+00\n",
            "Epoch 7/100\n",
            "4/4 [==============================] - ETA: 0s - loss: 0.6625 - accuracy: 0.4200 - f1_m: 0.0000e+00 - precision_m: 0.0000e+00 - recall_m: 0.0000e+00\n",
            "Epoch 00007: val_accuracy improved from 0.40000 to 0.51200, saving model to /content/drive/MyDrive/ModelTest2/Mode_4.h5\n",
            "4/4 [==============================] - 8s 2s/step - loss: 0.6625 - accuracy: 0.4200 - f1_m: 0.0000e+00 - precision_m: 0.0000e+00 - recall_m: 0.0000e+00 - val_loss: 0.6475 - val_accuracy: 0.5120 - val_f1_m: 0.0000e+00 - val_precision_m: 0.0000e+00 - val_recall_m: 0.0000e+00\n",
            "Epoch 8/100\n",
            "4/4 [==============================] - ETA: 0s - loss: 0.6503 - accuracy: 0.4050 - f1_m: 0.0154 - precision_m: 0.5833 - recall_m: 0.0078\n",
            "Epoch 00008: val_accuracy did not improve from 0.51200\n",
            "4/4 [==============================] - 8s 2s/step - loss: 0.6503 - accuracy: 0.4050 - f1_m: 0.0154 - precision_m: 0.5833 - recall_m: 0.0078 - val_loss: 0.6291 - val_accuracy: 0.4880 - val_f1_m: 0.0000e+00 - val_precision_m: 0.0000e+00 - val_recall_m: 0.0000e+00\n",
            "Epoch 9/100\n",
            "4/4 [==============================] - ETA: 0s - loss: 0.6358 - accuracy: 0.4225 - f1_m: 0.1005 - precision_m: 0.3659 - recall_m: 0.0625\n",
            "Epoch 00009: val_accuracy did not improve from 0.51200\n",
            "4/4 [==============================] - 8s 2s/step - loss: 0.6358 - accuracy: 0.4225 - f1_m: 0.1005 - precision_m: 0.3659 - recall_m: 0.0625 - val_loss: 0.6094 - val_accuracy: 0.4880 - val_f1_m: 0.0000e+00 - val_precision_m: 0.0000e+00 - val_recall_m: 0.0000e+00\n",
            "Epoch 10/100\n",
            "4/4 [==============================] - ETA: 0s - loss: 0.6243 - accuracy: 0.4175 - f1_m: 0.2092 - precision_m: 0.3822 - recall_m: 0.1484\n",
            "Epoch 00010: val_accuracy did not improve from 0.51200\n",
            "4/4 [==============================] - 8s 2s/step - loss: 0.6243 - accuracy: 0.4175 - f1_m: 0.2092 - precision_m: 0.3822 - recall_m: 0.1484 - val_loss: 0.6057 - val_accuracy: 0.4880 - val_f1_m: 0.0078 - val_precision_m: 0.5000 - val_recall_m: 0.0039\n",
            "Epoch 11/100\n",
            "4/4 [==============================] - ETA: 0s - loss: 0.6216 - accuracy: 0.4300 - f1_m: 0.2424 - precision_m: 0.4014 - recall_m: 0.1738\n",
            "Epoch 00011: val_accuracy did not improve from 0.51200\n",
            "4/4 [==============================] - 8s 2s/step - loss: 0.6216 - accuracy: 0.4300 - f1_m: 0.2424 - precision_m: 0.4014 - recall_m: 0.1738 - val_loss: 0.6046 - val_accuracy: 0.4880 - val_f1_m: 0.0078 - val_precision_m: 0.5000 - val_recall_m: 0.0039\n",
            "Epoch 12/100\n",
            "4/4 [==============================] - ETA: 0s - loss: 0.6161 - accuracy: 0.3975 - f1_m: 0.1851 - precision_m: 0.3960 - recall_m: 0.1211\n",
            "Epoch 00012: val_accuracy did not improve from 0.51200\n",
            "4/4 [==============================] - 8s 2s/step - loss: 0.6161 - accuracy: 0.3975 - f1_m: 0.1851 - precision_m: 0.3960 - recall_m: 0.1211 - val_loss: 0.6061 - val_accuracy: 0.4880 - val_f1_m: 0.0158 - val_precision_m: 0.7500 - val_recall_m: 0.0080\n",
            "Epoch 13/100\n",
            "4/4 [==============================] - ETA: 0s - loss: 0.6207 - accuracy: 0.4350 - f1_m: 0.2262 - precision_m: 0.4795 - recall_m: 0.1504\n",
            "Epoch 00013: val_accuracy did not improve from 0.51200\n",
            "4/4 [==============================] - 8s 2s/step - loss: 0.6207 - accuracy: 0.4350 - f1_m: 0.2262 - precision_m: 0.4795 - recall_m: 0.1504 - val_loss: 0.6053 - val_accuracy: 0.4880 - val_f1_m: 0.0158 - val_precision_m: 0.7500 - val_recall_m: 0.0080\n",
            "Epoch 14/100\n",
            "4/4 [==============================] - ETA: 0s - loss: 0.6197 - accuracy: 0.4225 - f1_m: 0.1688 - precision_m: 0.5130 - recall_m: 0.1035\n",
            "Epoch 00014: val_accuracy did not improve from 0.51200\n",
            "4/4 [==============================] - 8s 2s/step - loss: 0.6197 - accuracy: 0.4225 - f1_m: 0.1688 - precision_m: 0.5130 - recall_m: 0.1035 - val_loss: 0.6029 - val_accuracy: 0.4880 - val_f1_m: 0.0761 - val_precision_m: 0.7738 - val_recall_m: 0.0400\n",
            "Epoch 15/100\n",
            "4/4 [==============================] - ETA: 0s - loss: 0.6185 - accuracy: 0.4300 - f1_m: 0.2450 - precision_m: 0.5031 - recall_m: 0.1621\n",
            "Epoch 00015: val_accuracy did not improve from 0.51200\n",
            "4/4 [==============================] - 8s 2s/step - loss: 0.6185 - accuracy: 0.4300 - f1_m: 0.2450 - precision_m: 0.5031 - recall_m: 0.1621 - val_loss: 0.5995 - val_accuracy: 0.4880 - val_f1_m: 0.2127 - val_precision_m: 0.5486 - val_recall_m: 0.1326\n",
            "Epoch 16/100\n",
            "4/4 [==============================] - ETA: 0s - loss: 0.6183 - accuracy: 0.4375 - f1_m: 0.2492 - precision_m: 0.4075 - recall_m: 0.1816\n",
            "Epoch 00016: val_accuracy did not improve from 0.51200\n",
            "4/4 [==============================] - 8s 2s/step - loss: 0.6183 - accuracy: 0.4375 - f1_m: 0.2492 - precision_m: 0.4075 - recall_m: 0.1816 - val_loss: 0.5975 - val_accuracy: 0.4880 - val_f1_m: 0.3946 - val_precision_m: 0.4769 - val_recall_m: 0.3375\n",
            "Epoch 17/100\n",
            "4/4 [==============================] - ETA: 0s - loss: 0.6176 - accuracy: 0.4350 - f1_m: 0.3396 - precision_m: 0.4670 - recall_m: 0.2676\n",
            "Epoch 00017: val_accuracy did not improve from 0.51200\n",
            "4/4 [==============================] - 8s 2s/step - loss: 0.6176 - accuracy: 0.4350 - f1_m: 0.3396 - precision_m: 0.4670 - recall_m: 0.2676 - val_loss: 0.5973 - val_accuracy: 0.4880 - val_f1_m: 0.3592 - val_precision_m: 0.4751 - val_recall_m: 0.2891\n",
            "Epoch 18/100\n",
            "4/4 [==============================] - ETA: 0s - loss: 0.6116 - accuracy: 0.4650 - f1_m: 0.3385 - precision_m: 0.4661 - recall_m: 0.2676\n",
            "Epoch 00018: val_accuracy did not improve from 0.51200\n",
            "4/4 [==============================] - 8s 2s/step - loss: 0.6116 - accuracy: 0.4650 - f1_m: 0.3385 - precision_m: 0.4661 - recall_m: 0.2676 - val_loss: 0.5982 - val_accuracy: 0.4880 - val_f1_m: 0.2407 - val_precision_m: 0.4814 - val_recall_m: 0.1605\n",
            "Epoch 19/100\n",
            "4/4 [==============================] - ETA: 0s - loss: 0.6127 - accuracy: 0.4200 - f1_m: 0.2754 - precision_m: 0.4609 - recall_m: 0.1973\n",
            "Epoch 00019: val_accuracy did not improve from 0.51200\n",
            "4/4 [==============================] - 8s 2s/step - loss: 0.6127 - accuracy: 0.4200 - f1_m: 0.2754 - precision_m: 0.4609 - recall_m: 0.1973 - val_loss: 0.6001 - val_accuracy: 0.4880 - val_f1_m: 0.0389 - val_precision_m: 0.8333 - val_recall_m: 0.0199\n",
            "Epoch 20/100\n",
            "4/4 [==============================] - ETA: 0s - loss: 0.6178 - accuracy: 0.4200 - f1_m: 0.2472 - precision_m: 0.4121 - recall_m: 0.1777\n",
            "Epoch 00020: val_accuracy did not improve from 0.51200\n",
            "4/4 [==============================] - 8s 2s/step - loss: 0.6178 - accuracy: 0.4200 - f1_m: 0.2472 - precision_m: 0.4121 - recall_m: 0.1777 - val_loss: 0.5996 - val_accuracy: 0.4960 - val_f1_m: 0.0159 - val_precision_m: 1.0000 - val_recall_m: 0.0080\n",
            "Epoch 21/100\n",
            "4/4 [==============================] - ETA: 0s - loss: 0.6103 - accuracy: 0.4550 - f1_m: 0.2518 - precision_m: 0.4268 - recall_m: 0.1797\n",
            "Epoch 00021: val_accuracy did not improve from 0.51200\n",
            "4/4 [==============================] - 8s 2s/step - loss: 0.6103 - accuracy: 0.4550 - f1_m: 0.2518 - precision_m: 0.4268 - recall_m: 0.1797 - val_loss: 0.5977 - val_accuracy: 0.4920 - val_f1_m: 0.0541 - val_precision_m: 0.8750 - val_recall_m: 0.0279\n",
            "Epoch 22/100\n",
            "4/4 [==============================] - ETA: 0s - loss: 0.6074 - accuracy: 0.4475 - f1_m: 0.3535 - precision_m: 0.5051 - recall_m: 0.2734\n",
            "Epoch 00022: val_accuracy did not improve from 0.51200\n",
            "4/4 [==============================] - 8s 2s/step - loss: 0.6074 - accuracy: 0.4475 - f1_m: 0.3535 - precision_m: 0.5051 - recall_m: 0.2734 - val_loss: 0.5967 - val_accuracy: 0.4880 - val_f1_m: 0.4560 - val_precision_m: 0.5156 - val_recall_m: 0.4096\n",
            "Epoch 23/100\n",
            "4/4 [==============================] - ETA: 0s - loss: 0.6121 - accuracy: 0.4425 - f1_m: 0.3522 - precision_m: 0.4427 - recall_m: 0.2930\n",
            "Epoch 00023: val_accuracy did not improve from 0.51200\n",
            "4/4 [==============================] - 8s 2s/step - loss: 0.6121 - accuracy: 0.4425 - f1_m: 0.3522 - precision_m: 0.4427 - recall_m: 0.2930 - val_loss: 0.5967 - val_accuracy: 0.4920 - val_f1_m: 0.1301 - val_precision_m: 0.6667 - val_recall_m: 0.0722\n",
            "Epoch 24/100\n",
            "4/4 [==============================] - ETA: 0s - loss: 0.6093 - accuracy: 0.4675 - f1_m: 0.3354 - precision_m: 0.4745 - recall_m: 0.2598\n",
            "Epoch 00024: val_accuracy did not improve from 0.51200\n",
            "4/4 [==============================] - 8s 2s/step - loss: 0.6093 - accuracy: 0.4675 - f1_m: 0.3354 - precision_m: 0.4745 - recall_m: 0.2598 - val_loss: 0.5995 - val_accuracy: 0.5040 - val_f1_m: 0.0158 - val_precision_m: 0.7500 - val_recall_m: 0.0080\n",
            "Epoch 25/100\n",
            "4/4 [==============================] - ETA: 0s - loss: 0.6149 - accuracy: 0.4425 - f1_m: 0.2191 - precision_m: 0.4205 - recall_m: 0.1484\n",
            "Epoch 00025: val_accuracy did not improve from 0.51200\n",
            "4/4 [==============================] - 8s 2s/step - loss: 0.6149 - accuracy: 0.4425 - f1_m: 0.2191 - precision_m: 0.4205 - recall_m: 0.1484 - val_loss: 0.6029 - val_accuracy: 0.4880 - val_f1_m: 0.0159 - val_precision_m: 1.0000 - val_recall_m: 0.0080\n",
            "Epoch 26/100\n",
            "4/4 [==============================] - ETA: 0s - loss: 0.6056 - accuracy: 0.4550 - f1_m: 0.2305 - precision_m: 0.5177 - recall_m: 0.1523\n",
            "Epoch 00026: val_accuracy did not improve from 0.51200\n",
            "4/4 [==============================] - 8s 2s/step - loss: 0.6056 - accuracy: 0.4550 - f1_m: 0.2305 - precision_m: 0.5177 - recall_m: 0.1523 - val_loss: 0.6003 - val_accuracy: 0.5080 - val_f1_m: 0.0158 - val_precision_m: 0.7500 - val_recall_m: 0.0080\n",
            "Epoch 27/100\n",
            "4/4 [==============================] - ETA: 0s - loss: 0.6066 - accuracy: 0.4475 - f1_m: 0.2904 - precision_m: 0.4493 - recall_m: 0.2148\n",
            "Epoch 00027: val_accuracy did not improve from 0.51200\n",
            "4/4 [==============================] - 8s 2s/step - loss: 0.6066 - accuracy: 0.4475 - f1_m: 0.2904 - precision_m: 0.4493 - recall_m: 0.2148 - val_loss: 0.5942 - val_accuracy: 0.4920 - val_f1_m: 0.4698 - val_precision_m: 0.5132 - val_recall_m: 0.4336\n",
            "Epoch 28/100\n",
            "4/4 [==============================] - ETA: 0s - loss: 0.6052 - accuracy: 0.4425 - f1_m: 0.3647 - precision_m: 0.5069 - recall_m: 0.2871\n",
            "Epoch 00028: val_accuracy did not improve from 0.51200\n",
            "4/4 [==============================] - 8s 2s/step - loss: 0.6052 - accuracy: 0.4425 - f1_m: 0.3647 - precision_m: 0.5069 - recall_m: 0.2871 - val_loss: 0.5932 - val_accuracy: 0.4920 - val_f1_m: 0.4715 - val_precision_m: 0.5115 - val_recall_m: 0.4375\n",
            "Epoch 29/100\n",
            "4/4 [==============================] - ETA: 0s - loss: 0.6099 - accuracy: 0.4525 - f1_m: 0.3500 - precision_m: 0.4508 - recall_m: 0.2871\n",
            "Epoch 00029: val_accuracy did not improve from 0.51200\n",
            "4/4 [==============================] - 8s 2s/step - loss: 0.6099 - accuracy: 0.4525 - f1_m: 0.3500 - precision_m: 0.4508 - recall_m: 0.2871 - val_loss: 0.5949 - val_accuracy: 0.4960 - val_f1_m: 0.3062 - val_precision_m: 0.5869 - val_recall_m: 0.2087\n",
            "Epoch 30/100\n",
            "4/4 [==============================] - ETA: 0s - loss: 0.6006 - accuracy: 0.4725 - f1_m: 0.2876 - precision_m: 0.4523 - recall_m: 0.2109\n",
            "Epoch 00030: val_accuracy did not improve from 0.51200\n",
            "4/4 [==============================] - 8s 2s/step - loss: 0.6006 - accuracy: 0.4725 - f1_m: 0.2876 - precision_m: 0.4523 - recall_m: 0.2109 - val_loss: 0.5978 - val_accuracy: 0.4760 - val_f1_m: 0.0381 - val_precision_m: 0.3875 - val_recall_m: 0.0201\n",
            "Epoch 31/100\n",
            "4/4 [==============================] - ETA: 0s - loss: 0.6050 - accuracy: 0.4650 - f1_m: 0.2350 - precision_m: 0.4607 - recall_m: 0.1582\n",
            "Epoch 00031: val_accuracy did not improve from 0.51200\n",
            "4/4 [==============================] - 8s 2s/step - loss: 0.6050 - accuracy: 0.4650 - f1_m: 0.2350 - precision_m: 0.4607 - recall_m: 0.1582 - val_loss: 0.6015 - val_accuracy: 0.4560 - val_f1_m: 0.0797 - val_precision_m: 0.4510 - val_recall_m: 0.0437\n",
            "Epoch 32/100\n",
            "4/4 [==============================] - ETA: 0s - loss: 0.6141 - accuracy: 0.4350 - f1_m: 0.2094 - precision_m: 0.3991 - recall_m: 0.1426\n",
            "Epoch 00032: val_accuracy did not improve from 0.51200\n",
            "4/4 [==============================] - 8s 2s/step - loss: 0.6141 - accuracy: 0.4350 - f1_m: 0.2094 - precision_m: 0.3991 - recall_m: 0.1426 - val_loss: 0.6037 - val_accuracy: 0.4040 - val_f1_m: 0.1633 - val_precision_m: 0.4464 - val_recall_m: 0.1000\n",
            "Epoch 33/100\n",
            "4/4 [==============================] - ETA: 0s - loss: 0.6076 - accuracy: 0.4650 - f1_m: 0.3249 - precision_m: 0.5632 - recall_m: 0.2305\n",
            "Epoch 00033: val_accuracy did not improve from 0.51200\n",
            "4/4 [==============================] - 8s 2s/step - loss: 0.6076 - accuracy: 0.4650 - f1_m: 0.3249 - precision_m: 0.5632 - recall_m: 0.2305 - val_loss: 0.6100 - val_accuracy: 0.3800 - val_f1_m: 0.2498 - val_precision_m: 0.3917 - val_recall_m: 0.1833\n",
            "Epoch 00033: early stopping\n"
          ]
        }
      ]
    },
    {
      "cell_type": "code",
      "metadata": {
        "colab": {
          "base_uri": "https://localhost:8080/",
          "height": 850
        },
        "id": "puLKqf6k6edP",
        "outputId": "1c8f5152-34e8-4df4-82e9-721f3e473cf4"
      },
      "source": [
        "plt.plot(history.history['accuracy'])\n",
        "plt.plot(history.history['val_accuracy'])\n",
        "plt.title('model accuracy')\n",
        "plt.ylabel('accuracy')\n",
        "plt.xlabel('epoch')\n",
        "plt.legend(['train', 'validation'], loc='upper left')\n",
        "plt.show()\n",
        "# Plot of loss in each epoch\n",
        "plt.plot(history.history['loss'])\n",
        "plt.plot(history.history['val_loss'])\n",
        "plt.title('model loss')\n",
        "plt.ylabel('loss')\n",
        "plt.xlabel('epoch')\n",
        "plt.legend(['train', 'validation'], loc='upper left')\n",
        "plt.show()\n",
        "\n",
        "plt.plot(history.history['f1_m'])\n",
        "plt.plot(history.history['val_f1_m'])\n",
        "\n",
        "plt.title('model F1_score')\n",
        "plt.ylabel('f1_m')\n",
        "plt.xlabel('epoch')\n",
        "plt.legend(['train','test'], loc='upper left')\n",
        "plt.show()\n"
      ],
      "execution_count": 179,
      "outputs": [
        {
          "output_type": "display_data",
          "data": {
            "image/png": "[encoded data removed]",
            "text/plain": [
              "<Figure size 432x288 with 1 Axes>"
            ]
          },
          "metadata": {
            "needs_background": "light"
          }
        },
        {
          "output_type": "display_data",
          "data": {
            "image/png": "[encoded data removed]",
            "text/plain": [
              "<Figure size 432x288 with 1 Axes>"
            ]
          },
          "metadata": {
            "needs_background": "light"
          }
        },
        {
          "output_type": "display_data",
          "data": {
            "image/png": "[encoded data removed]",
            "text/plain": [
              "<Figure size 432x288 with 1 Axes>"
            ]
          },
          "metadata": {
            "needs_background": "light"
          }
        }
      ]
    },
    {
      "cell_type": "code",
      "metadata": {
        "colab": {
          "base_uri": "https://localhost:8080/"
        },
        "id": "I9YLr5eK7wsV",
        "outputId": "0c2dfd6f-3af4-46b9-9b4d-16190a40102b"
      },
      "source": [
        "model.evaluate(X_train,y_train,verbose=1)"
      ],
      "execution_count": 180,
      "outputs": [
        {
          "output_type": "stream",
          "name": "stdout",
          "text": [
            "13/13 [==============================] - 3s 247ms/step - loss: 0.5973 - accuracy: 0.4400 - f1_m: 0.2992 - precision_m: 0.5479 - recall_m: 0.2091\n"
          ]
        },
        {
          "output_type": "execute_result",
          "data": {
            "text/plain": [
              "[0.5973183512687683,\n",
              " 0.4399999976158142,\n",
              " 0.29917579889297485,\n",
              " 0.5479479432106018,\n",
              " 0.20913460850715637]"
            ]
          },
          "metadata": {},
          "execution_count": 180
        }
      ]
    }
  ]
}