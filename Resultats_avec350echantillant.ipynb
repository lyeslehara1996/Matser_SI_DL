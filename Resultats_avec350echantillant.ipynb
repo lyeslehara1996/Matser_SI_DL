{
  "nbformat": 4,
  "nbformat_minor": 0,
  "metadata": {
    "colab": {
      "name": "Resultats_avec350echantillant.ipynb",
      "provenance": [],
      "collapsed_sections": [
        "Psuxqcb3AznY",
        "LqY__iGGXHek",
        "zdogfwsE3Dv0",
        "TksoCTbW9WWu"
      ],
      "machine_shape": "hm",
      "include_colab_link": true
    },
    "kernelspec": {
      "display_name": "Python 3",
      "name": "python3"
    },
    "language_info": {
      "name": "python"
    }
  },
  "cells": [
    {
      "cell_type": "markdown",
      "metadata": {
        "id": "view-in-github",
        "colab_type": "text"
      },
      "source": [
        "<a href=\"https://colab.research.google.com/github/lyeslehara1996/Matser_SI_DL/blob/main/Resultats_avec350echantillant.ipynb\" target=\"_parent\"><img src=\"https://colab.research.google.com/assets/colab-badge.svg\" alt=\"Open In Colab\"/></a>"
      ]
    },
    {
      "cell_type": "code",
      "metadata": {
        "colab": {
          "base_uri": "https://localhost:8080/"
        },
        "id": "dr1Pp1tocMmB",
        "outputId": "1be2b707-3511-46df-b333-3d27bb93664c"
      },
      "source": [
        "from google.colab import drive\n",
        "drive.mount('/content/drive')"
      ],
      "execution_count": 1,
      "outputs": [
        {
          "output_type": "stream",
          "name": "stdout",
          "text": [
            "Drive already mounted at /content/drive; to attempt to forcibly remount, call drive.mount(\"/content/drive\", force_remount=True).\n"
          ]
        }
      ]
    },
    {
      "cell_type": "code",
      "metadata": {
        "colab": {
          "base_uri": "https://localhost:8080/"
        },
        "id": "BC7CtfNOUZ8f",
        "outputId": "8a10c204-8a89-46dd-cb37-8656956c603c"
      },
      "source": [
        "from tensorflow.keras.optimizers import Adam,Adamax,Adagrad,SGD,RMSprop\n",
        "import keras.metrics as metrics\n",
        "from keras import backend as K\n",
        "from keras.layers import Bidirectional, Dense, Embedding, Input, Lambda, LSTM,GRU, RepeatVector, TimeDistributed, Layer, Activation, Dropout\n",
        "from keras.models import Model\n",
        "import tensorflow as tf\n",
        "import pandas as pd\n",
        "import numpy as np\n",
        "import os\n",
        "\n",
        "from keras.callbacks import ModelCheckpoint\n",
        "from keras.datasets import imdb\n",
        "from keras.preprocessing.sequence import pad_sequences\n",
        "from tensorflow import  keras\n",
        "import pandas as pd \n",
        "import re \n",
        "import nltk\n",
        "\n",
        "\n",
        "import matplotlib.pyplot as plt\n",
        "import numpy as np\n",
        "from numpy import asarray\n",
        "from numpy import zeros\n",
        "from keras.layers import Dropout\n",
        "\n",
        "from nltk.tokenize import word_tokenize\n",
        "from nltk.tokenize.toktok import ToktokTokenizer\n",
        "from keras.preprocessing.text import Tokenizer\n",
        "from nltk.tokenize import TweetTokenizer\n",
        "import string as st\n",
        "SAVEd = False\n",
        "\n",
        "\n",
        "from sklearn.preprocessing import LabelEncoder\n",
        "from keras.preprocessing.sequence import pad_sequences\n",
        "from keras.models import Sequential\n",
        "from keras.layers import Dense, Embedding, LSTM, SpatialDropout1D\n",
        "from sklearn.model_selection import train_test_split\n",
        "\n",
        "from nltk.corpus import stopwords\n",
        "from keras.utils.np_utils import to_categorical\n",
        "nltk.download('stopwords')\n",
        "nltk.download('punkt')\n",
        "\"\"\" Dataset\"\"\"\n",
        "\n",
        "from keras.wrappers.scikit_learn import KerasClassifier"
      ],
      "execution_count": 2,
      "outputs": [
        {
          "output_type": "stream",
          "name": "stdout",
          "text": [
            "[nltk_data] Downloading package stopwords to /root/nltk_data...\n",
            "[nltk_data]   Package stopwords is already up-to-date!\n",
            "[nltk_data] Downloading package punkt to /root/nltk_data...\n",
            "[nltk_data]   Package punkt is already up-to-date!\n"
          ]
        }
      ]
    },
    {
      "cell_type": "code",
      "metadata": {
        "id": "zAnXWcAOqI8H",
        "colab": {
          "base_uri": "https://localhost:8080/"
        },
        "outputId": "be344186-8193-4f6c-a713-bd37be9cd5dd"
      },
      "source": [
        "from tensorflow.python.framework.ops import disable_eager_execution\n",
        "\n",
        "# import tensorflow as tf\n",
        "from tensorflow.python.eager.context import eager_mode, graph_mode\n",
        "import tensorflow.compat.v1 as tf\n",
        "tf.disable_v2_behavior()"
      ],
      "execution_count": 3,
      "outputs": [
        {
          "output_type": "stream",
          "name": "stdout",
          "text": [
            "WARNING:tensorflow:From /usr/local/lib/python3.7/dist-packages/tensorflow/python/compat/v2_compat.py:111: disable_resource_variables (from tensorflow.python.ops.variable_scope) is deprecated and will be removed in a future version.\n",
            "Instructions for updating:\n",
            "non-resource variables are not supported in the long term\n"
          ]
        }
      ]
    },
    {
      "cell_type": "code",
      "metadata": {
        "colab": {
          "base_uri": "https://localhost:8080/"
        },
        "id": "o_flG53_pSu9",
        "outputId": "a798515e-a7ca-4672-9b30-6df86dabaa43"
      },
      "source": [
        "\n",
        "df=pd.read_excel(\"/content/drive/MyDrive/dossier_de_travail/SemEval2017A.xlsx\")\n",
        "\n",
        "df.drop(\"Unnamed: 3\", axis=1, inplace=True)\n",
        "df.drop(\"Unnamed: 4\", axis=1, inplace=True)\n",
        "df.drop(\"Unnamed: 5\", axis=1, inplace=True)\n",
        "df.drop(\"Unnamed: 6\", axis=1, inplace=True)\n",
        "\n",
        "df.head()\n",
        "\n",
        "\n",
        "df.info()"
      ],
      "execution_count": 4,
      "outputs": [
        {
          "output_type": "stream",
          "name": "stdout",
          "text": [
            "<class 'pandas.core.frame.DataFrame'>\n",
            "RangeIndex: 20633 entries, 0 to 20632\n",
            "Data columns (total 3 columns):\n",
            " #   Column    Non-Null Count  Dtype \n",
            "---  ------    --------------  ----- \n",
            " 0   ID        20633 non-null  object\n",
            " 1   Polarity  20632 non-null  object\n",
            " 2   Comments  20632 non-null  object\n",
            "dtypes: object(3)\n",
            "memory usage: 483.7+ KB\n"
          ]
        }
      ]
    },
    {
      "cell_type": "code",
      "metadata": {
        "colab": {
          "base_uri": "https://localhost:8080/",
          "height": 742
        },
        "id": "3KflpbespSxw",
        "outputId": "eda0e830-b93f-4328-836e-712255997f80"
      },
      "source": [
        "\n",
        "#supprimer les lignes qui contient des valeur null \n",
        "df.Polarity.unique()\n",
        "df.dropna(subset=['Polarity'], inplace=True)\n",
        "df.Polarity.unique()\n",
        "df.info()\n",
        "\n",
        "\n",
        "plt.figure(figsize=(8,6))\n",
        "df.Polarity.hist(xlabelsize=14)\n",
        "plt.show()\n",
        "\n",
        "#### transformet les mots en miniscule ######\n",
        "df.Comments=df.Comments.str.lower()\n",
        "df.head()"
      ],
      "execution_count": 5,
      "outputs": [
        {
          "output_type": "stream",
          "name": "stdout",
          "text": [
            "<class 'pandas.core.frame.DataFrame'>\n",
            "Int64Index: 20632 entries, 0 to 20632\n",
            "Data columns (total 3 columns):\n",
            " #   Column    Non-Null Count  Dtype \n",
            "---  ------    --------------  ----- \n",
            " 0   ID        20632 non-null  object\n",
            " 1   Polarity  20632 non-null  object\n",
            " 2   Comments  20632 non-null  object\n",
            "dtypes: object(3)\n",
            "memory usage: 644.8+ KB\n"
          ]
        },
        {
          "output_type": "display_data",
          "data": {
            "image/png": "[encoded data removed]",
            "text/plain": [
              "<Figure size 576x432 with 1 Axes>"
            ]
          },
          "metadata": {
            "needs_background": "light"
          }
        },
        {
          "output_type": "execute_result",
          "data": {
            "text/html": [
              "<div>\n",
              "<style scoped>\n",
              "    .dataframe tbody tr th:only-of-type {\n",
              "        vertical-align: middle;\n",
              "    }\n",
              "\n",
              "    .dataframe tbody tr th {\n",
              "        vertical-align: top;\n",
              "    }\n",
              "\n",
              "    .dataframe thead th {\n",
              "        text-align: right;\n",
              "    }\n",
              "</style>\n",
              "<table border=\"1\" class=\"dataframe\">\n",
              "  <thead>\n",
              "    <tr style=\"text-align: right;\">\n",
              "      <th></th>\n",
              "      <th>ID</th>\n",
              "      <th>Polarity</th>\n",
              "      <th>Comments</th>\n",
              "    </tr>\n",
              "  </thead>\n",
              "  <tbody>\n",
              "    <tr>\n",
              "      <th>0</th>\n",
              "      <td>619950566786113024</td>\n",
              "      <td>neutral</td>\n",
              "      <td>picturehouse's, pink floyd's, 'roger waters: t...</td>\n",
              "    </tr>\n",
              "    <tr>\n",
              "      <th>1</th>\n",
              "      <td>619969366986235008</td>\n",
              "      <td>neutral</td>\n",
              "      <td>order go set a watchman in store or through ou...</td>\n",
              "    </tr>\n",
              "    <tr>\n",
              "      <th>2</th>\n",
              "      <td>619971047195044992</td>\n",
              "      <td>negative</td>\n",
              "      <td>if these runway renovations at the airport pre...</td>\n",
              "    </tr>\n",
              "    <tr>\n",
              "      <th>3</th>\n",
              "      <td>619974445185302016</td>\n",
              "      <td>neutral</td>\n",
              "      <td>if you could ask an onstage interview question...</td>\n",
              "    </tr>\n",
              "    <tr>\n",
              "      <th>4</th>\n",
              "      <td>619987808317406976</td>\n",
              "      <td>positive</td>\n",
              "      <td>a portion of book sales from our harper lee/go...</td>\n",
              "    </tr>\n",
              "  </tbody>\n",
              "</table>\n",
              "</div>"
            ],
            "text/plain": [
              "                   ID  ...                                           Comments\n",
              "0  619950566786113024  ...  picturehouse's, pink floyd's, 'roger waters: t...\n",
              "1  619969366986235008  ...  order go set a watchman in store or through ou...\n",
              "2  619971047195044992  ...  if these runway renovations at the airport pre...\n",
              "3  619974445185302016  ...  if you could ask an onstage interview question...\n",
              "4  619987808317406976  ...  a portion of book sales from our harper lee/go...\n",
              "\n",
              "[5 rows x 3 columns]"
            ]
          },
          "metadata": {},
          "execution_count": 5
        }
      ]
    },
    {
      "cell_type": "code",
      "metadata": {
        "id": "ls1tMXYepS0-"
      },
      "source": [
        "\n",
        "###################STOP WORDS################\n",
        "#STOP WORDS\n",
        "#Tokenization of text\n",
        "\n",
        "tokenizer=ToktokTokenizer()\n",
        "#Setting English stopwords\n",
        "stopword_list=nltk.corpus.stopwords.words('english')\n",
        "\n",
        "#removing the stopwords\n",
        "def remove_stopwords(text, is_lower_case=False):\n",
        "    tokens = tokenizer.tokenize(text)\n",
        "    tokens = [token.strip() for token in tokens]\n",
        "    if is_lower_case:\n",
        "        filtered_tokens = [token for token in tokens if token not in stopword_list]\n",
        "    else:\n",
        "        filtered_tokens = [token for token in tokens if token.lower() not in stopword_list]\n",
        "    filtered_text = ' '.join(filtered_tokens)    \n",
        "    return filtered_text\n",
        "#Apply function on review column\n",
        "df['Comments']=df['Comments'].apply(remove_stopwords)"
      ],
      "execution_count": 6,
      "outputs": []
    },
    {
      "cell_type": "code",
      "metadata": {
        "id": "hbSVPqFmpS4A"
      },
      "source": [
        "\n",
        "############supprission des caractere spiciaux Dans Commantaire #########\n",
        "df['Comments'] = df['Comments'].apply(lambda x: re.sub(r'https?:\\/\\/\\S+', ' ', str(x)))\n",
        "df['Comments'] = df['Comments'].apply(lambda x: re.sub(r\"www\\.[a-z]?\\.?(com)+|[a-z]+\\.(com)\", ' ', str(x)))\n",
        "df['Comments'] = df['Comments'].apply(lambda x: re.sub(r'{link}', ' ', str(x)))\n",
        "df['Comments'] = df['Comments'].apply(lambda x: re.sub(r'&[a-z]+;', ' ', str(x)))\n",
        "df['Comments'] = df['Comments'].apply(lambda x: re.sub(r\"[^a-z]\", ' ', str(x)))\n",
        "df['Comments'] = df['Comments'].apply(lambda x: re.sub(r'@mention', ' ', str(x)))\n",
        "df['Comments'] = df['Comments'].apply(lambda x: \" \".join(x.lower() for x in str(x).split()  if len(x)>3 ))"
      ],
      "execution_count": 7,
      "outputs": []
    },
    {
      "cell_type": "code",
      "metadata": {
        "colab": {
          "base_uri": "https://localhost:8080/"
        },
        "id": "2s7aQxXspS7E",
        "outputId": "201ef588-362a-4586-8223-71a0d3a79be9"
      },
      "source": [
        "#######deviser en review and labels ######\n",
        "\n",
        "\n",
        "reviews =  df[['Comments']]\n",
        "labels =  df[['Polarity']]\n",
        "\n",
        "corpus= []\n",
        "for text in reviews['Comments']:\n",
        "    words= [word.lower() for word in word_tokenize(text)]\n",
        "    corpus.append(words)\n",
        "\n",
        "num_words=len(corpus)\n",
        "print(num_words)"
      ],
      "execution_count": 8,
      "outputs": [
        {
          "output_type": "stream",
          "name": "stdout",
          "text": [
            "20632\n"
          ]
        }
      ]
    },
    {
      "cell_type": "code",
      "metadata": {
        "colab": {
          "base_uri": "https://localhost:8080/"
        },
        "id": "KAg28SfMpS94",
        "outputId": "9f03d116-120c-48a3-f35a-500d50ebabd6"
      },
      "source": [
        "####reviews sans ponctuation #######\n",
        "\n",
        "revue_sans_ponctuation=[]\n",
        "for sentence in reviews['Comments']:\n",
        "\n",
        "    revue_sans_ponctuation.append(' '.join(Word.strip(st.punctuation) for Word in sentence.split()))\n",
        "\n",
        "reviews_cleaned = np.asarray(revue_sans_ponctuation)\n",
        "reviews_cleaned\n",
        "\n",
        "\n",
        "\n",
        "review_array = np.asarray(revue_sans_ponctuation)\n",
        "label_array = np.asarray(labels['Polarity'])\n",
        "\n",
        "reviews_labels = np.stack((review_array, label_array), axis = 1)\n",
        "\n",
        "reviews_labels"
      ],
      "execution_count": 9,
      "outputs": [
        {
          "output_type": "execute_result",
          "data": {
            "text/plain": [
              "array([['picturehouse pink floyd roger waters walll opening sept making waves watch trailer rolling stone look',\n",
              "        'neutral'],\n",
              "       ['order watchman store website tuesday half price gsaw gsawatchmanbook',\n",
              "        'neutral'],\n",
              "       ['runway renovations airport prevent seeing taylor swift monday blood meaning',\n",
              "        'negative'],\n",
              "       ...,\n",
              "       ['hours arrived saudi arabia tuesday turkish president recep tayyip erdogan accused syria president mercilessly',\n",
              "        'neutral'],\n",
              "       ['vanityfair alex kardashian worth love kardashian conure',\n",
              "        'negative'],\n",
              "       ['guess even pandora knows justin bieber grown condom played',\n",
              "        'neutral']], dtype=object)"
            ]
          },
          "metadata": {},
          "execution_count": 9
        }
      ]
    },
    {
      "cell_type": "code",
      "metadata": {
        "colab": {
          "base_uri": "https://localhost:8080/"
        },
        "id": "xaBdFJ3LpTA6",
        "outputId": "e6087623-3d68-4c97-e28a-adf5839e71ba"
      },
      "source": [
        "########Encoder les polarity  ##############\n",
        "encoder = LabelEncoder()\n",
        "encoder.fit(label_array)\n",
        "encoded_labels = encoder.transform(label_array)\n",
        "encoded_labels = to_categorical(encoded_labels)\n",
        "encoded_labels"
      ],
      "execution_count": 10,
      "outputs": [
        {
          "output_type": "execute_result",
          "data": {
            "text/plain": [
              "array([[0., 1., 0.],\n",
              "       [0., 1., 0.],\n",
              "       [1., 0., 0.],\n",
              "       ...,\n",
              "       [0., 1., 0.],\n",
              "       [1., 0., 0.],\n",
              "       [0., 1., 0.]], dtype=float32)"
            ]
          },
          "metadata": {},
          "execution_count": 10
        }
      ]
    },
    {
      "cell_type": "code",
      "metadata": {
        "colab": {
          "base_uri": "https://localhost:8080/"
        },
        "id": "T1HH_4IFpTDw",
        "outputId": "975db196-6707-405f-9f79-4037d63901f1"
      },
      "source": [
        "##### Train and Test\n",
        "review_train, review_test, label_train, label_test = train_test_split(reviews_cleaned, encoded_labels, test_size=0.20, random_state=42)\n",
        "print(review_train.shape, label_train.shape)\n",
        "print(review_test.shape, label_test.shape)\n",
        "\n",
        "tokenizer = Tokenizer(num_words=2000)\n",
        "tokenizer.fit_on_texts(review_train)\n",
        "\n",
        "review_train = tokenizer.texts_to_sequences(review_train)\n",
        "review_test = tokenizer.texts_to_sequences(review_test)\n",
        "\n",
        "vocab_size = len(tokenizer.word_index) + 1"
      ],
      "execution_count": 11,
      "outputs": [
        {
          "output_type": "stream",
          "name": "stdout",
          "text": [
            "(16505,) (16505, 3)\n",
            "(4127,) (4127, 3)\n"
          ]
        }
      ]
    },
    {
      "cell_type": "code",
      "metadata": {
        "colab": {
          "base_uri": "https://localhost:8080/"
        },
        "id": "355-5bwzpTGh",
        "outputId": "65eb38f6-602d-4f09-df99-c99957c81449"
      },
      "source": [
        "embeddings_dictionary = dict()\n",
        "glove_file = open('/content/drive/MyDrive/dossier_de_travail/glove.6B.100d.txt', encoding=\"utf8\")\n",
        "\n",
        "for line in glove_file:\n",
        "    records = line.split()\n",
        "    word = records[0]\n",
        "    vector_dimensions = asarray(records[1:], dtype='float32')\n",
        "    embeddings_dictionary [word] = vector_dimensions\n",
        "    \n",
        "glove_file.close()\n",
        "\n",
        "embedding_matrix = zeros((vocab_size, 100))\n",
        "for word, index in tokenizer.word_index.items():\n",
        "    embedding_vector = embeddings_dictionary.get(word)\n",
        "    if embedding_vector is not None:\n",
        "        embedding_matrix[index] = embedding_vector\n",
        "        \n",
        "print(embedding_matrix[1].shape)"
      ],
      "execution_count": 12,
      "outputs": [
        {
          "output_type": "stream",
          "name": "stdout",
          "text": [
            "(100,)\n"
          ]
        }
      ]
    },
    {
      "cell_type": "code",
      "metadata": {
        "id": "lodVpVlOpTJr",
        "colab": {
          "base_uri": "https://localhost:8080/"
        },
        "outputId": "7984da0b-1045-4866-f084-d75098771a98"
      },
      "source": [
        "X_train=review_train  \n",
        "X_test=review_test\n",
        "y_train=label_train   \n",
        "y_test=label_test\n",
        "MAX_LENGTH = 100\n",
        "NUM_WORDS = vocab_size\n",
        "X_train = pad_sequences(X_train, padding='post', maxlen=MAX_LENGTH)\n",
        "X_test = pad_sequences(X_test, padding='post', maxlen=MAX_LENGTH)\n",
        "\n",
        "train_index = np.random.choice(np.arange(X_train.shape[0]), 350, replace=False)     \n",
        "test_index = np.random.choice(np.arange(X_test.shape[0]), 250, replace=False)      \n",
        "\n",
        "X_train = X_train[train_index]\n",
        "y_train = y_train[train_index]\n",
        "\n",
        "X_test = X_test[test_index]\n",
        "y_test = y_test[test_index]\n",
        "\n",
        "temp = np.zeros((X_train.shape[0], MAX_LENGTH, NUM_WORDS))\n",
        "temp[np.expand_dims(np.arange(X_train.shape[0]), axis=0).reshape(X_train.shape[0], 1), np.repeat(np.array([np.arange(MAX_LENGTH)]), X_train.shape[0], axis=0), X_train] = 1\n",
        "\n",
        "Conversion_X_train = temp\n",
        "\n",
        "temp = np.zeros((X_test.shape[0], MAX_LENGTH, NUM_WORDS))\n",
        "temp[np.expand_dims(np.arange(X_test.shape[0]), axis=0).reshape(X_test.shape[0], 1), np.repeat(np.array([np.arange(MAX_LENGTH)]), X_test.shape[0], axis=0), X_test] = 1\n",
        "\n",
        "Conversion_X_test = temp\n",
        "print('X_train',X_train.shape)\n",
        "print('y_train',y_train.shape)\n",
        "print('X_test',X_test.shape)\n",
        "print('y_test',y_test.shape)\n",
        "print(Conversion_X_train.shape)\n",
        "print(Conversion_X_test.shape)\n"
      ],
      "execution_count": 13,
      "outputs": [
        {
          "output_type": "stream",
          "name": "stdout",
          "text": [
            "X_train (350, 100)\n",
            "y_train (350, 3)\n",
            "X_test (250, 100)\n",
            "y_test (250, 3)\n",
            "(350, 100, 22814)\n",
            "(250, 100, 22814)\n"
          ]
        }
      ]
    },
    {
      "cell_type": "code",
      "metadata": {
        "id": "72ODEdgrpTMV"
      },
      "source": [
        "\n",
        "from keras.layers import Flatten, Activation, RepeatVector, Permute, Multiply, Lambda\n",
        "from keras.callbacks import EarlyStopping\n",
        "from keras.callbacks import ModelCheckpoint\n",
        "from sklearn.model_selection import GridSearchCV\n",
        "from keras.wrappers.scikit_learn import KerasClassifier"
      ],
      "execution_count": 14,
      "outputs": []
    },
    {
      "cell_type": "code",
      "metadata": {
        "id": "jvnIyhrxpTOn"
      },
      "source": [
        "\n",
        "class AttentionCouche(tf.keras.layers.Layer): \n",
        "    def __init__(self, **kwargs):   \n",
        "        self.dim_mots = 200\n",
        "        self.unite_par_seq =100 \n",
        "\n",
        "        super(AttentionCouche, self).__init__( **kwargs)\n",
        "        \n",
        "    def build(self, input_shape):\n",
        "\n",
        "        dim_mots = input_shape[-1] \n",
        "        unite_par_seq = input_shape[-2]\n",
        "        num_units = 1\n",
        "        \n",
        "        self.w = self.add_weight(name='attention_weigth',shape=(input_shape[-1],1), initializer='normal')            \n",
        "        self.b = self.add_weight(name='attention_bias',shape=(input_shape[-2],1), initializer='zero')\n",
        "       \n",
        "        \n",
        "        super(AttentionCouche, self).build(input_shape)\n",
        "        \n",
        "    def call(self, x):\n",
        "       e=K.tanh(K.dot(x,self.w)+self.b) \n",
        "       e = Flatten()(e) \n",
        "       a = Activation('softmax')(e)\n",
        "       temp = RepeatVector(1000)(a) \n",
        "       temp = Permute([2,1])(temp) \n",
        "       output = Multiply()([x,temp]) \n",
        "       output = Lambda(lambda values: K.sum(values, axis=1))(output)\n",
        "       return output\n",
        "    def output_shep(self,input_shape):\n",
        "      return (input_shape[0],input_shape[-1])\n",
        "    def get_config(self):\n",
        "      return super(AttentionCouche,self).get_config()"
      ],
      "execution_count": 27,
      "outputs": []
    },
    {
      "cell_type": "code",
      "metadata": {
        "id": "TSTqtfAwnGou"
      },
      "source": [
        "def recall_m(y_true, y_pred):\n",
        "    true_positives = K.sum(K.round(K.clip(y_true * y_pred, 0, 1)))\n",
        "    possible_positives = K.sum(K.round(K.clip(y_true, 0, 1)))\n",
        "    recall = true_positives / (possible_positives + K.epsilon())\n",
        "    \n",
        "    return recall\n",
        "\n",
        "def precision_m(y_true, y_pred):\n",
        "    true_positives = K.sum(K.round(K.clip(y_true * y_pred, 0, 1)))\n",
        "    predicted_positives = K.sum(K.round(K.clip(y_pred, 0, 1)))\n",
        "    precision = true_positives / (predicted_positives + K.epsilon())\n",
        "    return precision\n",
        "\n",
        "def f1_m(y_true, y_pred):\n",
        "    precision = precision_m(y_true, y_pred)\n",
        "    recall = recall_m(y_true, y_pred)\n",
        "    return 2*((precision*recall)/(precision+recall+K.epsilon()))\n",
        "\t\n",
        "\t\n",
        "  #metrics=['acc',f1_m,precision_m, recall_m]"
      ],
      "execution_count": 16,
      "outputs": []
    },
    {
      "cell_type": "markdown",
      "metadata": {
        "id": "Psuxqcb3AznY"
      },
      "source": [
        "# **Test_1** \n",
        "Une Couche a 250 Neurones"
      ]
    },
    {
      "cell_type": "code",
      "metadata": {
        "colab": {
          "base_uri": "https://localhost:8080/"
        },
        "id": "SQiLDdJwAzVB",
        "outputId": "8bb9bead-6d4b-4522-f66c-c4180a02a768"
      },
      "source": [
        "MODEL_FILE_PATH = '/content/drive/MyDrive/A_ameliorer_2'\n",
        "MODEL_FILE_NAME = 'Test1.h5'\n",
        "LR=0.0001\n",
        "\n",
        "batch_size = 100\n",
        "vocab_size=vocab_size\n",
        "max_length=100 \n",
        "dim_latent=200\n",
        "intermediate_dim=500\n",
        "\n",
        "encoder = None\n",
        "decoder = None\n",
        "predicter_opinion = None\n",
        "autoencoder = None\n",
        "\n",
        "x = Input(shape=(max_length,))\n",
        "x_embed = Embedding(vocab_size, 100, weights=[embedding_matrix], input_length=max_length)(x)\n",
        "\n",
        "def Encodeur(x, dim_latent=200, max_length=100, epsilon_std=0.01):\n",
        "    h = Bidirectional(LSTM(250, return_sequences=True,dropout=0.25),merge_mode='concat')(x)\n",
        "    h = AttentionCouche()(h) \n",
        "    h = Dense(300, activation='relu', name='dense_1')(h)\n",
        "    \n",
        "    def sampling(args):\n",
        "        z_mean, z_log_var = args\n",
        "        batch = K.shape(z_mean)[0]\n",
        "        # by default, random_normal has mean=0 and std=1.0\n",
        "        epsilon = K.random_normal(shape=(batch, dim_latent), mean=0., stddev=epsilon_std)\n",
        "        return z_mean + K.exp(z_log_var / 2) * epsilon\n",
        "    \n",
        "    z_mean = Dense(dim_latent, name='z_mean', activation='linear')(h)\n",
        "    z_log_var = Dense(dim_latent, name='z_log_var', activation='linear')(h)\n",
        "    z = Lambda(sampling, output_shape=(dim_latent,), name='z')([z_mean, z_log_var])\n",
        "\n",
        "    def fct_loss(x, x_decoded_mean):\n",
        "        x = K.flatten(x)\n",
        "        x_decoded_mean = K.flatten(x_decoded_mean)\n",
        "        xent_loss = max_length * metrics.binary_crossentropy(x, x_decoded_mean)\n",
        "        kl_loss = - 0.5 * K.mean(1 + z_log_var - K.square(z_mean) - K.exp(z_log_var), axis=-1)\n",
        "        return xent_loss + kl_loss\n",
        "    \n",
        "    return (fct_loss, z)\n",
        "     \n",
        "fct_loss, encoded = Encodeur(x_embed, dim_latent=dim_latent, max_length=max_length)\n",
        "encoder = Model(inputs=x, outputs=encoded)\n",
        "encoder.summary()\n",
        "\n",
        "def Codage_opinion(encoded):\n",
        "    h = Dense(100, activation='linear')(encoded)     \n",
        "    return Dense(3, activation='softmax', name='pred')(h)\n",
        "    \n",
        "encoded_input = Input(shape=(dim_latent,))\n",
        "opinion_lab = Codage_opinion(encoded_input)\n",
        "predicter_opinion = Model(encoded_input, opinion_lab)\n",
        "predicter_opinion.summary()\n",
        "\n",
        "def Decodeur(encoded, vocab_size, max_length):\n",
        "    repeated_context = RepeatVector(max_length)(encoded)\n",
        "    h = Bidirectional( LSTM(250, return_sequences=True, name='dec_lstm_1',dropout=0.25))(repeated_context)\n",
        "    decoded = TimeDistributed(Dense(vocab_size, activation='softmax'), name='decoded_mean')(h)        \n",
        "    return decoded\n",
        "\n",
        "\n",
        "decoded = Decodeur(encoded_input, vocab_size, max_length)\n",
        "decoder = Model(encoded_input, decoded)\n",
        "decoder.summary()\n",
        "autoencoder = Model(inputs=x, outputs=[Decodeur(encoded, vocab_size, max_length), Codage_opinion(encoded)])\n",
        "tf.config.run_functions_eagerly(False)\n",
        "#tf.compat.v1.disable_eager_execution()\n",
        "\n",
        "\n",
        "early_stopping = EarlyStopping(monitor='val_loss', mode='min', verbose=1, patience=10)\n",
        "\n",
        "save_best = ModelCheckpoint(os.path.join(MODEL_FILE_PATH,MODEL_FILE_NAME), \n",
        "                     monitor='val_pred_acc', \n",
        "                     mode='max', \n",
        "                     verbose=1, \n",
        "                     save_best_only=True) \n",
        "\n",
        "autoencoder.compile(optimizer=Adam(learning_rate=0.0001), loss=[fct_loss, 'binary_crossentropy'], metrics=['accuracy',f1_m,precision_m, recall_m])\n",
        "autoencoder.summary()\n"
      ],
      "execution_count": 23,
      "outputs": [
        {
          "output_type": "stream",
          "name": "stdout",
          "text": [
            "Model: \"model_4\"\n",
            "__________________________________________________________________________________________________\n",
            " Layer (type)                   Output Shape         Param #     Connected to                     \n",
            "==================================================================================================\n",
            " input_3 (InputLayer)           [(None, 100)]        0           []                               \n",
            "                                                                                                  \n",
            " embedding_1 (Embedding)        (None, 100, 100)     2281400     ['input_3[0][0]']                \n",
            "                                                                                                  \n",
            " bidirectional_3 (Bidirectional  (None, 100, 500)    702000      ['embedding_1[0][0]']            \n",
            " )                                                                                                \n",
            "                                                                                                  \n",
            " attention_couche_1 (AttentionC  (None, 500)         600         ['bidirectional_3[0][0]']        \n",
            " ouche)                                                                                           \n",
            "                                                                                                  \n",
            " dense_1 (Dense)                (None, 300)          150300      ['attention_couche_1[0][0]']     \n",
            "                                                                                                  \n",
            " z_mean (Dense)                 (None, 200)          60200       ['dense_1[0][0]']                \n",
            "                                                                                                  \n",
            " z_log_var (Dense)              (None, 200)          60200       ['dense_1[0][0]']                \n",
            "                                                                                                  \n",
            " z (Lambda)                     (None, 200)          0           ['z_mean[0][0]',                 \n",
            "                                                                  'z_log_var[0][0]']              \n",
            "                                                                                                  \n",
            "==================================================================================================\n",
            "Total params: 3,254,700\n",
            "Trainable params: 3,254,700\n",
            "Non-trainable params: 0\n",
            "__________________________________________________________________________________________________\n",
            "Model: \"model_5\"\n",
            "_________________________________________________________________\n",
            " Layer (type)                Output Shape              Param #   \n",
            "=================================================================\n",
            " input_4 (InputLayer)        [(None, 200)]             0         \n",
            "                                                                 \n",
            " dense_4 (Dense)             (None, 100)               20100     \n",
            "                                                                 \n",
            " pred (Dense)                (None, 3)                 303       \n",
            "                                                                 \n",
            "=================================================================\n",
            "Total params: 20,403\n",
            "Trainable params: 20,403\n",
            "Non-trainable params: 0\n",
            "_________________________________________________________________\n",
            "Model: \"model_6\"\n",
            "_________________________________________________________________\n",
            " Layer (type)                Output Shape              Param #   \n",
            "=================================================================\n",
            " input_4 (InputLayer)        [(None, 200)]             0         \n",
            "                                                                 \n",
            " repeat_vector_4 (RepeatVect  (None, 100, 200)         0         \n",
            " or)                                                             \n",
            "                                                                 \n",
            " bidirectional_4 (Bidirectio  (None, 100, 500)         902000    \n",
            " nal)                                                            \n",
            "                                                                 \n",
            " decoded_mean (TimeDistribut  (None, 100, 22814)       11429814  \n",
            " ed)                                                             \n",
            "                                                                 \n",
            "=================================================================\n",
            "Total params: 12,331,814\n",
            "Trainable params: 12,331,814\n",
            "Non-trainable params: 0\n",
            "_________________________________________________________________\n",
            "Model: \"model_7\"\n",
            "__________________________________________________________________________________________________\n",
            " Layer (type)                   Output Shape         Param #     Connected to                     \n",
            "==================================================================================================\n",
            " input_3 (InputLayer)           [(None, 100)]        0           []                               \n",
            "                                                                                                  \n",
            " embedding_1 (Embedding)        (None, 100, 100)     2281400     ['input_3[0][0]']                \n",
            "                                                                                                  \n",
            " bidirectional_3 (Bidirectional  (None, 100, 500)    702000      ['embedding_1[0][0]']            \n",
            " )                                                                                                \n",
            "                                                                                                  \n",
            " attention_couche_1 (AttentionC  (None, 500)         600         ['bidirectional_3[0][0]']        \n",
            " ouche)                                                                                           \n",
            "                                                                                                  \n",
            " dense_1 (Dense)                (None, 300)          150300      ['attention_couche_1[0][0]']     \n",
            "                                                                                                  \n",
            " z_mean (Dense)                 (None, 200)          60200       ['dense_1[0][0]']                \n",
            "                                                                                                  \n",
            " z_log_var (Dense)              (None, 200)          60200       ['dense_1[0][0]']                \n",
            "                                                                                                  \n",
            " z (Lambda)                     (None, 200)          0           ['z_mean[0][0]',                 \n",
            "                                                                  'z_log_var[0][0]']              \n",
            "                                                                                                  \n",
            " repeat_vector_5 (RepeatVector)  (None, 100, 200)    0           ['z[0][0]']                      \n",
            "                                                                                                  \n",
            " bidirectional_5 (Bidirectional  (None, 100, 500)    902000      ['repeat_vector_5[0][0]']        \n",
            " )                                                                                                \n",
            "                                                                                                  \n",
            " dense_7 (Dense)                (None, 100)          20100       ['z[0][0]']                      \n",
            "                                                                                                  \n",
            " decoded_mean (TimeDistributed)  (None, 100, 22814)  11429814    ['bidirectional_5[0][0]']        \n",
            "                                                                                                  \n",
            " pred (Dense)                   (None, 3)            303         ['dense_7[0][0]']                \n",
            "                                                                                                  \n",
            "==================================================================================================\n",
            "Total params: 15,606,917\n",
            "Trainable params: 15,606,917\n",
            "Non-trainable params: 0\n",
            "__________________________________________________________________________________________________\n"
          ]
        }
      ]
    },
    {
      "cell_type": "code",
      "metadata": {
        "id": "io5XuiNsLPO0"
      },
      "source": [
        ""
      ],
      "execution_count": null,
      "outputs": []
    },
    {
      "cell_type": "code",
      "metadata": {
        "id": "6aB-H1oAA4D8",
        "colab": {
          "base_uri": "https://localhost:8080/"
        },
        "outputId": "1f11f683-d0cc-4903-958e-affb25b770ca"
      },
      "source": [
        "\n",
        "history = autoencoder.fit(x=X_train, y={'decoded_mean': Conversion_X_train, 'pred': y_train}, batch_size=100, epochs=100, validation_data=(X_test, {'decoded_mean': Conversion_X_test, 'pred':  y_test}),callbacks=[early_stopping, save_best])\n"
      ],
      "execution_count": 24,
      "outputs": [
        {
          "output_type": "stream",
          "name": "stdout",
          "text": [
            "Train on 350 samples, validate on 250 samples\n",
            "Epoch 1/100\n",
            "350/350 [==============================] - ETA: 0s - loss: 0.7390 - decoded_mean_loss: 0.0484 - pred_loss: 0.6903 - decoded_mean_acc: 0.0000e+00 - decoded_mean_f1_m: 0.0000e+00 - decoded_mean_precision_m: 0.0000e+00 - decoded_mean_recall_m: 0.0000e+00 - pred_acc: 0.6667 - pred_f1_m: 0.0000e+00 - pred_precision_m: 0.0000e+00 - pred_recall_m: 0.0000e+00"
          ]
        },
        {
          "output_type": "stream",
          "name": "stderr",
          "text": [
            "/usr/local/lib/python3.7/dist-packages/keras/engine/training_v1.py:2057: UserWarning: `Model.state_updates` will be removed in a future version. This property should not be used in TensorFlow 2.0, as `updates` are applied automatically.\n",
            "  updates = self.state_updates\n"
          ]
        },
        {
          "output_type": "stream",
          "name": "stdout",
          "text": [
            "\n",
            "Epoch 00001: val_pred_acc improved from -inf to 0.66667, saving model to /content/drive/MyDrive/A_ameliorer_2/Test1.h5\n",
            "350/350 [==============================] - 78s 222ms/sample - loss: 0.7390 - decoded_mean_loss: 0.0484 - pred_loss: 0.6903 - decoded_mean_acc: 0.0000e+00 - decoded_mean_f1_m: 0.0000e+00 - decoded_mean_precision_m: 0.0000e+00 - decoded_mean_recall_m: 0.0000e+00 - pred_acc: 0.6667 - pred_f1_m: 0.0000e+00 - pred_precision_m: 0.0000e+00 - pred_recall_m: 0.0000e+00 - val_loss: 0.7357 - val_decoded_mean_loss: 0.0484 - val_pred_loss: 0.6875 - val_decoded_mean_acc: 1.6000e-04 - val_decoded_mean_f1_m: 0.0000e+00 - val_decoded_mean_precision_m: 0.0000e+00 - val_decoded_mean_recall_m: 0.0000e+00 - val_pred_acc: 0.6667 - val_pred_f1_m: 0.0000e+00 - val_pred_precision_m: 0.0000e+00 - val_pred_recall_m: 0.0000e+00\n",
            "Epoch 2/100\n",
            "350/350 [==============================] - ETA: 0s - loss: 0.7326 - decoded_mean_loss: 0.0484 - pred_loss: 0.6838 - decoded_mean_acc: 0.0036 - decoded_mean_f1_m: 0.0000e+00 - decoded_mean_precision_m: 0.0000e+00 - decoded_mean_recall_m: 0.0000e+00 - pred_acc: 0.6667 - pred_f1_m: 0.0000e+00 - pred_precision_m: 0.0000e+00 - pred_recall_m: 0.0000e+00    \n",
            "Epoch 00002: val_pred_acc did not improve from 0.66667\n",
            "350/350 [==============================] - 72s 206ms/sample - loss: 0.7326 - decoded_mean_loss: 0.0484 - pred_loss: 0.6838 - decoded_mean_acc: 0.0036 - decoded_mean_f1_m: 0.0000e+00 - decoded_mean_precision_m: 0.0000e+00 - decoded_mean_recall_m: 0.0000e+00 - pred_acc: 0.6667 - pred_f1_m: 0.0000e+00 - pred_precision_m: 0.0000e+00 - pred_recall_m: 0.0000e+00 - val_loss: 0.7281 - val_decoded_mean_loss: 0.0484 - val_pred_loss: 0.6792 - val_decoded_mean_acc: 0.1078 - val_decoded_mean_f1_m: 0.0000e+00 - val_decoded_mean_precision_m: 0.0000e+00 - val_decoded_mean_recall_m: 0.0000e+00 - val_pred_acc: 0.6667 - val_pred_f1_m: 0.0000e+00 - val_pred_precision_m: 0.0000e+00 - val_pred_recall_m: 0.0000e+00\n",
            "Epoch 3/100\n",
            "350/350 [==============================] - ETA: 0s - loss: 0.7249 - decoded_mean_loss: 0.0484 - pred_loss: 0.6766 - decoded_mean_acc: 0.1882 - decoded_mean_f1_m: 0.0000e+00 - decoded_mean_precision_m: 0.0000e+00 - decoded_mean_recall_m: 0.0000e+00 - pred_acc: 0.6667 - pred_f1_m: 0.0000e+00 - pred_precision_m: 0.0000e+00 - pred_recall_m: 0.0000e+00\n",
            "Epoch 00003: val_pred_acc did not improve from 0.66667\n",
            "350/350 [==============================] - 74s 212ms/sample - loss: 0.7249 - decoded_mean_loss: 0.0484 - pred_loss: 0.6766 - decoded_mean_acc: 0.1882 - decoded_mean_f1_m: 0.0000e+00 - decoded_mean_precision_m: 0.0000e+00 - decoded_mean_recall_m: 0.0000e+00 - pred_acc: 0.6667 - pred_f1_m: 0.0000e+00 - pred_precision_m: 0.0000e+00 - pred_recall_m: 0.0000e+00 - val_loss: 0.7200 - val_decoded_mean_loss: 0.0485 - val_pred_loss: 0.6710 - val_decoded_mean_acc: 0.8046 - val_decoded_mean_f1_m: 0.0000e+00 - val_decoded_mean_precision_m: 0.0000e+00 - val_decoded_mean_recall_m: 0.0000e+00 - val_pred_acc: 0.6667 - val_pred_f1_m: 0.0000e+00 - val_pred_precision_m: 0.0000e+00 - val_pred_recall_m: 0.0000e+00\n",
            "Epoch 4/100\n",
            "350/350 [==============================] - ETA: 0s - loss: 0.7156 - decoded_mean_loss: 0.0485 - pred_loss: 0.6664 - decoded_mean_acc: 0.7203 - decoded_mean_f1_m: 0.0000e+00 - decoded_mean_precision_m: 0.0000e+00 - decoded_mean_recall_m: 0.0000e+00 - pred_acc: 0.6667 - pred_f1_m: 0.0000e+00 - pred_precision_m: 0.0000e+00 - pred_recall_m: 0.0000e+00\n",
            "Epoch 00004: val_pred_acc did not improve from 0.66667\n",
            "350/350 [==============================] - 74s 210ms/sample - loss: 0.7156 - decoded_mean_loss: 0.0485 - pred_loss: 0.6664 - decoded_mean_acc: 0.7203 - decoded_mean_f1_m: 0.0000e+00 - decoded_mean_precision_m: 0.0000e+00 - decoded_mean_recall_m: 0.0000e+00 - pred_acc: 0.6667 - pred_f1_m: 0.0000e+00 - pred_precision_m: 0.0000e+00 - pred_recall_m: 0.0000e+00 - val_loss: 0.7084 - val_decoded_mean_loss: 0.0486 - val_pred_loss: 0.6598 - val_decoded_mean_acc: 0.9329 - val_decoded_mean_f1_m: 0.0000e+00 - val_decoded_mean_precision_m: 0.0000e+00 - val_decoded_mean_recall_m: 0.0000e+00 - val_pred_acc: 0.6667 - val_pred_f1_m: 0.0000e+00 - val_pred_precision_m: 0.0000e+00 - val_pred_recall_m: 0.0000e+00\n",
            "Epoch 5/100\n",
            "350/350 [==============================] - ETA: 0s - loss: 0.7031 - decoded_mean_loss: 0.0486 - pred_loss: 0.6537 - decoded_mean_acc: 0.9262 - decoded_mean_f1_m: 0.0000e+00 - decoded_mean_precision_m: 0.0000e+00 - decoded_mean_recall_m: 0.0000e+00 - pred_acc: 0.6667 - pred_f1_m: 0.0000e+00 - pred_precision_m: 0.0000e+00 - pred_recall_m: 0.0000e+00\n",
            "Epoch 00005: val_pred_acc did not improve from 0.66667\n",
            "350/350 [==============================] - 74s 211ms/sample - loss: 0.7031 - decoded_mean_loss: 0.0486 - pred_loss: 0.6537 - decoded_mean_acc: 0.9262 - decoded_mean_f1_m: 0.0000e+00 - decoded_mean_precision_m: 0.0000e+00 - decoded_mean_recall_m: 0.0000e+00 - pred_acc: 0.6667 - pred_f1_m: 0.0000e+00 - pred_precision_m: 0.0000e+00 - pred_recall_m: 0.0000e+00 - val_loss: 0.6940 - val_decoded_mean_loss: 0.0488 - val_pred_loss: 0.6461 - val_decoded_mean_acc: 0.9329 - val_decoded_mean_f1_m: 0.0000e+00 - val_decoded_mean_precision_m: 0.0000e+00 - val_decoded_mean_recall_m: 0.0000e+00 - val_pred_acc: 0.6667 - val_pred_f1_m: 0.0000e+00 - val_pred_precision_m: 0.0000e+00 - val_pred_recall_m: 0.0000e+00\n",
            "Epoch 6/100\n",
            "350/350 [==============================] - ETA: 0s - loss: 0.6885 - decoded_mean_loss: 0.0489 - pred_loss: 0.6367 - decoded_mean_acc: 0.9315 - decoded_mean_f1_m: 0.0000e+00 - decoded_mean_precision_m: 0.0000e+00 - decoded_mean_recall_m: 0.0000e+00 - pred_acc: 0.6667 - pred_f1_m: 0.0000e+00 - pred_precision_m: 0.0000e+00 - pred_recall_m: 0.0000e+00\n",
            "Epoch 00006: val_pred_acc did not improve from 0.66667\n",
            "350/350 [==============================] - 74s 212ms/sample - loss: 0.6885 - decoded_mean_loss: 0.0489 - pred_loss: 0.6367 - decoded_mean_acc: 0.9315 - decoded_mean_f1_m: 0.0000e+00 - decoded_mean_precision_m: 0.0000e+00 - decoded_mean_recall_m: 0.0000e+00 - pred_acc: 0.6667 - pred_f1_m: 0.0000e+00 - pred_precision_m: 0.0000e+00 - pred_recall_m: 0.0000e+00 - val_loss: 0.6768 - val_decoded_mean_loss: 0.0493 - val_pred_loss: 0.6247 - val_decoded_mean_acc: 0.9329 - val_decoded_mean_f1_m: 0.0000e+00 - val_decoded_mean_precision_m: 0.0000e+00 - val_decoded_mean_recall_m: 0.0000e+00 - val_pred_acc: 0.6667 - val_pred_f1_m: 0.0000e+00 - val_pred_precision_m: 0.0000e+00 - val_pred_recall_m: 0.0000e+00\n",
            "Epoch 7/100\n",
            "350/350 [==============================] - ETA: 0s - loss: 0.6692 - decoded_mean_loss: 0.0495 - pred_loss: 0.6180 - decoded_mean_acc: 0.9315 - decoded_mean_f1_m: 0.0000e+00 - decoded_mean_precision_m: 0.0000e+00 - decoded_mean_recall_m: 0.0000e+00 - pred_acc: 0.6676 - pred_f1_m: 0.0196 - pred_precision_m: 0.5833 - pred_recall_m: 0.0100\n",
            "Epoch 00007: val_pred_acc improved from 0.66667 to 0.66667, saving model to /content/drive/MyDrive/A_ameliorer_2/Test1.h5\n",
            "350/350 [==============================] - 75s 215ms/sample - loss: 0.6692 - decoded_mean_loss: 0.0495 - pred_loss: 0.6180 - decoded_mean_acc: 0.9315 - decoded_mean_f1_m: 0.0000e+00 - decoded_mean_precision_m: 0.0000e+00 - decoded_mean_recall_m: 0.0000e+00 - pred_acc: 0.6676 - pred_f1_m: 0.0196 - pred_precision_m: 0.5833 - pred_recall_m: 0.0100 - val_loss: 0.6595 - val_decoded_mean_loss: 0.0505 - val_pred_loss: 0.6078 - val_decoded_mean_acc: 0.9329 - val_decoded_mean_f1_m: 0.0000e+00 - val_decoded_mean_precision_m: 0.0000e+00 - val_decoded_mean_recall_m: 0.0000e+00 - val_pred_acc: 0.6667 - val_pred_f1_m: 0.1111 - val_pred_precision_m: 0.5000 - val_pred_recall_m: 0.0633\n",
            "Epoch 8/100\n",
            "350/350 [==============================] - ETA: 0s - loss: 0.6556 - decoded_mean_loss: 0.0511 - pred_loss: 0.6075 - decoded_mean_acc: 0.9315 - decoded_mean_f1_m: 0.0000e+00 - decoded_mean_precision_m: 0.0000e+00 - decoded_mean_recall_m: 0.0000e+00 - pred_acc: 0.6543 - pred_f1_m: 0.1909 - pred_precision_m: 0.4280 - pred_recall_m: 0.1300\n",
            "Epoch 00008: val_pred_acc did not improve from 0.66667\n",
            "350/350 [==============================] - 73s 208ms/sample - loss: 0.6556 - decoded_mean_loss: 0.0511 - pred_loss: 0.6075 - decoded_mean_acc: 0.9315 - decoded_mean_f1_m: 0.0000e+00 - decoded_mean_precision_m: 0.0000e+00 - decoded_mean_recall_m: 0.0000e+00 - pred_acc: 0.6543 - pred_f1_m: 0.1909 - pred_precision_m: 0.4280 - pred_recall_m: 0.1300 - val_loss: 0.6556 - val_decoded_mean_loss: 0.0530 - val_pred_loss: 0.5986 - val_decoded_mean_acc: 0.9329 - val_decoded_mean_f1_m: 0.0000e+00 - val_decoded_mean_precision_m: 0.0000e+00 - val_decoded_mean_recall_m: 0.0000e+00 - val_pred_acc: 0.6307 - val_pred_f1_m: 0.3426 - val_pred_precision_m: 0.4345 - val_pred_recall_m: 0.2833\n",
            "Epoch 9/100\n",
            "350/350 [==============================] - ETA: 0s - loss: 0.6531 - decoded_mean_loss: 0.0532 - pred_loss: 0.6003 - decoded_mean_acc: 0.9315 - decoded_mean_f1_m: 0.0000e+00 - decoded_mean_precision_m: 0.0000e+00 - decoded_mean_recall_m: 0.0000e+00 - pred_acc: 0.6590 - pred_f1_m: 0.4206 - pred_precision_m: 0.5018 - pred_recall_m: 0.3625\n",
            "Epoch 00009: val_pred_acc did not improve from 0.66667\n",
            "350/350 [==============================] - 74s 212ms/sample - loss: 0.6531 - decoded_mean_loss: 0.0532 - pred_loss: 0.6003 - decoded_mean_acc: 0.9315 - decoded_mean_f1_m: 0.0000e+00 - decoded_mean_precision_m: 0.0000e+00 - decoded_mean_recall_m: 0.0000e+00 - pred_acc: 0.6590 - pred_f1_m: 0.4206 - pred_precision_m: 0.5018 - pred_recall_m: 0.3625 - val_loss: 0.6583 - val_decoded_mean_loss: 0.0536 - val_pred_loss: 0.6059 - val_decoded_mean_acc: 0.9329 - val_decoded_mean_f1_m: 0.0000e+00 - val_decoded_mean_precision_m: 0.0000e+00 - val_decoded_mean_recall_m: 0.0000e+00 - val_pred_acc: 0.6267 - val_pred_f1_m: 0.3653 - val_pred_precision_m: 0.4151 - val_pred_recall_m: 0.3267\n",
            "Epoch 10/100\n",
            "350/350 [==============================] - ETA: 0s - loss: 0.6493 - decoded_mean_loss: 0.0528 - pred_loss: 0.5975 - decoded_mean_acc: 0.9315 - decoded_mean_f1_m: 0.0000e+00 - decoded_mean_precision_m: 0.0000e+00 - decoded_mean_recall_m: 0.0000e+00 - pred_acc: 0.6581 - pred_f1_m: 0.4255 - pred_precision_m: 0.4764 - pred_recall_m: 0.3850\n",
            "Epoch 00010: val_pred_acc did not improve from 0.66667\n",
            "350/350 [==============================] - 73s 208ms/sample - loss: 0.6493 - decoded_mean_loss: 0.0528 - pred_loss: 0.5975 - decoded_mean_acc: 0.9315 - decoded_mean_f1_m: 0.0000e+00 - decoded_mean_precision_m: 0.0000e+00 - decoded_mean_recall_m: 0.0000e+00 - pred_acc: 0.6581 - pred_f1_m: 0.4255 - pred_precision_m: 0.4764 - pred_recall_m: 0.3850 - val_loss: 0.6537 - val_decoded_mean_loss: 0.0519 - val_pred_loss: 0.6017 - val_decoded_mean_acc: 0.9329 - val_decoded_mean_f1_m: 0.0000e+00 - val_decoded_mean_precision_m: 0.0000e+00 - val_decoded_mean_recall_m: 0.0000e+00 - val_pred_acc: 0.6227 - val_pred_f1_m: 0.3720 - val_pred_precision_m: 0.4112 - val_pred_recall_m: 0.3400\n",
            "Epoch 11/100\n",
            "350/350 [==============================] - ETA: 0s - loss: 0.6456 - decoded_mean_loss: 0.0508 - pred_loss: 0.5920 - decoded_mean_acc: 0.9315 - decoded_mean_f1_m: 0.0000e+00 - decoded_mean_precision_m: 0.0000e+00 - decoded_mean_recall_m: 0.0000e+00 - pred_acc: 0.6505 - pred_f1_m: 0.4305 - pred_precision_m: 0.4768 - pred_recall_m: 0.3925\n",
            "Epoch 00011: val_pred_acc did not improve from 0.66667\n",
            "350/350 [==============================] - 73s 208ms/sample - loss: 0.6456 - decoded_mean_loss: 0.0508 - pred_loss: 0.5920 - decoded_mean_acc: 0.9315 - decoded_mean_f1_m: 0.0000e+00 - decoded_mean_precision_m: 0.0000e+00 - decoded_mean_recall_m: 0.0000e+00 - pred_acc: 0.6505 - pred_f1_m: 0.4305 - pred_precision_m: 0.4768 - pred_recall_m: 0.3925 - val_loss: 0.6500 - val_decoded_mean_loss: 0.0499 - val_pred_loss: 0.6018 - val_decoded_mean_acc: 0.9329 - val_decoded_mean_f1_m: 0.0000e+00 - val_decoded_mean_precision_m: 0.0000e+00 - val_decoded_mean_recall_m: 0.0000e+00 - val_pred_acc: 0.6280 - val_pred_f1_m: 0.3763 - val_pred_precision_m: 0.4270 - val_pred_recall_m: 0.3367\n",
            "Epoch 12/100\n",
            "350/350 [==============================] - ETA: 0s - loss: 0.6430 - decoded_mean_loss: 0.0493 - pred_loss: 0.5915 - decoded_mean_acc: 0.9315 - decoded_mean_f1_m: 0.0000e+00 - decoded_mean_precision_m: 0.0000e+00 - decoded_mean_recall_m: 0.0000e+00 - pred_acc: 0.6533 - pred_f1_m: 0.4314 - pred_precision_m: 0.4831 - pred_recall_m: 0.3900\n",
            "Epoch 00012: val_pred_acc did not improve from 0.66667\n",
            "350/350 [==============================] - 74s 212ms/sample - loss: 0.6430 - decoded_mean_loss: 0.0493 - pred_loss: 0.5915 - decoded_mean_acc: 0.9315 - decoded_mean_f1_m: 0.0000e+00 - decoded_mean_precision_m: 0.0000e+00 - decoded_mean_recall_m: 0.0000e+00 - pred_acc: 0.6533 - pred_f1_m: 0.4314 - pred_precision_m: 0.4831 - pred_recall_m: 0.3900 - val_loss: 0.6495 - val_decoded_mean_loss: 0.0484 - val_pred_loss: 0.5988 - val_decoded_mean_acc: 0.9329 - val_decoded_mean_f1_m: 0.0000e+00 - val_decoded_mean_precision_m: 0.0000e+00 - val_decoded_mean_recall_m: 0.0000e+00 - val_pred_acc: 0.6213 - val_pred_f1_m: 0.3480 - val_pred_precision_m: 0.3922 - val_pred_recall_m: 0.3133\n",
            "Epoch 13/100\n",
            "350/350 [==============================] - ETA: 0s - loss: 0.6413 - decoded_mean_loss: 0.0477 - pred_loss: 0.5993 - decoded_mean_acc: 0.9315 - decoded_mean_f1_m: 0.0000e+00 - decoded_mean_precision_m: 0.0000e+00 - decoded_mean_recall_m: 0.0000e+00 - pred_acc: 0.6543 - pred_f1_m: 0.4227 - pred_precision_m: 0.4654 - pred_recall_m: 0.3875\n",
            "Epoch 00013: val_pred_acc did not improve from 0.66667\n",
            "350/350 [==============================] - 74s 210ms/sample - loss: 0.6413 - decoded_mean_loss: 0.0477 - pred_loss: 0.5993 - decoded_mean_acc: 0.9315 - decoded_mean_f1_m: 0.0000e+00 - decoded_mean_precision_m: 0.0000e+00 - decoded_mean_recall_m: 0.0000e+00 - pred_acc: 0.6543 - pred_f1_m: 0.4227 - pred_precision_m: 0.4654 - pred_recall_m: 0.3875 - val_loss: 0.6470 - val_decoded_mean_loss: 0.0467 - val_pred_loss: 0.5977 - val_decoded_mean_acc: 0.9329 - val_decoded_mean_f1_m: 0.0000e+00 - val_decoded_mean_precision_m: 0.0000e+00 - val_decoded_mean_recall_m: 0.0000e+00 - val_pred_acc: 0.6267 - val_pred_f1_m: 0.4013 - val_pred_precision_m: 0.4339 - val_pred_recall_m: 0.3733\n",
            "Epoch 14/100\n",
            "350/350 [==============================] - ETA: 0s - loss: 0.6370 - decoded_mean_loss: 0.0460 - pred_loss: 0.5910 - decoded_mean_acc: 0.9315 - decoded_mean_f1_m: 0.0000e+00 - decoded_mean_precision_m: 0.0000e+00 - decoded_mean_recall_m: 0.0000e+00 - pred_acc: 0.6552 - pred_f1_m: 0.4454 - pred_precision_m: 0.4710 - pred_recall_m: 0.4225\n",
            "Epoch 00014: val_pred_acc did not improve from 0.66667\n",
            "350/350 [==============================] - 72s 206ms/sample - loss: 0.6370 - decoded_mean_loss: 0.0460 - pred_loss: 0.5910 - decoded_mean_acc: 0.9315 - decoded_mean_f1_m: 0.0000e+00 - decoded_mean_precision_m: 0.0000e+00 - decoded_mean_recall_m: 0.0000e+00 - pred_acc: 0.6552 - pred_f1_m: 0.4454 - pred_precision_m: 0.4710 - pred_recall_m: 0.4225 - val_loss: 0.6438 - val_decoded_mean_loss: 0.0448 - val_pred_loss: 0.5979 - val_decoded_mean_acc: 0.9329 - val_decoded_mean_f1_m: 0.0000e+00 - val_decoded_mean_precision_m: 0.0000e+00 - val_decoded_mean_recall_m: 0.0000e+00 - val_pred_acc: 0.6293 - val_pred_f1_m: 0.4250 - val_pred_precision_m: 0.4452 - val_pred_recall_m: 0.4067\n",
            "Epoch 15/100\n",
            "350/350 [==============================] - ETA: 0s - loss: 0.6337 - decoded_mean_loss: 0.0441 - pred_loss: 0.5922 - decoded_mean_acc: 0.9315 - decoded_mean_f1_m: 0.0000e+00 - decoded_mean_precision_m: 0.0000e+00 - decoded_mean_recall_m: 0.0000e+00 - pred_acc: 0.6610 - pred_f1_m: 0.4520 - pred_precision_m: 0.4706 - pred_recall_m: 0.4350\n",
            "Epoch 00015: val_pred_acc did not improve from 0.66667\n",
            "350/350 [==============================] - 71s 203ms/sample - loss: 0.6337 - decoded_mean_loss: 0.0441 - pred_loss: 0.5922 - decoded_mean_acc: 0.9315 - decoded_mean_f1_m: 0.0000e+00 - decoded_mean_precision_m: 0.0000e+00 - decoded_mean_recall_m: 0.0000e+00 - pred_acc: 0.6610 - pred_f1_m: 0.4520 - pred_precision_m: 0.4706 - pred_recall_m: 0.4350 - val_loss: 0.6406 - val_decoded_mean_loss: 0.0429 - val_pred_loss: 0.5955 - val_decoded_mean_acc: 0.9329 - val_decoded_mean_f1_m: 0.0000e+00 - val_decoded_mean_precision_m: 0.0000e+00 - val_decoded_mean_recall_m: 0.0000e+00 - val_pred_acc: 0.6280 - val_pred_f1_m: 0.4322 - val_pred_precision_m: 0.4491 - val_pred_recall_m: 0.4167\n",
            "Epoch 16/100\n",
            "350/350 [==============================] - ETA: 0s - loss: 0.6328 - decoded_mean_loss: 0.0422 - pred_loss: 0.5913 - decoded_mean_acc: 0.9315 - decoded_mean_f1_m: 0.0000e+00 - decoded_mean_precision_m: 0.0000e+00 - decoded_mean_recall_m: 0.0000e+00 - pred_acc: 0.6581 - pred_f1_m: 0.4641 - pred_precision_m: 0.4793 - pred_recall_m: 0.4500\n",
            "Epoch 00016: val_pred_acc did not improve from 0.66667\n",
            "350/350 [==============================] - 71s 203ms/sample - loss: 0.6328 - decoded_mean_loss: 0.0422 - pred_loss: 0.5913 - decoded_mean_acc: 0.9315 - decoded_mean_f1_m: 0.0000e+00 - decoded_mean_precision_m: 0.0000e+00 - decoded_mean_recall_m: 0.0000e+00 - pred_acc: 0.6581 - pred_f1_m: 0.4641 - pred_precision_m: 0.4793 - pred_recall_m: 0.4500 - val_loss: 0.6367 - val_decoded_mean_loss: 0.0408 - val_pred_loss: 0.6000 - val_decoded_mean_acc: 0.9329 - val_decoded_mean_f1_m: 0.0000e+00 - val_decoded_mean_precision_m: 0.0000e+00 - val_decoded_mean_recall_m: 0.0000e+00 - val_pred_acc: 0.6267 - val_pred_f1_m: 0.4002 - val_pred_precision_m: 0.4269 - val_pred_recall_m: 0.3767\n",
            "Epoch 17/100\n",
            "350/350 [==============================] - ETA: 0s - loss: 0.6293 - decoded_mean_loss: 0.0398 - pred_loss: 0.5872 - decoded_mean_acc: 0.9315 - decoded_mean_f1_m: 0.0000e+00 - decoded_mean_precision_m: 0.0000e+00 - decoded_mean_recall_m: 0.0000e+00 - pred_acc: 0.6590 - pred_f1_m: 0.4477 - pred_precision_m: 0.5024 - pred_recall_m: 0.4050\n",
            "Epoch 00017: val_pred_acc did not improve from 0.66667\n",
            "350/350 [==============================] - 69s 196ms/sample - loss: 0.6293 - decoded_mean_loss: 0.0398 - pred_loss: 0.5872 - decoded_mean_acc: 0.9315 - decoded_mean_f1_m: 0.0000e+00 - decoded_mean_precision_m: 0.0000e+00 - decoded_mean_recall_m: 0.0000e+00 - pred_acc: 0.6590 - pred_f1_m: 0.4477 - pred_precision_m: 0.5024 - pred_recall_m: 0.4050 - val_loss: 0.6329 - val_decoded_mean_loss: 0.0385 - val_pred_loss: 0.5976 - val_decoded_mean_acc: 0.9329 - val_decoded_mean_f1_m: 0.0000e+00 - val_decoded_mean_precision_m: 0.0000e+00 - val_decoded_mean_recall_m: 0.0000e+00 - val_pred_acc: 0.6320 - val_pred_f1_m: 0.3663 - val_pred_precision_m: 0.4230 - val_pred_recall_m: 0.3233\n",
            "Epoch 18/100\n",
            "350/350 [==============================] - ETA: 0s - loss: 0.6258 - decoded_mean_loss: 0.0376 - pred_loss: 0.5851 - decoded_mean_acc: 0.9315 - decoded_mean_f1_m: 0.0000e+00 - decoded_mean_precision_m: 0.0000e+00 - decoded_mean_recall_m: 0.0000e+00 - pred_acc: 0.6648 - pred_f1_m: 0.4571 - pred_precision_m: 0.5092 - pred_recall_m: 0.4150\n",
            "Epoch 00018: val_pred_acc did not improve from 0.66667\n",
            "350/350 [==============================] - 67s 192ms/sample - loss: 0.6258 - decoded_mean_loss: 0.0376 - pred_loss: 0.5851 - decoded_mean_acc: 0.9315 - decoded_mean_f1_m: 0.0000e+00 - decoded_mean_precision_m: 0.0000e+00 - decoded_mean_recall_m: 0.0000e+00 - pred_acc: 0.6648 - pred_f1_m: 0.4571 - pred_precision_m: 0.5092 - pred_recall_m: 0.4150 - val_loss: 0.6305 - val_decoded_mean_loss: 0.0364 - val_pred_loss: 0.5894 - val_decoded_mean_acc: 0.9329 - val_decoded_mean_f1_m: 0.0000e+00 - val_decoded_mean_precision_m: 0.0000e+00 - val_decoded_mean_recall_m: 0.0000e+00 - val_pred_acc: 0.6347 - val_pred_f1_m: 0.4262 - val_pred_precision_m: 0.4524 - val_pred_recall_m: 0.4033\n",
            "Epoch 19/100\n",
            "350/350 [==============================] - ETA: 0s - loss: 0.6220 - decoded_mean_loss: 0.0358 - pred_loss: 0.5868 - decoded_mean_acc: 0.9315 - decoded_mean_f1_m: 0.0000e+00 - decoded_mean_precision_m: 0.0000e+00 - decoded_mean_recall_m: 0.0000e+00 - pred_acc: 0.6695 - pred_f1_m: 0.4985 - pred_precision_m: 0.5132 - pred_recall_m: 0.4850\n",
            "Epoch 00019: val_pred_acc did not improve from 0.66667\n",
            "350/350 [==============================] - 68s 194ms/sample - loss: 0.6220 - decoded_mean_loss: 0.0358 - pred_loss: 0.5868 - decoded_mean_acc: 0.9315 - decoded_mean_f1_m: 0.0000e+00 - decoded_mean_precision_m: 0.0000e+00 - decoded_mean_recall_m: 0.0000e+00 - pred_acc: 0.6695 - pred_f1_m: 0.4985 - pred_precision_m: 0.5132 - pred_recall_m: 0.4850 - val_loss: 0.6299 - val_decoded_mean_loss: 0.0347 - val_pred_loss: 0.5947 - val_decoded_mean_acc: 0.9329 - val_decoded_mean_f1_m: 0.0000e+00 - val_decoded_mean_precision_m: 0.0000e+00 - val_decoded_mean_recall_m: 0.0000e+00 - val_pred_acc: 0.6347 - val_pred_f1_m: 0.4467 - val_pred_precision_m: 0.4467 - val_pred_recall_m: 0.4467\n",
            "Epoch 20/100\n",
            "350/350 [==============================] - ETA: 0s - loss: 0.6205 - decoded_mean_loss: 0.0339 - pred_loss: 0.5880 - decoded_mean_acc: 0.9315 - decoded_mean_f1_m: 0.0000e+00 - decoded_mean_precision_m: 0.0000e+00 - decoded_mean_recall_m: 0.0000e+00 - pred_acc: 0.6619 - pred_f1_m: 0.4932 - pred_precision_m: 0.4939 - pred_recall_m: 0.4925\n",
            "Epoch 00020: val_pred_acc did not improve from 0.66667\n",
            "350/350 [==============================] - 69s 196ms/sample - loss: 0.6205 - decoded_mean_loss: 0.0339 - pred_loss: 0.5880 - decoded_mean_acc: 0.9315 - decoded_mean_f1_m: 0.0000e+00 - decoded_mean_precision_m: 0.0000e+00 - decoded_mean_recall_m: 0.0000e+00 - pred_acc: 0.6619 - pred_f1_m: 0.4932 - pred_precision_m: 0.4939 - pred_recall_m: 0.4925 - val_loss: 0.6274 - val_decoded_mean_loss: 0.0324 - val_pred_loss: 0.6015 - val_decoded_mean_acc: 0.9329 - val_decoded_mean_f1_m: 0.0000e+00 - val_decoded_mean_precision_m: 0.0000e+00 - val_decoded_mean_recall_m: 0.0000e+00 - val_pred_acc: 0.6347 - val_pred_f1_m: 0.4433 - val_pred_precision_m: 0.4433 - val_pred_recall_m: 0.4433\n",
            "Epoch 21/100\n",
            "350/350 [==============================] - ETA: 0s - loss: 0.6153 - decoded_mean_loss: 0.0315 - pred_loss: 0.5859 - decoded_mean_acc: 0.9315 - decoded_mean_f1_m: 0.0000e+00 - decoded_mean_precision_m: 0.0000e+00 - decoded_mean_recall_m: 0.0000e+00 - pred_acc: 0.6610 - pred_f1_m: 0.4825 - pred_precision_m: 0.4825 - pred_recall_m: 0.4825\n",
            "Epoch 00021: val_pred_acc did not improve from 0.66667\n",
            "350/350 [==============================] - 68s 194ms/sample - loss: 0.6153 - decoded_mean_loss: 0.0315 - pred_loss: 0.5859 - decoded_mean_acc: 0.9315 - decoded_mean_f1_m: 0.0000e+00 - decoded_mean_precision_m: 0.0000e+00 - decoded_mean_recall_m: 0.0000e+00 - pred_acc: 0.6610 - pred_f1_m: 0.4825 - pred_precision_m: 0.4825 - pred_recall_m: 0.4825 - val_loss: 0.6247 - val_decoded_mean_loss: 0.0300 - val_pred_loss: 0.5917 - val_decoded_mean_acc: 0.9329 - val_decoded_mean_f1_m: 0.0000e+00 - val_decoded_mean_precision_m: 0.0000e+00 - val_decoded_mean_recall_m: 0.0000e+00 - val_pred_acc: 0.6347 - val_pred_f1_m: 0.4567 - val_pred_precision_m: 0.4567 - val_pred_recall_m: 0.4567\n",
            "Epoch 22/100\n",
            "350/350 [==============================] - ETA: 0s - loss: 0.6127 - decoded_mean_loss: 0.0290 - pred_loss: 0.5813 - decoded_mean_acc: 0.9315 - decoded_mean_f1_m: 0.0000e+00 - decoded_mean_precision_m: 0.0000e+00 - decoded_mean_recall_m: 0.0000e+00 - pred_acc: 0.6610 - pred_f1_m: 0.4900 - pred_precision_m: 0.4900 - pred_recall_m: 0.4900\n",
            "Epoch 00022: val_pred_acc did not improve from 0.66667\n",
            "350/350 [==============================] - 67s 192ms/sample - loss: 0.6127 - decoded_mean_loss: 0.0290 - pred_loss: 0.5813 - decoded_mean_acc: 0.9315 - decoded_mean_f1_m: 0.0000e+00 - decoded_mean_precision_m: 0.0000e+00 - decoded_mean_recall_m: 0.0000e+00 - pred_acc: 0.6610 - pred_f1_m: 0.4900 - pred_precision_m: 0.4900 - pred_recall_m: 0.4900 - val_loss: 0.6203 - val_decoded_mean_loss: 0.0275 - val_pred_loss: 0.5897 - val_decoded_mean_acc: 0.9329 - val_decoded_mean_f1_m: 0.0000e+00 - val_decoded_mean_precision_m: 0.0000e+00 - val_decoded_mean_recall_m: 0.0000e+00 - val_pred_acc: 0.6347 - val_pred_f1_m: 0.4467 - val_pred_precision_m: 0.4467 - val_pred_recall_m: 0.4467\n",
            "Epoch 23/100\n",
            "350/350 [==============================] - ETA: 0s - loss: 0.6093 - decoded_mean_loss: 0.0265 - pred_loss: 0.5800 - decoded_mean_acc: 0.9315 - decoded_mean_f1_m: 0.0000e+00 - decoded_mean_precision_m: 0.0000e+00 - decoded_mean_recall_m: 0.0000e+00 - pred_acc: 0.6619 - pred_f1_m: 0.4976 - pred_precision_m: 0.5002 - pred_recall_m: 0.4950\n",
            "Epoch 00023: val_pred_acc did not improve from 0.66667\n",
            "350/350 [==============================] - 68s 194ms/sample - loss: 0.6093 - decoded_mean_loss: 0.0265 - pred_loss: 0.5800 - decoded_mean_acc: 0.9315 - decoded_mean_f1_m: 0.0000e+00 - decoded_mean_precision_m: 0.0000e+00 - decoded_mean_recall_m: 0.0000e+00 - pred_acc: 0.6619 - pred_f1_m: 0.4976 - pred_precision_m: 0.5002 - pred_recall_m: 0.4950 - val_loss: 0.6154 - val_decoded_mean_loss: 0.0251 - val_pred_loss: 0.5868 - val_decoded_mean_acc: 0.9329 - val_decoded_mean_f1_m: 0.0000e+00 - val_decoded_mean_precision_m: 0.0000e+00 - val_decoded_mean_recall_m: 0.0000e+00 - val_pred_acc: 0.6427 - val_pred_f1_m: 0.4688 - val_pred_precision_m: 0.4745 - val_pred_recall_m: 0.4633\n",
            "Epoch 24/100\n",
            "350/350 [==============================] - ETA: 0s - loss: 0.6045 - decoded_mean_loss: 0.0243 - pred_loss: 0.5756 - decoded_mean_acc: 0.9315 - decoded_mean_f1_m: 0.0000e+00 - decoded_mean_precision_m: 0.0000e+00 - decoded_mean_recall_m: 0.0000e+00 - pred_acc: 0.6705 - pred_f1_m: 0.4974 - pred_precision_m: 0.5260 - pred_recall_m: 0.4725\n",
            "Epoch 00024: val_pred_acc did not improve from 0.66667\n",
            "350/350 [==============================] - 67s 193ms/sample - loss: 0.6045 - decoded_mean_loss: 0.0243 - pred_loss: 0.5756 - decoded_mean_acc: 0.9315 - decoded_mean_f1_m: 0.0000e+00 - decoded_mean_precision_m: 0.0000e+00 - decoded_mean_recall_m: 0.0000e+00 - pred_acc: 0.6705 - pred_f1_m: 0.4974 - pred_precision_m: 0.5260 - pred_recall_m: 0.4725 - val_loss: 0.6107 - val_decoded_mean_loss: 0.0230 - val_pred_loss: 0.5882 - val_decoded_mean_acc: 0.9329 - val_decoded_mean_f1_m: 0.0000e+00 - val_decoded_mean_precision_m: 0.0000e+00 - val_decoded_mean_recall_m: 0.0000e+00 - val_pred_acc: 0.6507 - val_pred_f1_m: 0.4536 - val_pred_precision_m: 0.4681 - val_pred_recall_m: 0.4400\n",
            "Epoch 25/100\n",
            "350/350 [==============================] - ETA: 0s - loss: 0.6011 - decoded_mean_loss: 0.0224 - pred_loss: 0.5831 - decoded_mean_acc: 0.9315 - decoded_mean_f1_m: 0.0000e+00 - decoded_mean_precision_m: 0.0000e+00 - decoded_mean_recall_m: 0.0000e+00 - pred_acc: 0.6705 - pred_f1_m: 0.4853 - pred_precision_m: 0.4963 - pred_recall_m: 0.4750\n",
            "Epoch 00025: val_pred_acc did not improve from 0.66667\n",
            "350/350 [==============================] - 68s 195ms/sample - loss: 0.6011 - decoded_mean_loss: 0.0224 - pred_loss: 0.5831 - decoded_mean_acc: 0.9315 - decoded_mean_f1_m: 0.0000e+00 - decoded_mean_precision_m: 0.0000e+00 - decoded_mean_recall_m: 0.0000e+00 - pred_acc: 0.6705 - pred_f1_m: 0.4853 - pred_precision_m: 0.4963 - pred_recall_m: 0.4750 - val_loss: 0.6083 - val_decoded_mean_loss: 0.0212 - val_pred_loss: 0.5931 - val_decoded_mean_acc: 0.9329 - val_decoded_mean_f1_m: 0.0000e+00 - val_decoded_mean_precision_m: 0.0000e+00 - val_decoded_mean_recall_m: 0.0000e+00 - val_pred_acc: 0.6453 - val_pred_f1_m: 0.4461 - val_pred_precision_m: 0.4560 - val_pred_recall_m: 0.4367\n",
            "Epoch 26/100\n",
            "350/350 [==============================] - ETA: 0s - loss: 0.5950 - decoded_mean_loss: 0.0203 - pred_loss: 0.5735 - decoded_mean_acc: 0.9315 - decoded_mean_f1_m: 0.0000e+00 - decoded_mean_precision_m: 0.0000e+00 - decoded_mean_recall_m: 0.0000e+00 - pred_acc: 0.6686 - pred_f1_m: 0.5051 - pred_precision_m: 0.5157 - pred_recall_m: 0.4950\n",
            "Epoch 00026: val_pred_acc did not improve from 0.66667\n",
            "350/350 [==============================] - 68s 194ms/sample - loss: 0.5950 - decoded_mean_loss: 0.0203 - pred_loss: 0.5735 - decoded_mean_acc: 0.9315 - decoded_mean_f1_m: 0.0000e+00 - decoded_mean_precision_m: 0.0000e+00 - decoded_mean_recall_m: 0.0000e+00 - pred_acc: 0.6686 - pred_f1_m: 0.5051 - pred_precision_m: 0.5157 - pred_recall_m: 0.4950 - val_loss: 0.6029 - val_decoded_mean_loss: 0.0188 - val_pred_loss: 0.5851 - val_decoded_mean_acc: 0.9329 - val_decoded_mean_f1_m: 0.0000e+00 - val_decoded_mean_precision_m: 0.0000e+00 - val_decoded_mean_recall_m: 0.0000e+00 - val_pred_acc: 0.6600 - val_pred_f1_m: 0.4479 - val_pred_precision_m: 0.4758 - val_pred_recall_m: 0.4233\n",
            "Epoch 27/100\n",
            "350/350 [==============================] - ETA: 0s - loss: 0.5902 - decoded_mean_loss: 0.0178 - pred_loss: 0.5752 - decoded_mean_acc: 0.9315 - decoded_mean_f1_m: 0.0000e+00 - decoded_mean_precision_m: 0.0000e+00 - decoded_mean_recall_m: 0.0000e+00 - pred_acc: 0.6781 - pred_f1_m: 0.4869 - pred_precision_m: 0.5081 - pred_recall_m: 0.4675\n",
            "Epoch 00027: val_pred_acc did not improve from 0.66667\n",
            "350/350 [==============================] - 67s 193ms/sample - loss: 0.5902 - decoded_mean_loss: 0.0178 - pred_loss: 0.5752 - decoded_mean_acc: 0.9315 - decoded_mean_f1_m: 0.0000e+00 - decoded_mean_precision_m: 0.0000e+00 - decoded_mean_recall_m: 0.0000e+00 - pred_acc: 0.6781 - pred_f1_m: 0.4869 - pred_precision_m: 0.5081 - pred_recall_m: 0.4675 - val_loss: 0.5988 - val_decoded_mean_loss: 0.0165 - val_pred_loss: 0.5904 - val_decoded_mean_acc: 0.9329 - val_decoded_mean_f1_m: 0.0000e+00 - val_decoded_mean_precision_m: 0.0000e+00 - val_decoded_mean_recall_m: 0.0000e+00 - val_pred_acc: 0.6653 - val_pred_f1_m: 0.4581 - val_pred_precision_m: 0.4901 - val_pred_recall_m: 0.4300\n",
            "Epoch 28/100\n",
            "350/350 [==============================] - ETA: 0s - loss: 0.5836 - decoded_mean_loss: 0.0156 - pred_loss: 0.5688 - decoded_mean_acc: 0.9315 - decoded_mean_f1_m: 0.0000e+00 - decoded_mean_precision_m: 0.0000e+00 - decoded_mean_recall_m: 0.0000e+00 - pred_acc: 0.6943 - pred_f1_m: 0.5103 - pred_precision_m: 0.5561 - pred_recall_m: 0.4725\n",
            "Epoch 00028: val_pred_acc improved from 0.66667 to 0.67333, saving model to /content/drive/MyDrive/A_ameliorer_2/Test1.h5\n",
            "350/350 [==============================] - 70s 200ms/sample - loss: 0.5836 - decoded_mean_loss: 0.0156 - pred_loss: 0.5688 - decoded_mean_acc: 0.9315 - decoded_mean_f1_m: 0.0000e+00 - decoded_mean_precision_m: 0.0000e+00 - decoded_mean_recall_m: 0.0000e+00 - pred_acc: 0.6943 - pred_f1_m: 0.5103 - pred_precision_m: 0.5561 - pred_recall_m: 0.4725 - val_loss: 0.5938 - val_decoded_mean_loss: 0.0146 - val_pred_loss: 0.5759 - val_decoded_mean_acc: 0.9329 - val_decoded_mean_f1_m: 0.0000e+00 - val_decoded_mean_precision_m: 0.0000e+00 - val_decoded_mean_recall_m: 0.0000e+00 - val_pred_acc: 0.6733 - val_pred_f1_m: 0.4759 - val_pred_precision_m: 0.5137 - val_pred_recall_m: 0.4433\n",
            "Epoch 29/100\n",
            "350/350 [==============================] - ETA: 0s - loss: 0.5729 - decoded_mean_loss: 0.0141 - pred_loss: 0.5634 - decoded_mean_acc: 0.9315 - decoded_mean_f1_m: 0.0000e+00 - decoded_mean_precision_m: 0.0000e+00 - decoded_mean_recall_m: 0.0000e+00 - pred_acc: 0.7000 - pred_f1_m: 0.5191 - pred_precision_m: 0.5519 - pred_recall_m: 0.4900\n",
            "Epoch 00029: val_pred_acc improved from 0.67333 to 0.67733, saving model to /content/drive/MyDrive/A_ameliorer_2/Test1.h5\n",
            "350/350 [==============================] - 70s 200ms/sample - loss: 0.5729 - decoded_mean_loss: 0.0141 - pred_loss: 0.5634 - decoded_mean_acc: 0.9315 - decoded_mean_f1_m: 0.0000e+00 - decoded_mean_precision_m: 0.0000e+00 - decoded_mean_recall_m: 0.0000e+00 - pred_acc: 0.7000 - pred_f1_m: 0.5191 - pred_precision_m: 0.5519 - pred_recall_m: 0.4900 - val_loss: 0.5888 - val_decoded_mean_loss: 0.0132 - val_pred_loss: 0.5775 - val_decoded_mean_acc: 0.9329 - val_decoded_mean_f1_m: 0.0000e+00 - val_decoded_mean_precision_m: 0.0000e+00 - val_decoded_mean_recall_m: 0.0000e+00 - val_pred_acc: 0.6773 - val_pred_f1_m: 0.4911 - val_pred_precision_m: 0.5184 - val_pred_recall_m: 0.4667\n",
            "Epoch 30/100\n",
            "350/350 [==============================] - ETA: 0s - loss: 0.5632 - decoded_mean_loss: 0.0129 - pred_loss: 0.5490 - decoded_mean_acc: 0.9315 - decoded_mean_f1_m: 0.5270 - decoded_mean_precision_m: 0.7457 - decoded_mean_recall_m: 0.4539 - pred_acc: 0.7048 - pred_f1_m: 0.5332 - pred_precision_m: 0.5625 - pred_recall_m: 0.5075\n",
            "Epoch 00030: val_pred_acc improved from 0.67733 to 0.68533, saving model to /content/drive/MyDrive/A_ameliorer_2/Test1.h5\n",
            "350/350 [==============================] - 70s 201ms/sample - loss: 0.5632 - decoded_mean_loss: 0.0129 - pred_loss: 0.5490 - decoded_mean_acc: 0.9315 - decoded_mean_f1_m: 0.5270 - decoded_mean_precision_m: 0.7457 - decoded_mean_recall_m: 0.4539 - pred_acc: 0.7048 - pred_f1_m: 0.5332 - pred_precision_m: 0.5625 - pred_recall_m: 0.5075 - val_loss: 0.5820 - val_decoded_mean_loss: 0.0121 - val_pred_loss: 0.5668 - val_decoded_mean_acc: 0.9329 - val_decoded_mean_f1_m: 0.9042 - val_decoded_mean_precision_m: 0.9929 - val_decoded_mean_recall_m: 0.8300 - val_pred_acc: 0.6853 - val_pred_f1_m: 0.5043 - val_pred_precision_m: 0.5273 - val_pred_recall_m: 0.4833\n",
            "Epoch 31/100\n",
            "350/350 [==============================] - ETA: 0s - loss: 0.5544 - decoded_mean_loss: 0.0119 - pred_loss: 0.5403 - decoded_mean_acc: 0.9315 - decoded_mean_f1_m: 0.9076 - decoded_mean_precision_m: 0.9918 - decoded_mean_recall_m: 0.8366 - pred_acc: 0.7267 - pred_f1_m: 0.5781 - pred_precision_m: 0.6126 - pred_recall_m: 0.5475\n",
            "Epoch 00031: val_pred_acc improved from 0.68533 to 0.68533, saving model to /content/drive/MyDrive/A_ameliorer_2/Test1.h5\n",
            "350/350 [==============================] - 70s 199ms/sample - loss: 0.5544 - decoded_mean_loss: 0.0119 - pred_loss: 0.5403 - decoded_mean_acc: 0.9315 - decoded_mean_f1_m: 0.9076 - decoded_mean_precision_m: 0.9918 - decoded_mean_recall_m: 0.8366 - pred_acc: 0.7267 - pred_f1_m: 0.5781 - pred_precision_m: 0.6126 - pred_recall_m: 0.5475 - val_loss: 0.5748 - val_decoded_mean_loss: 0.0119 - val_pred_loss: 0.5681 - val_decoded_mean_acc: 0.9329 - val_decoded_mean_f1_m: 0.9125 - val_decoded_mean_precision_m: 0.9883 - val_decoded_mean_recall_m: 0.8475 - val_pred_acc: 0.6853 - val_pred_f1_m: 0.5032 - val_pred_precision_m: 0.5209 - val_pred_recall_m: 0.4867\n",
            "Epoch 32/100\n",
            "350/350 [==============================] - ETA: 0s - loss: 0.5452 - decoded_mean_loss: 0.0118 - pred_loss: 0.5274 - decoded_mean_acc: 0.9315 - decoded_mean_f1_m: 0.9152 - decoded_mean_precision_m: 0.9887 - decoded_mean_recall_m: 0.8519 - pred_acc: 0.7200 - pred_f1_m: 0.5718 - pred_precision_m: 0.5986 - pred_recall_m: 0.5475\n",
            "Epoch 00032: val_pred_acc did not improve from 0.68533\n",
            "350/350 [==============================] - 68s 195ms/sample - loss: 0.5452 - decoded_mean_loss: 0.0118 - pred_loss: 0.5274 - decoded_mean_acc: 0.9315 - decoded_mean_f1_m: 0.9152 - decoded_mean_precision_m: 0.9887 - decoded_mean_recall_m: 0.8519 - pred_acc: 0.7200 - pred_f1_m: 0.5718 - pred_precision_m: 0.5986 - pred_recall_m: 0.5475 - val_loss: 0.5800 - val_decoded_mean_loss: 0.0122 - val_pred_loss: 0.5651 - val_decoded_mean_acc: 0.9329 - val_decoded_mean_f1_m: 0.9182 - val_decoded_mean_precision_m: 0.9867 - val_decoded_mean_recall_m: 0.8586 - val_pred_acc: 0.6827 - val_pred_f1_m: 0.5153 - val_pred_precision_m: 0.5279 - val_pred_recall_m: 0.5033\n",
            "Epoch 33/100\n",
            "350/350 [==============================] - ETA: 0s - loss: 0.5378 - decoded_mean_loss: 0.0128 - pred_loss: 0.5276 - decoded_mean_acc: 0.9315 - decoded_mean_f1_m: 0.9188 - decoded_mean_precision_m: 0.9856 - decoded_mean_recall_m: 0.8604 - pred_acc: 0.7390 - pred_f1_m: 0.5944 - pred_precision_m: 0.6097 - pred_recall_m: 0.5800\n",
            "Epoch 00033: val_pred_acc did not improve from 0.68533\n",
            "350/350 [==============================] - 68s 193ms/sample - loss: 0.5378 - decoded_mean_loss: 0.0128 - pred_loss: 0.5276 - decoded_mean_acc: 0.9315 - decoded_mean_f1_m: 0.9188 - decoded_mean_precision_m: 0.9856 - decoded_mean_recall_m: 0.8604 - pred_acc: 0.7390 - pred_f1_m: 0.5944 - pred_precision_m: 0.6097 - pred_recall_m: 0.5800 - val_loss: 0.5795 - val_decoded_mean_loss: 0.0120 - val_pred_loss: 0.5628 - val_decoded_mean_acc: 0.9329 - val_decoded_mean_f1_m: 0.9202 - val_decoded_mean_precision_m: 0.9845 - val_decoded_mean_recall_m: 0.8637 - val_pred_acc: 0.6853 - val_pred_f1_m: 0.5097 - val_pred_precision_m: 0.5354 - val_pred_recall_m: 0.4867\n",
            "Epoch 34/100\n",
            "350/350 [==============================] - ETA: 0s - loss: 0.5303 - decoded_mean_loss: 0.0114 - pred_loss: 0.5158 - decoded_mean_acc: 0.9315 - decoded_mean_f1_m: 0.9207 - decoded_mean_precision_m: 0.9845 - decoded_mean_recall_m: 0.8646 - pred_acc: 0.7505 - pred_f1_m: 0.6231 - pred_precision_m: 0.6368 - pred_recall_m: 0.6100\n",
            "Epoch 00034: val_pred_acc did not improve from 0.68533\n",
            "350/350 [==============================] - 67s 190ms/sample - loss: 0.5303 - decoded_mean_loss: 0.0114 - pred_loss: 0.5158 - decoded_mean_acc: 0.9315 - decoded_mean_f1_m: 0.9207 - decoded_mean_precision_m: 0.9845 - decoded_mean_recall_m: 0.8646 - pred_acc: 0.7505 - pred_f1_m: 0.6231 - pred_precision_m: 0.6368 - pred_recall_m: 0.6100 - val_loss: 0.5790 - val_decoded_mean_loss: 0.0107 - val_pred_loss: 0.5748 - val_decoded_mean_acc: 0.9329 - val_decoded_mean_f1_m: 0.9214 - val_decoded_mean_precision_m: 0.9831 - val_decoded_mean_recall_m: 0.8670 - val_pred_acc: 0.6827 - val_pred_f1_m: 0.4995 - val_pred_precision_m: 0.5173 - val_pred_recall_m: 0.4833\n",
            "Epoch 35/100\n",
            "350/350 [==============================] - ETA: 0s - loss: 0.5267 - decoded_mean_loss: 0.0106 - pred_loss: 0.5160 - decoded_mean_acc: 0.9315 - decoded_mean_f1_m: 0.9219 - decoded_mean_precision_m: 0.9834 - decoded_mean_recall_m: 0.8676 - pred_acc: 0.7429 - pred_f1_m: 0.6000 - pred_precision_m: 0.6274 - pred_recall_m: 0.5750\n",
            "Epoch 00035: val_pred_acc did not improve from 0.68533\n",
            "350/350 [==============================] - 68s 194ms/sample - loss: 0.5267 - decoded_mean_loss: 0.0106 - pred_loss: 0.5160 - decoded_mean_acc: 0.9315 - decoded_mean_f1_m: 0.9219 - decoded_mean_precision_m: 0.9834 - decoded_mean_recall_m: 0.8676 - pred_acc: 0.7429 - pred_f1_m: 0.6000 - pred_precision_m: 0.6274 - pred_recall_m: 0.5750 - val_loss: 0.5708 - val_decoded_mean_loss: 0.0100 - val_pred_loss: 0.5548 - val_decoded_mean_acc: 0.9329 - val_decoded_mean_f1_m: 0.9223 - val_decoded_mean_precision_m: 0.9820 - val_decoded_mean_recall_m: 0.8693 - val_pred_acc: 0.6840 - val_pred_f1_m: 0.5239 - val_pred_precision_m: 0.5468 - val_pred_recall_m: 0.5033\n",
            "Epoch 36/100\n",
            "350/350 [==============================] - ETA: 0s - loss: 0.5098 - decoded_mean_loss: 0.0101 - pred_loss: 0.5032 - decoded_mean_acc: 0.9315 - decoded_mean_f1_m: 0.9232 - decoded_mean_precision_m: 0.9826 - decoded_mean_recall_m: 0.8706 - pred_acc: 0.7629 - pred_f1_m: 0.6230 - pred_precision_m: 0.6538 - pred_recall_m: 0.5950\n",
            "Epoch 00036: val_pred_acc did not improve from 0.68533\n",
            "350/350 [==============================] - 67s 191ms/sample - loss: 0.5098 - decoded_mean_loss: 0.0101 - pred_loss: 0.5032 - decoded_mean_acc: 0.9315 - decoded_mean_f1_m: 0.9232 - decoded_mean_precision_m: 0.9826 - decoded_mean_recall_m: 0.8706 - pred_acc: 0.7629 - pred_f1_m: 0.6230 - pred_precision_m: 0.6538 - pred_recall_m: 0.5950 - val_loss: 0.5731 - val_decoded_mean_loss: 0.0102 - val_pred_loss: 0.5627 - val_decoded_mean_acc: 0.9329 - val_decoded_mean_f1_m: 0.9244 - val_decoded_mean_precision_m: 0.9812 - val_decoded_mean_recall_m: 0.8739 - val_pred_acc: 0.6773 - val_pred_f1_m: 0.4973 - val_pred_precision_m: 0.5160 - val_pred_recall_m: 0.4800\n",
            "Epoch 37/100\n",
            "350/350 [==============================] - ETA: 0s - loss: 0.5163 - decoded_mean_loss: 0.0105 - pred_loss: 0.4986 - decoded_mean_acc: 0.9315 - decoded_mean_f1_m: 0.9244 - decoded_mean_precision_m: 0.9805 - decoded_mean_recall_m: 0.8743 - pred_acc: 0.7543 - pred_f1_m: 0.6322 - pred_precision_m: 0.6564 - pred_recall_m: 0.6100\n",
            "Epoch 00037: val_pred_acc did not improve from 0.68533\n",
            "350/350 [==============================] - 67s 191ms/sample - loss: 0.5163 - decoded_mean_loss: 0.0105 - pred_loss: 0.4986 - decoded_mean_acc: 0.9315 - decoded_mean_f1_m: 0.9244 - decoded_mean_precision_m: 0.9805 - decoded_mean_recall_m: 0.8743 - pred_acc: 0.7543 - pred_f1_m: 0.6322 - pred_precision_m: 0.6564 - pred_recall_m: 0.6100 - val_loss: 0.5775 - val_decoded_mean_loss: 0.0107 - val_pred_loss: 0.5652 - val_decoded_mean_acc: 0.9329 - val_decoded_mean_f1_m: 0.9257 - val_decoded_mean_precision_m: 0.9802 - val_decoded_mean_recall_m: 0.8770 - val_pred_acc: 0.6813 - val_pred_f1_m: 0.5174 - val_pred_precision_m: 0.5325 - val_pred_recall_m: 0.5033\n",
            "Epoch 38/100\n",
            "350/350 [==============================] - ETA: 0s - loss: 0.5004 - decoded_mean_loss: 0.0114 - pred_loss: 0.4922 - decoded_mean_acc: 0.9315 - decoded_mean_f1_m: 0.9255 - decoded_mean_precision_m: 0.9788 - decoded_mean_recall_m: 0.8777 - pred_acc: 0.7590 - pred_f1_m: 0.6294 - pred_precision_m: 0.6392 - pred_recall_m: 0.6200\n",
            "Epoch 00038: val_pred_acc did not improve from 0.68533\n",
            "350/350 [==============================] - 66s 190ms/sample - loss: 0.5004 - decoded_mean_loss: 0.0114 - pred_loss: 0.4922 - decoded_mean_acc: 0.9315 - decoded_mean_f1_m: 0.9255 - decoded_mean_precision_m: 0.9788 - decoded_mean_recall_m: 0.8777 - pred_acc: 0.7590 - pred_f1_m: 0.6294 - pred_precision_m: 0.6392 - pred_recall_m: 0.6200 - val_loss: 0.5853 - val_decoded_mean_loss: 0.0118 - val_pred_loss: 0.5728 - val_decoded_mean_acc: 0.9329 - val_decoded_mean_f1_m: 0.9277 - val_decoded_mean_precision_m: 0.9792 - val_decoded_mean_recall_m: 0.8814 - val_pred_acc: 0.6813 - val_pred_f1_m: 0.5115 - val_pred_precision_m: 0.5316 - val_pred_recall_m: 0.4933\n",
            "Epoch 39/100\n",
            "350/350 [==============================] - ETA: 0s - loss: 0.4897 - decoded_mean_loss: 0.0117 - pred_loss: 0.4724 - decoded_mean_acc: 0.9315 - decoded_mean_f1_m: 0.9270 - decoded_mean_precision_m: 0.9789 - decoded_mean_recall_m: 0.8804 - pred_acc: 0.7667 - pred_f1_m: 0.6411 - pred_precision_m: 0.6581 - pred_recall_m: 0.6250\n",
            "Epoch 00039: val_pred_acc did not improve from 0.68533\n",
            "350/350 [==============================] - 67s 192ms/sample - loss: 0.4897 - decoded_mean_loss: 0.0117 - pred_loss: 0.4724 - decoded_mean_acc: 0.9315 - decoded_mean_f1_m: 0.9270 - decoded_mean_precision_m: 0.9789 - decoded_mean_recall_m: 0.8804 - pred_acc: 0.7667 - pred_f1_m: 0.6411 - pred_precision_m: 0.6581 - pred_recall_m: 0.6250 - val_loss: 0.5800 - val_decoded_mean_loss: 0.0114 - val_pred_loss: 0.5721 - val_decoded_mean_acc: 0.9329 - val_decoded_mean_f1_m: 0.9276 - val_decoded_mean_precision_m: 0.9788 - val_decoded_mean_recall_m: 0.8815 - val_pred_acc: 0.6827 - val_pred_f1_m: 0.5061 - val_pred_precision_m: 0.5234 - val_pred_recall_m: 0.4900\n",
            "Epoch 40/100\n",
            "350/350 [==============================] - ETA: 0s - loss: 0.4860 - decoded_mean_loss: 0.0112 - pred_loss: 0.4790 - decoded_mean_acc: 0.9315 - decoded_mean_f1_m: 0.9271 - decoded_mean_precision_m: 0.9795 - decoded_mean_recall_m: 0.8800 - pred_acc: 0.7667 - pred_f1_m: 0.6272 - pred_precision_m: 0.6455 - pred_recall_m: 0.6100\n",
            "Epoch 00040: val_pred_acc did not improve from 0.68533\n",
            "350/350 [==============================] - 67s 191ms/sample - loss: 0.4860 - decoded_mean_loss: 0.0112 - pred_loss: 0.4790 - decoded_mean_acc: 0.9315 - decoded_mean_f1_m: 0.9271 - decoded_mean_precision_m: 0.9795 - decoded_mean_recall_m: 0.8800 - pred_acc: 0.7667 - pred_f1_m: 0.6272 - pred_precision_m: 0.6455 - pred_recall_m: 0.6100 - val_loss: 0.5777 - val_decoded_mean_loss: 0.0106 - val_pred_loss: 0.5668 - val_decoded_mean_acc: 0.9329 - val_decoded_mean_f1_m: 0.9273 - val_decoded_mean_precision_m: 0.9787 - val_decoded_mean_recall_m: 0.8810 - val_pred_acc: 0.6853 - val_pred_f1_m: 0.5035 - val_pred_precision_m: 0.5340 - val_pred_recall_m: 0.4767\n",
            "Epoch 41/100\n",
            "350/350 [==============================] - ETA: 0s - loss: 0.4779 - decoded_mean_loss: 0.0110 - pred_loss: 0.4583 - decoded_mean_acc: 0.9315 - decoded_mean_f1_m: 0.9264 - decoded_mean_precision_m: 0.9787 - decoded_mean_recall_m: 0.8795 - pred_acc: 0.7857 - pred_f1_m: 0.6824 - pred_precision_m: 0.7009 - pred_recall_m: 0.6650\n",
            "Epoch 00041: val_pred_acc did not improve from 0.68533\n",
            "350/350 [==============================] - 68s 194ms/sample - loss: 0.4779 - decoded_mean_loss: 0.0110 - pred_loss: 0.4583 - decoded_mean_acc: 0.9315 - decoded_mean_f1_m: 0.9264 - decoded_mean_precision_m: 0.9787 - decoded_mean_recall_m: 0.8795 - pred_acc: 0.7857 - pred_f1_m: 0.6824 - pred_precision_m: 0.7009 - pred_recall_m: 0.6650 - val_loss: 0.5846 - val_decoded_mean_loss: 0.0111 - val_pred_loss: 0.5803 - val_decoded_mean_acc: 0.9329 - val_decoded_mean_f1_m: 0.9279 - val_decoded_mean_precision_m: 0.9781 - val_decoded_mean_recall_m: 0.8827 - val_pred_acc: 0.6840 - val_pred_f1_m: 0.4996 - val_pred_precision_m: 0.5173 - val_pred_recall_m: 0.4833\n",
            "Epoch 42/100\n",
            "350/350 [==============================] - ETA: 0s - loss: 0.4962 - decoded_mean_loss: 0.0119 - pred_loss: 0.4915 - decoded_mean_acc: 0.9315 - decoded_mean_f1_m: 0.9276 - decoded_mean_precision_m: 0.9778 - decoded_mean_recall_m: 0.8823 - pred_acc: 0.7552 - pred_f1_m: 0.6159 - pred_precision_m: 0.6275 - pred_recall_m: 0.6050\n",
            "Epoch 00042: val_pred_acc did not improve from 0.68533\n",
            "350/350 [==============================] - 67s 191ms/sample - loss: 0.4962 - decoded_mean_loss: 0.0119 - pred_loss: 0.4915 - decoded_mean_acc: 0.9315 - decoded_mean_f1_m: 0.9276 - decoded_mean_precision_m: 0.9778 - decoded_mean_recall_m: 0.8823 - pred_acc: 0.7552 - pred_f1_m: 0.6159 - pred_precision_m: 0.6275 - pred_recall_m: 0.6050 - val_loss: 0.5927 - val_decoded_mean_loss: 0.0112 - val_pred_loss: 0.5823 - val_decoded_mean_acc: 0.9329 - val_decoded_mean_f1_m: 0.9291 - val_decoded_mean_precision_m: 0.9784 - val_decoded_mean_recall_m: 0.8845 - val_pred_acc: 0.6813 - val_pred_f1_m: 0.5130 - val_pred_precision_m: 0.5268 - val_pred_recall_m: 0.5000\n",
            "Epoch 43/100\n",
            "350/350 [==============================] - ETA: 0s - loss: 0.4623 - decoded_mean_loss: 0.0112 - pred_loss: 0.4460 - decoded_mean_acc: 0.9315 - decoded_mean_f1_m: 0.9281 - decoded_mean_precision_m: 0.9782 - decoded_mean_recall_m: 0.8829 - pred_acc: 0.7714 - pred_f1_m: 0.6558 - pred_precision_m: 0.6755 - pred_recall_m: 0.6375\n",
            "Epoch 00043: val_pred_acc improved from 0.68533 to 0.69067, saving model to /content/drive/MyDrive/A_ameliorer_2/Test1.h5\n",
            "350/350 [==============================] - 69s 198ms/sample - loss: 0.4623 - decoded_mean_loss: 0.0112 - pred_loss: 0.4460 - decoded_mean_acc: 0.9315 - decoded_mean_f1_m: 0.9281 - decoded_mean_precision_m: 0.9782 - decoded_mean_recall_m: 0.8829 - pred_acc: 0.7714 - pred_f1_m: 0.6558 - pred_precision_m: 0.6755 - pred_recall_m: 0.6375 - val_loss: 0.5879 - val_decoded_mean_loss: 0.0105 - val_pred_loss: 0.5657 - val_decoded_mean_acc: 0.9329 - val_decoded_mean_f1_m: 0.9296 - val_decoded_mean_precision_m: 0.9790 - val_decoded_mean_recall_m: 0.8850 - val_pred_acc: 0.6907 - val_pred_f1_m: 0.5324 - val_pred_precision_m: 0.5533 - val_pred_recall_m: 0.5133\n",
            "Epoch 44/100\n",
            "350/350 [==============================] - ETA: 0s - loss: 0.4526 - decoded_mean_loss: 0.0113 - pred_loss: 0.4469 - decoded_mean_acc: 0.9315 - decoded_mean_f1_m: 0.9287 - decoded_mean_precision_m: 0.9785 - decoded_mean_recall_m: 0.8837 - pred_acc: 0.7895 - pred_f1_m: 0.6667 - pred_precision_m: 0.6873 - pred_recall_m: 0.6475\n",
            "Epoch 00044: val_pred_acc improved from 0.69067 to 0.69333, saving model to /content/drive/MyDrive/A_ameliorer_2/Test1.h5\n",
            "350/350 [==============================] - 69s 198ms/sample - loss: 0.4526 - decoded_mean_loss: 0.0113 - pred_loss: 0.4469 - decoded_mean_acc: 0.9315 - decoded_mean_f1_m: 0.9287 - decoded_mean_precision_m: 0.9785 - decoded_mean_recall_m: 0.8837 - pred_acc: 0.7895 - pred_f1_m: 0.6667 - pred_precision_m: 0.6873 - pred_recall_m: 0.6475 - val_loss: 0.6064 - val_decoded_mean_loss: 0.0117 - val_pred_loss: 0.5955 - val_decoded_mean_acc: 0.9329 - val_decoded_mean_f1_m: 0.9307 - val_decoded_mean_precision_m: 0.9790 - val_decoded_mean_recall_m: 0.8870 - val_pred_acc: 0.6933 - val_pred_f1_m: 0.5232 - val_pred_precision_m: 0.5409 - val_pred_recall_m: 0.5067\n",
            "Epoch 45/100\n",
            "350/350 [==============================] - ETA: 0s - loss: 0.4702 - decoded_mean_loss: 0.0122 - pred_loss: 0.4543 - decoded_mean_acc: 0.9315 - decoded_mean_f1_m: 0.9290 - decoded_mean_precision_m: 0.9784 - decoded_mean_recall_m: 0.8844 - pred_acc: 0.7857 - pred_f1_m: 0.6728 - pred_precision_m: 0.7063 - pred_recall_m: 0.6425\n",
            "Epoch 00045: val_pred_acc did not improve from 0.69333\n",
            "350/350 [==============================] - 67s 192ms/sample - loss: 0.4702 - decoded_mean_loss: 0.0122 - pred_loss: 0.4543 - decoded_mean_acc: 0.9315 - decoded_mean_f1_m: 0.9290 - decoded_mean_precision_m: 0.9784 - decoded_mean_recall_m: 0.8844 - pred_acc: 0.7857 - pred_f1_m: 0.6728 - pred_precision_m: 0.7063 - pred_recall_m: 0.6425 - val_loss: 0.6113 - val_decoded_mean_loss: 0.0120 - val_pred_loss: 0.5898 - val_decoded_mean_acc: 0.9329 - val_decoded_mean_f1_m: 0.9307 - val_decoded_mean_precision_m: 0.9801 - val_decoded_mean_recall_m: 0.8861 - val_pred_acc: 0.6880 - val_pred_f1_m: 0.5067 - val_pred_precision_m: 0.5325 - val_pred_recall_m: 0.4833\n",
            "Epoch 00045: early stopping\n"
          ]
        }
      ]
    },
    {
      "cell_type": "code",
      "metadata": {
        "id": "0AI-fXM_h9Id"
      },
      "source": [
        ""
      ],
      "execution_count": null,
      "outputs": []
    },
    {
      "cell_type": "code",
      "metadata": {
        "id": "QMMXeg9jXDq7",
        "colab": {
          "base_uri": "https://localhost:8080/"
        },
        "outputId": "3a0e0b22-a4a0-41b7-d8ab-811fedd2cb29"
      },
      "source": [
        "autoencoder.evaluate(x=X_test, y={'decoded_mean': Conversion_X_test, 'pred': y_test})"
      ],
      "execution_count": 25,
      "outputs": [
        {
          "output_type": "execute_result",
          "data": {
            "text/plain": [
              "[0.611509961605072,\n",
              " 0.011946922,\n",
              " 0.59804296,\n",
              " 0.93292,\n",
              " 0.9303827,\n",
              " 0.98003167,\n",
              " 0.88552886,\n",
              " 0.6853334,\n",
              " 0.50584596,\n",
              " 0.5318134,\n",
              " 0.48347357]"
            ]
          },
          "metadata": {},
          "execution_count": 25
        }
      ]
    },
    {
      "cell_type": "code",
      "metadata": {
        "id": "Sia0OhD4A4G_",
        "colab": {
          "base_uri": "https://localhost:8080/",
          "height": 1000
        },
        "outputId": "4be7e3d5-f369-4e58-b6a5-89639db05045"
      },
      "source": [
        "plt.plot(history.history['pred_acc'])\n",
        "plt.plot(history.history['val_pred_acc'])\n",
        "plt.title('model accuracy')\n",
        "plt.ylabel('accuracy')\n",
        "plt.xlabel('epoch')\n",
        "plt.legend(['train', 'validation'], loc='upper left')\n",
        "plt.show()\n",
        "# Plot of loss in each epoch\n",
        "plt.plot(history.history['loss'])\n",
        "plt.plot(history.history['val_loss'])\n",
        "plt.title('model loss')\n",
        "plt.ylabel('loss')\n",
        "plt.xlabel('epoch')\n",
        "plt.legend(['train', 'validation'], loc='upper left')\n",
        "plt.show()\n",
        "\n",
        "plt.plot(history.history['pred_loss'])\n",
        "plt.plot(history.history['val_pred_loss'])\n",
        "plt.title('model pred_loss')\n",
        "plt.ylabel('pred_loss')\n",
        "plt.xlabel('epoch')\n",
        "plt.legend(['train', 'validation'], loc='upper left')\n",
        "plt.show()\n",
        "\n",
        "\n",
        "plt.plot(history.history['pred_f1_m'])\n",
        "plt.plot(history.history['val_pred_f1_m'])\n",
        "\n",
        "plt.title('model F1_score')\n",
        "plt.ylabel('f1_m')\n",
        "plt.xlabel('epoch')\n",
        "plt.legend(['train','test'], loc='upper left')\n",
        "plt.show()\n"
      ],
      "execution_count": 26,
      "outputs": [
        {
          "output_type": "display_data",
          "data": {
            "image/png": "[encoded data removed]",
            "text/plain": [
              "<Figure size 432x288 with 1 Axes>"
            ]
          },
          "metadata": {
            "needs_background": "light"
          }
        },
        {
          "output_type": "display_data",
          "data": {
            "image/png": "[encoded data removed]",
            "text/plain": [
              "<Figure size 432x288 with 1 Axes>"
            ]
          },
          "metadata": {
            "needs_background": "light"
          }
        },
        {
          "output_type": "display_data",
          "data": {
            "image/png": "[encoded data removed]",
            "text/plain": [
              "<Figure size 432x288 with 1 Axes>"
            ]
          },
          "metadata": {
            "needs_background": "light"
          }
        },
        {
          "output_type": "display_data",
          "data": {
            "image/png": "[encoded data removed]",
            "text/plain": [
              "<Figure size 432x288 with 1 Axes>"
            ]
          },
          "metadata": {
            "needs_background": "light"
          }
        }
      ]
    },
    {
      "cell_type": "markdown",
      "metadata": {
        "id": "LqY__iGGXHek"
      },
      "source": [
        "# Test 2:\n",
        "avec une couche cache avec 500 Neurones"
      ]
    },
    {
      "cell_type": "code",
      "metadata": {
        "id": "DZ8_q7uIXHAg",
        "colab": {
          "base_uri": "https://localhost:8080/"
        },
        "outputId": "f06779bf-8eec-408c-e87a-924bc6f60b74"
      },
      "source": [
        "MODEL_FILE_PATH = '/content/drive/MyDrive/Models_a_ameliorer'\n",
        "MODEL_FILE_NAME = 'Test_2.h5'\n",
        "LR=0.0001\n",
        "\n",
        "batch_size = 100\n",
        "vocab_size=vocab_size\n",
        "max_length=100 \n",
        "dim_latent=200\n",
        "intermediate_dim=500\n",
        "\n",
        "encoder = None\n",
        "decoder = None\n",
        "predicter_opinion = None\n",
        "autoencoder = None\n",
        "\n",
        "x = Input(shape=(max_length,))\n",
        "x_embed = Embedding(vocab_size, 100, weights=[embedding_matrix], input_length=max_length)(x)\n",
        "def Encodeur(x, dim_latent=200, max_length=100, epsilon_std=0.01):\n",
        "    h = Bidirectional(LSTM(500, return_sequences=True,dropout=0.25),merge_mode='concat')(x)\n",
        "    h = AttentionCouche()(h) \n",
        "    h = Dense(300, activation='relu', name='dense_1')(h)\n",
        "    def sampling(args):\n",
        "        z_mean, z_log_var = args\n",
        "        batch = K.shape(z_mean)[0]\n",
        "        # by default, random_normal has mean=0 and std=1.0\n",
        "        epsilon = K.random_normal(shape=(batch, dim_latent), mean=0., stddev=epsilon_std)\n",
        "        return z_mean + K.exp(z_log_var / 2) * epsilon\n",
        "    z_mean = Dense(dim_latent, name='z_mean', activation='linear')(h)\n",
        "    z_log_var = Dense(dim_latent, name='z_log_var', activation='linear')(h)\n",
        "    z = Lambda(sampling, output_shape=(dim_latent,), name='z')([z_mean, z_log_var])\n",
        "\n",
        "    def fct_loss(x, x_decoded_mean):\n",
        "        x = K.flatten(x)\n",
        "        x_decoded_mean = K.flatten(x_decoded_mean)\n",
        "        xent_loss = max_length * metrics.binary_crossentropy(x, x_decoded_mean)\n",
        "        kl_loss = - 0.5 * K.mean(1 + z_log_var - K.square(z_mean) - K.exp(z_log_var), axis=-1)\n",
        "        return xent_loss + kl_loss\n",
        "    \n",
        "    return (fct_loss, z)\n",
        "     \n",
        "fct_loss, encoded = Encodeur(x_embed, dim_latent=dim_latent, max_length=max_length)\n",
        "encoder = Model(inputs=x, outputs=encoded)\n",
        "encoder.summary()\n",
        "def Codage_opinion(encoded):\n",
        "    h = Dense(100, activation='linear')(encoded)     \n",
        "    return Dense(3, activation='softmax', name='pred')(h)\n",
        "\n",
        "encoded_input = Input(shape=(dim_latent,))\n",
        "opinion_lab = Codage_opinion(encoded_input)\n",
        "predicter_opinion = Model(encoded_input, opinion_lab)\n",
        "predicter_opinion.summary()\n",
        "def Decodeur(encoded, vocab_size, max_length):\n",
        "    repeated_context = RepeatVector(max_length)(encoded)\n",
        "    h =Bidirectional(LSTM(500, return_sequences=True, name='dec_lstm_1',dropout=0.25))(repeated_context)\n",
        "    decoded = TimeDistributed(Dense(vocab_size, activation='softmax'), name='decoded_mean')(h)        \n",
        "    return decoded\n",
        "\n",
        "\n",
        "decoded = Decodeur(encoded_input, vocab_size, max_length)\n",
        "decoder = Model(encoded_input, decoded)\n",
        "decoder.summary()\n",
        "autoencoder = Model(inputs=x, outputs=[Decodeur(encoded, vocab_size, max_length), Codage_opinion(encoded)])\n",
        "tf.config.run_functions_eagerly(False)\n",
        "#tf.compat.v1.disable_eager_execution()\n",
        "\n",
        "\n",
        "early_stopping = EarlyStopping(monitor='val_loss', mode='min', verbose=1, patience=10)\n",
        "\n",
        "save_best = ModelCheckpoint(os.path.join(MODEL_FILE_PATH,MODEL_FILE_NAME), \n",
        "                     monitor='val_pred_acc', \n",
        "                     mode='max', \n",
        "                     verbose=1, \n",
        "                     save_best_only=True) \n",
        "\n",
        "autoencoder.compile(optimizer=Adam(learning_rate=0.0001), loss=[fct_loss, 'binary_crossentropy'], metrics=['accuracy',f1_m,precision_m, recall_m])\n",
        "autoencoder.summary()\n"
      ],
      "execution_count": 28,
      "outputs": [
        {
          "output_type": "stream",
          "name": "stdout",
          "text": [
            "Model: \"model_8\"\n",
            "__________________________________________________________________________________________________\n",
            " Layer (type)                   Output Shape         Param #     Connected to                     \n",
            "==================================================================================================\n",
            " input_5 (InputLayer)           [(None, 100)]        0           []                               \n",
            "                                                                                                  \n",
            " embedding_2 (Embedding)        (None, 100, 100)     2281400     ['input_5[0][0]']                \n",
            "                                                                                                  \n",
            " bidirectional_6 (Bidirectional  (None, 100, 1000)   2404000     ['embedding_2[0][0]']            \n",
            " )                                                                                                \n",
            "                                                                                                  \n",
            " attention_couche_2 (AttentionC  (None, 1000)        1100        ['bidirectional_6[0][0]']        \n",
            " ouche)                                                                                           \n",
            "                                                                                                  \n",
            " dense_1 (Dense)                (None, 300)          300300      ['attention_couche_2[0][0]']     \n",
            "                                                                                                  \n",
            " z_mean (Dense)                 (None, 200)          60200       ['dense_1[0][0]']                \n",
            "                                                                                                  \n",
            " z_log_var (Dense)              (None, 200)          60200       ['dense_1[0][0]']                \n",
            "                                                                                                  \n",
            " z (Lambda)                     (None, 200)          0           ['z_mean[0][0]',                 \n",
            "                                                                  'z_log_var[0][0]']              \n",
            "                                                                                                  \n",
            "==================================================================================================\n",
            "Total params: 5,107,200\n",
            "Trainable params: 5,107,200\n",
            "Non-trainable params: 0\n",
            "__________________________________________________________________________________________________\n",
            "Model: \"model_9\"\n",
            "_________________________________________________________________\n",
            " Layer (type)                Output Shape              Param #   \n",
            "=================================================================\n",
            " input_6 (InputLayer)        [(None, 200)]             0         \n",
            "                                                                 \n",
            " dense_8 (Dense)             (None, 100)               20100     \n",
            "                                                                 \n",
            " pred (Dense)                (None, 3)                 303       \n",
            "                                                                 \n",
            "=================================================================\n",
            "Total params: 20,403\n",
            "Trainable params: 20,403\n",
            "Non-trainable params: 0\n",
            "_________________________________________________________________\n",
            "Model: \"model_10\"\n",
            "_________________________________________________________________\n",
            " Layer (type)                Output Shape              Param #   \n",
            "=================================================================\n",
            " input_6 (InputLayer)        [(None, 200)]             0         \n",
            "                                                                 \n",
            " repeat_vector_7 (RepeatVect  (None, 100, 200)         0         \n",
            " or)                                                             \n",
            "                                                                 \n",
            " bidirectional_7 (Bidirectio  (None, 100, 1000)        2804000   \n",
            " nal)                                                            \n",
            "                                                                 \n",
            " decoded_mean (TimeDistribut  (None, 100, 22814)       22836814  \n",
            " ed)                                                             \n",
            "                                                                 \n",
            "=================================================================\n",
            "Total params: 25,640,814\n",
            "Trainable params: 25,640,814\n",
            "Non-trainable params: 0\n",
            "_________________________________________________________________\n",
            "Model: \"model_11\"\n",
            "__________________________________________________________________________________________________\n",
            " Layer (type)                   Output Shape         Param #     Connected to                     \n",
            "==================================================================================================\n",
            " input_5 (InputLayer)           [(None, 100)]        0           []                               \n",
            "                                                                                                  \n",
            " embedding_2 (Embedding)        (None, 100, 100)     2281400     ['input_5[0][0]']                \n",
            "                                                                                                  \n",
            " bidirectional_6 (Bidirectional  (None, 100, 1000)   2404000     ['embedding_2[0][0]']            \n",
            " )                                                                                                \n",
            "                                                                                                  \n",
            " attention_couche_2 (AttentionC  (None, 1000)        1100        ['bidirectional_6[0][0]']        \n",
            " ouche)                                                                                           \n",
            "                                                                                                  \n",
            " dense_1 (Dense)                (None, 300)          300300      ['attention_couche_2[0][0]']     \n",
            "                                                                                                  \n",
            " z_mean (Dense)                 (None, 200)          60200       ['dense_1[0][0]']                \n",
            "                                                                                                  \n",
            " z_log_var (Dense)              (None, 200)          60200       ['dense_1[0][0]']                \n",
            "                                                                                                  \n",
            " z (Lambda)                     (None, 200)          0           ['z_mean[0][0]',                 \n",
            "                                                                  'z_log_var[0][0]']              \n",
            "                                                                                                  \n",
            " repeat_vector_8 (RepeatVector)  (None, 100, 200)    0           ['z[0][0]']                      \n",
            "                                                                                                  \n",
            " bidirectional_8 (Bidirectional  (None, 100, 1000)   2804000     ['repeat_vector_8[0][0]']        \n",
            " )                                                                                                \n",
            "                                                                                                  \n",
            " dense_11 (Dense)               (None, 100)          20100       ['z[0][0]']                      \n",
            "                                                                                                  \n",
            " decoded_mean (TimeDistributed)  (None, 100, 22814)  22836814    ['bidirectional_8[0][0]']        \n",
            "                                                                                                  \n",
            " pred (Dense)                   (None, 3)            303         ['dense_11[0][0]']               \n",
            "                                                                                                  \n",
            "==================================================================================================\n",
            "Total params: 30,768,417\n",
            "Trainable params: 30,768,417\n",
            "Non-trainable params: 0\n",
            "__________________________________________________________________________________________________\n"
          ]
        }
      ]
    },
    {
      "cell_type": "code",
      "metadata": {
        "id": "m7WPqcLT-nTF",
        "colab": {
          "base_uri": "https://localhost:8080/"
        },
        "outputId": "280e1caf-c014-447d-8102-b7cc261578e9"
      },
      "source": [
        "\n",
        "history = autoencoder.fit(x=X_train, y={'decoded_mean': Conversion_X_train, 'pred': y_train}, batch_size=100, epochs=100, validation_data=(X_test, {'decoded_mean': Conversion_X_test, 'pred':  y_test}),callbacks=[early_stopping, save_best])\n"
      ],
      "execution_count": 29,
      "outputs": [
        {
          "output_type": "stream",
          "name": "stdout",
          "text": [
            "Train on 350 samples, validate on 250 samples\n",
            "Epoch 1/100\n",
            "350/350 [==============================] - ETA: 0s - loss: 0.7357 - decoded_mean_loss: 0.0484 - pred_loss: 0.6866 - decoded_mean_acc: 0.0026 - decoded_mean_f1_m: 0.0000e+00 - decoded_mean_precision_m: 0.0000e+00 - decoded_mean_recall_m: 0.0000e+00 - pred_acc: 0.6667 - pred_f1_m: 0.0000e+00 - pred_precision_m: 0.0000e+00 - pred_recall_m: 0.0000e+00 "
          ]
        },
        {
          "output_type": "stream",
          "name": "stderr",
          "text": [
            "/usr/local/lib/python3.7/dist-packages/keras/engine/training_v1.py:2057: UserWarning: `Model.state_updates` will be removed in a future version. This property should not be used in TensorFlow 2.0, as `updates` are applied automatically.\n",
            "  updates = self.state_updates\n"
          ]
        },
        {
          "output_type": "stream",
          "name": "stdout",
          "text": [
            "\n",
            "Epoch 00001: val_pred_acc improved from -inf to 0.66667, saving model to /content/drive/MyDrive/Models_a_ameliorer/Test_2.h5\n",
            "350/350 [==============================] - 115s 330ms/sample - loss: 0.7357 - decoded_mean_loss: 0.0484 - pred_loss: 0.6866 - decoded_mean_acc: 0.0026 - decoded_mean_f1_m: 0.0000e+00 - decoded_mean_precision_m: 0.0000e+00 - decoded_mean_recall_m: 0.0000e+00 - pred_acc: 0.6667 - pred_f1_m: 0.0000e+00 - pred_precision_m: 0.0000e+00 - pred_recall_m: 0.0000e+00 - val_loss: 0.7275 - val_decoded_mean_loss: 0.0484 - val_pred_loss: 0.6790 - val_decoded_mean_acc: 0.1127 - val_decoded_mean_f1_m: 0.0000e+00 - val_decoded_mean_precision_m: 0.0000e+00 - val_decoded_mean_recall_m: 0.0000e+00 - val_pred_acc: 0.6667 - val_pred_f1_m: 0.0000e+00 - val_pred_precision_m: 0.0000e+00 - val_pred_recall_m: 0.0000e+00\n",
            "Epoch 2/100\n",
            "350/350 [==============================] - ETA: 0s - loss: 0.7235 - decoded_mean_loss: 0.0484 - pred_loss: 0.6746 - decoded_mean_acc: 0.2289 - decoded_mean_f1_m: 0.0000e+00 - decoded_mean_precision_m: 0.0000e+00 - decoded_mean_recall_m: 0.0000e+00 - pred_acc: 0.6667 - pred_f1_m: 0.0000e+00 - pred_precision_m: 0.0000e+00 - pred_recall_m: 0.0000e+00 \n",
            "Epoch 00002: val_pred_acc did not improve from 0.66667\n",
            "350/350 [==============================] - 107s 307ms/sample - loss: 0.7235 - decoded_mean_loss: 0.0484 - pred_loss: 0.6746 - decoded_mean_acc: 0.2289 - decoded_mean_f1_m: 0.0000e+00 - decoded_mean_precision_m: 0.0000e+00 - decoded_mean_recall_m: 0.0000e+00 - pred_acc: 0.6667 - pred_f1_m: 0.0000e+00 - pred_precision_m: 0.0000e+00 - pred_recall_m: 0.0000e+00 - val_loss: 0.7128 - val_decoded_mean_loss: 0.0485 - val_pred_loss: 0.6639 - val_decoded_mean_acc: 0.9230 - val_decoded_mean_f1_m: 0.0000e+00 - val_decoded_mean_precision_m: 0.0000e+00 - val_decoded_mean_recall_m: 0.0000e+00 - val_pred_acc: 0.6667 - val_pred_f1_m: 0.0000e+00 - val_pred_precision_m: 0.0000e+00 - val_pred_recall_m: 0.0000e+00\n",
            "Epoch 3/100\n",
            "350/350 [==============================] - ETA: 0s - loss: 0.7055 - decoded_mean_loss: 0.0486 - pred_loss: 0.6549 - decoded_mean_acc: 0.9000 - decoded_mean_f1_m: 0.0000e+00 - decoded_mean_precision_m: 0.0000e+00 - decoded_mean_recall_m: 0.0000e+00 - pred_acc: 0.6667 - pred_f1_m: 0.0000e+00 - pred_precision_m: 0.0000e+00 - pred_recall_m: 0.0000e+00 \n",
            "Epoch 00003: val_pred_acc did not improve from 0.66667\n",
            "350/350 [==============================] - 106s 303ms/sample - loss: 0.7055 - decoded_mean_loss: 0.0486 - pred_loss: 0.6549 - decoded_mean_acc: 0.9000 - decoded_mean_f1_m: 0.0000e+00 - decoded_mean_precision_m: 0.0000e+00 - decoded_mean_recall_m: 0.0000e+00 - pred_acc: 0.6667 - pred_f1_m: 0.0000e+00 - pred_precision_m: 0.0000e+00 - pred_recall_m: 0.0000e+00 - val_loss: 0.6926 - val_decoded_mean_loss: 0.0489 - val_pred_loss: 0.6424 - val_decoded_mean_acc: 0.9329 - val_decoded_mean_f1_m: 0.0000e+00 - val_decoded_mean_precision_m: 0.0000e+00 - val_decoded_mean_recall_m: 0.0000e+00 - val_pred_acc: 0.6667 - val_pred_f1_m: 0.0000e+00 - val_pred_precision_m: 0.0000e+00 - val_pred_recall_m: 0.0000e+00\n",
            "Epoch 4/100\n",
            "350/350 [==============================] - ETA: 0s - loss: 0.6813 - decoded_mean_loss: 0.0492 - pred_loss: 0.6305 - decoded_mean_acc: 0.9314 - decoded_mean_f1_m: 0.0000e+00 - decoded_mean_precision_m: 0.0000e+00 - decoded_mean_recall_m: 0.0000e+00 - pred_acc: 0.6676 - pred_f1_m: 0.0278 - pred_precision_m: 0.1875 - pred_recall_m: 0.0150             \n",
            "Epoch 00004: val_pred_acc improved from 0.66667 to 0.66667, saving model to /content/drive/MyDrive/Models_a_ameliorer/Test_2.h5\n",
            "350/350 [==============================] - 109s 312ms/sample - loss: 0.6813 - decoded_mean_loss: 0.0492 - pred_loss: 0.6305 - decoded_mean_acc: 0.9314 - decoded_mean_f1_m: 0.0000e+00 - decoded_mean_precision_m: 0.0000e+00 - decoded_mean_recall_m: 0.0000e+00 - pred_acc: 0.6676 - pred_f1_m: 0.0278 - pred_precision_m: 0.1875 - pred_recall_m: 0.0150 - val_loss: 0.6691 - val_decoded_mean_loss: 0.0500 - val_pred_loss: 0.6207 - val_decoded_mean_acc: 0.9329 - val_decoded_mean_f1_m: 0.0000e+00 - val_decoded_mean_precision_m: 0.0000e+00 - val_decoded_mean_recall_m: 0.0000e+00 - val_pred_acc: 0.6667 - val_pred_f1_m: 0.1227 - val_pred_precision_m: 0.5000 - val_pred_recall_m: 0.0700\n",
            "Epoch 5/100\n",
            "350/350 [==============================] - ETA: 0s - loss: 0.6573 - decoded_mean_loss: 0.0510 - pred_loss: 0.6039 - decoded_mean_acc: 0.9315 - decoded_mean_f1_m: 0.0000e+00 - decoded_mean_precision_m: 0.0000e+00 - decoded_mean_recall_m: 0.0000e+00 - pred_acc: 0.6590 - pred_f1_m: 0.2475 - pred_precision_m: 0.4580 - pred_recall_m: 0.1775 \n",
            "Epoch 00005: val_pred_acc did not improve from 0.66667\n",
            "350/350 [==============================] - 106s 302ms/sample - loss: 0.6573 - decoded_mean_loss: 0.0510 - pred_loss: 0.6039 - decoded_mean_acc: 0.9315 - decoded_mean_f1_m: 0.0000e+00 - decoded_mean_precision_m: 0.0000e+00 - decoded_mean_recall_m: 0.0000e+00 - pred_acc: 0.6590 - pred_f1_m: 0.2475 - pred_precision_m: 0.4580 - pred_recall_m: 0.1775 - val_loss: 0.6653 - val_decoded_mean_loss: 0.0542 - val_pred_loss: 0.6022 - val_decoded_mean_acc: 0.9329 - val_decoded_mean_f1_m: 0.0000e+00 - val_decoded_mean_precision_m: 0.0000e+00 - val_decoded_mean_recall_m: 0.0000e+00 - val_pred_acc: 0.6280 - val_pred_f1_m: 0.3820 - val_pred_precision_m: 0.4414 - val_pred_recall_m: 0.3367\n",
            "Epoch 6/100\n",
            "350/350 [==============================] - ETA: 0s - loss: 0.6609 - decoded_mean_loss: 0.0555 - pred_loss: 0.6128 - decoded_mean_acc: 0.9315 - decoded_mean_f1_m: 0.0000e+00 - decoded_mean_precision_m: 0.0000e+00 - decoded_mean_recall_m: 0.0000e+00 - pred_acc: 0.6562 - pred_f1_m: 0.4409 - pred_precision_m: 0.4724 - pred_recall_m: 0.4150 \n",
            "Epoch 00006: val_pred_acc did not improve from 0.66667\n",
            "350/350 [==============================] - 106s 304ms/sample - loss: 0.6609 - decoded_mean_loss: 0.0555 - pred_loss: 0.6128 - decoded_mean_acc: 0.9315 - decoded_mean_f1_m: 0.0000e+00 - decoded_mean_precision_m: 0.0000e+00 - decoded_mean_recall_m: 0.0000e+00 - pred_acc: 0.6562 - pred_f1_m: 0.4409 - pred_precision_m: 0.4724 - pred_recall_m: 0.4150 - val_loss: 0.6674 - val_decoded_mean_loss: 0.0543 - val_pred_loss: 0.6192 - val_decoded_mean_acc: 0.9329 - val_decoded_mean_f1_m: 0.0000e+00 - val_decoded_mean_precision_m: 0.0000e+00 - val_decoded_mean_recall_m: 0.0000e+00 - val_pred_acc: 0.6213 - val_pred_f1_m: 0.3648 - val_pred_precision_m: 0.3935 - val_pred_recall_m: 0.3400\n",
            "Epoch 7/100\n",
            "350/350 [==============================] - ETA: 0s - loss: 0.6521 - decoded_mean_loss: 0.0527 - pred_loss: 0.6007 - decoded_mean_acc: 0.9315 - decoded_mean_f1_m: 0.0000e+00 - decoded_mean_precision_m: 0.0000e+00 - decoded_mean_recall_m: 0.0000e+00 - pred_acc: 0.6476 - pred_f1_m: 0.4086 - pred_precision_m: 0.4670 - pred_recall_m: 0.3675 \n",
            "Epoch 00007: val_pred_acc did not improve from 0.66667\n",
            "350/350 [==============================] - 107s 306ms/sample - loss: 0.6521 - decoded_mean_loss: 0.0527 - pred_loss: 0.6007 - decoded_mean_acc: 0.9315 - decoded_mean_f1_m: 0.0000e+00 - decoded_mean_precision_m: 0.0000e+00 - decoded_mean_recall_m: 0.0000e+00 - pred_acc: 0.6476 - pred_f1_m: 0.4086 - pred_precision_m: 0.4670 - pred_recall_m: 0.3675 - val_loss: 0.6556 - val_decoded_mean_loss: 0.0507 - val_pred_loss: 0.6045 - val_decoded_mean_acc: 0.9329 - val_decoded_mean_f1_m: 0.0000e+00 - val_decoded_mean_precision_m: 0.0000e+00 - val_decoded_mean_recall_m: 0.0000e+00 - val_pred_acc: 0.6267 - val_pred_f1_m: 0.2986 - val_pred_precision_m: 0.3957 - val_pred_recall_m: 0.2400\n",
            "Epoch 8/100\n",
            "350/350 [==============================] - ETA: 0s - loss: 0.6457 - decoded_mean_loss: 0.0498 - pred_loss: 0.6018 - decoded_mean_acc: 0.9315 - decoded_mean_f1_m: 0.0000e+00 - decoded_mean_precision_m: 0.0000e+00 - decoded_mean_recall_m: 0.0000e+00 - pred_acc: 0.6571 - pred_f1_m: 0.3060 - pred_precision_m: 0.4528 - pred_recall_m: 0.2325 \n",
            "Epoch 00008: val_pred_acc did not improve from 0.66667\n",
            "350/350 [==============================] - 106s 304ms/sample - loss: 0.6457 - decoded_mean_loss: 0.0498 - pred_loss: 0.6018 - decoded_mean_acc: 0.9315 - decoded_mean_f1_m: 0.0000e+00 - decoded_mean_precision_m: 0.0000e+00 - decoded_mean_recall_m: 0.0000e+00 - pred_acc: 0.6571 - pred_f1_m: 0.3060 - pred_precision_m: 0.4528 - pred_recall_m: 0.2325 - val_loss: 0.6531 - val_decoded_mean_loss: 0.0486 - val_pred_loss: 0.6030 - val_decoded_mean_acc: 0.9329 - val_decoded_mean_f1_m: 0.0000e+00 - val_decoded_mean_precision_m: 0.0000e+00 - val_decoded_mean_recall_m: 0.0000e+00 - val_pred_acc: 0.6427 - val_pred_f1_m: 0.2627 - val_pred_precision_m: 0.4297 - val_pred_recall_m: 0.1900\n",
            "Epoch 9/100\n",
            "350/350 [==============================] - ETA: 0s - loss: 0.6452 - decoded_mean_loss: 0.0478 - pred_loss: 0.5961 - decoded_mean_acc: 0.9315 - decoded_mean_f1_m: 0.0000e+00 - decoded_mean_precision_m: 0.0000e+00 - decoded_mean_recall_m: 0.0000e+00 - pred_acc: 0.6638 - pred_f1_m: 0.2923 - pred_precision_m: 0.4945 - pred_recall_m: 0.2075 \n",
            "Epoch 00009: val_pred_acc did not improve from 0.66667\n",
            "350/350 [==============================] - 109s 311ms/sample - loss: 0.6452 - decoded_mean_loss: 0.0478 - pred_loss: 0.5961 - decoded_mean_acc: 0.9315 - decoded_mean_f1_m: 0.0000e+00 - decoded_mean_precision_m: 0.0000e+00 - decoded_mean_recall_m: 0.0000e+00 - pred_acc: 0.6638 - pred_f1_m: 0.2923 - pred_precision_m: 0.4945 - pred_recall_m: 0.2075 - val_loss: 0.6498 - val_decoded_mean_loss: 0.0460 - val_pred_loss: 0.6051 - val_decoded_mean_acc: 0.9329 - val_decoded_mean_f1_m: 0.0000e+00 - val_decoded_mean_precision_m: 0.0000e+00 - val_decoded_mean_recall_m: 0.0000e+00 - val_pred_acc: 0.6440 - val_pred_f1_m: 0.2397 - val_pred_precision_m: 0.4029 - val_pred_recall_m: 0.1733\n",
            "Epoch 10/100\n",
            "350/350 [==============================] - ETA: 0s - loss: 0.6417 - decoded_mean_loss: 0.0444 - pred_loss: 0.6014 - decoded_mean_acc: 0.9315 - decoded_mean_f1_m: 0.0000e+00 - decoded_mean_precision_m: 0.0000e+00 - decoded_mean_recall_m: 0.0000e+00 - pred_acc: 0.6638 - pred_f1_m: 0.2908 - pred_precision_m: 0.4890 - pred_recall_m: 0.2075 \n",
            "Epoch 00010: val_pred_acc did not improve from 0.66667\n",
            "350/350 [==============================] - 105s 299ms/sample - loss: 0.6417 - decoded_mean_loss: 0.0444 - pred_loss: 0.6014 - decoded_mean_acc: 0.9315 - decoded_mean_f1_m: 0.0000e+00 - decoded_mean_precision_m: 0.0000e+00 - decoded_mean_recall_m: 0.0000e+00 - pred_acc: 0.6638 - pred_f1_m: 0.2908 - pred_precision_m: 0.4890 - pred_recall_m: 0.2075 - val_loss: 0.6425 - val_decoded_mean_loss: 0.0417 - val_pred_loss: 0.6000 - val_decoded_mean_acc: 0.9329 - val_decoded_mean_f1_m: 0.0000e+00 - val_decoded_mean_precision_m: 0.0000e+00 - val_decoded_mean_recall_m: 0.0000e+00 - val_pred_acc: 0.6427 - val_pred_f1_m: 0.2971 - val_pred_precision_m: 0.4330 - val_pred_recall_m: 0.2267\n",
            "Epoch 11/100\n",
            "350/350 [==============================] - ETA: 0s - loss: 0.6331 - decoded_mean_loss: 0.0400 - pred_loss: 0.5922 - decoded_mean_acc: 0.9315 - decoded_mean_f1_m: 0.0000e+00 - decoded_mean_precision_m: 0.0000e+00 - decoded_mean_recall_m: 0.0000e+00 - pred_acc: 0.6581 - pred_f1_m: 0.3711 - pred_precision_m: 0.4857 - pred_recall_m: 0.3025 \n",
            "Epoch 00011: val_pred_acc did not improve from 0.66667\n",
            "350/350 [==============================] - 108s 310ms/sample - loss: 0.6331 - decoded_mean_loss: 0.0400 - pred_loss: 0.5922 - decoded_mean_acc: 0.9315 - decoded_mean_f1_m: 0.0000e+00 - decoded_mean_precision_m: 0.0000e+00 - decoded_mean_recall_m: 0.0000e+00 - pred_acc: 0.6581 - pred_f1_m: 0.3711 - pred_precision_m: 0.4857 - pred_recall_m: 0.3025 - val_loss: 0.6362 - val_decoded_mean_loss: 0.0373 - val_pred_loss: 0.6021 - val_decoded_mean_acc: 0.9329 - val_decoded_mean_f1_m: 0.0000e+00 - val_decoded_mean_precision_m: 0.0000e+00 - val_decoded_mean_recall_m: 0.0000e+00 - val_pred_acc: 0.6267 - val_pred_f1_m: 0.3530 - val_pred_precision_m: 0.4101 - val_pred_recall_m: 0.3100\n",
            "Epoch 12/100\n",
            "350/350 [==============================] - ETA: 0s - loss: 0.6266 - decoded_mean_loss: 0.0358 - pred_loss: 0.5865 - decoded_mean_acc: 0.9315 - decoded_mean_f1_m: 0.0000e+00 - decoded_mean_precision_m: 0.0000e+00 - decoded_mean_recall_m: 0.0000e+00 - pred_acc: 0.6571 - pred_f1_m: 0.4484 - pred_precision_m: 0.4856 - pred_recall_m: 0.4175 \n",
            "Epoch 00012: val_pred_acc did not improve from 0.66667\n",
            "350/350 [==============================] - 107s 305ms/sample - loss: 0.6266 - decoded_mean_loss: 0.0358 - pred_loss: 0.5865 - decoded_mean_acc: 0.9315 - decoded_mean_f1_m: 0.0000e+00 - decoded_mean_precision_m: 0.0000e+00 - decoded_mean_recall_m: 0.0000e+00 - pred_acc: 0.6571 - pred_f1_m: 0.4484 - pred_precision_m: 0.4856 - pred_recall_m: 0.4175 - val_loss: 0.6316 - val_decoded_mean_loss: 0.0332 - val_pred_loss: 0.5961 - val_decoded_mean_acc: 0.9329 - val_decoded_mean_f1_m: 0.0000e+00 - val_decoded_mean_precision_m: 0.0000e+00 - val_decoded_mean_recall_m: 0.0000e+00 - val_pred_acc: 0.6320 - val_pred_f1_m: 0.4221 - val_pred_precision_m: 0.4352 - val_pred_recall_m: 0.4100\n",
            "Epoch 13/100\n",
            "350/350 [==============================] - ETA: 0s - loss: 0.6204 - decoded_mean_loss: 0.0312 - pred_loss: 0.5892 - decoded_mean_acc: 0.9315 - decoded_mean_f1_m: 0.0000e+00 - decoded_mean_precision_m: 0.0000e+00 - decoded_mean_recall_m: 0.0000e+00 - pred_acc: 0.6657 - pred_f1_m: 0.4892 - pred_precision_m: 0.4988 - pred_recall_m: 0.4800 \n",
            "Epoch 00013: val_pred_acc did not improve from 0.66667\n",
            "350/350 [==============================] - 106s 303ms/sample - loss: 0.6204 - decoded_mean_loss: 0.0312 - pred_loss: 0.5892 - decoded_mean_acc: 0.9315 - decoded_mean_f1_m: 0.0000e+00 - decoded_mean_precision_m: 0.0000e+00 - decoded_mean_recall_m: 0.0000e+00 - pred_acc: 0.6657 - pred_f1_m: 0.4892 - pred_precision_m: 0.4988 - pred_recall_m: 0.4800 - val_loss: 0.6253 - val_decoded_mean_loss: 0.0281 - val_pred_loss: 0.5958 - val_decoded_mean_acc: 0.9329 - val_decoded_mean_f1_m: 0.0000e+00 - val_decoded_mean_precision_m: 0.0000e+00 - val_decoded_mean_recall_m: 0.0000e+00 - val_pred_acc: 0.6307 - val_pred_f1_m: 0.4201 - val_pred_precision_m: 0.4347 - val_pred_recall_m: 0.4067\n",
            "Epoch 14/100\n",
            "350/350 [==============================] - ETA: 0s - loss: 0.6128 - decoded_mean_loss: 0.0263 - pred_loss: 0.5888 - decoded_mean_acc: 0.9315 - decoded_mean_f1_m: 0.0000e+00 - decoded_mean_precision_m: 0.0000e+00 - decoded_mean_recall_m: 0.0000e+00 - pred_acc: 0.6648 - pred_f1_m: 0.4887 - pred_precision_m: 0.4951 - pred_recall_m: 0.4825 \n",
            "Epoch 00014: val_pred_acc did not improve from 0.66667\n",
            "350/350 [==============================] - 106s 302ms/sample - loss: 0.6128 - decoded_mean_loss: 0.0263 - pred_loss: 0.5888 - decoded_mean_acc: 0.9315 - decoded_mean_f1_m: 0.0000e+00 - decoded_mean_precision_m: 0.0000e+00 - decoded_mean_recall_m: 0.0000e+00 - pred_acc: 0.6648 - pred_f1_m: 0.4887 - pred_precision_m: 0.4951 - pred_recall_m: 0.4825 - val_loss: 0.6187 - val_decoded_mean_loss: 0.0230 - val_pred_loss: 0.5937 - val_decoded_mean_acc: 0.9329 - val_decoded_mean_f1_m: 0.0000e+00 - val_decoded_mean_precision_m: 0.0000e+00 - val_decoded_mean_recall_m: 0.0000e+00 - val_pred_acc: 0.6253 - val_pred_f1_m: 0.4285 - val_pred_precision_m: 0.4411 - val_pred_recall_m: 0.4167\n",
            "Epoch 15/100\n",
            "350/350 [==============================] - ETA: 0s - loss: 0.6065 - decoded_mean_loss: 0.0213 - pred_loss: 0.5843 - decoded_mean_acc: 0.9315 - decoded_mean_f1_m: 0.0000e+00 - decoded_mean_precision_m: 0.0000e+00 - decoded_mean_recall_m: 0.0000e+00 - pred_acc: 0.6686 - pred_f1_m: 0.4905 - pred_precision_m: 0.4990 - pred_recall_m: 0.4825 \n",
            "Epoch 00015: val_pred_acc did not improve from 0.66667\n",
            "350/350 [==============================] - 105s 299ms/sample - loss: 0.6065 - decoded_mean_loss: 0.0213 - pred_loss: 0.5843 - decoded_mean_acc: 0.9315 - decoded_mean_f1_m: 0.0000e+00 - decoded_mean_precision_m: 0.0000e+00 - decoded_mean_recall_m: 0.0000e+00 - pred_acc: 0.6686 - pred_f1_m: 0.4905 - pred_precision_m: 0.4990 - pred_recall_m: 0.4825 - val_loss: 0.6119 - val_decoded_mean_loss: 0.0181 - val_pred_loss: 0.5936 - val_decoded_mean_acc: 0.9329 - val_decoded_mean_f1_m: 0.0000e+00 - val_decoded_mean_precision_m: 0.0000e+00 - val_decoded_mean_recall_m: 0.0000e+00 - val_pred_acc: 0.6267 - val_pred_f1_m: 0.4226 - val_pred_precision_m: 0.4360 - val_pred_recall_m: 0.4100\n",
            "Epoch 16/100\n",
            "350/350 [==============================] - ETA: 0s - loss: 0.6019 - decoded_mean_loss: 0.0163 - pred_loss: 0.5851 - decoded_mean_acc: 0.9315 - decoded_mean_f1_m: 0.0000e+00 - decoded_mean_precision_m: 0.0000e+00 - decoded_mean_recall_m: 0.0000e+00 - pred_acc: 0.6648 - pred_f1_m: 0.4864 - pred_precision_m: 0.5013 - pred_recall_m: 0.4725 \n",
            "Epoch 00016: val_pred_acc did not improve from 0.66667\n",
            "350/350 [==============================] - 106s 303ms/sample - loss: 0.6019 - decoded_mean_loss: 0.0163 - pred_loss: 0.5851 - decoded_mean_acc: 0.9315 - decoded_mean_f1_m: 0.0000e+00 - decoded_mean_precision_m: 0.0000e+00 - decoded_mean_recall_m: 0.0000e+00 - pred_acc: 0.6648 - pred_f1_m: 0.4864 - pred_precision_m: 0.5013 - pred_recall_m: 0.4725 - val_loss: 0.6047 - val_decoded_mean_loss: 0.0136 - val_pred_loss: 0.5882 - val_decoded_mean_acc: 0.9329 - val_decoded_mean_f1_m: 0.0000e+00 - val_decoded_mean_precision_m: 0.0000e+00 - val_decoded_mean_recall_m: 0.0000e+00 - val_pred_acc: 0.6413 - val_pred_f1_m: 0.4258 - val_pred_precision_m: 0.4551 - val_pred_recall_m: 0.4000\n",
            "Epoch 17/100\n",
            "350/350 [==============================] - ETA: 0s - loss: 0.5930 - decoded_mean_loss: 0.0124 - pred_loss: 0.5808 - decoded_mean_acc: 0.9315 - decoded_mean_f1_m: 0.6580 - decoded_mean_precision_m: 0.7478 - decoded_mean_recall_m: 0.5878 - pred_acc: 0.6686 - pred_f1_m: 0.4818 - pred_precision_m: 0.4947 - pred_recall_m: 0.4700 \n",
            "Epoch 00017: val_pred_acc did not improve from 0.66667\n",
            "350/350 [==============================] - 106s 302ms/sample - loss: 0.5930 - decoded_mean_loss: 0.0124 - pred_loss: 0.5808 - decoded_mean_acc: 0.9315 - decoded_mean_f1_m: 0.6580 - decoded_mean_precision_m: 0.7478 - decoded_mean_recall_m: 0.5878 - pred_acc: 0.6686 - pred_f1_m: 0.4818 - pred_precision_m: 0.4947 - pred_recall_m: 0.4700 - val_loss: 0.6009 - val_decoded_mean_loss: 0.0108 - val_pred_loss: 0.5839 - val_decoded_mean_acc: 0.9329 - val_decoded_mean_f1_m: 0.9013 - val_decoded_mean_precision_m: 0.9934 - val_decoded_mean_recall_m: 0.8249 - val_pred_acc: 0.6347 - val_pred_f1_m: 0.4600 - val_pred_precision_m: 0.4600 - val_pred_recall_m: 0.4600\n",
            "Epoch 18/100\n",
            "350/350 [==============================] - ETA: 0s - loss: 0.5877 - decoded_mean_loss: 0.0103 - pred_loss: 0.5755 - decoded_mean_acc: 0.9315 - decoded_mean_f1_m: 0.9067 - decoded_mean_precision_m: 0.9906 - decoded_mean_recall_m: 0.8360 - pred_acc: 0.6667 - pred_f1_m: 0.4949 - pred_precision_m: 0.5025 - pred_recall_m: 0.4875 \n",
            "Epoch 00018: val_pred_acc did not improve from 0.66667\n",
            "350/350 [==============================] - 106s 302ms/sample - loss: 0.5877 - decoded_mean_loss: 0.0103 - pred_loss: 0.5755 - decoded_mean_acc: 0.9315 - decoded_mean_f1_m: 0.9067 - decoded_mean_precision_m: 0.9906 - decoded_mean_recall_m: 0.8360 - pred_acc: 0.6667 - pred_f1_m: 0.4949 - pred_precision_m: 0.5025 - pred_recall_m: 0.4875 - val_loss: 0.5954 - val_decoded_mean_loss: 0.0092 - val_pred_loss: 0.5880 - val_decoded_mean_acc: 0.9329 - val_decoded_mean_f1_m: 0.9133 - val_decoded_mean_precision_m: 0.9885 - val_decoded_mean_recall_m: 0.8488 - val_pred_acc: 0.6587 - val_pred_f1_m: 0.4483 - val_pred_precision_m: 0.4724 - val_pred_recall_m: 0.4267\n",
            "Epoch 19/100\n",
            "350/350 [==============================] - ETA: 0s - loss: 0.5830 - decoded_mean_loss: 0.0088 - pred_loss: 0.5703 - decoded_mean_acc: 0.9315 - decoded_mean_f1_m: 0.9137 - decoded_mean_precision_m: 0.9865 - decoded_mean_recall_m: 0.8509 - pred_acc: 0.6943 - pred_f1_m: 0.5093 - pred_precision_m: 0.5604 - pred_recall_m: 0.4675 \n",
            "Epoch 00019: val_pred_acc improved from 0.66667 to 0.66933, saving model to /content/drive/MyDrive/Models_a_ameliorer/Test_2.h5\n",
            "350/350 [==============================] - 110s 314ms/sample - loss: 0.5830 - decoded_mean_loss: 0.0088 - pred_loss: 0.5703 - decoded_mean_acc: 0.9315 - decoded_mean_f1_m: 0.9137 - decoded_mean_precision_m: 0.9865 - decoded_mean_recall_m: 0.8509 - pred_acc: 0.6943 - pred_f1_m: 0.5093 - pred_precision_m: 0.5604 - pred_recall_m: 0.4675 - val_loss: 0.5904 - val_decoded_mean_loss: 0.0081 - val_pred_loss: 0.5833 - val_decoded_mean_acc: 0.9329 - val_decoded_mean_f1_m: 0.9169 - val_decoded_mean_precision_m: 0.9851 - val_decoded_mean_recall_m: 0.8575 - val_pred_acc: 0.6693 - val_pred_f1_m: 0.4438 - val_pred_precision_m: 0.4992 - val_pred_recall_m: 0.4000\n",
            "Epoch 20/100\n",
            "350/350 [==============================] - ETA: 0s - loss: 0.5786 - decoded_mean_loss: 0.0083 - pred_loss: 0.5691 - decoded_mean_acc: 0.9315 - decoded_mean_f1_m: 0.9181 - decoded_mean_precision_m: 0.9830 - decoded_mean_recall_m: 0.8613 - pred_acc: 0.7000 - pred_f1_m: 0.5231 - pred_precision_m: 0.5674 - pred_recall_m: 0.4875 \n",
            "Epoch 00020: val_pred_acc did not improve from 0.66933\n",
            "350/350 [==============================] - 107s 306ms/sample - loss: 0.5786 - decoded_mean_loss: 0.0083 - pred_loss: 0.5691 - decoded_mean_acc: 0.9315 - decoded_mean_f1_m: 0.9181 - decoded_mean_precision_m: 0.9830 - decoded_mean_recall_m: 0.8613 - pred_acc: 0.7000 - pred_f1_m: 0.5231 - pred_precision_m: 0.5674 - pred_recall_m: 0.4875 - val_loss: 0.5889 - val_decoded_mean_loss: 0.0083 - val_pred_loss: 0.5854 - val_decoded_mean_acc: 0.9329 - val_decoded_mean_f1_m: 0.9217 - val_decoded_mean_precision_m: 0.9820 - val_decoded_mean_recall_m: 0.8683 - val_pred_acc: 0.6653 - val_pred_f1_m: 0.4797 - val_pred_precision_m: 0.4937 - val_pred_recall_m: 0.4667\n",
            "Epoch 21/100\n",
            "350/350 [==============================] - ETA: 0s - loss: 0.5723 - decoded_mean_loss: 0.0084 - pred_loss: 0.5643 - decoded_mean_acc: 0.9315 - decoded_mean_f1_m: 0.9223 - decoded_mean_precision_m: 0.9807 - decoded_mean_recall_m: 0.8705 - pred_acc: 0.6981 - pred_f1_m: 0.5226 - pred_precision_m: 0.5388 - pred_recall_m: 0.5075 \n",
            "Epoch 00021: val_pred_acc improved from 0.66933 to 0.68133, saving model to /content/drive/MyDrive/Models_a_ameliorer/Test_2.h5\n",
            "350/350 [==============================] - 115s 327ms/sample - loss: 0.5723 - decoded_mean_loss: 0.0084 - pred_loss: 0.5643 - decoded_mean_acc: 0.9315 - decoded_mean_f1_m: 0.9223 - decoded_mean_precision_m: 0.9807 - decoded_mean_recall_m: 0.8705 - pred_acc: 0.6981 - pred_f1_m: 0.5226 - pred_precision_m: 0.5388 - pred_recall_m: 0.5075 - val_loss: 0.5813 - val_decoded_mean_loss: 0.0083 - val_pred_loss: 0.5750 - val_decoded_mean_acc: 0.9329 - val_decoded_mean_f1_m: 0.9231 - val_decoded_mean_precision_m: 0.9795 - val_decoded_mean_recall_m: 0.8728 - val_pred_acc: 0.6813 - val_pred_f1_m: 0.4863 - val_pred_precision_m: 0.5164 - val_pred_recall_m: 0.4600\n",
            "Epoch 22/100\n",
            "350/350 [==============================] - ETA: 0s - loss: 0.5656 - decoded_mean_loss: 0.0081 - pred_loss: 0.5516 - decoded_mean_acc: 0.9315 - decoded_mean_f1_m: 0.9227 - decoded_mean_precision_m: 0.9801 - decoded_mean_recall_m: 0.8717 - pred_acc: 0.7152 - pred_f1_m: 0.5466 - pred_precision_m: 0.5998 - pred_recall_m: 0.5025 \n",
            "Epoch 00022: val_pred_acc improved from 0.68133 to 0.69867, saving model to /content/drive/MyDrive/Models_a_ameliorer/Test_2.h5\n",
            "350/350 [==============================] - 120s 342ms/sample - loss: 0.5656 - decoded_mean_loss: 0.0081 - pred_loss: 0.5516 - decoded_mean_acc: 0.9315 - decoded_mean_f1_m: 0.9227 - decoded_mean_precision_m: 0.9801 - decoded_mean_recall_m: 0.8717 - pred_acc: 0.7152 - pred_f1_m: 0.5466 - pred_precision_m: 0.5998 - pred_recall_m: 0.5025 - val_loss: 0.5715 - val_decoded_mean_loss: 0.0082 - val_pred_loss: 0.5630 - val_decoded_mean_acc: 0.9329 - val_decoded_mean_f1_m: 0.9238 - val_decoded_mean_precision_m: 0.9798 - val_decoded_mean_recall_m: 0.8738 - val_pred_acc: 0.6987 - val_pred_f1_m: 0.5142 - val_pred_precision_m: 0.5543 - val_pred_recall_m: 0.4800\n",
            "Epoch 23/100\n",
            "350/350 [==============================] - ETA: 0s - loss: 0.5555 - decoded_mean_loss: 0.0089 - pred_loss: 0.5454 - decoded_mean_acc: 0.9315 - decoded_mean_f1_m: 0.9239 - decoded_mean_precision_m: 0.9779 - decoded_mean_recall_m: 0.8756 - pred_acc: 0.7257 - pred_f1_m: 0.5610 - pred_precision_m: 0.5902 - pred_recall_m: 0.5350 \n",
            "Epoch 00023: val_pred_acc improved from 0.69867 to 0.70133, saving model to /content/drive/MyDrive/Models_a_ameliorer/Test_2.h5\n",
            "350/350 [==============================] - 115s 328ms/sample - loss: 0.5555 - decoded_mean_loss: 0.0089 - pred_loss: 0.5454 - decoded_mean_acc: 0.9315 - decoded_mean_f1_m: 0.9239 - decoded_mean_precision_m: 0.9779 - decoded_mean_recall_m: 0.8756 - pred_acc: 0.7257 - pred_f1_m: 0.5610 - pred_precision_m: 0.5902 - pred_recall_m: 0.5350 - val_loss: 0.5697 - val_decoded_mean_loss: 0.0110 - val_pred_loss: 0.5587 - val_decoded_mean_acc: 0.9329 - val_decoded_mean_f1_m: 0.9258 - val_decoded_mean_precision_m: 0.9763 - val_decoded_mean_recall_m: 0.8802 - val_pred_acc: 0.7013 - val_pred_f1_m: 0.5493 - val_pred_precision_m: 0.5626 - val_pred_recall_m: 0.5367\n",
            "Epoch 24/100\n",
            "350/350 [==============================] - ETA: 0s - loss: 0.5416 - decoded_mean_loss: 0.0126 - pred_loss: 0.5347 - decoded_mean_acc: 0.9315 - decoded_mean_f1_m: 0.9268 - decoded_mean_precision_m: 0.9763 - decoded_mean_recall_m: 0.8820 - pred_acc: 0.7248 - pred_f1_m: 0.5745 - pred_precision_m: 0.5844 - pred_recall_m: 0.5650 \n",
            "Epoch 00024: val_pred_acc did not improve from 0.70133\n",
            "350/350 [==============================] - 112s 320ms/sample - loss: 0.5416 - decoded_mean_loss: 0.0126 - pred_loss: 0.5347 - decoded_mean_acc: 0.9315 - decoded_mean_f1_m: 0.9268 - decoded_mean_precision_m: 0.9763 - decoded_mean_recall_m: 0.8820 - pred_acc: 0.7248 - pred_f1_m: 0.5745 - pred_precision_m: 0.5844 - pred_recall_m: 0.5650 - val_loss: 0.5773 - val_decoded_mean_loss: 0.0108 - val_pred_loss: 0.5694 - val_decoded_mean_acc: 0.9329 - val_decoded_mean_f1_m: 0.9269 - val_decoded_mean_precision_m: 0.9766 - val_decoded_mean_recall_m: 0.8820 - val_pred_acc: 0.6920 - val_pred_f1_m: 0.5311 - val_pred_precision_m: 0.5391 - val_pred_recall_m: 0.5233\n",
            "Epoch 25/100\n",
            "350/350 [==============================] - ETA: 0s - loss: 0.5608 - decoded_mean_loss: 0.0103 - pred_loss: 0.5517 - decoded_mean_acc: 0.9315 - decoded_mean_f1_m: 0.9264 - decoded_mean_precision_m: 0.9775 - decoded_mean_recall_m: 0.8803 - pred_acc: 0.7105 - pred_f1_m: 0.5531 - pred_precision_m: 0.5641 - pred_recall_m: 0.5425 \n",
            "Epoch 00025: val_pred_acc did not improve from 0.70133\n",
            "350/350 [==============================] - 109s 311ms/sample - loss: 0.5608 - decoded_mean_loss: 0.0103 - pred_loss: 0.5517 - decoded_mean_acc: 0.9315 - decoded_mean_f1_m: 0.9264 - decoded_mean_precision_m: 0.9775 - decoded_mean_recall_m: 0.8803 - pred_acc: 0.7105 - pred_f1_m: 0.5531 - pred_precision_m: 0.5641 - pred_recall_m: 0.5425 - val_loss: 0.5789 - val_decoded_mean_loss: 0.0081 - val_pred_loss: 0.5696 - val_decoded_mean_acc: 0.9329 - val_decoded_mean_f1_m: 0.9258 - val_decoded_mean_precision_m: 0.9801 - val_decoded_mean_recall_m: 0.8772 - val_pred_acc: 0.6880 - val_pred_f1_m: 0.5201 - val_pred_precision_m: 0.5419 - val_pred_recall_m: 0.5000\n",
            "Epoch 26/100\n",
            "350/350 [==============================] - ETA: 0s - loss: 0.5403 - decoded_mean_loss: 0.0075 - pred_loss: 0.5277 - decoded_mean_acc: 0.9315 - decoded_mean_f1_m: 0.9250 - decoded_mean_precision_m: 0.9811 - decoded_mean_recall_m: 0.8750 - pred_acc: 0.7400 - pred_f1_m: 0.5909 - pred_precision_m: 0.6334 - pred_recall_m: 0.5550 \n",
            "Epoch 00026: val_pred_acc did not improve from 0.70133\n",
            "350/350 [==============================] - 107s 306ms/sample - loss: 0.5403 - decoded_mean_loss: 0.0075 - pred_loss: 0.5277 - decoded_mean_acc: 0.9315 - decoded_mean_f1_m: 0.9250 - decoded_mean_precision_m: 0.9811 - decoded_mean_recall_m: 0.8750 - pred_acc: 0.7400 - pred_f1_m: 0.5909 - pred_precision_m: 0.6334 - pred_recall_m: 0.5550 - val_loss: 0.5684 - val_decoded_mean_loss: 0.0072 - val_pred_loss: 0.5549 - val_decoded_mean_acc: 0.9329 - val_decoded_mean_f1_m: 0.9255 - val_decoded_mean_precision_m: 0.9821 - val_decoded_mean_recall_m: 0.8750 - val_pred_acc: 0.6880 - val_pred_f1_m: 0.4890 - val_pred_precision_m: 0.5565 - val_pred_recall_m: 0.4367\n",
            "Epoch 27/100\n",
            "350/350 [==============================] - ETA: 0s - loss: 0.5463 - decoded_mean_loss: 0.0076 - pred_loss: 0.5393 - decoded_mean_acc: 0.9315 - decoded_mean_f1_m: 0.9248 - decoded_mean_precision_m: 0.9808 - decoded_mean_recall_m: 0.8748 - pred_acc: 0.7362 - pred_f1_m: 0.5536 - pred_precision_m: 0.6127 - pred_recall_m: 0.5050 \n",
            "Epoch 00027: val_pred_acc did not improve from 0.70133\n",
            "350/350 [==============================] - 109s 311ms/sample - loss: 0.5463 - decoded_mean_loss: 0.0076 - pred_loss: 0.5393 - decoded_mean_acc: 0.9315 - decoded_mean_f1_m: 0.9248 - decoded_mean_precision_m: 0.9808 - decoded_mean_recall_m: 0.8748 - pred_acc: 0.7362 - pred_f1_m: 0.5536 - pred_precision_m: 0.6127 - pred_recall_m: 0.5050 - val_loss: 0.5668 - val_decoded_mean_loss: 0.0079 - val_pred_loss: 0.5608 - val_decoded_mean_acc: 0.9329 - val_decoded_mean_f1_m: 0.9271 - val_decoded_mean_precision_m: 0.9810 - val_decoded_mean_recall_m: 0.8788 - val_pred_acc: 0.6853 - val_pred_f1_m: 0.4825 - val_pred_precision_m: 0.5341 - val_pred_recall_m: 0.4400\n",
            "Epoch 28/100\n",
            "350/350 [==============================] - ETA: 0s - loss: 0.5287 - decoded_mean_loss: 0.0083 - pred_loss: 0.5232 - decoded_mean_acc: 0.9315 - decoded_mean_f1_m: 0.9278 - decoded_mean_precision_m: 0.9803 - decoded_mean_recall_m: 0.8807 - pred_acc: 0.7467 - pred_f1_m: 0.5922 - pred_precision_m: 0.6264 - pred_recall_m: 0.5625 \n",
            "Epoch 00028: val_pred_acc did not improve from 0.70133\n",
            "350/350 [==============================] - 107s 305ms/sample - loss: 0.5287 - decoded_mean_loss: 0.0083 - pred_loss: 0.5232 - decoded_mean_acc: 0.9315 - decoded_mean_f1_m: 0.9278 - decoded_mean_precision_m: 0.9803 - decoded_mean_recall_m: 0.8807 - pred_acc: 0.7467 - pred_f1_m: 0.5922 - pred_precision_m: 0.6264 - pred_recall_m: 0.5625 - val_loss: 0.5705 - val_decoded_mean_loss: 0.0096 - val_pred_loss: 0.5602 - val_decoded_mean_acc: 0.9329 - val_decoded_mean_f1_m: 0.9282 - val_decoded_mean_precision_m: 0.9781 - val_decoded_mean_recall_m: 0.8832 - val_pred_acc: 0.6987 - val_pred_f1_m: 0.5356 - val_pred_precision_m: 0.5602 - val_pred_recall_m: 0.5133\n",
            "Epoch 29/100\n",
            "350/350 [==============================] - ETA: 0s - loss: 0.5179 - decoded_mean_loss: 0.0105 - pred_loss: 0.4994 - decoded_mean_acc: 0.9315 - decoded_mean_f1_m: 0.9289 - decoded_mean_precision_m: 0.9783 - decoded_mean_recall_m: 0.8842 - pred_acc: 0.7467 - pred_f1_m: 0.6182 - pred_precision_m: 0.6378 - pred_recall_m: 0.6000 \n",
            "Epoch 00029: val_pred_acc improved from 0.70133 to 0.70267, saving model to /content/drive/MyDrive/Models_a_ameliorer/Test_2.h5\n",
            "350/350 [==============================] - 113s 323ms/sample - loss: 0.5179 - decoded_mean_loss: 0.0105 - pred_loss: 0.4994 - decoded_mean_acc: 0.9315 - decoded_mean_f1_m: 0.9289 - decoded_mean_precision_m: 0.9783 - decoded_mean_recall_m: 0.8842 - pred_acc: 0.7467 - pred_f1_m: 0.6182 - pred_precision_m: 0.6378 - pred_recall_m: 0.6000 - val_loss: 0.5725 - val_decoded_mean_loss: 0.0111 - val_pred_loss: 0.5650 - val_decoded_mean_acc: 0.9329 - val_decoded_mean_f1_m: 0.9300 - val_decoded_mean_precision_m: 0.9783 - val_decoded_mean_recall_m: 0.8863 - val_pred_acc: 0.7027 - val_pred_f1_m: 0.5355 - val_pred_precision_m: 0.5448 - val_pred_recall_m: 0.5267\n",
            "Epoch 30/100\n",
            "350/350 [==============================] - ETA: 0s - loss: 0.5146 - decoded_mean_loss: 0.0118 - pred_loss: 0.4967 - decoded_mean_acc: 0.9315 - decoded_mean_f1_m: 0.9299 - decoded_mean_precision_m: 0.9778 - decoded_mean_recall_m: 0.8864 - pred_acc: 0.7486 - pred_f1_m: 0.6251 - pred_precision_m: 0.6382 - pred_recall_m: 0.6125 \n",
            "Epoch 00030: val_pred_acc did not improve from 0.70267\n",
            "350/350 [==============================] - 113s 324ms/sample - loss: 0.5146 - decoded_mean_loss: 0.0118 - pred_loss: 0.4967 - decoded_mean_acc: 0.9315 - decoded_mean_f1_m: 0.9299 - decoded_mean_precision_m: 0.9778 - decoded_mean_recall_m: 0.8864 - pred_acc: 0.7486 - pred_f1_m: 0.6251 - pred_precision_m: 0.6382 - pred_recall_m: 0.6125 - val_loss: 0.5789 - val_decoded_mean_loss: 0.0123 - val_pred_loss: 0.5715 - val_decoded_mean_acc: 0.9329 - val_decoded_mean_f1_m: 0.9308 - val_decoded_mean_precision_m: 0.9781 - val_decoded_mean_recall_m: 0.8879 - val_pred_acc: 0.6867 - val_pred_f1_m: 0.5104 - val_pred_precision_m: 0.5251 - val_pred_recall_m: 0.4967\n",
            "Epoch 31/100\n",
            "350/350 [==============================] - ETA: 0s - loss: 0.5079 - decoded_mean_loss: 0.0131 - pred_loss: 0.4921 - decoded_mean_acc: 0.9315 - decoded_mean_f1_m: 0.9312 - decoded_mean_precision_m: 0.9788 - decoded_mean_recall_m: 0.8880 - pred_acc: 0.7657 - pred_f1_m: 0.6452 - pred_precision_m: 0.6613 - pred_recall_m: 0.6300 \n",
            "Epoch 00031: val_pred_acc did not improve from 0.70267\n",
            "350/350 [==============================] - 110s 315ms/sample - loss: 0.5079 - decoded_mean_loss: 0.0131 - pred_loss: 0.4921 - decoded_mean_acc: 0.9315 - decoded_mean_f1_m: 0.9312 - decoded_mean_precision_m: 0.9788 - decoded_mean_recall_m: 0.8880 - pred_acc: 0.7657 - pred_f1_m: 0.6452 - pred_precision_m: 0.6613 - pred_recall_m: 0.6300 - val_loss: 0.5691 - val_decoded_mean_loss: 0.0105 - val_pred_loss: 0.5470 - val_decoded_mean_acc: 0.9329 - val_decoded_mean_f1_m: 0.9305 - val_decoded_mean_precision_m: 0.9803 - val_decoded_mean_recall_m: 0.8855 - val_pred_acc: 0.7000 - val_pred_f1_m: 0.5502 - val_pred_precision_m: 0.5609 - val_pred_recall_m: 0.5400\n",
            "Epoch 32/100\n",
            "350/350 [==============================] - ETA: 0s - loss: 0.5049 - decoded_mean_loss: 0.0107 - pred_loss: 0.4948 - decoded_mean_acc: 0.9315 - decoded_mean_f1_m: 0.9301 - decoded_mean_precision_m: 0.9810 - decoded_mean_recall_m: 0.8841 - pred_acc: 0.7514 - pred_f1_m: 0.6193 - pred_precision_m: 0.6289 - pred_recall_m: 0.6100 \n",
            "Epoch 00032: val_pred_acc did not improve from 0.70267\n",
            "350/350 [==============================] - 111s 316ms/sample - loss: 0.5049 - decoded_mean_loss: 0.0107 - pred_loss: 0.4948 - decoded_mean_acc: 0.9315 - decoded_mean_f1_m: 0.9301 - decoded_mean_precision_m: 0.9810 - decoded_mean_recall_m: 0.8841 - pred_acc: 0.7514 - pred_f1_m: 0.6193 - pred_precision_m: 0.6289 - pred_recall_m: 0.6100 - val_loss: 0.5762 - val_decoded_mean_loss: 0.0092 - val_pred_loss: 0.5646 - val_decoded_mean_acc: 0.9329 - val_decoded_mean_f1_m: 0.9313 - val_decoded_mean_precision_m: 0.9831 - val_decoded_mean_recall_m: 0.8846 - val_pred_acc: 0.6987 - val_pred_f1_m: 0.5366 - val_pred_precision_m: 0.5508 - val_pred_recall_m: 0.5233\n",
            "Epoch 33/100\n",
            "350/350 [==============================] - ETA: 0s - loss: 0.4959 - decoded_mean_loss: 0.0093 - pred_loss: 0.4800 - decoded_mean_acc: 0.9315 - decoded_mean_f1_m: 0.9301 - decoded_mean_precision_m: 0.9822 - decoded_mean_recall_m: 0.8832 - pred_acc: 0.7638 - pred_f1_m: 0.6485 - pred_precision_m: 0.6681 - pred_recall_m: 0.6300 \n",
            "Epoch 00033: val_pred_acc did not improve from 0.70267\n",
            "350/350 [==============================] - 107s 306ms/sample - loss: 0.4959 - decoded_mean_loss: 0.0093 - pred_loss: 0.4800 - decoded_mean_acc: 0.9315 - decoded_mean_f1_m: 0.9301 - decoded_mean_precision_m: 0.9822 - decoded_mean_recall_m: 0.8832 - pred_acc: 0.7638 - pred_f1_m: 0.6485 - pred_precision_m: 0.6681 - pred_recall_m: 0.6300 - val_loss: 0.5632 - val_decoded_mean_loss: 0.0087 - val_pred_loss: 0.5579 - val_decoded_mean_acc: 0.9329 - val_decoded_mean_f1_m: 0.9311 - val_decoded_mean_precision_m: 0.9829 - val_decoded_mean_recall_m: 0.8845 - val_pred_acc: 0.6933 - val_pred_f1_m: 0.5238 - val_pred_precision_m: 0.5387 - val_pred_recall_m: 0.5100\n",
            "Epoch 34/100\n",
            "350/350 [==============================] - ETA: 0s - loss: 0.5021 - decoded_mean_loss: 0.0091 - pred_loss: 0.4886 - decoded_mean_acc: 0.9315 - decoded_mean_f1_m: 0.9314 - decoded_mean_precision_m: 0.9833 - decoded_mean_recall_m: 0.8847 - pred_acc: 0.7495 - pred_f1_m: 0.6207 - pred_precision_m: 0.6431 - pred_recall_m: 0.6000 \n",
            "Epoch 00034: val_pred_acc did not improve from 0.70267\n",
            "350/350 [==============================] - 106s 304ms/sample - loss: 0.5021 - decoded_mean_loss: 0.0091 - pred_loss: 0.4886 - decoded_mean_acc: 0.9315 - decoded_mean_f1_m: 0.9314 - decoded_mean_precision_m: 0.9833 - decoded_mean_recall_m: 0.8847 - pred_acc: 0.7495 - pred_f1_m: 0.6207 - pred_precision_m: 0.6431 - pred_recall_m: 0.6000 - val_loss: 0.5664 - val_decoded_mean_loss: 0.0093 - val_pred_loss: 0.5567 - val_decoded_mean_acc: 0.9329 - val_decoded_mean_f1_m: 0.9316 - val_decoded_mean_precision_m: 0.9832 - val_decoded_mean_recall_m: 0.8852 - val_pred_acc: 0.6893 - val_pred_f1_m: 0.5156 - val_pred_precision_m: 0.5365 - val_pred_recall_m: 0.4967\n",
            "Epoch 35/100\n",
            "350/350 [==============================] - ETA: 0s - loss: 0.4847 - decoded_mean_loss: 0.0103 - pred_loss: 0.4812 - decoded_mean_acc: 0.9315 - decoded_mean_f1_m: 0.9320 - decoded_mean_precision_m: 0.9831 - decoded_mean_recall_m: 0.8860 - pred_acc: 0.7686 - pred_f1_m: 0.6304 - pred_precision_m: 0.6524 - pred_recall_m: 0.6100 \n",
            "Epoch 00035: val_pred_acc improved from 0.70267 to 0.70800, saving model to /content/drive/MyDrive/Models_a_ameliorer/Test_2.h5\n",
            "350/350 [==============================] - 113s 322ms/sample - loss: 0.4847 - decoded_mean_loss: 0.0103 - pred_loss: 0.4812 - decoded_mean_acc: 0.9315 - decoded_mean_f1_m: 0.9320 - decoded_mean_precision_m: 0.9831 - decoded_mean_recall_m: 0.8860 - pred_acc: 0.7686 - pred_f1_m: 0.6304 - pred_precision_m: 0.6524 - pred_recall_m: 0.6100 - val_loss: 0.5867 - val_decoded_mean_loss: 0.0112 - val_pred_loss: 0.5798 - val_decoded_mean_acc: 0.9329 - val_decoded_mean_f1_m: 0.9329 - val_decoded_mean_precision_m: 0.9837 - val_decoded_mean_recall_m: 0.8872 - val_pred_acc: 0.7080 - val_pred_f1_m: 0.5465 - val_pred_precision_m: 0.5532 - val_pred_recall_m: 0.5400\n",
            "Epoch 36/100\n",
            "350/350 [==============================] - ETA: 0s - loss: 0.4906 - decoded_mean_loss: 0.0109 - pred_loss: 0.4802 - decoded_mean_acc: 0.9315 - decoded_mean_f1_m: 0.9329 - decoded_mean_precision_m: 0.9846 - decoded_mean_recall_m: 0.8864 - pred_acc: 0.7629 - pred_f1_m: 0.6421 - pred_precision_m: 0.6495 - pred_recall_m: 0.6350 \n",
            "Epoch 00036: val_pred_acc did not improve from 0.70800\n",
            "350/350 [==============================] - 110s 313ms/sample - loss: 0.4906 - decoded_mean_loss: 0.0109 - pred_loss: 0.4802 - decoded_mean_acc: 0.9315 - decoded_mean_f1_m: 0.9329 - decoded_mean_precision_m: 0.9846 - decoded_mean_recall_m: 0.8864 - pred_acc: 0.7629 - pred_f1_m: 0.6421 - pred_precision_m: 0.6495 - pred_recall_m: 0.6350 - val_loss: 0.5697 - val_decoded_mean_loss: 0.0103 - val_pred_loss: 0.5506 - val_decoded_mean_acc: 0.9329 - val_decoded_mean_f1_m: 0.9334 - val_decoded_mean_precision_m: 0.9848 - val_decoded_mean_recall_m: 0.8871 - val_pred_acc: 0.7013 - val_pred_f1_m: 0.5446 - val_pred_precision_m: 0.5602 - val_pred_recall_m: 0.5300\n",
            "Epoch 37/100\n",
            "350/350 [==============================] - ETA: 0s - loss: 0.4636 - decoded_mean_loss: 0.0113 - pred_loss: 0.4492 - decoded_mean_acc: 0.9315 - decoded_mean_f1_m: 0.9335 - decoded_mean_precision_m: 0.9843 - decoded_mean_recall_m: 0.8877 - pred_acc: 0.7886 - pred_f1_m: 0.6733 - pred_precision_m: 0.6957 - pred_recall_m: 0.6525 \n",
            "Epoch 00037: val_pred_acc improved from 0.70800 to 0.70933, saving model to /content/drive/MyDrive/Models_a_ameliorer/Test_2.h5\n",
            "350/350 [==============================] - 109s 312ms/sample - loss: 0.4636 - decoded_mean_loss: 0.0113 - pred_loss: 0.4492 - decoded_mean_acc: 0.9315 - decoded_mean_f1_m: 0.9335 - decoded_mean_precision_m: 0.9843 - decoded_mean_recall_m: 0.8877 - pred_acc: 0.7886 - pred_f1_m: 0.6733 - pred_precision_m: 0.6957 - pred_recall_m: 0.6525 - val_loss: 0.5772 - val_decoded_mean_loss: 0.0111 - val_pred_loss: 0.5546 - val_decoded_mean_acc: 0.9329 - val_decoded_mean_f1_m: 0.9338 - val_decoded_mean_precision_m: 0.9841 - val_decoded_mean_recall_m: 0.8883 - val_pred_acc: 0.7093 - val_pred_f1_m: 0.5596 - val_pred_precision_m: 0.5732 - val_pred_recall_m: 0.5467\n",
            "Epoch 38/100\n",
            "350/350 [==============================] - ETA: 0s - loss: 0.4715 - decoded_mean_loss: 0.0116 - pred_loss: 0.4647 - decoded_mean_acc: 0.9315 - decoded_mean_f1_m: 0.9330 - decoded_mean_precision_m: 0.9854 - decoded_mean_recall_m: 0.8860 - pred_acc: 0.7838 - pred_f1_m: 0.6619 - pred_precision_m: 0.6773 - pred_recall_m: 0.6475 \n",
            "Epoch 00038: val_pred_acc improved from 0.70933 to 0.71600, saving model to /content/drive/MyDrive/Models_a_ameliorer/Test_2.h5\n",
            "350/350 [==============================] - 114s 327ms/sample - loss: 0.4715 - decoded_mean_loss: 0.0116 - pred_loss: 0.4647 - decoded_mean_acc: 0.9315 - decoded_mean_f1_m: 0.9330 - decoded_mean_precision_m: 0.9854 - decoded_mean_recall_m: 0.8860 - pred_acc: 0.7838 - pred_f1_m: 0.6619 - pred_precision_m: 0.6773 - pred_recall_m: 0.6475 - val_loss: 0.5736 - val_decoded_mean_loss: 0.0101 - val_pred_loss: 0.5716 - val_decoded_mean_acc: 0.9329 - val_decoded_mean_f1_m: 0.9329 - val_decoded_mean_precision_m: 0.9873 - val_decoded_mean_recall_m: 0.8842 - val_pred_acc: 0.7160 - val_pred_f1_m: 0.5462 - val_pred_precision_m: 0.5685 - val_pred_recall_m: 0.5267\n",
            "Epoch 39/100\n",
            "350/350 [==============================] - ETA: 0s - loss: 0.4627 - decoded_mean_loss: 0.0105 - pred_loss: 0.4592 - decoded_mean_acc: 0.9315 - decoded_mean_f1_m: 0.9326 - decoded_mean_precision_m: 0.9865 - decoded_mean_recall_m: 0.8842 - pred_acc: 0.7771 - pred_f1_m: 0.6397 - pred_precision_m: 0.6580 - pred_recall_m: 0.6225 \n",
            "Epoch 00039: val_pred_acc did not improve from 0.71600\n",
            "350/350 [==============================] - 109s 312ms/sample - loss: 0.4627 - decoded_mean_loss: 0.0105 - pred_loss: 0.4592 - decoded_mean_acc: 0.9315 - decoded_mean_f1_m: 0.9326 - decoded_mean_precision_m: 0.9865 - decoded_mean_recall_m: 0.8842 - pred_acc: 0.7771 - pred_f1_m: 0.6397 - pred_precision_m: 0.6580 - pred_recall_m: 0.6225 - val_loss: 0.5850 - val_decoded_mean_loss: 0.0097 - val_pred_loss: 0.5844 - val_decoded_mean_acc: 0.9329 - val_decoded_mean_f1_m: 0.9340 - val_decoded_mean_precision_m: 0.9877 - val_decoded_mean_recall_m: 0.8858 - val_pred_acc: 0.7120 - val_pred_f1_m: 0.5457 - val_pred_precision_m: 0.5662 - val_pred_recall_m: 0.5267\n",
            "Epoch 40/100\n",
            "350/350 [==============================] - ETA: 0s - loss: 0.4693 - decoded_mean_loss: 0.0102 - pred_loss: 0.4599 - decoded_mean_acc: 0.9315 - decoded_mean_f1_m: 0.9334 - decoded_mean_precision_m: 0.9879 - decoded_mean_recall_m: 0.8845 - pred_acc: 0.7724 - pred_f1_m: 0.6486 - pred_precision_m: 0.6743 - pred_recall_m: 0.6250 \n",
            "Epoch 00040: val_pred_acc did not improve from 0.71600\n",
            "350/350 [==============================] - 108s 310ms/sample - loss: 0.4693 - decoded_mean_loss: 0.0102 - pred_loss: 0.4599 - decoded_mean_acc: 0.9315 - decoded_mean_f1_m: 0.9334 - decoded_mean_precision_m: 0.9879 - decoded_mean_recall_m: 0.8845 - pred_acc: 0.7724 - pred_f1_m: 0.6486 - pred_precision_m: 0.6743 - pred_recall_m: 0.6250 - val_loss: 0.5781 - val_decoded_mean_loss: 0.0096 - val_pred_loss: 0.5641 - val_decoded_mean_acc: 0.9329 - val_decoded_mean_f1_m: 0.9334 - val_decoded_mean_precision_m: 0.9891 - val_decoded_mean_recall_m: 0.8836 - val_pred_acc: 0.7133 - val_pred_f1_m: 0.5723 - val_pred_precision_m: 0.5926 - val_pred_recall_m: 0.5533\n",
            "Epoch 41/100\n",
            "350/350 [==============================] - ETA: 0s - loss: 0.4653 - decoded_mean_loss: 0.0103 - pred_loss: 0.4598 - decoded_mean_acc: 0.9315 - decoded_mean_f1_m: 0.9323 - decoded_mean_precision_m: 0.9897 - decoded_mean_recall_m: 0.8812 - pred_acc: 0.7810 - pred_f1_m: 0.6508 - pred_precision_m: 0.6760 - pred_recall_m: 0.6275 \n",
            "Epoch 00041: val_pred_acc did not improve from 0.71600\n",
            "350/350 [==============================] - 110s 315ms/sample - loss: 0.4653 - decoded_mean_loss: 0.0103 - pred_loss: 0.4598 - decoded_mean_acc: 0.9315 - decoded_mean_f1_m: 0.9323 - decoded_mean_precision_m: 0.9897 - decoded_mean_recall_m: 0.8812 - pred_acc: 0.7810 - pred_f1_m: 0.6508 - pred_precision_m: 0.6760 - pred_recall_m: 0.6275 - val_loss: 0.5815 - val_decoded_mean_loss: 0.0100 - val_pred_loss: 0.5776 - val_decoded_mean_acc: 0.9329 - val_decoded_mean_f1_m: 0.9325 - val_decoded_mean_precision_m: 0.9902 - val_decoded_mean_recall_m: 0.8812 - val_pred_acc: 0.7067 - val_pred_f1_m: 0.5221 - val_pred_precision_m: 0.5547 - val_pred_recall_m: 0.4933\n",
            "Epoch 42/100\n",
            "350/350 [==============================] - ETA: 0s - loss: 0.4340 - decoded_mean_loss: 0.0113 - pred_loss: 0.4235 - decoded_mean_acc: 0.9315 - decoded_mean_f1_m: 0.9329 - decoded_mean_precision_m: 0.9893 - decoded_mean_recall_m: 0.8827 - pred_acc: 0.8000 - pred_f1_m: 0.6806 - pred_precision_m: 0.7143 - pred_recall_m: 0.6500 \n",
            "Epoch 00042: val_pred_acc did not improve from 0.71600\n",
            "350/350 [==============================] - 107s 307ms/sample - loss: 0.4340 - decoded_mean_loss: 0.0113 - pred_loss: 0.4235 - decoded_mean_acc: 0.9315 - decoded_mean_f1_m: 0.9329 - decoded_mean_precision_m: 0.9893 - decoded_mean_recall_m: 0.8827 - pred_acc: 0.8000 - pred_f1_m: 0.6806 - pred_precision_m: 0.7143 - pred_recall_m: 0.6500 - val_loss: 0.6180 - val_decoded_mean_loss: 0.0133 - val_pred_loss: 0.6078 - val_decoded_mean_acc: 0.9329 - val_decoded_mean_f1_m: 0.9359 - val_decoded_mean_precision_m: 0.9868 - val_decoded_mean_recall_m: 0.8900 - val_pred_acc: 0.7160 - val_pred_f1_m: 0.5590 - val_pred_precision_m: 0.5757 - val_pred_recall_m: 0.5433\n",
            "Epoch 43/100\n",
            "350/350 [==============================] - ETA: 0s - loss: 0.4495 - decoded_mean_loss: 0.0145 - pred_loss: 0.4305 - decoded_mean_acc: 0.9315 - decoded_mean_f1_m: 0.9345 - decoded_mean_precision_m: 0.9864 - decoded_mean_recall_m: 0.8878 - pred_acc: 0.7952 - pred_f1_m: 0.6803 - pred_precision_m: 0.7051 - pred_recall_m: 0.6575 \n",
            "Epoch 00043: val_pred_acc did not improve from 0.71600\n",
            "350/350 [==============================] - 107s 307ms/sample - loss: 0.4495 - decoded_mean_loss: 0.0145 - pred_loss: 0.4305 - decoded_mean_acc: 0.9315 - decoded_mean_f1_m: 0.9345 - decoded_mean_precision_m: 0.9864 - decoded_mean_recall_m: 0.8878 - pred_acc: 0.7952 - pred_f1_m: 0.6803 - pred_precision_m: 0.7051 - pred_recall_m: 0.6575 - val_loss: 0.6045 - val_decoded_mean_loss: 0.0119 - val_pred_loss: 0.6021 - val_decoded_mean_acc: 0.9329 - val_decoded_mean_f1_m: 0.9345 - val_decoded_mean_precision_m: 0.9886 - val_decoded_mean_recall_m: 0.8860 - val_pred_acc: 0.7000 - val_pred_f1_m: 0.5179 - val_pred_precision_m: 0.5372 - val_pred_recall_m: 0.5000\n",
            "Epoch 00043: early stopping\n"
          ]
        }
      ]
    },
    {
      "cell_type": "code",
      "metadata": {
        "id": "pSFRPMjj-nlr",
        "colab": {
          "base_uri": "https://localhost:8080/"
        },
        "outputId": "4639151a-d5db-492d-81db-7f3a9d9b9829"
      },
      "source": [
        "autoencoder.evaluate(x=X_test, y={'decoded_mean': Conversion_X_test, 'pred': y_test})"
      ],
      "execution_count": 30,
      "outputs": [
        {
          "output_type": "execute_result",
          "data": {
            "text/plain": [
              "[0.6042301182746888,\n",
              " 0.012019209,\n",
              " 0.59083384,\n",
              " 0.93292,\n",
              " 0.9350605,\n",
              " 0.9889531,\n",
              " 0.88675183,\n",
              " 0.6986667,\n",
              " 0.533476,\n",
              " 0.5521976,\n",
              " 0.51652646]"
            ]
          },
          "metadata": {},
          "execution_count": 30
        }
      ]
    },
    {
      "cell_type": "code",
      "metadata": {
        "id": "DkTJxpOg-nWs",
        "colab": {
          "base_uri": "https://localhost:8080/",
          "height": 1000
        },
        "outputId": "e487979e-9c54-46aa-a091-6b5725a34e54"
      },
      "source": [
        "plt.plot(history.history['pred_acc'])\n",
        "plt.plot(history.history['val_pred_acc'])\n",
        "plt.title('model accuracy')\n",
        "plt.ylabel('accuracy')\n",
        "plt.xlabel('epoch')\n",
        "plt.legend(['train', 'validation'], loc='upper left')\n",
        "plt.show()\n",
        "# Plot of loss in each epoch\n",
        "plt.plot(history.history['loss'])\n",
        "plt.plot(history.history['val_loss'])\n",
        "plt.title('model loss')\n",
        "plt.ylabel('loss')\n",
        "plt.xlabel('epoch')\n",
        "plt.legend(['train', 'validation'], loc='upper left')\n",
        "plt.show()\n",
        "\n",
        "plt.plot(history.history['pred_loss'])\n",
        "plt.plot(history.history['val_pred_loss'])\n",
        "plt.title('model pred_loss')\n",
        "plt.ylabel('pred_loss')\n",
        "plt.xlabel('epoch')\n",
        "plt.legend(['train', 'validation'], loc='upper left')\n",
        "plt.show()\n",
        "\n",
        "plt.plot(history.history['pred_f1_m'])\n",
        "plt.plot(history.history['val_pred_f1_m'])\n",
        "\n",
        "plt.title('model F1_score')\n",
        "plt.ylabel('f1_m')\n",
        "plt.xlabel('epoch')\n",
        "plt.legend(['train','test'], loc='upper left')\n",
        "plt.show()\n"
      ],
      "execution_count": 31,
      "outputs": [
        {
          "output_type": "display_data",
          "data": {
            "image/png": "[encoded data removed]",
            "text/plain": [
              "<Figure size 432x288 with 1 Axes>"
            ]
          },
          "metadata": {
            "needs_background": "light"
          }
        },
        {
          "output_type": "display_data",
          "data": {
            "image/png": "[encoded data removed]",
            "text/plain": [
              "<Figure size 432x288 with 1 Axes>"
            ]
          },
          "metadata": {
            "needs_background": "light"
          }
        },
        {
          "output_type": "display_data",
          "data": {
            "image/png": "[encoded data removed]",
            "text/plain": [
              "<Figure size 432x288 with 1 Axes>"
            ]
          },
          "metadata": {
            "needs_background": "light"
          }
        },
        {
          "output_type": "display_data",
          "data": {
            "image/png": "[encoded data removed]",
            "text/plain": [
              "<Figure size 432x288 with 1 Axes>"
            ]
          },
          "metadata": {
            "needs_background": "light"
          }
        }
      ]
    },
    {
      "cell_type": "markdown",
      "metadata": {
        "id": "zdogfwsE3Dv0"
      },
      "source": [
        "# **Test_3**:\n",
        " Une couche avec 750 Neurones"
      ]
    },
    {
      "cell_type": "code",
      "metadata": {
        "id": "6i89XVgk3Dce",
        "colab": {
          "base_uri": "https://localhost:8080/"
        },
        "outputId": "2a29c529-8d21-4dda-c037-9163c9475ce5"
      },
      "source": [
        "MODEL_FILE_PATH = '/content/drive/MyDrive/dossier_de_travail/Resultat'\n",
        "MODEL_FILE_NAME = 'Test_3.h5'\n",
        "LR=0.0001\n",
        "\n",
        "batch_size = 100\n",
        "vocab_size=vocab_size\n",
        "max_length=100 \n",
        "dim_latent=200\n",
        "intermediate_dim=500\n",
        "\n",
        "encoder = None\n",
        "decoder = None\n",
        "predicter_opinion = None\n",
        "autoencoder = None\n",
        "\n",
        "x = Input(shape=(max_length,))\n",
        "x_embed = Embedding(vocab_size, 100, weights=[embedding_matrix], input_length=max_length)(x)\n",
        "def Encodeur(x, dim_latent=200, max_length=100, epsilon_std=0.01):\n",
        "    h = Bidirectional(LSTM(750, return_sequences=True,dropout=0.25),merge_mode='concat')(x)\n",
        "    h = AttentionCouche()(h) \n",
        "    h = Dense(300, activation='relu', name='dense_1')(h)\n",
        "    def sampling(args):\n",
        "        z_mean, z_log_var = args\n",
        "        batch = K.shape(z_mean)[0]\n",
        "        # by default, random_normal has mean=0 and std=1.0\n",
        "        epsilon = K.random_normal(shape=(batch, dim_latent), mean=0., stddev=epsilon_std)\n",
        "        return z_mean + K.exp(z_log_var / 2) * epsilon\n",
        "    z_mean = Dense(dim_latent, name='z_mean', activation='linear')(h)\n",
        "    z_log_var = Dense(dim_latent, name='z_log_var', activation='linear')(h)\n",
        "    z = Lambda(sampling, output_shape=(dim_latent,), name='z')([z_mean, z_log_var])\n",
        "\n",
        "    def fct_loss(x, x_decoded_mean):\n",
        "        x = K.flatten(x)\n",
        "        x_decoded_mean = K.flatten(x_decoded_mean)\n",
        "        xent_loss = max_length * metrics.binary_crossentropy(x, x_decoded_mean)\n",
        "        kl_loss = - 0.5 * K.mean(1 + z_log_var - K.square(z_mean) - K.exp(z_log_var), axis=-1)\n",
        "        return xent_loss + kl_loss\n",
        "    \n",
        "    return (fct_loss, z)\n",
        "     \n",
        "fct_loss, encoded = Encodeur(x_embed, dim_latent=dim_latent, max_length=max_length)\n",
        "encoder = Model(inputs=x, outputs=encoded)\n",
        "encoder.summary()\n",
        "def Codage_opinion(encoded):\n",
        "    h = Dense(100, activation='linear')(encoded)     \n",
        "    return Dense(3, activation='softmax', name='pred')(h)\n",
        "\n",
        "encoded_input = Input(shape=(dim_latent,))\n",
        "opinion_lab = Codage_opinion(encoded_input)\n",
        "predicter_opinion = Model(encoded_input, opinion_lab)\n",
        "predicter_opinion.summary()\n",
        "def Decodeur(encoded, vocab_size, max_length):\n",
        "    repeated_context = RepeatVector(max_length)(encoded)\n",
        "    h =Bidirectional(LSTM(750, return_sequences=True, name='dec_lstm_1',dropout=0.25))(repeated_context)\n",
        "    decoded = TimeDistributed(Dense(vocab_size, activation='softmax'), name='decoded_mean')(h)        \n",
        "    return decoded\n",
        "\n",
        "\n",
        "decoded = Decodeur(encoded_input, vocab_size, max_length)\n",
        "decoder = Model(encoded_input, decoded)\n",
        "decoder.summary()\n",
        "autoencoder = Model(inputs=x, outputs=[Decodeur(encoded, vocab_size, max_length), Codage_opinion(encoded)])\n",
        "tf.config.run_functions_eagerly(False)\n",
        "#tf.compat.v1.disable_eager_execution()\n",
        "\n",
        "\n",
        "early_stopping = EarlyStopping(monitor='val_loss', mode='min', verbose=1, patience=10)\n",
        "\n",
        "save_best = ModelCheckpoint(os.path.join(MODEL_FILE_PATH,MODEL_FILE_NAME), \n",
        "                     monitor='val_pred_acc', \n",
        "                     mode='max', \n",
        "                     verbose=1, \n",
        "                     save_best_only=True) \n",
        "\n",
        "autoencoder.compile(optimizer=Adam(learning_rate=0.0001), loss=[fct_loss, 'binary_crossentropy'], metrics=['accuracy',f1_m,precision_m, recall_m])\n",
        "autoencoder.summary()\n"
      ],
      "execution_count": null,
      "outputs": [
        {
          "output_type": "stream",
          "name": "stdout",
          "text": [
            "Model: \"model_8\"\n",
            "__________________________________________________________________________________________________\n",
            " Layer (type)                   Output Shape         Param #     Connected to                     \n",
            "==================================================================================================\n",
            " input_7 (InputLayer)           [(None, 100)]        0           []                               \n",
            "                                                                                                  \n",
            " embedding_4 (Embedding)        (None, 100, 100)     2281400     ['input_7[0][0]']                \n",
            "                                                                                                  \n",
            " bidirectional_8 (Bidirectional  (None, 100, 1500)   5106000     ['embedding_4[0][0]']            \n",
            " )                                                                                                \n",
            "                                                                                                  \n",
            " attention_couche_4 (AttentionC  (None, 1500)        1600        ['bidirectional_8[0][0]']        \n",
            " ouche)                                                                                           \n",
            "                                                                                                  \n",
            " dense_1 (Dense)                (None, 300)          450300      ['attention_couche_4[0][0]']     \n",
            "                                                                                                  \n",
            " z_mean (Dense)                 (None, 200)          60200       ['dense_1[0][0]']                \n",
            "                                                                                                  \n",
            " z_log_var (Dense)              (None, 200)          60200       ['dense_1[0][0]']                \n",
            "                                                                                                  \n",
            " z (Lambda)                     (None, 200)          0           ['z_mean[0][0]',                 \n",
            "                                                                  'z_log_var[0][0]']              \n",
            "                                                                                                  \n",
            "==================================================================================================\n",
            "Total params: 7,959,700\n",
            "Trainable params: 7,959,700\n",
            "Non-trainable params: 0\n",
            "__________________________________________________________________________________________________\n",
            "Model: \"model_9\"\n",
            "_________________________________________________________________\n",
            " Layer (type)                Output Shape              Param #   \n",
            "=================================================================\n",
            " input_8 (InputLayer)        [(None, 200)]             0         \n",
            "                                                                 \n",
            " dense_8 (Dense)             (None, 100)               20100     \n",
            "                                                                 \n",
            " pred (Dense)                (None, 3)                 303       \n",
            "                                                                 \n",
            "=================================================================\n",
            "Total params: 20,403\n",
            "Trainable params: 20,403\n",
            "Non-trainable params: 0\n",
            "_________________________________________________________________\n",
            "Model: \"model_10\"\n",
            "_________________________________________________________________\n",
            " Layer (type)                Output Shape              Param #   \n",
            "=================================================================\n",
            " input_8 (InputLayer)        [(None, 200)]             0         \n",
            "                                                                 \n",
            " repeat_vector_9 (RepeatVect  (None, 100, 200)         0         \n",
            " or)                                                             \n",
            "                                                                 \n",
            " bidirectional_9 (Bidirectio  (None, 100, 1500)        5706000   \n",
            " nal)                                                            \n",
            "                                                                 \n",
            " decoded_mean (TimeDistribut  (None, 100, 22814)       34243814  \n",
            " ed)                                                             \n",
            "                                                                 \n",
            "=================================================================\n",
            "Total params: 39,949,814\n",
            "Trainable params: 39,949,814\n",
            "Non-trainable params: 0\n",
            "_________________________________________________________________\n",
            "Model: \"model_11\"\n",
            "__________________________________________________________________________________________________\n",
            " Layer (type)                   Output Shape         Param #     Connected to                     \n",
            "==================================================================================================\n",
            " input_7 (InputLayer)           [(None, 100)]        0           []                               \n",
            "                                                                                                  \n",
            " embedding_4 (Embedding)        (None, 100, 100)     2281400     ['input_7[0][0]']                \n",
            "                                                                                                  \n",
            " bidirectional_8 (Bidirectional  (None, 100, 1500)   5106000     ['embedding_4[0][0]']            \n",
            " )                                                                                                \n",
            "                                                                                                  \n",
            " attention_couche_4 (AttentionC  (None, 1500)        1600        ['bidirectional_8[0][0]']        \n",
            " ouche)                                                                                           \n",
            "                                                                                                  \n",
            " dense_1 (Dense)                (None, 300)          450300      ['attention_couche_4[0][0]']     \n",
            "                                                                                                  \n",
            " z_mean (Dense)                 (None, 200)          60200       ['dense_1[0][0]']                \n",
            "                                                                                                  \n",
            " z_log_var (Dense)              (None, 200)          60200       ['dense_1[0][0]']                \n",
            "                                                                                                  \n",
            " z (Lambda)                     (None, 200)          0           ['z_mean[0][0]',                 \n",
            "                                                                  'z_log_var[0][0]']              \n",
            "                                                                                                  \n",
            " repeat_vector_10 (RepeatVector  (None, 100, 200)    0           ['z[0][0]']                      \n",
            " )                                                                                                \n",
            "                                                                                                  \n",
            " bidirectional_10 (Bidirectiona  (None, 100, 1500)   5706000     ['repeat_vector_10[0][0]']       \n",
            " l)                                                                                               \n",
            "                                                                                                  \n",
            " dense_11 (Dense)               (None, 100)          20100       ['z[0][0]']                      \n",
            "                                                                                                  \n",
            " decoded_mean (TimeDistributed)  (None, 100, 22814)  34243814    ['bidirectional_10[0][0]']       \n",
            "                                                                                                  \n",
            " pred (Dense)                   (None, 3)            303         ['dense_11[0][0]']               \n",
            "                                                                                                  \n",
            "==================================================================================================\n",
            "Total params: 47,929,917\n",
            "Trainable params: 47,929,917\n",
            "Non-trainable params: 0\n",
            "__________________________________________________________________________________________________\n"
          ]
        }
      ]
    },
    {
      "cell_type": "code",
      "metadata": {
        "id": "Ee0W4jxx3DW8",
        "colab": {
          "base_uri": "https://localhost:8080/"
        },
        "outputId": "c9cecc74-631e-4c30-97b6-5cd932bd22b4"
      },
      "source": [
        "\n",
        "history = autoencoder.fit(x=X_train, y={'decoded_mean': Conversion_X_train, 'pred': y_train}, batch_size=100, epochs=100, validation_data=(X_test, {'decoded_mean': Conversion_X_test, 'pred':  y_test}),callbacks=[early_stopping, save_best])\n"
      ],
      "execution_count": null,
      "outputs": [
        {
          "output_type": "stream",
          "name": "stdout",
          "text": [
            "Train on 350 samples, validate on 250 samples\n",
            "Epoch 1/100\n",
            "350/350 [==============================] - ETA: 0s - loss: 0.7355 - decoded_mean_loss: 0.0484 - pred_loss: 0.6864 - decoded_mean_acc: 0.0157 - decoded_mean_f1_m: 0.0000e+00 - decoded_mean_precision_m: 0.0000e+00 - decoded_mean_recall_m: 0.0000e+00 - pred_acc: 0.6667 - pred_f1_m: 0.0000e+00 - pred_precision_m: 0.0000e+00 - pred_recall_m: 0.0000e+00 "
          ]
        },
        {
          "output_type": "stream",
          "name": "stderr",
          "text": [
            "/usr/local/lib/python3.7/dist-packages/keras/engine/training_v1.py:2057: UserWarning: `Model.state_updates` will be removed in a future version. This property should not be used in TensorFlow 2.0, as `updates` are applied automatically.\n",
            "  updates = self.state_updates\n"
          ]
        },
        {
          "output_type": "stream",
          "name": "stdout",
          "text": [
            "\n",
            "Epoch 00001: val_pred_acc improved from -inf to 0.66667, saving model to /content/drive/MyDrive/dossier_de_travail/Resultat/Test_3.h5\n",
            "350/350 [==============================] - 148s 424ms/sample - loss: 0.7355 - decoded_mean_loss: 0.0484 - pred_loss: 0.6864 - decoded_mean_acc: 0.0157 - decoded_mean_f1_m: 0.0000e+00 - decoded_mean_precision_m: 0.0000e+00 - decoded_mean_recall_m: 0.0000e+00 - pred_acc: 0.6667 - pred_f1_m: 0.0000e+00 - pred_precision_m: 0.0000e+00 - pred_recall_m: 0.0000e+00 - val_loss: 0.7259 - val_decoded_mean_loss: 0.0484 - val_pred_loss: 0.6776 - val_decoded_mean_acc: 0.5046 - val_decoded_mean_f1_m: 0.0000e+00 - val_decoded_mean_precision_m: 0.0000e+00 - val_decoded_mean_recall_m: 0.0000e+00 - val_pred_acc: 0.6667 - val_pred_f1_m: 0.0000e+00 - val_pred_precision_m: 0.0000e+00 - val_pred_recall_m: 0.0000e+00\n",
            "Epoch 2/100\n",
            "350/350 [==============================] - ETA: 0s - loss: 0.7171 - decoded_mean_loss: 0.0485 - pred_loss: 0.6673 - decoded_mean_acc: 0.6339 - decoded_mean_f1_m: 0.0000e+00 - decoded_mean_precision_m: 0.0000e+00 - decoded_mean_recall_m: 0.0000e+00 - pred_acc: 0.6667 - pred_f1_m: 0.0000e+00 - pred_precision_m: 0.0000e+00 - pred_recall_m: 0.0000e+00 \n",
            "Epoch 00002: val_pred_acc did not improve from 0.66667\n",
            "350/350 [==============================] - 147s 421ms/sample - loss: 0.7171 - decoded_mean_loss: 0.0485 - pred_loss: 0.6673 - decoded_mean_acc: 0.6339 - decoded_mean_f1_m: 0.0000e+00 - decoded_mean_precision_m: 0.0000e+00 - decoded_mean_recall_m: 0.0000e+00 - pred_acc: 0.6667 - pred_f1_m: 0.0000e+00 - pred_precision_m: 0.0000e+00 - pred_recall_m: 0.0000e+00 - val_loss: 0.7065 - val_decoded_mean_loss: 0.0486 - val_pred_loss: 0.6574 - val_decoded_mean_acc: 0.9303 - val_decoded_mean_f1_m: 0.0000e+00 - val_decoded_mean_precision_m: 0.0000e+00 - val_decoded_mean_recall_m: 0.0000e+00 - val_pred_acc: 0.6667 - val_pred_f1_m: 0.0000e+00 - val_pred_precision_m: 0.0000e+00 - val_pred_recall_m: 0.0000e+00\n",
            "Epoch 3/100\n",
            "350/350 [==============================] - ETA: 0s - loss: 0.6940 - decoded_mean_loss: 0.0488 - pred_loss: 0.6439 - decoded_mean_acc: 0.9318 - decoded_mean_f1_m: 0.0000e+00 - decoded_mean_precision_m: 0.0000e+00 - decoded_mean_recall_m: 0.0000e+00 - pred_acc: 0.6648 - pred_f1_m: 0.0050 - pred_precision_m: 0.2500 - pred_recall_m: 0.0025 \n",
            "Epoch 00003: val_pred_acc improved from 0.66667 to 0.67067, saving model to /content/drive/MyDrive/dossier_de_travail/Resultat/Test_3.h5\n",
            "350/350 [==============================] - 155s 442ms/sample - loss: 0.6940 - decoded_mean_loss: 0.0488 - pred_loss: 0.6439 - decoded_mean_acc: 0.9318 - decoded_mean_f1_m: 0.0000e+00 - decoded_mean_precision_m: 0.0000e+00 - decoded_mean_recall_m: 0.0000e+00 - pred_acc: 0.6648 - pred_f1_m: 0.0050 - pred_precision_m: 0.2500 - pred_recall_m: 0.0025 - val_loss: 0.6812 - val_decoded_mean_loss: 0.0495 - val_pred_loss: 0.6349 - val_decoded_mean_acc: 0.9303 - val_decoded_mean_f1_m: 0.0000e+00 - val_decoded_mean_precision_m: 0.0000e+00 - val_decoded_mean_recall_m: 0.0000e+00 - val_pred_acc: 0.6707 - val_pred_f1_m: 0.1326 - val_pred_precision_m: 0.4959 - val_pred_recall_m: 0.0767\n",
            "Epoch 4/100\n",
            "350/350 [==============================] - ETA: 0s - loss: 0.6659 - decoded_mean_loss: 0.0508 - pred_loss: 0.6225 - decoded_mean_acc: 0.9318 - decoded_mean_f1_m: 0.0000e+00 - decoded_mean_precision_m: 0.0000e+00 - decoded_mean_recall_m: 0.0000e+00 - pred_acc: 0.6533 - pred_f1_m: 0.2408 - pred_precision_m: 0.4416 - pred_recall_m: 0.1775 \n",
            "Epoch 00004: val_pred_acc did not improve from 0.67067\n",
            "350/350 [==============================] - 150s 427ms/sample - loss: 0.6659 - decoded_mean_loss: 0.0508 - pred_loss: 0.6225 - decoded_mean_acc: 0.9318 - decoded_mean_f1_m: 0.0000e+00 - decoded_mean_precision_m: 0.0000e+00 - decoded_mean_recall_m: 0.0000e+00 - pred_acc: 0.6533 - pred_f1_m: 0.2408 - pred_precision_m: 0.4416 - pred_recall_m: 0.1775 - val_loss: 0.6761 - val_decoded_mean_loss: 0.0529 - val_pred_loss: 0.6174 - val_decoded_mean_acc: 0.9303 - val_decoded_mean_f1_m: 0.0000e+00 - val_decoded_mean_precision_m: 0.0000e+00 - val_decoded_mean_recall_m: 0.0000e+00 - val_pred_acc: 0.6160 - val_pred_f1_m: 0.3408 - val_pred_precision_m: 0.4077 - val_pred_recall_m: 0.2933\n",
            "Epoch 5/100\n",
            "350/350 [==============================] - ETA: 0s - loss: 0.6555 - decoded_mean_loss: 0.0528 - pred_loss: 0.6033 - decoded_mean_acc: 0.9318 - decoded_mean_f1_m: 0.0000e+00 - decoded_mean_precision_m: 0.0000e+00 - decoded_mean_recall_m: 0.0000e+00 - pred_acc: 0.6629 - pred_f1_m: 0.4178 - pred_precision_m: 0.4886 - pred_recall_m: 0.3650 \n",
            "Epoch 00005: val_pred_acc did not improve from 0.67067\n",
            "350/350 [==============================] - 149s 424ms/sample - loss: 0.6555 - decoded_mean_loss: 0.0528 - pred_loss: 0.6033 - decoded_mean_acc: 0.9318 - decoded_mean_f1_m: 0.0000e+00 - decoded_mean_precision_m: 0.0000e+00 - decoded_mean_recall_m: 0.0000e+00 - pred_acc: 0.6629 - pred_f1_m: 0.4178 - pred_precision_m: 0.4886 - pred_recall_m: 0.3650 - val_loss: 0.6735 - val_decoded_mean_loss: 0.0519 - val_pred_loss: 0.6155 - val_decoded_mean_acc: 0.9303 - val_decoded_mean_f1_m: 0.0000e+00 - val_decoded_mean_precision_m: 0.0000e+00 - val_decoded_mean_recall_m: 0.0000e+00 - val_pred_acc: 0.6147 - val_pred_f1_m: 0.3570 - val_pred_precision_m: 0.4220 - val_pred_recall_m: 0.3100\n",
            "Epoch 6/100\n",
            "350/350 [==============================] - ETA: 0s - loss: 0.6491 - decoded_mean_loss: 0.0511 - pred_loss: 0.6018 - decoded_mean_acc: 0.9318 - decoded_mean_f1_m: 0.0000e+00 - decoded_mean_precision_m: 0.0000e+00 - decoded_mean_recall_m: 0.0000e+00 - pred_acc: 0.6667 - pred_f1_m: 0.4212 - pred_precision_m: 0.4926 - pred_recall_m: 0.3700 \n",
            "Epoch 00006: val_pred_acc did not improve from 0.67067\n",
            "350/350 [==============================] - 147s 419ms/sample - loss: 0.6491 - decoded_mean_loss: 0.0511 - pred_loss: 0.6018 - decoded_mean_acc: 0.9318 - decoded_mean_f1_m: 0.0000e+00 - decoded_mean_precision_m: 0.0000e+00 - decoded_mean_recall_m: 0.0000e+00 - pred_acc: 0.6667 - pred_f1_m: 0.4212 - pred_precision_m: 0.4926 - pred_recall_m: 0.3700 - val_loss: 0.6686 - val_decoded_mean_loss: 0.0501 - val_pred_loss: 0.6110 - val_decoded_mean_acc: 0.9303 - val_decoded_mean_f1_m: 0.0000e+00 - val_decoded_mean_precision_m: 0.0000e+00 - val_decoded_mean_recall_m: 0.0000e+00 - val_pred_acc: 0.6147 - val_pred_f1_m: 0.3567 - val_pred_precision_m: 0.4142 - val_pred_recall_m: 0.3133\n",
            "Epoch 7/100\n",
            "350/350 [==============================] - ETA: 0s - loss: 0.6457 - decoded_mean_loss: 0.0491 - pred_loss: 0.5969 - decoded_mean_acc: 0.9318 - decoded_mean_f1_m: 0.0000e+00 - decoded_mean_precision_m: 0.0000e+00 - decoded_mean_recall_m: 0.0000e+00 - pred_acc: 0.6686 - pred_f1_m: 0.4342 - pred_precision_m: 0.5077 - pred_recall_m: 0.3800 \n",
            "Epoch 00007: val_pred_acc did not improve from 0.67067\n",
            "350/350 [==============================] - 148s 423ms/sample - loss: 0.6457 - decoded_mean_loss: 0.0491 - pred_loss: 0.5969 - decoded_mean_acc: 0.9318 - decoded_mean_f1_m: 0.0000e+00 - decoded_mean_precision_m: 0.0000e+00 - decoded_mean_recall_m: 0.0000e+00 - pred_acc: 0.6686 - pred_f1_m: 0.4342 - pred_precision_m: 0.5077 - pred_recall_m: 0.3800 - val_loss: 0.6643 - val_decoded_mean_loss: 0.0475 - val_pred_loss: 0.6148 - val_decoded_mean_acc: 0.9303 - val_decoded_mean_f1_m: 0.0000e+00 - val_decoded_mean_precision_m: 0.0000e+00 - val_decoded_mean_recall_m: 0.0000e+00 - val_pred_acc: 0.6093 - val_pred_f1_m: 0.3556 - val_pred_precision_m: 0.4005 - val_pred_recall_m: 0.3200\n",
            "Epoch 8/100\n",
            "350/350 [==============================] - ETA: 0s - loss: 0.6388 - decoded_mean_loss: 0.0456 - pred_loss: 0.5905 - decoded_mean_acc: 0.9318 - decoded_mean_f1_m: 0.0000e+00 - decoded_mean_precision_m: 0.0000e+00 - decoded_mean_recall_m: 0.0000e+00 - pred_acc: 0.6667 - pred_f1_m: 0.4457 - pred_precision_m: 0.5014 - pred_recall_m: 0.4025 \n",
            "Epoch 00008: val_pred_acc did not improve from 0.67067\n",
            "350/350 [==============================] - 147s 421ms/sample - loss: 0.6388 - decoded_mean_loss: 0.0456 - pred_loss: 0.5905 - decoded_mean_acc: 0.9318 - decoded_mean_f1_m: 0.0000e+00 - decoded_mean_precision_m: 0.0000e+00 - decoded_mean_recall_m: 0.0000e+00 - pred_acc: 0.6667 - pred_f1_m: 0.4457 - pred_precision_m: 0.5014 - pred_recall_m: 0.4025 - val_loss: 0.6557 - val_decoded_mean_loss: 0.0416 - val_pred_loss: 0.6126 - val_decoded_mean_acc: 0.9303 - val_decoded_mean_f1_m: 0.0000e+00 - val_decoded_mean_precision_m: 0.0000e+00 - val_decoded_mean_recall_m: 0.0000e+00 - val_pred_acc: 0.6133 - val_pred_f1_m: 0.3828 - val_pred_precision_m: 0.4091 - val_pred_recall_m: 0.3600\n",
            "Epoch 9/100\n",
            "350/350 [==============================] - ETA: 0s - loss: 0.6287 - decoded_mean_loss: 0.0389 - pred_loss: 0.5951 - decoded_mean_acc: 0.9318 - decoded_mean_f1_m: 0.0000e+00 - decoded_mean_precision_m: 0.0000e+00 - decoded_mean_recall_m: 0.0000e+00 - pred_acc: 0.6657 - pred_f1_m: 0.4655 - pred_precision_m: 0.4902 - pred_recall_m: 0.4450 \n",
            "Epoch 00009: val_pred_acc did not improve from 0.67067\n",
            "350/350 [==============================] - 149s 425ms/sample - loss: 0.6287 - decoded_mean_loss: 0.0389 - pred_loss: 0.5951 - decoded_mean_acc: 0.9318 - decoded_mean_f1_m: 0.0000e+00 - decoded_mean_precision_m: 0.0000e+00 - decoded_mean_recall_m: 0.0000e+00 - pred_acc: 0.6657 - pred_f1_m: 0.4655 - pred_precision_m: 0.4902 - pred_recall_m: 0.4450 - val_loss: 0.6482 - val_decoded_mean_loss: 0.0340 - val_pred_loss: 0.6116 - val_decoded_mean_acc: 0.9303 - val_decoded_mean_f1_m: 0.0000e+00 - val_decoded_mean_precision_m: 0.0000e+00 - val_decoded_mean_recall_m: 0.0000e+00 - val_pred_acc: 0.6147 - val_pred_f1_m: 0.4214 - val_pred_precision_m: 0.4262 - val_pred_recall_m: 0.4167\n",
            "Epoch 10/100\n",
            "350/350 [==============================] - ETA: 0s - loss: 0.6141 - decoded_mean_loss: 0.0305 - pred_loss: 0.5846 - decoded_mean_acc: 0.9318 - decoded_mean_f1_m: 0.0000e+00 - decoded_mean_precision_m: 0.0000e+00 - decoded_mean_recall_m: 0.0000e+00 - pred_acc: 0.6686 - pred_f1_m: 0.4671 - pred_precision_m: 0.5043 - pred_recall_m: 0.4375 \n",
            "Epoch 00010: val_pred_acc did not improve from 0.67067\n",
            "350/350 [==============================] - 148s 422ms/sample - loss: 0.6141 - decoded_mean_loss: 0.0305 - pred_loss: 0.5846 - decoded_mean_acc: 0.9318 - decoded_mean_f1_m: 0.0000e+00 - decoded_mean_precision_m: 0.0000e+00 - decoded_mean_recall_m: 0.0000e+00 - pred_acc: 0.6686 - pred_f1_m: 0.4671 - pred_precision_m: 0.5043 - pred_recall_m: 0.4375 - val_loss: 0.6332 - val_decoded_mean_loss: 0.0253 - val_pred_loss: 0.6102 - val_decoded_mean_acc: 0.9303 - val_decoded_mean_f1_m: 0.0000e+00 - val_decoded_mean_precision_m: 0.0000e+00 - val_decoded_mean_recall_m: 0.0000e+00 - val_pred_acc: 0.6107 - val_pred_f1_m: 0.3534 - val_pred_precision_m: 0.3810 - val_pred_recall_m: 0.3300\n",
            "Epoch 11/100\n",
            "350/350 [==============================] - ETA: 0s - loss: 0.6092 - decoded_mean_loss: 0.0223 - pred_loss: 0.5861 - decoded_mean_acc: 0.9318 - decoded_mean_f1_m: 0.0000e+00 - decoded_mean_precision_m: 0.0000e+00 - decoded_mean_recall_m: 0.0000e+00 - pred_acc: 0.6762 - pred_f1_m: 0.4454 - pred_precision_m: 0.5164 - pred_recall_m: 0.3925 \n",
            "Epoch 00011: val_pred_acc did not improve from 0.67067\n",
            "350/350 [==============================] - 147s 419ms/sample - loss: 0.6092 - decoded_mean_loss: 0.0223 - pred_loss: 0.5861 - decoded_mean_acc: 0.9318 - decoded_mean_f1_m: 0.0000e+00 - decoded_mean_precision_m: 0.0000e+00 - decoded_mean_recall_m: 0.0000e+00 - pred_acc: 0.6762 - pred_f1_m: 0.4454 - pred_precision_m: 0.5164 - pred_recall_m: 0.3925 - val_loss: 0.6250 - val_decoded_mean_loss: 0.0180 - val_pred_loss: 0.6073 - val_decoded_mean_acc: 0.9303 - val_decoded_mean_f1_m: 0.0000e+00 - val_decoded_mean_precision_m: 0.0000e+00 - val_decoded_mean_recall_m: 0.0000e+00 - val_pred_acc: 0.6120 - val_pred_f1_m: 0.3789 - val_pred_precision_m: 0.4000 - val_pred_recall_m: 0.3600\n",
            "Epoch 12/100\n",
            "350/350 [==============================] - ETA: 0s - loss: 0.5938 - decoded_mean_loss: 0.0157 - pred_loss: 0.5797 - decoded_mean_acc: 0.9318 - decoded_mean_f1_m: 0.2061 - decoded_mean_precision_m: 0.2500 - decoded_mean_recall_m: 0.1752 - pred_acc: 0.6762 - pred_f1_m: 0.4782 - pred_precision_m: 0.5083 - pred_recall_m: 0.4525             \n",
            "Epoch 00012: val_pred_acc did not improve from 0.67067\n",
            "350/350 [==============================] - 147s 419ms/sample - loss: 0.5938 - decoded_mean_loss: 0.0157 - pred_loss: 0.5797 - decoded_mean_acc: 0.9318 - decoded_mean_f1_m: 0.2061 - decoded_mean_precision_m: 0.2500 - decoded_mean_recall_m: 0.1752 - pred_acc: 0.6762 - pred_f1_m: 0.4782 - pred_precision_m: 0.5083 - pred_recall_m: 0.4525 - val_loss: 0.6209 - val_decoded_mean_loss: 0.0126 - val_pred_loss: 0.6081 - val_decoded_mean_acc: 0.9303 - val_decoded_mean_f1_m: 0.8723 - val_decoded_mean_precision_m: 0.9975 - val_decoded_mean_recall_m: 0.7750 - val_pred_acc: 0.6187 - val_pred_f1_m: 0.4233 - val_pred_precision_m: 0.4233 - val_pred_recall_m: 0.4233\n",
            "Epoch 13/100\n",
            "350/350 [==============================] - ETA: 0s - loss: 0.5859 - decoded_mean_loss: 0.0110 - pred_loss: 0.5745 - decoded_mean_acc: 0.9318 - decoded_mean_f1_m: 0.8906 - decoded_mean_precision_m: 0.9962 - decoded_mean_recall_m: 0.8055 - pred_acc: 0.6743 - pred_f1_m: 0.5006 - pred_precision_m: 0.5091 - pred_recall_m: 0.4925 \n",
            "Epoch 00013: val_pred_acc did not improve from 0.67067\n",
            "350/350 [==============================] - 149s 426ms/sample - loss: 0.5859 - decoded_mean_loss: 0.0110 - pred_loss: 0.5745 - decoded_mean_acc: 0.9318 - decoded_mean_f1_m: 0.8906 - decoded_mean_precision_m: 0.9962 - decoded_mean_recall_m: 0.8055 - pred_acc: 0.6743 - pred_f1_m: 0.5006 - pred_precision_m: 0.5091 - pred_recall_m: 0.4925 - val_loss: 0.6106 - val_decoded_mean_loss: 0.0095 - val_pred_loss: 0.5980 - val_decoded_mean_acc: 0.9303 - val_decoded_mean_f1_m: 0.9054 - val_decoded_mean_precision_m: 0.9886 - val_decoded_mean_recall_m: 0.8352 - val_pred_acc: 0.6227 - val_pred_f1_m: 0.4245 - val_pred_precision_m: 0.4364 - val_pred_recall_m: 0.4133\n",
            "Epoch 14/100\n",
            "350/350 [==============================] - ETA: 0s - loss: 0.5790 - decoded_mean_loss: 0.0086 - pred_loss: 0.5666 - decoded_mean_acc: 0.9318 - decoded_mean_f1_m: 0.9115 - decoded_mean_precision_m: 0.9898 - decoded_mean_recall_m: 0.8447 - pred_acc: 0.6876 - pred_f1_m: 0.5023 - pred_precision_m: 0.5505 - pred_recall_m: 0.4625 \n",
            "Epoch 00014: val_pred_acc did not improve from 0.67067\n",
            "350/350 [==============================] - 148s 423ms/sample - loss: 0.5790 - decoded_mean_loss: 0.0086 - pred_loss: 0.5666 - decoded_mean_acc: 0.9318 - decoded_mean_f1_m: 0.9115 - decoded_mean_precision_m: 0.9898 - decoded_mean_recall_m: 0.8447 - pred_acc: 0.6876 - pred_f1_m: 0.5023 - pred_precision_m: 0.5505 - pred_recall_m: 0.4625 - val_loss: 0.6038 - val_decoded_mean_loss: 0.0085 - val_pred_loss: 0.5894 - val_decoded_mean_acc: 0.9303 - val_decoded_mean_f1_m: 0.9159 - val_decoded_mean_precision_m: 0.9826 - val_decoded_mean_recall_m: 0.8578 - val_pred_acc: 0.6467 - val_pred_f1_m: 0.4653 - val_pred_precision_m: 0.4898 - val_pred_recall_m: 0.4433\n",
            "Epoch 15/100\n",
            "350/350 [==============================] - ETA: 0s - loss: 0.5752 - decoded_mean_loss: 0.0087 - pred_loss: 0.5619 - decoded_mean_acc: 0.9318 - decoded_mean_f1_m: 0.9210 - decoded_mean_precision_m: 0.9820 - decoded_mean_recall_m: 0.8671 - pred_acc: 0.6867 - pred_f1_m: 0.5206 - pred_precision_m: 0.5374 - pred_recall_m: 0.5050 \n",
            "Epoch 00015: val_pred_acc did not improve from 0.67067\n",
            "350/350 [==============================] - 149s 424ms/sample - loss: 0.5752 - decoded_mean_loss: 0.0087 - pred_loss: 0.5619 - decoded_mean_acc: 0.9318 - decoded_mean_f1_m: 0.9210 - decoded_mean_precision_m: 0.9820 - decoded_mean_recall_m: 0.8671 - pred_acc: 0.6867 - pred_f1_m: 0.5206 - pred_precision_m: 0.5374 - pred_recall_m: 0.5050 - val_loss: 0.6014 - val_decoded_mean_loss: 0.0083 - val_pred_loss: 0.5958 - val_decoded_mean_acc: 0.9303 - val_decoded_mean_f1_m: 0.9216 - val_decoded_mean_precision_m: 0.9785 - val_decoded_mean_recall_m: 0.8710 - val_pred_acc: 0.6520 - val_pred_f1_m: 0.4607 - val_pred_precision_m: 0.4797 - val_pred_recall_m: 0.4433\n",
            "Epoch 16/100\n",
            "350/350 [==============================] - ETA: 0s - loss: 0.5584 - decoded_mean_loss: 0.0082 - pred_loss: 0.5481 - decoded_mean_acc: 0.9318 - decoded_mean_f1_m: 0.9240 - decoded_mean_precision_m: 0.9791 - decoded_mean_recall_m: 0.8747 - pred_acc: 0.7162 - pred_f1_m: 0.5427 - pred_precision_m: 0.5945 - pred_recall_m: 0.5000 \n",
            "Epoch 00016: val_pred_acc improved from 0.67067 to 0.67867, saving model to /content/drive/MyDrive/dossier_de_travail/Resultat/Test_3.h5\n",
            "350/350 [==============================] - 154s 439ms/sample - loss: 0.5584 - decoded_mean_loss: 0.0082 - pred_loss: 0.5481 - decoded_mean_acc: 0.9318 - decoded_mean_f1_m: 0.9240 - decoded_mean_precision_m: 0.9791 - decoded_mean_recall_m: 0.8747 - pred_acc: 0.7162 - pred_f1_m: 0.5427 - pred_precision_m: 0.5945 - pred_recall_m: 0.5000 - val_loss: 0.5901 - val_decoded_mean_loss: 0.0085 - val_pred_loss: 0.5864 - val_decoded_mean_acc: 0.9303 - val_decoded_mean_f1_m: 0.9243 - val_decoded_mean_precision_m: 0.9758 - val_decoded_mean_recall_m: 0.8780 - val_pred_acc: 0.6787 - val_pred_f1_m: 0.4778 - val_pred_precision_m: 0.5187 - val_pred_recall_m: 0.4433\n",
            "Epoch 17/100\n",
            "350/350 [==============================] - ETA: 0s - loss: 0.5474 - decoded_mean_loss: 0.0099 - pred_loss: 0.5362 - decoded_mean_acc: 0.9318 - decoded_mean_f1_m: 0.9260 - decoded_mean_precision_m: 0.9747 - decoded_mean_recall_m: 0.8820 - pred_acc: 0.7238 - pred_f1_m: 0.5539 - pred_precision_m: 0.5996 - pred_recall_m: 0.5150 \n",
            "Epoch 00017: val_pred_acc improved from 0.67867 to 0.68267, saving model to /content/drive/MyDrive/dossier_de_travail/Resultat/Test_3.h5\n",
            "350/350 [==============================] - 156s 446ms/sample - loss: 0.5474 - decoded_mean_loss: 0.0099 - pred_loss: 0.5362 - decoded_mean_acc: 0.9318 - decoded_mean_f1_m: 0.9260 - decoded_mean_precision_m: 0.9747 - decoded_mean_recall_m: 0.8820 - pred_acc: 0.7238 - pred_f1_m: 0.5539 - pred_precision_m: 0.5996 - pred_recall_m: 0.5150 - val_loss: 0.5898 - val_decoded_mean_loss: 0.0106 - val_pred_loss: 0.5764 - val_decoded_mean_acc: 0.9303 - val_decoded_mean_f1_m: 0.9256 - val_decoded_mean_precision_m: 0.9737 - val_decoded_mean_recall_m: 0.8821 - val_pred_acc: 0.6827 - val_pred_f1_m: 0.4893 - val_pred_precision_m: 0.5293 - val_pred_recall_m: 0.4567\n",
            "Epoch 18/100\n",
            "350/350 [==============================] - ETA: 0s - loss: 0.5373 - decoded_mean_loss: 0.0100 - pred_loss: 0.5257 - decoded_mean_acc: 0.9318 - decoded_mean_f1_m: 0.9279 - decoded_mean_precision_m: 0.9749 - decoded_mean_recall_m: 0.8851 - pred_acc: 0.7229 - pred_f1_m: 0.5622 - pred_precision_m: 0.5988 - pred_recall_m: 0.5300 \n",
            "Epoch 00018: val_pred_acc did not improve from 0.68267\n",
            "350/350 [==============================] - 150s 429ms/sample - loss: 0.5373 - decoded_mean_loss: 0.0100 - pred_loss: 0.5257 - decoded_mean_acc: 0.9318 - decoded_mean_f1_m: 0.9279 - decoded_mean_precision_m: 0.9749 - decoded_mean_recall_m: 0.8851 - pred_acc: 0.7229 - pred_f1_m: 0.5622 - pred_precision_m: 0.5988 - pred_recall_m: 0.5300 - val_loss: 0.6048 - val_decoded_mean_loss: 0.0109 - val_pred_loss: 0.6041 - val_decoded_mean_acc: 0.9303 - val_decoded_mean_f1_m: 0.9281 - val_decoded_mean_precision_m: 0.9714 - val_decoded_mean_recall_m: 0.8886 - val_pred_acc: 0.6773 - val_pred_f1_m: 0.4773 - val_pred_precision_m: 0.5084 - val_pred_recall_m: 0.4500\n",
            "Epoch 19/100\n",
            "350/350 [==============================] - ETA: 0s - loss: 0.5498 - decoded_mean_loss: 0.0110 - pred_loss: 0.5277 - decoded_mean_acc: 0.9318 - decoded_mean_f1_m: 0.9299 - decoded_mean_precision_m: 0.9725 - decoded_mean_recall_m: 0.8908 - pred_acc: 0.7048 - pred_f1_m: 0.5475 - pred_precision_m: 0.5950 - pred_recall_m: 0.5075 \n",
            "Epoch 00019: val_pred_acc improved from 0.68267 to 0.69867, saving model to /content/drive/MyDrive/dossier_de_travail/Resultat/Test_3.h5\n",
            "350/350 [==============================] - 154s 441ms/sample - loss: 0.5498 - decoded_mean_loss: 0.0110 - pred_loss: 0.5277 - decoded_mean_acc: 0.9318 - decoded_mean_f1_m: 0.9299 - decoded_mean_precision_m: 0.9725 - decoded_mean_recall_m: 0.8908 - pred_acc: 0.7048 - pred_f1_m: 0.5475 - pred_precision_m: 0.5950 - pred_recall_m: 0.5075 - val_loss: 0.5765 - val_decoded_mean_loss: 0.0090 - val_pred_loss: 0.5684 - val_decoded_mean_acc: 0.9303 - val_decoded_mean_f1_m: 0.9280 - val_decoded_mean_precision_m: 0.9742 - val_decoded_mean_recall_m: 0.8860 - val_pred_acc: 0.6987 - val_pred_f1_m: 0.4865 - val_pred_precision_m: 0.5607 - val_pred_recall_m: 0.4300\n",
            "Epoch 20/100\n",
            "350/350 [==============================] - ETA: 0s - loss: 0.5267 - decoded_mean_loss: 0.0095 - pred_loss: 0.5109 - decoded_mean_acc: 0.9318 - decoded_mean_f1_m: 0.9299 - decoded_mean_precision_m: 0.9752 - decoded_mean_recall_m: 0.8885 - pred_acc: 0.7381 - pred_f1_m: 0.5734 - pred_precision_m: 0.6511 - pred_recall_m: 0.5125 \n",
            "Epoch 00020: val_pred_acc did not improve from 0.69867\n",
            "350/350 [==============================] - 150s 428ms/sample - loss: 0.5267 - decoded_mean_loss: 0.0095 - pred_loss: 0.5109 - decoded_mean_acc: 0.9318 - decoded_mean_f1_m: 0.9299 - decoded_mean_precision_m: 0.9752 - decoded_mean_recall_m: 0.8885 - pred_acc: 0.7381 - pred_f1_m: 0.5734 - pred_precision_m: 0.6511 - pred_recall_m: 0.5125 - val_loss: 0.5898 - val_decoded_mean_loss: 0.0109 - val_pred_loss: 0.5762 - val_decoded_mean_acc: 0.9303 - val_decoded_mean_f1_m: 0.9297 - val_decoded_mean_precision_m: 0.9714 - val_decoded_mean_recall_m: 0.8913 - val_pred_acc: 0.6867 - val_pred_f1_m: 0.4976 - val_pred_precision_m: 0.5470 - val_pred_recall_m: 0.4567\n",
            "Epoch 21/100\n",
            "350/350 [==============================] - ETA: 0s - loss: 0.5409 - decoded_mean_loss: 0.0125 - pred_loss: 0.5275 - decoded_mean_acc: 0.9318 - decoded_mean_f1_m: 0.9326 - decoded_mean_precision_m: 0.9726 - decoded_mean_recall_m: 0.8958 - pred_acc: 0.7324 - pred_f1_m: 0.5645 - pred_precision_m: 0.6250 - pred_recall_m: 0.5150 \n",
            "Epoch 00021: val_pred_acc did not improve from 0.69867\n",
            "350/350 [==============================] - 150s 427ms/sample - loss: 0.5409 - decoded_mean_loss: 0.0125 - pred_loss: 0.5275 - decoded_mean_acc: 0.9318 - decoded_mean_f1_m: 0.9326 - decoded_mean_precision_m: 0.9726 - decoded_mean_recall_m: 0.8958 - pred_acc: 0.7324 - pred_f1_m: 0.5645 - pred_precision_m: 0.6250 - pred_recall_m: 0.5150 - val_loss: 0.5763 - val_decoded_mean_loss: 0.0086 - val_pred_loss: 0.5664 - val_decoded_mean_acc: 0.9303 - val_decoded_mean_f1_m: 0.9310 - val_decoded_mean_precision_m: 0.9766 - val_decoded_mean_recall_m: 0.8895 - val_pred_acc: 0.6853 - val_pred_f1_m: 0.4729 - val_pred_precision_m: 0.5356 - val_pred_recall_m: 0.4233\n",
            "Epoch 22/100\n",
            "350/350 [==============================] - ETA: 0s - loss: 0.5186 - decoded_mean_loss: 0.0083 - pred_loss: 0.5068 - decoded_mean_acc: 0.9318 - decoded_mean_f1_m: 0.9335 - decoded_mean_precision_m: 0.9799 - decoded_mean_recall_m: 0.8913 - pred_acc: 0.7638 - pred_f1_m: 0.6009 - pred_precision_m: 0.6854 - pred_recall_m: 0.5350 \n",
            "Epoch 00022: val_pred_acc did not improve from 0.69867\n",
            "350/350 [==============================] - 148s 422ms/sample - loss: 0.5186 - decoded_mean_loss: 0.0083 - pred_loss: 0.5068 - decoded_mean_acc: 0.9318 - decoded_mean_f1_m: 0.9335 - decoded_mean_precision_m: 0.9799 - decoded_mean_recall_m: 0.8913 - pred_acc: 0.7638 - pred_f1_m: 0.6009 - pred_precision_m: 0.6854 - pred_recall_m: 0.5350 - val_loss: 0.5803 - val_decoded_mean_loss: 0.0096 - val_pred_loss: 0.5693 - val_decoded_mean_acc: 0.9303 - val_decoded_mean_f1_m: 0.9337 - val_decoded_mean_precision_m: 0.9774 - val_decoded_mean_recall_m: 0.8937 - val_pred_acc: 0.6867 - val_pred_f1_m: 0.4889 - val_pred_precision_m: 0.5417 - val_pred_recall_m: 0.4467\n",
            "Epoch 23/100\n",
            "350/350 [==============================] - ETA: 0s - loss: 0.5106 - decoded_mean_loss: 0.0113 - pred_loss: 0.4990 - decoded_mean_acc: 0.9318 - decoded_mean_f1_m: 0.9364 - decoded_mean_precision_m: 0.9766 - decoded_mean_recall_m: 0.8994 - pred_acc: 0.7495 - pred_f1_m: 0.6121 - pred_precision_m: 0.6394 - pred_recall_m: 0.5875 \n",
            "Epoch 00023: val_pred_acc did not improve from 0.69867\n",
            "350/350 [==============================] - 148s 424ms/sample - loss: 0.5106 - decoded_mean_loss: 0.0113 - pred_loss: 0.4990 - decoded_mean_acc: 0.9318 - decoded_mean_f1_m: 0.9364 - decoded_mean_precision_m: 0.9766 - decoded_mean_recall_m: 0.8994 - pred_acc: 0.7495 - pred_f1_m: 0.6121 - pred_precision_m: 0.6394 - pred_recall_m: 0.5875 - val_loss: 0.6178 - val_decoded_mean_loss: 0.0119 - val_pred_loss: 0.6134 - val_decoded_mean_acc: 0.9303 - val_decoded_mean_f1_m: 0.9358 - val_decoded_mean_precision_m: 0.9717 - val_decoded_mean_recall_m: 0.9024 - val_pred_acc: 0.6747 - val_pred_f1_m: 0.5033 - val_pred_precision_m: 0.5067 - val_pred_recall_m: 0.5000\n",
            "Epoch 24/100\n",
            "350/350 [==============================] - ETA: 0s - loss: 0.5240 - decoded_mean_loss: 0.0092 - pred_loss: 0.5188 - decoded_mean_acc: 0.9318 - decoded_mean_f1_m: 0.9361 - decoded_mean_precision_m: 0.9784 - decoded_mean_recall_m: 0.8974 - pred_acc: 0.7295 - pred_f1_m: 0.5679 - pred_precision_m: 0.5874 - pred_recall_m: 0.5500 \n",
            "Epoch 00024: val_pred_acc did not improve from 0.69867\n",
            "350/350 [==============================] - 150s 429ms/sample - loss: 0.5240 - decoded_mean_loss: 0.0092 - pred_loss: 0.5188 - decoded_mean_acc: 0.9318 - decoded_mean_f1_m: 0.9361 - decoded_mean_precision_m: 0.9784 - decoded_mean_recall_m: 0.8974 - pred_acc: 0.7295 - pred_f1_m: 0.5679 - pred_precision_m: 0.5874 - pred_recall_m: 0.5500 - val_loss: 0.5787 - val_decoded_mean_loss: 0.0071 - val_pred_loss: 0.5662 - val_decoded_mean_acc: 0.9303 - val_decoded_mean_f1_m: 0.9345 - val_decoded_mean_precision_m: 0.9843 - val_decoded_mean_recall_m: 0.8895 - val_pred_acc: 0.6813 - val_pred_f1_m: 0.4811 - val_pred_precision_m: 0.5215 - val_pred_recall_m: 0.4467\n",
            "Epoch 25/100\n",
            "350/350 [==============================] - ETA: 0s - loss: 0.5099 - decoded_mean_loss: 0.0074 - pred_loss: 0.5025 - decoded_mean_acc: 0.9318 - decoded_mean_f1_m: 0.9354 - decoded_mean_precision_m: 0.9857 - decoded_mean_recall_m: 0.8899 - pred_acc: 0.7600 - pred_f1_m: 0.6114 - pred_precision_m: 0.6593 - pred_recall_m: 0.5700 \n",
            "Epoch 00025: val_pred_acc did not improve from 0.69867\n",
            "350/350 [==============================] - 150s 428ms/sample - loss: 0.5099 - decoded_mean_loss: 0.0074 - pred_loss: 0.5025 - decoded_mean_acc: 0.9318 - decoded_mean_f1_m: 0.9354 - decoded_mean_precision_m: 0.9857 - decoded_mean_recall_m: 0.8899 - pred_acc: 0.7600 - pred_f1_m: 0.6114 - pred_precision_m: 0.6593 - pred_recall_m: 0.5700 - val_loss: 0.5799 - val_decoded_mean_loss: 0.0079 - val_pred_loss: 0.5787 - val_decoded_mean_acc: 0.9303 - val_decoded_mean_f1_m: 0.9341 - val_decoded_mean_precision_m: 0.9836 - val_decoded_mean_recall_m: 0.8893 - val_pred_acc: 0.6893 - val_pred_f1_m: 0.5042 - val_pred_precision_m: 0.5359 - val_pred_recall_m: 0.4767\n",
            "Epoch 26/100\n",
            "350/350 [==============================] - ETA: 0s - loss: 0.5001 - decoded_mean_loss: 0.0091 - pred_loss: 0.4966 - decoded_mean_acc: 0.9318 - decoded_mean_f1_m: 0.9371 - decoded_mean_precision_m: 0.9851 - decoded_mean_recall_m: 0.8935 - pred_acc: 0.7619 - pred_f1_m: 0.6213 - pred_precision_m: 0.6446 - pred_recall_m: 0.6000 \n",
            "Epoch 00026: val_pred_acc did not improve from 0.69867\n",
            "350/350 [==============================] - 149s 426ms/sample - loss: 0.5001 - decoded_mean_loss: 0.0091 - pred_loss: 0.4966 - decoded_mean_acc: 0.9318 - decoded_mean_f1_m: 0.9371 - decoded_mean_precision_m: 0.9851 - decoded_mean_recall_m: 0.8935 - pred_acc: 0.7619 - pred_f1_m: 0.6213 - pred_precision_m: 0.6446 - pred_recall_m: 0.6000 - val_loss: 0.5941 - val_decoded_mean_loss: 0.0102 - val_pred_loss: 0.5809 - val_decoded_mean_acc: 0.9303 - val_decoded_mean_f1_m: 0.9352 - val_decoded_mean_precision_m: 0.9815 - val_decoded_mean_recall_m: 0.8931 - val_pred_acc: 0.6853 - val_pred_f1_m: 0.4966 - val_pred_precision_m: 0.5224 - val_pred_recall_m: 0.4733\n",
            "Epoch 27/100\n",
            "350/350 [==============================] - ETA: 0s - loss: 0.4865 - decoded_mean_loss: 0.0101 - pred_loss: 0.4749 - decoded_mean_acc: 0.9318 - decoded_mean_f1_m: 0.9392 - decoded_mean_precision_m: 0.9839 - decoded_mean_recall_m: 0.8984 - pred_acc: 0.7638 - pred_f1_m: 0.6387 - pred_precision_m: 0.6644 - pred_recall_m: 0.6150 \n",
            "Epoch 00027: val_pred_acc did not improve from 0.69867\n",
            "350/350 [==============================] - 149s 425ms/sample - loss: 0.4865 - decoded_mean_loss: 0.0101 - pred_loss: 0.4749 - decoded_mean_acc: 0.9318 - decoded_mean_f1_m: 0.9392 - decoded_mean_precision_m: 0.9839 - decoded_mean_recall_m: 0.8984 - pred_acc: 0.7638 - pred_f1_m: 0.6387 - pred_precision_m: 0.6644 - pred_recall_m: 0.6150 - val_loss: 0.5886 - val_decoded_mean_loss: 0.0097 - val_pred_loss: 0.5869 - val_decoded_mean_acc: 0.9303 - val_decoded_mean_f1_m: 0.9385 - val_decoded_mean_precision_m: 0.9823 - val_decoded_mean_recall_m: 0.8984 - val_pred_acc: 0.6893 - val_pred_f1_m: 0.4952 - val_pred_precision_m: 0.5162 - val_pred_recall_m: 0.4767\n",
            "Epoch 28/100\n",
            "350/350 [==============================] - ETA: 0s - loss: 0.4849 - decoded_mean_loss: 0.0097 - pred_loss: 0.4769 - decoded_mean_acc: 0.9318 - decoded_mean_f1_m: 0.9398 - decoded_mean_precision_m: 0.9838 - decoded_mean_recall_m: 0.8995 - pred_acc: 0.7695 - pred_f1_m: 0.6375 - pred_precision_m: 0.6690 - pred_recall_m: 0.6100 \n",
            "Epoch 00028: val_pred_acc improved from 0.69867 to 0.70400, saving model to /content/drive/MyDrive/dossier_de_travail/Resultat/Test_3.h5\n",
            "350/350 [==============================] - 153s 437ms/sample - loss: 0.4849 - decoded_mean_loss: 0.0097 - pred_loss: 0.4769 - decoded_mean_acc: 0.9318 - decoded_mean_f1_m: 0.9398 - decoded_mean_precision_m: 0.9838 - decoded_mean_recall_m: 0.8995 - pred_acc: 0.7695 - pred_f1_m: 0.6375 - pred_precision_m: 0.6690 - pred_recall_m: 0.6100 - val_loss: 0.5784 - val_decoded_mean_loss: 0.0094 - val_pred_loss: 0.5869 - val_decoded_mean_acc: 0.9303 - val_decoded_mean_f1_m: 0.9382 - val_decoded_mean_precision_m: 0.9836 - val_decoded_mean_recall_m: 0.8967 - val_pred_acc: 0.7040 - val_pred_f1_m: 0.5168 - val_pred_precision_m: 0.5466 - val_pred_recall_m: 0.4900\n",
            "Epoch 29/100\n",
            "350/350 [==============================] - ETA: 0s - loss: 0.4763 - decoded_mean_loss: 0.0100 - pred_loss: 0.4747 - decoded_mean_acc: 0.9318 - decoded_mean_f1_m: 0.9407 - decoded_mean_precision_m: 0.9861 - decoded_mean_recall_m: 0.8993 - pred_acc: 0.7705 - pred_f1_m: 0.6297 - pred_precision_m: 0.6536 - pred_recall_m: 0.6075 \n",
            "Epoch 00029: val_pred_acc did not improve from 0.70400\n",
            "350/350 [==============================] - 153s 436ms/sample - loss: 0.4763 - decoded_mean_loss: 0.0100 - pred_loss: 0.4747 - decoded_mean_acc: 0.9318 - decoded_mean_f1_m: 0.9407 - decoded_mean_precision_m: 0.9861 - decoded_mean_recall_m: 0.8993 - pred_acc: 0.7705 - pred_f1_m: 0.6297 - pred_precision_m: 0.6536 - pred_recall_m: 0.6075 - val_loss: 0.5881 - val_decoded_mean_loss: 0.0107 - val_pred_loss: 0.5841 - val_decoded_mean_acc: 0.9303 - val_decoded_mean_f1_m: 0.9395 - val_decoded_mean_precision_m: 0.9845 - val_decoded_mean_recall_m: 0.8985 - val_pred_acc: 0.6973 - val_pred_f1_m: 0.5160 - val_pred_precision_m: 0.5380 - val_pred_recall_m: 0.4967\n",
            "Epoch 30/100\n",
            "350/350 [==============================] - ETA: 0s - loss: 0.4821 - decoded_mean_loss: 0.0113 - pred_loss: 0.4701 - decoded_mean_acc: 0.9318 - decoded_mean_f1_m: 0.9413 - decoded_mean_precision_m: 0.9862 - decoded_mean_recall_m: 0.9004 - pred_acc: 0.7733 - pred_f1_m: 0.6525 - pred_precision_m: 0.6769 - pred_recall_m: 0.6300 \n",
            "Epoch 00030: val_pred_acc did not improve from 0.70400\n",
            "350/350 [==============================] - 151s 432ms/sample - loss: 0.4821 - decoded_mean_loss: 0.0113 - pred_loss: 0.4701 - decoded_mean_acc: 0.9318 - decoded_mean_f1_m: 0.9413 - decoded_mean_precision_m: 0.9862 - decoded_mean_recall_m: 0.9004 - pred_acc: 0.7733 - pred_f1_m: 0.6525 - pred_precision_m: 0.6769 - pred_recall_m: 0.6300 - val_loss: 0.5897 - val_decoded_mean_loss: 0.0106 - val_pred_loss: 0.5764 - val_decoded_mean_acc: 0.9303 - val_decoded_mean_f1_m: 0.9408 - val_decoded_mean_precision_m: 0.9857 - val_decoded_mean_recall_m: 0.8997 - val_pred_acc: 0.7013 - val_pred_f1_m: 0.5419 - val_pred_precision_m: 0.5630 - val_pred_recall_m: 0.5233\n",
            "Epoch 31/100\n",
            "350/350 [==============================] - ETA: 0s - loss: 0.4649 - decoded_mean_loss: 0.0108 - pred_loss: 0.4576 - decoded_mean_acc: 0.9318 - decoded_mean_f1_m: 0.9418 - decoded_mean_precision_m: 0.9884 - decoded_mean_recall_m: 0.8995 - pred_acc: 0.7895 - pred_f1_m: 0.6668 - pred_precision_m: 0.6876 - pred_recall_m: 0.6475 \n",
            "Epoch 00031: val_pred_acc did not improve from 0.70400\n",
            "350/350 [==============================] - 151s 431ms/sample - loss: 0.4649 - decoded_mean_loss: 0.0108 - pred_loss: 0.4576 - decoded_mean_acc: 0.9318 - decoded_mean_f1_m: 0.9418 - decoded_mean_precision_m: 0.9884 - decoded_mean_recall_m: 0.8995 - pred_acc: 0.7895 - pred_f1_m: 0.6668 - pred_precision_m: 0.6876 - pred_recall_m: 0.6475 - val_loss: 0.5875 - val_decoded_mean_loss: 0.0101 - val_pred_loss: 0.5704 - val_decoded_mean_acc: 0.9303 - val_decoded_mean_f1_m: 0.9410 - val_decoded_mean_precision_m: 0.9876 - val_decoded_mean_recall_m: 0.8986 - val_pred_acc: 0.6960 - val_pred_f1_m: 0.5300 - val_pred_precision_m: 0.5517 - val_pred_recall_m: 0.5100\n",
            "Epoch 00031: early stopping\n"
          ]
        }
      ]
    },
    {
      "cell_type": "code",
      "metadata": {
        "id": "bnFxHvS73DPW",
        "colab": {
          "base_uri": "https://localhost:8080/",
          "height": 1000
        },
        "outputId": "a1228eda-09d8-42f4-bad8-082e379f8ba7"
      },
      "source": [
        "plt.plot(history.history['pred_acc'])\n",
        "plt.plot(history.history['val_pred_acc'])\n",
        "plt.title('model accuracy')\n",
        "plt.ylabel('accuracy')\n",
        "plt.xlabel('epoch')\n",
        "plt.legend(['train', 'validation'], loc='upper left')\n",
        "plt.show()\n",
        "# Plot of loss in each epoch\n",
        "plt.plot(history.history['loss'])\n",
        "plt.plot(history.history['val_loss'])\n",
        "plt.title('model loss')\n",
        "plt.ylabel('loss')\n",
        "plt.xlabel('epoch')\n",
        "plt.legend(['train', 'validation'], loc='upper left')\n",
        "plt.show()\n",
        "\n",
        "plt.plot(history.history['pred_loss'])\n",
        "plt.plot(history.history['val_pred_loss'])\n",
        "plt.title('model pred_loss')\n",
        "plt.ylabel('pred_loss')\n",
        "plt.xlabel('epoch')\n",
        "plt.legend(['train', 'validation'], loc='upper left')\n",
        "plt.show()\n",
        "\n",
        "plt.plot(history.history['pred_f1_m'])\n",
        "plt.plot(history.history['val_pred_f1_m'])\n",
        "\n",
        "plt.title('model F1_score')\n",
        "plt.ylabel('f1_m')\n",
        "plt.xlabel('epoch')\n",
        "plt.legend(['train','test'], loc='upper left')\n",
        "plt.show()\n"
      ],
      "execution_count": null,
      "outputs": [
        {
          "output_type": "display_data",
          "data": {
            "image/png": "[encoded data removed]",
            "text/plain": [
              "<Figure size 432x288 with 1 Axes>"
            ]
          },
          "metadata": {
            "needs_background": "light"
          }
        },
        {
          "output_type": "display_data",
          "data": {
            "image/png": "[encoded data removed]",
            "text/plain": [
              "<Figure size 432x288 with 1 Axes>"
            ]
          },
          "metadata": {
            "needs_background": "light"
          }
        },
        {
          "output_type": "display_data",
          "data": {
            "image/png": "[encoded data removed]",
            "text/plain": [
              "<Figure size 432x288 with 1 Axes>"
            ]
          },
          "metadata": {
            "needs_background": "light"
          }
        },
        {
          "output_type": "display_data",
          "data": {
            "image/png": "[encoded data removed]",
            "text/plain": [
              "<Figure size 432x288 with 1 Axes>"
            ]
          },
          "metadata": {
            "needs_background": "light"
          }
        }
      ]
    },
    {
      "cell_type": "markdown",
      "metadata": {
        "id": "Methws-GujOY"
      },
      "source": [
        "# Test_4\n",
        "Une Couche avec 1024"
      ]
    },
    {
      "cell_type": "code",
      "metadata": {
        "id": "0s71dhpYhj8-",
        "colab": {
          "base_uri": "https://localhost:8080/"
        },
        "outputId": "77199b60-18e0-4176-cfe9-441a854b0f31"
      },
      "source": [
        "MODEL_FILE_PATH = '/content/drive/MyDrive/Models_a_ameliorer'\n",
        "MODEL_FILE_NAME = 'Test_4.h5'\n",
        "LR=0.0001\n",
        "batch_size = 100\n",
        "vocab_size=vocab_size\n",
        "max_length=100 \n",
        "dim_latent=200\n",
        "intermediate_dim=500\n",
        "encoder = None\n",
        "decoder = None\n",
        "predicter_opinion = None\n",
        "autoencoder = None\n",
        "\n",
        "x = Input(shape=(max_length,))\n",
        "x_embed = Embedding(vocab_size, 100, weights=[embedding_matrix], input_length=max_length)(x)\n",
        "def Encodeur(x, dim_latent=200, max_length=100, epsilon_std=0.01):\n",
        "    h = Bidirectional(LSTM(1024,return_sequences=True,dropout=0.25),merge_mode='concat')(x)\n",
        "    h = AttentionCouche()(h) \n",
        "    h = Dense(300, activation='relu', name='dense_1')(h)\n",
        "    def sampling(args):\n",
        "        z_mean, z_log_var = args\n",
        "        batch = K.shape(z_mean)[0]\n",
        "        # by default, random_normal has mean=0 and std=1.0\n",
        "        epsilon = K.random_normal(shape=(batch, dim_latent), mean=0., stddev=epsilon_std)\n",
        "        return z_mean + K.exp(z_log_var / 2) * epsilon\n",
        "    z_mean = Dense(dim_latent, name='z_mean', activation='linear')(h)\n",
        "    z_log_var = Dense(dim_latent, name='z_log_var', activation='linear')(h)\n",
        "    z = Lambda(sampling, output_shape=(dim_latent,), name='z')([z_mean, z_log_var])\n",
        "    def fct_loss(x, x_decoded_mean):\n",
        "        x = K.flatten(x)\n",
        "        x_decoded_mean = K.flatten(x_decoded_mean)\n",
        "        xent_loss = max_length * metrics.binary_crossentropy(x, x_decoded_mean)\n",
        "        kl_loss = - 0.5 * K.mean(1 + z_log_var - K.square(z_mean) - K.exp(z_log_var), axis=-1)\n",
        "        return xent_loss + kl_loss\n",
        "    return (fct_loss, z) \n",
        "fct_loss, encoded = Encodeur(x_embed, dim_latent=dim_latent, max_length=max_length)\n",
        "encoder = Model(inputs=x, outputs=encoded)\n",
        "encoder.summary()\n",
        "def Codage_opinion(encoded):\n",
        "    h = Dense(100, activation='linear')(encoded)     \n",
        "    return Dense(3, activation='softmax', name='pred')(h)\n",
        "\n",
        "encoded_input = Input(shape=(dim_latent,))\n",
        "opinion_lab = Codage_opinion(encoded_input)\n",
        "predicter_opinion = Model(encoded_input, opinion_lab)\n",
        "predicter_opinion.summary()\n",
        "def Decodeur(encoded, vocab_size, max_length):\n",
        "    repeated_context = RepeatVector(max_length)(encoded)\n",
        "    h = Bidirectional(  LSTM(1024, return_sequences=True, name='dec_lstm_1',dropout=0.25))(repeated_context)\n",
        "    decoded = TimeDistributed(Dense(vocab_size, activation='softmax'), name='decoded_mean')(h)        \n",
        "    return decoded\n",
        "\n",
        "\n",
        "decoded = Decodeur(encoded_input, vocab_size, max_length)\n",
        "decoder = Model(encoded_input, decoded)\n",
        "decoder.summary()\n",
        "autoencoder = Model(inputs=x, outputs=[Decodeur(encoded, vocab_size, max_length), Codage_opinion(encoded)])\n",
        "tf.config.run_functions_eagerly(False)\n",
        "#tf.compat.v1.disable_eager_execution()\n",
        "\n",
        "\n",
        "early_stopping = EarlyStopping(monitor='val_loss', mode='min', verbose=1, patience=10)\n",
        "\n",
        "save_best = ModelCheckpoint(os.path.join(MODEL_FILE_PATH,MODEL_FILE_NAME), \n",
        "                     monitor='val_pred_acc', \n",
        "                     mode='max', \n",
        "                     verbose=1, \n",
        "                     save_best_only=True) \n",
        "\n",
        "autoencoder.compile(optimizer=Adam(learning_rate=LR), loss=[fct_loss, 'binary_crossentropy'], metrics=['accuracy',f1_m,precision_m, recall_m])\n",
        "autoencoder.summary()\n"
      ],
      "execution_count": 17,
      "outputs": [
        {
          "output_type": "stream",
          "name": "stdout",
          "text": [
            "WARNING:tensorflow:From /usr/local/lib/python3.7/dist-packages/keras/initializers/initializers_v1.py:278: calling RandomUniform.__init__ (from tensorflow.python.ops.init_ops) with dtype is deprecated and will be removed in a future version.\n",
            "Instructions for updating:\n",
            "Call initializer instance with the dtype argument instead of passing it to the constructor\n",
            "WARNING:tensorflow:From /usr/local/lib/python3.7/dist-packages/tensorflow/python/ops/init_ops.py:97: calling GlorotUniform.__init__ (from tensorflow.python.ops.init_ops) with dtype is deprecated and will be removed in a future version.\n",
            "Instructions for updating:\n",
            "Call initializer instance with the dtype argument instead of passing it to the constructor\n",
            "WARNING:tensorflow:From /usr/local/lib/python3.7/dist-packages/tensorflow/python/ops/init_ops.py:97: calling Orthogonal.__init__ (from tensorflow.python.ops.init_ops) with dtype is deprecated and will be removed in a future version.\n",
            "Instructions for updating:\n",
            "Call initializer instance with the dtype argument instead of passing it to the constructor\n",
            "WARNING:tensorflow:From /usr/local/lib/python3.7/dist-packages/tensorflow/python/ops/init_ops.py:97: calling Zeros.__init__ (from tensorflow.python.ops.init_ops) with dtype is deprecated and will be removed in a future version.\n",
            "Instructions for updating:\n",
            "Call initializer instance with the dtype argument instead of passing it to the constructor\n",
            "WARNING:tensorflow:From /usr/local/lib/python3.7/dist-packages/keras/initializers/initializers_v1.py:160: calling RandomNormal.__init__ (from tensorflow.python.ops.init_ops) with dtype is deprecated and will be removed in a future version.\n",
            "Instructions for updating:\n",
            "Call initializer instance with the dtype argument instead of passing it to the constructor\n",
            "Model: \"model\"\n",
            "__________________________________________________________________________________________________\n",
            " Layer (type)                   Output Shape         Param #     Connected to                     \n",
            "==================================================================================================\n",
            " input_1 (InputLayer)           [(None, 100)]        0           []                               \n",
            "                                                                                                  \n",
            " embedding (Embedding)          (None, 100, 100)     2281400     ['input_1[0][0]']                \n",
            "                                                                                                  \n",
            " bidirectional (Bidirectional)  (None, 100, 2048)    9216000     ['embedding[0][0]']              \n",
            "                                                                                                  \n",
            " attention_couche (AttentionCou  (None, 2048)        2148        ['bidirectional[0][0]']          \n",
            " che)                                                                                             \n",
            "                                                                                                  \n",
            " dense_1 (Dense)                (None, 300)          614700      ['attention_couche[0][0]']       \n",
            "                                                                                                  \n",
            " z_mean (Dense)                 (None, 200)          60200       ['dense_1[0][0]']                \n",
            "                                                                                                  \n",
            " z_log_var (Dense)              (None, 200)          60200       ['dense_1[0][0]']                \n",
            "                                                                                                  \n",
            " z (Lambda)                     (None, 200)          0           ['z_mean[0][0]',                 \n",
            "                                                                  'z_log_var[0][0]']              \n",
            "                                                                                                  \n",
            "==================================================================================================\n",
            "Total params: 12,234,648\n",
            "Trainable params: 12,234,648\n",
            "Non-trainable params: 0\n",
            "__________________________________________________________________________________________________\n",
            "Model: \"model_1\"\n",
            "_________________________________________________________________\n",
            " Layer (type)                Output Shape              Param #   \n",
            "=================================================================\n",
            " input_2 (InputLayer)        [(None, 200)]             0         \n",
            "                                                                 \n",
            " dense (Dense)               (None, 100)               20100     \n",
            "                                                                 \n",
            " pred (Dense)                (None, 3)                 303       \n",
            "                                                                 \n",
            "=================================================================\n",
            "Total params: 20,403\n",
            "Trainable params: 20,403\n",
            "Non-trainable params: 0\n",
            "_________________________________________________________________\n",
            "Model: \"model_2\"\n",
            "_________________________________________________________________\n",
            " Layer (type)                Output Shape              Param #   \n",
            "=================================================================\n",
            " input_2 (InputLayer)        [(None, 200)]             0         \n",
            "                                                                 \n",
            " repeat_vector_1 (RepeatVect  (None, 100, 200)         0         \n",
            " or)                                                             \n",
            "                                                                 \n",
            " bidirectional_1 (Bidirectio  (None, 100, 2048)        10035200  \n",
            " nal)                                                            \n",
            "                                                                 \n",
            " decoded_mean (TimeDistribut  (None, 100, 22814)       46745886  \n",
            " ed)                                                             \n",
            "                                                                 \n",
            "=================================================================\n",
            "Total params: 56,781,086\n",
            "Trainable params: 56,781,086\n",
            "Non-trainable params: 0\n",
            "_________________________________________________________________\n",
            "Model: \"model_3\"\n",
            "__________________________________________________________________________________________________\n",
            " Layer (type)                   Output Shape         Param #     Connected to                     \n",
            "==================================================================================================\n",
            " input_1 (InputLayer)           [(None, 100)]        0           []                               \n",
            "                                                                                                  \n",
            " embedding (Embedding)          (None, 100, 100)     2281400     ['input_1[0][0]']                \n",
            "                                                                                                  \n",
            " bidirectional (Bidirectional)  (None, 100, 2048)    9216000     ['embedding[0][0]']              \n",
            "                                                                                                  \n",
            " attention_couche (AttentionCou  (None, 2048)        2148        ['bidirectional[0][0]']          \n",
            " che)                                                                                             \n",
            "                                                                                                  \n",
            " dense_1 (Dense)                (None, 300)          614700      ['attention_couche[0][0]']       \n",
            "                                                                                                  \n",
            " z_mean (Dense)                 (None, 200)          60200       ['dense_1[0][0]']                \n",
            "                                                                                                  \n",
            " z_log_var (Dense)              (None, 200)          60200       ['dense_1[0][0]']                \n",
            "                                                                                                  \n",
            " z (Lambda)                     (None, 200)          0           ['z_mean[0][0]',                 \n",
            "                                                                  'z_log_var[0][0]']              \n",
            "                                                                                                  \n",
            " repeat_vector_2 (RepeatVector)  (None, 100, 200)    0           ['z[0][0]']                      \n",
            "                                                                                                  \n",
            " bidirectional_2 (Bidirectional  (None, 100, 2048)   10035200    ['repeat_vector_2[0][0]']        \n",
            " )                                                                                                \n",
            "                                                                                                  \n",
            " dense_3 (Dense)                (None, 100)          20100       ['z[0][0]']                      \n",
            "                                                                                                  \n",
            " decoded_mean (TimeDistributed)  (None, 100, 22814)  46745886    ['bidirectional_2[0][0]']        \n",
            "                                                                                                  \n",
            " pred (Dense)                   (None, 3)            303         ['dense_3[0][0]']                \n",
            "                                                                                                  \n",
            "==================================================================================================\n",
            "Total params: 69,036,137\n",
            "Trainable params: 69,036,137\n",
            "Non-trainable params: 0\n",
            "__________________________________________________________________________________________________\n"
          ]
        }
      ]
    },
    {
      "cell_type": "code",
      "metadata": {
        "id": "qf3Cfq3ihkLw",
        "colab": {
          "base_uri": "https://localhost:8080/"
        },
        "outputId": "a35c171a-08b0-4e9d-c6c1-c218029d1cc6"
      },
      "source": [
        "\n",
        "history = autoencoder.fit(x=X_train, y={'decoded_mean': Conversion_X_train, 'pred': y_train}, batch_size=100, epochs=100, validation_data=(X_test, {'decoded_mean': Conversion_X_test, 'pred':  y_test}),callbacks=[early_stopping, save_best])\n"
      ],
      "execution_count": 18,
      "outputs": [
        {
          "output_type": "stream",
          "name": "stdout",
          "text": [
            "Train on 350 samples, validate on 250 samples\n",
            "Epoch 1/100\n",
            "350/350 [==============================] - ETA: 0s - loss: 0.7362 - decoded_mean_loss: 0.0484 - pred_loss: 0.6872 - decoded_mean_acc: 0.0102 - decoded_mean_f1_m: 0.0000e+00 - decoded_mean_precision_m: 0.0000e+00 - decoded_mean_recall_m: 0.0000e+00 - pred_acc: 0.6667 - pred_f1_m: 0.0000e+00 - pred_precision_m: 0.0000e+00 - pred_recall_m: 0.0000e+00 "
          ]
        },
        {
          "output_type": "stream",
          "name": "stderr",
          "text": [
            "/usr/local/lib/python3.7/dist-packages/keras/engine/training_v1.py:2057: UserWarning: `Model.state_updates` will be removed in a future version. This property should not be used in TensorFlow 2.0, as `updates` are applied automatically.\n",
            "  updates = self.state_updates\n"
          ]
        },
        {
          "output_type": "stream",
          "name": "stdout",
          "text": [
            "\n",
            "Epoch 00001: val_pred_acc improved from -inf to 0.66667, saving model to /content/drive/MyDrive/Models_a_ameliorer/Test_4.h5\n",
            "350/350 [==============================] - 213s 608ms/sample - loss: 0.7362 - decoded_mean_loss: 0.0484 - pred_loss: 0.6872 - decoded_mean_acc: 0.0102 - decoded_mean_f1_m: 0.0000e+00 - decoded_mean_precision_m: 0.0000e+00 - decoded_mean_recall_m: 0.0000e+00 - pred_acc: 0.6667 - pred_f1_m: 0.0000e+00 - pred_precision_m: 0.0000e+00 - pred_recall_m: 0.0000e+00 - val_loss: 0.7255 - val_decoded_mean_loss: 0.0484 - val_pred_loss: 0.6771 - val_decoded_mean_acc: 0.4520 - val_decoded_mean_f1_m: 0.0000e+00 - val_decoded_mean_precision_m: 0.0000e+00 - val_decoded_mean_recall_m: 0.0000e+00 - val_pred_acc: 0.6667 - val_pred_f1_m: 0.0000e+00 - val_pred_precision_m: 0.0000e+00 - val_pred_recall_m: 0.0000e+00\n",
            "Epoch 2/100\n",
            "350/350 [==============================] - ETA: 0s - loss: 0.7176 - decoded_mean_loss: 0.0485 - pred_loss: 0.6689 - decoded_mean_acc: 0.5947 - decoded_mean_f1_m: 0.0000e+00 - decoded_mean_precision_m: 0.0000e+00 - decoded_mean_recall_m: 0.0000e+00 - pred_acc: 0.6667 - pred_f1_m: 0.0000e+00 - pred_precision_m: 0.0000e+00 - pred_recall_m: 0.0000e+00 \n",
            "Epoch 00002: val_pred_acc improved from 0.66667 to 0.66800, saving model to /content/drive/MyDrive/Models_a_ameliorer/Test_4.h5\n",
            "350/350 [==============================] - 210s 601ms/sample - loss: 0.7176 - decoded_mean_loss: 0.0485 - pred_loss: 0.6689 - decoded_mean_acc: 0.5947 - decoded_mean_f1_m: 0.0000e+00 - decoded_mean_precision_m: 0.0000e+00 - decoded_mean_recall_m: 0.0000e+00 - pred_acc: 0.6667 - pred_f1_m: 0.0000e+00 - pred_precision_m: 0.0000e+00 - pred_recall_m: 0.0000e+00 - val_loss: 0.7000 - val_decoded_mean_loss: 0.0487 - val_pred_loss: 0.6511 - val_decoded_mean_acc: 0.9329 - val_decoded_mean_f1_m: 0.0000e+00 - val_decoded_mean_precision_m: 0.0000e+00 - val_decoded_mean_recall_m: 0.0000e+00 - val_pred_acc: 0.6680 - val_pred_f1_m: 0.0066 - val_pred_precision_m: 0.3333 - val_pred_recall_m: 0.0033\n",
            "Epoch 3/100\n",
            "350/350 [==============================] - ETA: 0s - loss: 0.6854 - decoded_mean_loss: 0.0492 - pred_loss: 0.6336 - decoded_mean_acc: 0.9314 - decoded_mean_f1_m: 0.0000e+00 - decoded_mean_precision_m: 0.0000e+00 - decoded_mean_recall_m: 0.0000e+00 - pred_acc: 0.6638 - pred_f1_m: 0.0580 - pred_precision_m: 0.3750 - pred_recall_m: 0.0325 \n",
            "Epoch 00003: val_pred_acc did not improve from 0.66800\n",
            "350/350 [==============================] - 210s 599ms/sample - loss: 0.6854 - decoded_mean_loss: 0.0492 - pred_loss: 0.6336 - decoded_mean_acc: 0.9314 - decoded_mean_f1_m: 0.0000e+00 - decoded_mean_precision_m: 0.0000e+00 - decoded_mean_recall_m: 0.0000e+00 - pred_acc: 0.6638 - pred_f1_m: 0.0580 - pred_precision_m: 0.3750 - pred_recall_m: 0.0325 - val_loss: 0.6664 - val_decoded_mean_loss: 0.0511 - val_pred_loss: 0.6163 - val_decoded_mean_acc: 0.9329 - val_decoded_mean_f1_m: 0.0000e+00 - val_decoded_mean_precision_m: 0.0000e+00 - val_decoded_mean_recall_m: 0.0000e+00 - val_pred_acc: 0.6373 - val_pred_f1_m: 0.2912 - val_pred_precision_m: 0.4204 - val_pred_recall_m: 0.2233\n",
            "Epoch 4/100\n",
            "350/350 [==============================] - ETA: 0s - loss: 0.6582 - decoded_mean_loss: 0.0545 - pred_loss: 0.5999 - decoded_mean_acc: 0.9315 - decoded_mean_f1_m: 0.0000e+00 - decoded_mean_precision_m: 0.0000e+00 - decoded_mean_recall_m: 0.0000e+00 - pred_acc: 0.6533 - pred_f1_m: 0.4164 - pred_precision_m: 0.4859 - pred_recall_m: 0.3700 \n",
            "Epoch 00004: val_pred_acc did not improve from 0.66800\n",
            "350/350 [==============================] - 210s 601ms/sample - loss: 0.6582 - decoded_mean_loss: 0.0545 - pred_loss: 0.5999 - decoded_mean_acc: 0.9315 - decoded_mean_f1_m: 0.0000e+00 - decoded_mean_precision_m: 0.0000e+00 - decoded_mean_recall_m: 0.0000e+00 - pred_acc: 0.6533 - pred_f1_m: 0.4164 - pred_precision_m: 0.4859 - pred_recall_m: 0.3700 - val_loss: 0.6648 - val_decoded_mean_loss: 0.0541 - val_pred_loss: 0.6047 - val_decoded_mean_acc: 0.9329 - val_decoded_mean_f1_m: 0.0000e+00 - val_decoded_mean_precision_m: 0.0000e+00 - val_decoded_mean_recall_m: 0.0000e+00 - val_pred_acc: 0.6227 - val_pred_f1_m: 0.3826 - val_pred_precision_m: 0.4271 - val_pred_recall_m: 0.3467\n",
            "Epoch 5/100\n",
            "350/350 [==============================] - ETA: 0s - loss: 0.6543 - decoded_mean_loss: 0.0525 - pred_loss: 0.6014 - decoded_mean_acc: 0.9315 - decoded_mean_f1_m: 0.0000e+00 - decoded_mean_precision_m: 0.0000e+00 - decoded_mean_recall_m: 0.0000e+00 - pred_acc: 0.6486 - pred_f1_m: 0.3808 - pred_precision_m: 0.4546 - pred_recall_m: 0.3300 \n",
            "Epoch 00005: val_pred_acc did not improve from 0.66800\n",
            "350/350 [==============================] - 208s 594ms/sample - loss: 0.6543 - decoded_mean_loss: 0.0525 - pred_loss: 0.6014 - decoded_mean_acc: 0.9315 - decoded_mean_f1_m: 0.0000e+00 - decoded_mean_precision_m: 0.0000e+00 - decoded_mean_recall_m: 0.0000e+00 - pred_acc: 0.6486 - pred_f1_m: 0.3808 - pred_precision_m: 0.4546 - pred_recall_m: 0.3300 - val_loss: 0.6560 - val_decoded_mean_loss: 0.0505 - val_pred_loss: 0.6062 - val_decoded_mean_acc: 0.9329 - val_decoded_mean_f1_m: 0.0000e+00 - val_decoded_mean_precision_m: 0.0000e+00 - val_decoded_mean_recall_m: 0.0000e+00 - val_pred_acc: 0.6293 - val_pred_f1_m: 0.2939 - val_pred_precision_m: 0.3894 - val_pred_recall_m: 0.2367\n",
            "Epoch 6/100\n",
            "350/350 [==============================] - ETA: 0s - loss: 0.6458 - decoded_mean_loss: 0.0500 - pred_loss: 0.6033 - decoded_mean_acc: 0.9315 - decoded_mean_f1_m: 0.0000e+00 - decoded_mean_precision_m: 0.0000e+00 - decoded_mean_recall_m: 0.0000e+00 - pred_acc: 0.6533 - pred_f1_m: 0.3611 - pred_precision_m: 0.4560 - pred_recall_m: 0.3000 \n",
            "Epoch 00006: val_pred_acc did not improve from 0.66800\n",
            "350/350 [==============================] - 204s 584ms/sample - loss: 0.6458 - decoded_mean_loss: 0.0500 - pred_loss: 0.6033 - decoded_mean_acc: 0.9315 - decoded_mean_f1_m: 0.0000e+00 - decoded_mean_precision_m: 0.0000e+00 - decoded_mean_recall_m: 0.0000e+00 - pred_acc: 0.6533 - pred_f1_m: 0.3611 - pred_precision_m: 0.4560 - pred_recall_m: 0.3000 - val_loss: 0.6504 - val_decoded_mean_loss: 0.0482 - val_pred_loss: 0.5966 - val_decoded_mean_acc: 0.9329 - val_decoded_mean_f1_m: 0.0000e+00 - val_decoded_mean_precision_m: 0.0000e+00 - val_decoded_mean_recall_m: 0.0000e+00 - val_pred_acc: 0.6267 - val_pred_f1_m: 0.3296 - val_pred_precision_m: 0.4239 - val_pred_recall_m: 0.2700\n",
            "Epoch 7/100\n",
            "350/350 [==============================] - ETA: 0s - loss: 0.6397 - decoded_mean_loss: 0.0460 - pred_loss: 0.5928 - decoded_mean_acc: 0.9315 - decoded_mean_f1_m: 0.0000e+00 - decoded_mean_precision_m: 0.0000e+00 - decoded_mean_recall_m: 0.0000e+00 - pred_acc: 0.6619 - pred_f1_m: 0.3536 - pred_precision_m: 0.4825 - pred_recall_m: 0.2800 \n",
            "Epoch 00007: val_pred_acc did not improve from 0.66800\n",
            "350/350 [==============================] - 205s 586ms/sample - loss: 0.6397 - decoded_mean_loss: 0.0460 - pred_loss: 0.5928 - decoded_mean_acc: 0.9315 - decoded_mean_f1_m: 0.0000e+00 - decoded_mean_precision_m: 0.0000e+00 - decoded_mean_recall_m: 0.0000e+00 - pred_acc: 0.6619 - pred_f1_m: 0.3536 - pred_precision_m: 0.4825 - pred_recall_m: 0.2800 - val_loss: 0.6394 - val_decoded_mean_loss: 0.0404 - val_pred_loss: 0.6026 - val_decoded_mean_acc: 0.9329 - val_decoded_mean_f1_m: 0.0000e+00 - val_decoded_mean_precision_m: 0.0000e+00 - val_decoded_mean_recall_m: 0.0000e+00 - val_pred_acc: 0.6267 - val_pred_f1_m: 0.3293 - val_pred_precision_m: 0.4147 - val_pred_recall_m: 0.2733\n",
            "Epoch 8/100\n",
            "350/350 [==============================] - ETA: 0s - loss: 0.6278 - decoded_mean_loss: 0.0362 - pred_loss: 0.5897 - decoded_mean_acc: 0.9315 - decoded_mean_f1_m: 0.0000e+00 - decoded_mean_precision_m: 0.0000e+00 - decoded_mean_recall_m: 0.0000e+00 - pred_acc: 0.6590 - pred_f1_m: 0.4521 - pred_precision_m: 0.4863 - pred_recall_m: 0.4250 \n",
            "Epoch 00008: val_pred_acc did not improve from 0.66800\n",
            "350/350 [==============================] - 208s 594ms/sample - loss: 0.6278 - decoded_mean_loss: 0.0362 - pred_loss: 0.5897 - decoded_mean_acc: 0.9315 - decoded_mean_f1_m: 0.0000e+00 - decoded_mean_precision_m: 0.0000e+00 - decoded_mean_recall_m: 0.0000e+00 - pred_acc: 0.6590 - pred_f1_m: 0.4521 - pred_precision_m: 0.4863 - pred_recall_m: 0.4250 - val_loss: 0.6254 - val_decoded_mean_loss: 0.0289 - val_pred_loss: 0.5951 - val_decoded_mean_acc: 0.9329 - val_decoded_mean_f1_m: 0.0000e+00 - val_decoded_mean_precision_m: 0.0000e+00 - val_decoded_mean_recall_m: 0.0000e+00 - val_pred_acc: 0.6333 - val_pred_f1_m: 0.4507 - val_pred_precision_m: 0.4514 - val_pred_recall_m: 0.4500\n",
            "Epoch 9/100\n",
            "350/350 [==============================] - ETA: 0s - loss: 0.6132 - decoded_mean_loss: 0.0241 - pred_loss: 0.5881 - decoded_mean_acc: 0.9315 - decoded_mean_f1_m: 0.0000e+00 - decoded_mean_precision_m: 0.0000e+00 - decoded_mean_recall_m: 0.0000e+00 - pred_acc: 0.6638 - pred_f1_m: 0.4796 - pred_precision_m: 0.4998 - pred_recall_m: 0.4625 \n",
            "Epoch 00009: val_pred_acc did not improve from 0.66800\n",
            "350/350 [==============================] - 208s 596ms/sample - loss: 0.6132 - decoded_mean_loss: 0.0241 - pred_loss: 0.5881 - decoded_mean_acc: 0.9315 - decoded_mean_f1_m: 0.0000e+00 - decoded_mean_precision_m: 0.0000e+00 - decoded_mean_recall_m: 0.0000e+00 - pred_acc: 0.6638 - pred_f1_m: 0.4796 - pred_precision_m: 0.4998 - pred_recall_m: 0.4625 - val_loss: 0.6127 - val_decoded_mean_loss: 0.0166 - val_pred_loss: 0.5930 - val_decoded_mean_acc: 0.9329 - val_decoded_mean_f1_m: 0.0000e+00 - val_decoded_mean_precision_m: 0.0000e+00 - val_decoded_mean_recall_m: 0.0000e+00 - val_pred_acc: 0.6293 - val_pred_f1_m: 0.3935 - val_pred_precision_m: 0.4445 - val_pred_recall_m: 0.3533\n",
            "Epoch 10/100\n",
            "350/350 [==============================] - ETA: 0s - loss: 0.6008 - decoded_mean_loss: 0.0137 - pred_loss: 0.5903 - decoded_mean_acc: 0.9315 - decoded_mean_f1_m: 0.5785 - decoded_mean_precision_m: 0.7497 - decoded_mean_recall_m: 0.4826 - pred_acc: 0.6676 - pred_f1_m: 0.4562 - pred_precision_m: 0.4919 - pred_recall_m: 0.4275 \n",
            "Epoch 00010: val_pred_acc did not improve from 0.66800\n",
            "350/350 [==============================] - 209s 598ms/sample - loss: 0.6008 - decoded_mean_loss: 0.0137 - pred_loss: 0.5903 - decoded_mean_acc: 0.9315 - decoded_mean_f1_m: 0.5785 - decoded_mean_precision_m: 0.7497 - decoded_mean_recall_m: 0.4826 - pred_acc: 0.6676 - pred_f1_m: 0.4562 - pred_precision_m: 0.4919 - pred_recall_m: 0.4275 - val_loss: 0.6035 - val_decoded_mean_loss: 0.0105 - val_pred_loss: 0.5965 - val_decoded_mean_acc: 0.9329 - val_decoded_mean_f1_m: 0.8895 - val_decoded_mean_precision_m: 0.9955 - val_decoded_mean_recall_m: 0.8039 - val_pred_acc: 0.6347 - val_pred_f1_m: 0.4500 - val_pred_precision_m: 0.4500 - val_pred_recall_m: 0.4500\n",
            "Epoch 11/100\n",
            "350/350 [==============================] - ETA: 0s - loss: 0.5958 - decoded_mean_loss: 0.0094 - pred_loss: 0.5817 - decoded_mean_acc: 0.9315 - decoded_mean_f1_m: 0.9004 - decoded_mean_precision_m: 0.9921 - decoded_mean_recall_m: 0.8243 - pred_acc: 0.6638 - pred_f1_m: 0.4907 - pred_precision_m: 0.5057 - pred_recall_m: 0.4775 \n",
            "Epoch 00011: val_pred_acc did not improve from 0.66800\n",
            "350/350 [==============================] - 208s 595ms/sample - loss: 0.5958 - decoded_mean_loss: 0.0094 - pred_loss: 0.5817 - decoded_mean_acc: 0.9315 - decoded_mean_f1_m: 0.9004 - decoded_mean_precision_m: 0.9921 - decoded_mean_recall_m: 0.8243 - pred_acc: 0.6638 - pred_f1_m: 0.4907 - pred_precision_m: 0.5057 - pred_recall_m: 0.4775 - val_loss: 0.5986 - val_decoded_mean_loss: 0.0082 - val_pred_loss: 0.5904 - val_decoded_mean_acc: 0.9329 - val_decoded_mean_f1_m: 0.9146 - val_decoded_mean_precision_m: 0.9875 - val_decoded_mean_recall_m: 0.8517 - val_pred_acc: 0.6413 - val_pred_f1_m: 0.4486 - val_pred_precision_m: 0.4614 - val_pred_recall_m: 0.4367\n",
            "Epoch 12/100\n",
            "350/350 [==============================] - ETA: 0s - loss: 0.5893 - decoded_mean_loss: 0.0089 - pred_loss: 0.5825 - decoded_mean_acc: 0.9315 - decoded_mean_f1_m: 0.9191 - decoded_mean_precision_m: 0.9818 - decoded_mean_recall_m: 0.8641 - pred_acc: 0.6695 - pred_f1_m: 0.4889 - pred_precision_m: 0.5039 - pred_recall_m: 0.4750 \n",
            "Epoch 00012: val_pred_acc did not improve from 0.66800\n",
            "350/350 [==============================] - 203s 581ms/sample - loss: 0.5893 - decoded_mean_loss: 0.0089 - pred_loss: 0.5825 - decoded_mean_acc: 0.9315 - decoded_mean_f1_m: 0.9191 - decoded_mean_precision_m: 0.9818 - decoded_mean_recall_m: 0.8641 - pred_acc: 0.6695 - pred_f1_m: 0.4889 - pred_precision_m: 0.5039 - pred_recall_m: 0.4750 - val_loss: 0.5955 - val_decoded_mean_loss: 0.0084 - val_pred_loss: 0.5860 - val_decoded_mean_acc: 0.9329 - val_decoded_mean_f1_m: 0.9236 - val_decoded_mean_precision_m: 0.9768 - val_decoded_mean_recall_m: 0.8759 - val_pred_acc: 0.6480 - val_pred_f1_m: 0.4690 - val_pred_precision_m: 0.4820 - val_pred_recall_m: 0.4567\n",
            "Epoch 13/100\n",
            "350/350 [==============================] - ETA: 0s - loss: 0.5845 - decoded_mean_loss: 0.0080 - pred_loss: 0.5806 - decoded_mean_acc: 0.9315 - decoded_mean_f1_m: 0.9250 - decoded_mean_precision_m: 0.9754 - decoded_mean_recall_m: 0.8796 - pred_acc: 0.6743 - pred_f1_m: 0.4832 - pred_precision_m: 0.4974 - pred_recall_m: 0.4700 \n",
            "Epoch 00013: val_pred_acc improved from 0.66800 to 0.67067, saving model to /content/drive/MyDrive/Models_a_ameliorer/Test_4.h5\n",
            "350/350 [==============================] - 211s 604ms/sample - loss: 0.5845 - decoded_mean_loss: 0.0080 - pred_loss: 0.5806 - decoded_mean_acc: 0.9315 - decoded_mean_f1_m: 0.9250 - decoded_mean_precision_m: 0.9754 - decoded_mean_recall_m: 0.8796 - pred_acc: 0.6743 - pred_f1_m: 0.4832 - pred_precision_m: 0.4974 - pred_recall_m: 0.4700 - val_loss: 0.5926 - val_decoded_mean_loss: 0.0072 - val_pred_loss: 0.5914 - val_decoded_mean_acc: 0.9329 - val_decoded_mean_f1_m: 0.9282 - val_decoded_mean_precision_m: 0.9748 - val_decoded_mean_recall_m: 0.8860 - val_pred_acc: 0.6707 - val_pred_f1_m: 0.4473 - val_pred_precision_m: 0.5073 - val_pred_recall_m: 0.4000\n",
            "Epoch 14/100\n",
            "350/350 [==============================] - ETA: 0s - loss: 0.5787 - decoded_mean_loss: 0.0071 - pred_loss: 0.5676 - decoded_mean_acc: 0.9315 - decoded_mean_f1_m: 0.9297 - decoded_mean_precision_m: 0.9740 - decoded_mean_recall_m: 0.8893 - pred_acc: 0.7067 - pred_f1_m: 0.4954 - pred_precision_m: 0.6207 - pred_recall_m: 0.4150 \n",
            "Epoch 00014: val_pred_acc improved from 0.67067 to 0.68400, saving model to /content/drive/MyDrive/Models_a_ameliorer/Test_4.h5\n",
            "350/350 [==============================] - 217s 621ms/sample - loss: 0.5787 - decoded_mean_loss: 0.0071 - pred_loss: 0.5676 - decoded_mean_acc: 0.9315 - decoded_mean_f1_m: 0.9297 - decoded_mean_precision_m: 0.9740 - decoded_mean_recall_m: 0.8893 - pred_acc: 0.7067 - pred_f1_m: 0.4954 - pred_precision_m: 0.6207 - pred_recall_m: 0.4150 - val_loss: 0.5823 - val_decoded_mean_loss: 0.0076 - val_pred_loss: 0.5744 - val_decoded_mean_acc: 0.9329 - val_decoded_mean_f1_m: 0.9320 - val_decoded_mean_precision_m: 0.9699 - val_decoded_mean_recall_m: 0.8969 - val_pred_acc: 0.6840 - val_pred_f1_m: 0.4537 - val_pred_precision_m: 0.5186 - val_pred_recall_m: 0.4033\n",
            "Epoch 15/100\n",
            "350/350 [==============================] - ETA: 0s - loss: 0.5573 - decoded_mean_loss: 0.0106 - pred_loss: 0.5395 - decoded_mean_acc: 0.9315 - decoded_mean_f1_m: 0.9332 - decoded_mean_precision_m: 0.9656 - decoded_mean_recall_m: 0.9029 - pred_acc: 0.7229 - pred_f1_m: 0.5655 - pred_precision_m: 0.6063 - pred_recall_m: 0.5325 \n",
            "Epoch 00015: val_pred_acc improved from 0.68400 to 0.68667, saving model to /content/drive/MyDrive/Models_a_ameliorer/Test_4.h5\n",
            "350/350 [==============================] - 215s 615ms/sample - loss: 0.5573 - decoded_mean_loss: 0.0106 - pred_loss: 0.5395 - decoded_mean_acc: 0.9315 - decoded_mean_f1_m: 0.9332 - decoded_mean_precision_m: 0.9656 - decoded_mean_recall_m: 0.9029 - pred_acc: 0.7229 - pred_f1_m: 0.5655 - pred_precision_m: 0.6063 - pred_recall_m: 0.5325 - val_loss: 0.5929 - val_decoded_mean_loss: 0.0152 - val_pred_loss: 0.5722 - val_decoded_mean_acc: 0.9329 - val_decoded_mean_f1_m: 0.9378 - val_decoded_mean_precision_m: 0.9640 - val_decoded_mean_recall_m: 0.9130 - val_pred_acc: 0.6867 - val_pred_f1_m: 0.5332 - val_pred_precision_m: 0.5434 - val_pred_recall_m: 0.5233\n",
            "Epoch 16/100\n",
            "350/350 [==============================] - ETA: 0s - loss: 0.5544 - decoded_mean_loss: 0.0136 - pred_loss: 0.5337 - decoded_mean_acc: 0.9315 - decoded_mean_f1_m: 0.9382 - decoded_mean_precision_m: 0.9662 - decoded_mean_recall_m: 0.9117 - pred_acc: 0.7333 - pred_f1_m: 0.6062 - pred_precision_m: 0.6209 - pred_recall_m: 0.5925 \n",
            "Epoch 00016: val_pred_acc did not improve from 0.68667\n",
            "350/350 [==============================] - 206s 587ms/sample - loss: 0.5544 - decoded_mean_loss: 0.0136 - pred_loss: 0.5337 - decoded_mean_acc: 0.9315 - decoded_mean_f1_m: 0.9382 - decoded_mean_precision_m: 0.9662 - decoded_mean_recall_m: 0.9117 - pred_acc: 0.7333 - pred_f1_m: 0.6062 - pred_precision_m: 0.6209 - pred_recall_m: 0.5925 - val_loss: 0.5685 - val_decoded_mean_loss: 0.0097 - val_pred_loss: 0.5624 - val_decoded_mean_acc: 0.9329 - val_decoded_mean_f1_m: 0.9390 - val_decoded_mean_precision_m: 0.9680 - val_decoded_mean_recall_m: 0.9116 - val_pred_acc: 0.6787 - val_pred_f1_m: 0.4830 - val_pred_precision_m: 0.5213 - val_pred_recall_m: 0.4500\n",
            "Epoch 17/100\n",
            "350/350 [==============================] - ETA: 0s - loss: 0.5557 - decoded_mean_loss: 0.0086 - pred_loss: 0.5522 - decoded_mean_acc: 0.9315 - decoded_mean_f1_m: 0.9419 - decoded_mean_precision_m: 0.9697 - decoded_mean_recall_m: 0.9156 - pred_acc: 0.7200 - pred_f1_m: 0.5442 - pred_precision_m: 0.5777 - pred_recall_m: 0.5150 \n",
            "Epoch 00017: val_pred_acc improved from 0.68667 to 0.69333, saving model to /content/drive/MyDrive/Models_a_ameliorer/Test_4.h5\n",
            "350/350 [==============================] - 213s 608ms/sample - loss: 0.5557 - decoded_mean_loss: 0.0086 - pred_loss: 0.5522 - decoded_mean_acc: 0.9315 - decoded_mean_f1_m: 0.9419 - decoded_mean_precision_m: 0.9697 - decoded_mean_recall_m: 0.9156 - pred_acc: 0.7200 - pred_f1_m: 0.5442 - pred_precision_m: 0.5777 - pred_recall_m: 0.5150 - val_loss: 0.5737 - val_decoded_mean_loss: 0.0080 - val_pred_loss: 0.5695 - val_decoded_mean_acc: 0.9329 - val_decoded_mean_f1_m: 0.9442 - val_decoded_mean_precision_m: 0.9697 - val_decoded_mean_recall_m: 0.9199 - val_pred_acc: 0.6933 - val_pred_f1_m: 0.5056 - val_pred_precision_m: 0.5261 - val_pred_recall_m: 0.4867\n",
            "Epoch 18/100\n",
            "350/350 [==============================] - ETA: 0s - loss: 0.5448 - decoded_mean_loss: 0.0089 - pred_loss: 0.5372 - decoded_mean_acc: 0.9315 - decoded_mean_f1_m: 0.9453 - decoded_mean_precision_m: 0.9689 - decoded_mean_recall_m: 0.9229 - pred_acc: 0.7200 - pred_f1_m: 0.5598 - pred_precision_m: 0.5932 - pred_recall_m: 0.5300 \n",
            "Epoch 00018: val_pred_acc did not improve from 0.69333\n",
            "350/350 [==============================] - 210s 601ms/sample - loss: 0.5448 - decoded_mean_loss: 0.0089 - pred_loss: 0.5372 - decoded_mean_acc: 0.9315 - decoded_mean_f1_m: 0.9453 - decoded_mean_precision_m: 0.9689 - decoded_mean_recall_m: 0.9229 - pred_acc: 0.7200 - pred_f1_m: 0.5598 - pred_precision_m: 0.5932 - pred_recall_m: 0.5300 - val_loss: 0.5693 - val_decoded_mean_loss: 0.0103 - val_pred_loss: 0.5647 - val_decoded_mean_acc: 0.9329 - val_decoded_mean_f1_m: 0.9495 - val_decoded_mean_precision_m: 0.9706 - val_decoded_mean_recall_m: 0.9293 - val_pred_acc: 0.6747 - val_pred_f1_m: 0.4960 - val_pred_precision_m: 0.5141 - val_pred_recall_m: 0.4800\n",
            "Epoch 19/100\n",
            "350/350 [==============================] - ETA: 0s - loss: 0.5378 - decoded_mean_loss: 0.0117 - pred_loss: 0.5278 - decoded_mean_acc: 0.9315 - decoded_mean_f1_m: 0.9504 - decoded_mean_precision_m: 0.9725 - decoded_mean_recall_m: 0.9293 - pred_acc: 0.7495 - pred_f1_m: 0.6156 - pred_precision_m: 0.6294 - pred_recall_m: 0.6025 \n",
            "Epoch 00019: val_pred_acc improved from 0.69333 to 0.69867, saving model to /content/drive/MyDrive/Models_a_ameliorer/Test_4.h5\n",
            "350/350 [==============================] - 213s 609ms/sample - loss: 0.5378 - decoded_mean_loss: 0.0117 - pred_loss: 0.5278 - decoded_mean_acc: 0.9315 - decoded_mean_f1_m: 0.9504 - decoded_mean_precision_m: 0.9725 - decoded_mean_recall_m: 0.9293 - pred_acc: 0.7495 - pred_f1_m: 0.6156 - pred_precision_m: 0.6294 - pred_recall_m: 0.6025 - val_loss: 0.5923 - val_decoded_mean_loss: 0.0095 - val_pred_loss: 0.5968 - val_decoded_mean_acc: 0.9329 - val_decoded_mean_f1_m: 0.9520 - val_decoded_mean_precision_m: 0.9760 - val_decoded_mean_recall_m: 0.9292 - val_pred_acc: 0.6987 - val_pred_f1_m: 0.5272 - val_pred_precision_m: 0.5382 - val_pred_recall_m: 0.5167\n",
            "Epoch 20/100\n",
            "350/350 [==============================] - ETA: 0s - loss: 0.5236 - decoded_mean_loss: 0.0101 - pred_loss: 0.5241 - decoded_mean_acc: 0.9315 - decoded_mean_f1_m: 0.9515 - decoded_mean_precision_m: 0.9761 - decoded_mean_recall_m: 0.9280 - pred_acc: 0.7419 - pred_f1_m: 0.5896 - pred_precision_m: 0.6022 - pred_recall_m: 0.5775 \n",
            "Epoch 00020: val_pred_acc did not improve from 0.69867\n",
            "350/350 [==============================] - 206s 589ms/sample - loss: 0.5236 - decoded_mean_loss: 0.0101 - pred_loss: 0.5241 - decoded_mean_acc: 0.9315 - decoded_mean_f1_m: 0.9515 - decoded_mean_precision_m: 0.9761 - decoded_mean_recall_m: 0.9280 - pred_acc: 0.7419 - pred_f1_m: 0.5896 - pred_precision_m: 0.6022 - pred_recall_m: 0.5775 - val_loss: 0.5723 - val_decoded_mean_loss: 0.0089 - val_pred_loss: 0.5644 - val_decoded_mean_acc: 0.9329 - val_decoded_mean_f1_m: 0.9520 - val_decoded_mean_precision_m: 0.9786 - val_decoded_mean_recall_m: 0.9268 - val_pred_acc: 0.6907 - val_pred_f1_m: 0.4982 - val_pred_precision_m: 0.5345 - val_pred_recall_m: 0.4667\n",
            "Epoch 21/100\n",
            "350/350 [==============================] - ETA: 0s - loss: 0.5238 - decoded_mean_loss: 0.0088 - pred_loss: 0.5161 - decoded_mean_acc: 0.9315 - decoded_mean_f1_m: 0.9523 - decoded_mean_precision_m: 0.9800 - decoded_mean_recall_m: 0.9261 - pred_acc: 0.7390 - pred_f1_m: 0.5881 - pred_precision_m: 0.6166 - pred_recall_m: 0.5625 \n",
            "Epoch 00021: val_pred_acc improved from 0.69867 to 0.70133, saving model to /content/drive/MyDrive/Models_a_ameliorer/Test_4.h5\n",
            "350/350 [==============================] - 211s 602ms/sample - loss: 0.5238 - decoded_mean_loss: 0.0088 - pred_loss: 0.5161 - decoded_mean_acc: 0.9315 - decoded_mean_f1_m: 0.9523 - decoded_mean_precision_m: 0.9800 - decoded_mean_recall_m: 0.9261 - pred_acc: 0.7390 - pred_f1_m: 0.5881 - pred_precision_m: 0.6166 - pred_recall_m: 0.5625 - val_loss: 0.5768 - val_decoded_mean_loss: 0.0080 - val_pred_loss: 0.5756 - val_decoded_mean_acc: 0.9329 - val_decoded_mean_f1_m: 0.9532 - val_decoded_mean_precision_m: 0.9822 - val_decoded_mean_recall_m: 0.9257 - val_pred_acc: 0.7013 - val_pred_f1_m: 0.5303 - val_pred_precision_m: 0.5525 - val_pred_recall_m: 0.5100\n",
            "Epoch 22/100\n",
            "350/350 [==============================] - ETA: 0s - loss: 0.4961 - decoded_mean_loss: 0.0096 - pred_loss: 0.4884 - decoded_mean_acc: 0.9315 - decoded_mean_f1_m: 0.9531 - decoded_mean_precision_m: 0.9824 - decoded_mean_recall_m: 0.9255 - pred_acc: 0.7695 - pred_f1_m: 0.6437 - pred_precision_m: 0.6582 - pred_recall_m: 0.6300 \n",
            "Epoch 00022: val_pred_acc did not improve from 0.70133\n",
            "350/350 [==============================] - 206s 589ms/sample - loss: 0.4961 - decoded_mean_loss: 0.0096 - pred_loss: 0.4884 - decoded_mean_acc: 0.9315 - decoded_mean_f1_m: 0.9531 - decoded_mean_precision_m: 0.9824 - decoded_mean_recall_m: 0.9255 - pred_acc: 0.7695 - pred_f1_m: 0.6437 - pred_precision_m: 0.6582 - pred_recall_m: 0.6300 - val_loss: 0.5965 - val_decoded_mean_loss: 0.0137 - val_pred_loss: 0.5834 - val_decoded_mean_acc: 0.9329 - val_decoded_mean_f1_m: 0.9526 - val_decoded_mean_precision_m: 0.9808 - val_decoded_mean_recall_m: 0.9260 - val_pred_acc: 0.6960 - val_pred_f1_m: 0.5372 - val_pred_precision_m: 0.5446 - val_pred_recall_m: 0.5300\n",
            "Epoch 23/100\n",
            "350/350 [==============================] - ETA: 0s - loss: 0.5206 - decoded_mean_loss: 0.0133 - pred_loss: 0.5041 - decoded_mean_acc: 0.9315 - decoded_mean_f1_m: 0.9526 - decoded_mean_precision_m: 0.9811 - decoded_mean_recall_m: 0.9258 - pred_acc: 0.7438 - pred_f1_m: 0.6135 - pred_precision_m: 0.6197 - pred_recall_m: 0.6075 \n",
            "Epoch 00023: val_pred_acc improved from 0.70133 to 0.70667, saving model to /content/drive/MyDrive/Models_a_ameliorer/Test_4.h5\n",
            "350/350 [==============================] - 211s 604ms/sample - loss: 0.5206 - decoded_mean_loss: 0.0133 - pred_loss: 0.5041 - decoded_mean_acc: 0.9315 - decoded_mean_f1_m: 0.9526 - decoded_mean_precision_m: 0.9811 - decoded_mean_recall_m: 0.9258 - pred_acc: 0.7438 - pred_f1_m: 0.6135 - pred_precision_m: 0.6197 - pred_recall_m: 0.6075 - val_loss: 0.5680 - val_decoded_mean_loss: 0.0095 - val_pred_loss: 0.5596 - val_decoded_mean_acc: 0.9329 - val_decoded_mean_f1_m: 0.9531 - val_decoded_mean_precision_m: 0.9828 - val_decoded_mean_recall_m: 0.9251 - val_pred_acc: 0.7067 - val_pred_f1_m: 0.5476 - val_pred_precision_m: 0.5667 - val_pred_recall_m: 0.5300\n",
            "Epoch 24/100\n",
            "350/350 [==============================] - ETA: 0s - loss: 0.4893 - decoded_mean_loss: 0.0092 - pred_loss: 0.4861 - decoded_mean_acc: 0.9315 - decoded_mean_f1_m: 0.9538 - decoded_mean_precision_m: 0.9850 - decoded_mean_recall_m: 0.9245 - pred_acc: 0.7714 - pred_f1_m: 0.6320 - pred_precision_m: 0.6501 - pred_recall_m: 0.6150 \n",
            "Epoch 00024: val_pred_acc did not improve from 0.70667\n",
            "350/350 [==============================] - 210s 599ms/sample - loss: 0.4893 - decoded_mean_loss: 0.0092 - pred_loss: 0.4861 - decoded_mean_acc: 0.9315 - decoded_mean_f1_m: 0.9538 - decoded_mean_precision_m: 0.9850 - decoded_mean_recall_m: 0.9245 - pred_acc: 0.7714 - pred_f1_m: 0.6320 - pred_precision_m: 0.6501 - pred_recall_m: 0.6150 - val_loss: 0.5714 - val_decoded_mean_loss: 0.0097 - val_pred_loss: 0.5715 - val_decoded_mean_acc: 0.9329 - val_decoded_mean_f1_m: 0.9536 - val_decoded_mean_precision_m: 0.9865 - val_decoded_mean_recall_m: 0.9228 - val_pred_acc: 0.7040 - val_pred_f1_m: 0.5315 - val_pred_precision_m: 0.5437 - val_pred_recall_m: 0.5200\n",
            "Epoch 25/100\n",
            "350/350 [==============================] - ETA: 0s - loss: 0.4753 - decoded_mean_loss: 0.0119 - pred_loss: 0.4617 - decoded_mean_acc: 0.9315 - decoded_mean_f1_m: 0.9532 - decoded_mean_precision_m: 0.9873 - decoded_mean_recall_m: 0.9215 - pred_acc: 0.7867 - pred_f1_m: 0.6814 - pred_precision_m: 0.6935 - pred_recall_m: 0.6700 \n",
            "Epoch 00025: val_pred_acc did not improve from 0.70667\n",
            "350/350 [==============================] - 209s 598ms/sample - loss: 0.4753 - decoded_mean_loss: 0.0119 - pred_loss: 0.4617 - decoded_mean_acc: 0.9315 - decoded_mean_f1_m: 0.9532 - decoded_mean_precision_m: 0.9873 - decoded_mean_recall_m: 0.9215 - pred_acc: 0.7867 - pred_f1_m: 0.6814 - pred_precision_m: 0.6935 - pred_recall_m: 0.6700 - val_loss: 0.6138 - val_decoded_mean_loss: 0.0134 - val_pred_loss: 0.6014 - val_decoded_mean_acc: 0.9329 - val_decoded_mean_f1_m: 0.9535 - val_decoded_mean_precision_m: 0.9874 - val_decoded_mean_recall_m: 0.9218 - val_pred_acc: 0.7013 - val_pred_f1_m: 0.5493 - val_pred_precision_m: 0.5590 - val_pred_recall_m: 0.5400\n",
            "Epoch 26/100\n",
            "350/350 [==============================] - ETA: 0s - loss: 0.4893 - decoded_mean_loss: 0.0134 - pred_loss: 0.4716 - decoded_mean_acc: 0.9315 - decoded_mean_f1_m: 0.9536 - decoded_mean_precision_m: 0.9889 - decoded_mean_recall_m: 0.9207 - pred_acc: 0.7838 - pred_f1_m: 0.6765 - pred_precision_m: 0.6832 - pred_recall_m: 0.6700 \n",
            "Epoch 00026: val_pred_acc did not improve from 0.70667\n",
            "350/350 [==============================] - 207s 591ms/sample - loss: 0.4893 - decoded_mean_loss: 0.0134 - pred_loss: 0.4716 - decoded_mean_acc: 0.9315 - decoded_mean_f1_m: 0.9536 - decoded_mean_precision_m: 0.9889 - decoded_mean_recall_m: 0.9207 - pred_acc: 0.7838 - pred_f1_m: 0.6765 - pred_precision_m: 0.6832 - pred_recall_m: 0.6700 - val_loss: 0.5847 - val_decoded_mean_loss: 0.0103 - val_pred_loss: 0.5722 - val_decoded_mean_acc: 0.9329 - val_decoded_mean_f1_m: 0.9539 - val_decoded_mean_precision_m: 0.9917 - val_decoded_mean_recall_m: 0.9190 - val_pred_acc: 0.6960 - val_pred_f1_m: 0.5445 - val_pred_precision_m: 0.5599 - val_pred_recall_m: 0.5300\n",
            "Epoch 27/100\n",
            "350/350 [==============================] - ETA: 0s - loss: 0.4764 - decoded_mean_loss: 0.0106 - pred_loss: 0.4624 - decoded_mean_acc: 0.9315 - decoded_mean_f1_m: 0.9525 - decoded_mean_precision_m: 0.9911 - decoded_mean_recall_m: 0.9167 - pred_acc: 0.7838 - pred_f1_m: 0.6800 - pred_precision_m: 0.6958 - pred_recall_m: 0.6650 \n",
            "Epoch 00027: val_pred_acc did not improve from 0.70667\n",
            "350/350 [==============================] - 207s 591ms/sample - loss: 0.4764 - decoded_mean_loss: 0.0106 - pred_loss: 0.4624 - decoded_mean_acc: 0.9315 - decoded_mean_f1_m: 0.9525 - decoded_mean_precision_m: 0.9911 - decoded_mean_recall_m: 0.9167 - pred_acc: 0.7838 - pred_f1_m: 0.6800 - pred_precision_m: 0.6958 - pred_recall_m: 0.6650 - val_loss: 0.5956 - val_decoded_mean_loss: 0.0102 - val_pred_loss: 0.5735 - val_decoded_mean_acc: 0.9329 - val_decoded_mean_f1_m: 0.9525 - val_decoded_mean_precision_m: 0.9918 - val_decoded_mean_recall_m: 0.9161 - val_pred_acc: 0.6920 - val_pred_f1_m: 0.5380 - val_pred_precision_m: 0.5499 - val_pred_recall_m: 0.5267\n",
            "Epoch 28/100\n",
            "350/350 [==============================] - ETA: 0s - loss: 0.4691 - decoded_mean_loss: 0.0106 - pred_loss: 0.4520 - decoded_mean_acc: 0.9311 - decoded_mean_f1_m: 0.9492 - decoded_mean_precision_m: 0.9927 - decoded_mean_recall_m: 0.9094 - pred_acc: 0.7886 - pred_f1_m: 0.6818 - pred_precision_m: 0.6999 - pred_recall_m: 0.6650 \n",
            "Epoch 00028: val_pred_acc did not improve from 0.70667\n",
            "350/350 [==============================] - 208s 594ms/sample - loss: 0.4691 - decoded_mean_loss: 0.0106 - pred_loss: 0.4520 - decoded_mean_acc: 0.9311 - decoded_mean_f1_m: 0.9492 - decoded_mean_precision_m: 0.9927 - decoded_mean_recall_m: 0.9094 - pred_acc: 0.7886 - pred_f1_m: 0.6818 - pred_precision_m: 0.6999 - pred_recall_m: 0.6650 - val_loss: 0.5938 - val_decoded_mean_loss: 0.0107 - val_pred_loss: 0.5710 - val_decoded_mean_acc: 0.9329 - val_decoded_mean_f1_m: 0.9532 - val_decoded_mean_precision_m: 0.9930 - val_decoded_mean_recall_m: 0.9165 - val_pred_acc: 0.7053 - val_pred_f1_m: 0.5657 - val_pred_precision_m: 0.5750 - val_pred_recall_m: 0.5567\n",
            "Epoch 29/100\n",
            "350/350 [==============================] - ETA: 0s - loss: 0.4808 - decoded_mean_loss: 0.0129 - pred_loss: 0.4642 - decoded_mean_acc: 0.9315 - decoded_mean_f1_m: 0.9529 - decoded_mean_precision_m: 0.9921 - decoded_mean_recall_m: 0.9166 - pred_acc: 0.7810 - pred_f1_m: 0.6739 - pred_precision_m: 0.6805 - pred_recall_m: 0.6675 \n",
            "Epoch 00029: val_pred_acc improved from 0.70667 to 0.71467, saving model to /content/drive/MyDrive/Models_a_ameliorer/Test_4.h5\n",
            "350/350 [==============================] - 212s 606ms/sample - loss: 0.4808 - decoded_mean_loss: 0.0129 - pred_loss: 0.4642 - decoded_mean_acc: 0.9315 - decoded_mean_f1_m: 0.9529 - decoded_mean_precision_m: 0.9921 - decoded_mean_recall_m: 0.9166 - pred_acc: 0.7810 - pred_f1_m: 0.6739 - pred_precision_m: 0.6805 - pred_recall_m: 0.6675 - val_loss: 0.5833 - val_decoded_mean_loss: 0.0107 - val_pred_loss: 0.5723 - val_decoded_mean_acc: 0.9329 - val_decoded_mean_f1_m: 0.9523 - val_decoded_mean_precision_m: 0.9924 - val_decoded_mean_recall_m: 0.9153 - val_pred_acc: 0.7147 - val_pred_f1_m: 0.5725 - val_pred_precision_m: 0.5821 - val_pred_recall_m: 0.5633\n",
            "Epoch 30/100\n",
            "350/350 [==============================] - ETA: 0s - loss: 0.4779 - decoded_mean_loss: 0.0102 - pred_loss: 0.4591 - decoded_mean_acc: 0.9312 - decoded_mean_f1_m: 0.9504 - decoded_mean_precision_m: 0.9919 - decoded_mean_recall_m: 0.9123 - pred_acc: 0.7829 - pred_f1_m: 0.6674 - pred_precision_m: 0.6916 - pred_recall_m: 0.6450 \n",
            "Epoch 00030: val_pred_acc did not improve from 0.71467\n",
            "350/350 [==============================] - 205s 586ms/sample - loss: 0.4779 - decoded_mean_loss: 0.0102 - pred_loss: 0.4591 - decoded_mean_acc: 0.9312 - decoded_mean_f1_m: 0.9504 - decoded_mean_precision_m: 0.9919 - decoded_mean_recall_m: 0.9123 - pred_acc: 0.7829 - pred_f1_m: 0.6674 - pred_precision_m: 0.6916 - pred_recall_m: 0.6450 - val_loss: 0.5768 - val_decoded_mean_loss: 0.0088 - val_pred_loss: 0.5642 - val_decoded_mean_acc: 0.9329 - val_decoded_mean_f1_m: 0.9532 - val_decoded_mean_precision_m: 0.9926 - val_decoded_mean_recall_m: 0.9168 - val_pred_acc: 0.7027 - val_pred_f1_m: 0.5384 - val_pred_precision_m: 0.5622 - val_pred_recall_m: 0.5167\n",
            "Epoch 31/100\n",
            "350/350 [==============================] - ETA: 0s - loss: 0.4707 - decoded_mean_loss: 0.0102 - pred_loss: 0.4604 - decoded_mean_acc: 0.9315 - decoded_mean_f1_m: 0.9531 - decoded_mean_precision_m: 0.9910 - decoded_mean_recall_m: 0.9179 - pred_acc: 0.7733 - pred_f1_m: 0.6465 - pred_precision_m: 0.6672 - pred_recall_m: 0.6275 \n",
            "Epoch 00031: val_pred_acc did not improve from 0.71467\n",
            "350/350 [==============================] - 204s 582ms/sample - loss: 0.4707 - decoded_mean_loss: 0.0102 - pred_loss: 0.4604 - decoded_mean_acc: 0.9315 - decoded_mean_f1_m: 0.9531 - decoded_mean_precision_m: 0.9910 - decoded_mean_recall_m: 0.9179 - pred_acc: 0.7733 - pred_f1_m: 0.6465 - pred_precision_m: 0.6672 - pred_recall_m: 0.6275 - val_loss: 0.5799 - val_decoded_mean_loss: 0.0102 - val_pred_loss: 0.5654 - val_decoded_mean_acc: 0.9329 - val_decoded_mean_f1_m: 0.9530 - val_decoded_mean_precision_m: 0.9926 - val_decoded_mean_recall_m: 0.9164 - val_pred_acc: 0.6987 - val_pred_f1_m: 0.5350 - val_pred_precision_m: 0.5513 - val_pred_recall_m: 0.5200\n",
            "Epoch 32/100\n",
            "350/350 [==============================] - ETA: 0s - loss: 0.4700 - decoded_mean_loss: 0.0132 - pred_loss: 0.4582 - decoded_mean_acc: 0.9315 - decoded_mean_f1_m: 0.9519 - decoded_mean_precision_m: 0.9897 - decoded_mean_recall_m: 0.9169 - pred_acc: 0.8057 - pred_f1_m: 0.7020 - pred_precision_m: 0.7200 - pred_recall_m: 0.6850 \n",
            "Epoch 00032: val_pred_acc did not improve from 0.71467\n",
            "350/350 [==============================] - 207s 591ms/sample - loss: 0.4700 - decoded_mean_loss: 0.0132 - pred_loss: 0.4582 - decoded_mean_acc: 0.9315 - decoded_mean_f1_m: 0.9519 - decoded_mean_precision_m: 0.9897 - decoded_mean_recall_m: 0.9169 - pred_acc: 0.8057 - pred_f1_m: 0.7020 - pred_precision_m: 0.7200 - pred_recall_m: 0.6850 - val_loss: 0.6071 - val_decoded_mean_loss: 0.0124 - val_pred_loss: 0.5929 - val_decoded_mean_acc: 0.9329 - val_decoded_mean_f1_m: 0.9544 - val_decoded_mean_precision_m: 0.9908 - val_decoded_mean_recall_m: 0.9206 - val_pred_acc: 0.7093 - val_pred_f1_m: 0.5565 - val_pred_precision_m: 0.5632 - val_pred_recall_m: 0.5500\n",
            "Epoch 33/100\n",
            "350/350 [==============================] - ETA: 0s - loss: 0.4469 - decoded_mean_loss: 0.0116 - pred_loss: 0.4305 - decoded_mean_acc: 0.9315 - decoded_mean_f1_m: 0.9517 - decoded_mean_precision_m: 0.9907 - decoded_mean_recall_m: 0.9157 - pred_acc: 0.7905 - pred_f1_m: 0.6826 - pred_precision_m: 0.7073 - pred_recall_m: 0.6600 \n",
            "Epoch 00033: val_pred_acc did not improve from 0.71467\n",
            "350/350 [==============================] - 218s 621ms/sample - loss: 0.4469 - decoded_mean_loss: 0.0116 - pred_loss: 0.4305 - decoded_mean_acc: 0.9315 - decoded_mean_f1_m: 0.9517 - decoded_mean_precision_m: 0.9907 - decoded_mean_recall_m: 0.9157 - pred_acc: 0.7905 - pred_f1_m: 0.6826 - pred_precision_m: 0.7073 - pred_recall_m: 0.6600 - val_loss: 0.5922 - val_decoded_mean_loss: 0.0093 - val_pred_loss: 0.5790 - val_decoded_mean_acc: 0.9329 - val_decoded_mean_f1_m: 0.9516 - val_decoded_mean_precision_m: 0.9944 - val_decoded_mean_recall_m: 0.9123 - val_pred_acc: 0.6987 - val_pred_f1_m: 0.5417 - val_pred_precision_m: 0.5616 - val_pred_recall_m: 0.5233\n",
            "Epoch 00033: early stopping\n"
          ]
        }
      ]
    },
    {
      "cell_type": "code",
      "metadata": {
        "id": "Qmvlk_d7hkSz",
        "colab": {
          "base_uri": "https://localhost:8080/"
        },
        "outputId": "ee54f263-295c-47bf-c55c-1ad61776c00a"
      },
      "source": [
        "autoencoder.evaluate(x=X_test, y={'decoded_mean': Conversion_X_test, 'pred': y_test})"
      ],
      "execution_count": 19,
      "outputs": [
        {
          "output_type": "execute_result",
          "data": {
            "text/plain": [
              "[0.5916505727767944,\n",
              " 0.009355413,\n",
              " 0.58159673,\n",
              " 0.93292,\n",
              " 0.9518362,\n",
              " 0.9945801,\n",
              " 0.9126172,\n",
              " 0.6986667,\n",
              " 0.53374594,\n",
              " 0.55253375,\n",
              " 0.51652646]"
            ]
          },
          "metadata": {},
          "execution_count": 19
        }
      ]
    },
    {
      "cell_type": "code",
      "metadata": {
        "id": "FgrVELAShkPa",
        "colab": {
          "base_uri": "https://localhost:8080/",
          "height": 1000
        },
        "outputId": "d9b3043c-b512-452f-a9ef-c0791196fca0"
      },
      "source": [
        "plt.plot(history.history['pred_acc'])\n",
        "plt.plot(history.history['val_pred_acc'])\n",
        "plt.title('model accuracy')\n",
        "plt.ylabel('accuracy')\n",
        "plt.xlabel('epoch')\n",
        "plt.legend(['train', 'validation'], loc='upper left')\n",
        "plt.show()\n",
        "# Plot of loss in each epoch\n",
        "plt.plot(history.history['loss'])\n",
        "plt.plot(history.history['val_loss'])\n",
        "plt.title('model loss')\n",
        "plt.ylabel('loss')\n",
        "plt.xlabel('epoch')\n",
        "plt.show()\n",
        "\n",
        "plt.plot(history.history['pred_loss'])\n",
        "plt.plot(history.history['val_pred_loss'])\n",
        "plt.title('model pred_loss')\n",
        "plt.ylabel('pred_loss')\n",
        "plt.xlabel('epoch')\n",
        "plt.show()\n",
        "\n",
        "plt.plot(history.history['pred_f1_m'])\n",
        "plt.plot(history.history['val_pred_f1_m'])\n",
        "\n",
        "plt.title('model F1_score')\n",
        "plt.ylabel('f1_m')\n",
        "plt.xlabel('epoch')\n",
        "plt.legend(['train','test'], loc='upper left')\n",
        "plt.show()"
      ],
      "execution_count": 20,
      "outputs": [
        {
          "output_type": "display_data",
          "data": {
            "image/png": "[encoded data removed]",
            "text/plain": [
              "<Figure size 432x288 with 1 Axes>"
            ]
          },
          "metadata": {
            "needs_background": "light"
          }
        },
        {
          "output_type": "display_data",
          "data": {
            "image/png": "[encoded data removed]",
            "text/plain": [
              "<Figure size 432x288 with 1 Axes>"
            ]
          },
          "metadata": {
            "needs_background": "light"
          }
        },
        {
          "output_type": "display_data",
          "data": {
            "image/png": "[encoded data removed]",
            "text/plain": [
              "<Figure size 432x288 with 1 Axes>"
            ]
          },
          "metadata": {
            "needs_background": "light"
          }
        },
        {
          "output_type": "display_data",
          "data": {
            "image/png": "[encoded data removed]",
            "text/plain": [
              "<Figure size 432x288 with 1 Axes>"
            ]
          },
          "metadata": {
            "needs_background": "light"
          }
        }
      ]
    },
    {
      "cell_type": "markdown",
      "metadata": {
        "id": "JBS-Gm4RuK0i"
      },
      "source": [
        ""
      ]
    },
    {
      "cell_type": "code",
      "metadata": {
        "colab": {
          "base_uri": "https://localhost:8080/"
        },
        "id": "A1Dnf73fuKHy",
        "outputId": "71c41e78-1a8c-4dda-e68d-2f01b76ee1a2"
      },
      "source": [
        "MODEL_FILE_PATH = '/content/drive/MyDrive/Models_a_ameliorer'\n",
        "MODEL_FILE_NAME = 'Test_5.h5'\n",
        "LR=0.0001\n",
        "batch_size = 100\n",
        "vocab_size=vocab_size\n",
        "max_length=100 \n",
        "dim_latent=200\n",
        "intermediate_dim=500\n",
        "encoder = None\n",
        "decoder = None\n",
        "predicter_opinion = None\n",
        "autoencoder = None\n",
        "\n",
        "x = Input(shape=(max_length,))\n",
        "x_embed = Embedding(vocab_size, 100, weights=[embedding_matrix], input_length=max_length)(x)\n",
        "def Encodeur(x, dim_latent=200, max_length=100, epsilon_std=0.01):\n",
        "    h = Bidirectional(LSTM(1250,return_sequences=True,dropout=0.25),merge_mode='concat')(x)\n",
        "    h = AttentionCouche()(h) \n",
        "    h = Dense(300, activation='relu', name='dense_1')(h)\n",
        "    def sampling(args):\n",
        "        z_mean, z_log_var = args\n",
        "        batch = K.shape(z_mean)[0]\n",
        "        # by default, random_normal has mean=0 and std=1.0\n",
        "        epsilon = K.random_normal(shape=(batch, dim_latent), mean=0., stddev=epsilon_std)\n",
        "        return z_mean + K.exp(z_log_var / 2) * epsilon\n",
        "    z_mean = Dense(dim_latent, name='z_mean', activation='linear')(h)\n",
        "    z_log_var = Dense(dim_latent, name='z_log_var', activation='linear')(h)\n",
        "    z = Lambda(sampling, output_shape=(dim_latent,), name='z')([z_mean, z_log_var])\n",
        "    def fct_loss(x, x_decoded_mean):\n",
        "        x = K.flatten(x)\n",
        "        x_decoded_mean = K.flatten(x_decoded_mean)\n",
        "        xent_loss = max_length * metrics.binary_crossentropy(x, x_decoded_mean)\n",
        "        kl_loss = - 0.5 * K.mean(1 + z_log_var - K.square(z_mean) - K.exp(z_log_var), axis=-1)\n",
        "        return xent_loss + kl_loss\n",
        "    return (fct_loss, z) \n",
        "fct_loss, encoded = Encodeur(x_embed, dim_latent=dim_latent, max_length=max_length)\n",
        "encoder = Model(inputs=x, outputs=encoded)\n",
        "encoder.summary()\n",
        "def Codage_opinion(encoded):\n",
        "    h = Dense(100, activation='linear')(encoded)     \n",
        "    return Dense(3, activation='softmax', name='pred')(h)\n",
        "\n",
        "encoded_input = Input(shape=(dim_latent,))\n",
        "opinion_lab = Codage_opinion(encoded_input)\n",
        "predicter_opinion = Model(encoded_input, opinion_lab)\n",
        "predicter_opinion.summary()\n",
        "def Decodeur(encoded, vocab_size, max_length):\n",
        "    repeated_context = RepeatVector(max_length)(encoded)\n",
        "    h = Bidirectional(  LSTM(1250, return_sequences=True, name='dec_lstm_1',dropout=0.25))(repeated_context)\n",
        "    decoded = TimeDistributed(Dense(vocab_size, activation='softmax'), name='decoded_mean')(h)        \n",
        "    return decoded\n",
        "\n",
        "\n",
        "decoded = Decodeur(encoded_input, vocab_size, max_length)\n",
        "decoder = Model(encoded_input, decoded)\n",
        "decoder.summary()\n",
        "autoencoder = Model(inputs=x, outputs=[Decodeur(encoded, vocab_size, max_length), Codage_opinion(encoded)])\n",
        "tf.config.run_functions_eagerly(False)\n",
        "#tf.compat.v1.disable_eager_execution()\n",
        "\n",
        "\n",
        "early_stopping = EarlyStopping(monitor='val_loss', mode='min', verbose=1, patience=10)\n",
        "\n",
        "save_best = ModelCheckpoint(os.path.join(MODEL_FILE_PATH,MODEL_FILE_NAME), \n",
        "                     monitor='val_pred_acc', \n",
        "                     mode='max', \n",
        "                     verbose=1, \n",
        "                     save_best_only=True) \n",
        "\n",
        "autoencoder.compile(optimizer=Adam(learning_rate=LR), loss=[fct_loss, 'binary_crossentropy'], metrics=['accuracy',f1_m,precision_m, recall_m])\n",
        "autoencoder.summary()\n"
      ],
      "execution_count": null,
      "outputs": [
        {
          "output_type": "stream",
          "name": "stdout",
          "text": [
            "WARNING:tensorflow:From /usr/local/lib/python3.7/dist-packages/keras/initializers/initializers_v1.py:278: calling RandomUniform.__init__ (from tensorflow.python.ops.init_ops) with dtype is deprecated and will be removed in a future version.\n",
            "Instructions for updating:\n",
            "Call initializer instance with the dtype argument instead of passing it to the constructor\n",
            "WARNING:tensorflow:From /usr/local/lib/python3.7/dist-packages/tensorflow/python/ops/init_ops.py:97: calling GlorotUniform.__init__ (from tensorflow.python.ops.init_ops) with dtype is deprecated and will be removed in a future version.\n",
            "Instructions for updating:\n",
            "Call initializer instance with the dtype argument instead of passing it to the constructor\n",
            "WARNING:tensorflow:From /usr/local/lib/python3.7/dist-packages/tensorflow/python/ops/init_ops.py:97: calling Orthogonal.__init__ (from tensorflow.python.ops.init_ops) with dtype is deprecated and will be removed in a future version.\n",
            "Instructions for updating:\n",
            "Call initializer instance with the dtype argument instead of passing it to the constructor\n",
            "WARNING:tensorflow:From /usr/local/lib/python3.7/dist-packages/tensorflow/python/ops/init_ops.py:97: calling Zeros.__init__ (from tensorflow.python.ops.init_ops) with dtype is deprecated and will be removed in a future version.\n",
            "Instructions for updating:\n",
            "Call initializer instance with the dtype argument instead of passing it to the constructor\n",
            "WARNING:tensorflow:From /usr/local/lib/python3.7/dist-packages/keras/initializers/initializers_v1.py:160: calling RandomNormal.__init__ (from tensorflow.python.ops.init_ops) with dtype is deprecated and will be removed in a future version.\n",
            "Instructions for updating:\n",
            "Call initializer instance with the dtype argument instead of passing it to the constructor\n",
            "Model: \"model\"\n",
            "__________________________________________________________________________________________________\n",
            " Layer (type)                   Output Shape         Param #     Connected to                     \n",
            "==================================================================================================\n",
            " input_1 (InputLayer)           [(None, 100)]        0           []                               \n",
            "                                                                                                  \n",
            " embedding (Embedding)          (None, 100, 100)     2281400     ['input_1[0][0]']                \n",
            "                                                                                                  \n",
            " bidirectional (Bidirectional)  (None, 100, 2500)    13510000    ['embedding[0][0]']              \n",
            "                                                                                                  \n",
            " attention_couche (AttentionCou  (None, 2500)        2600        ['bidirectional[0][0]']          \n",
            " che)                                                                                             \n",
            "                                                                                                  \n",
            " dense_1 (Dense)                (None, 300)          750300      ['attention_couche[0][0]']       \n",
            "                                                                                                  \n",
            " z_mean (Dense)                 (None, 200)          60200       ['dense_1[0][0]']                \n",
            "                                                                                                  \n",
            " z_log_var (Dense)              (None, 200)          60200       ['dense_1[0][0]']                \n",
            "                                                                                                  \n",
            " z (Lambda)                     (None, 200)          0           ['z_mean[0][0]',                 \n",
            "                                                                  'z_log_var[0][0]']              \n",
            "                                                                                                  \n",
            "==================================================================================================\n",
            "Total params: 16,664,700\n",
            "Trainable params: 16,664,700\n",
            "Non-trainable params: 0\n",
            "__________________________________________________________________________________________________\n",
            "Model: \"model_1\"\n",
            "_________________________________________________________________\n",
            " Layer (type)                Output Shape              Param #   \n",
            "=================================================================\n",
            " input_2 (InputLayer)        [(None, 200)]             0         \n",
            "                                                                 \n",
            " dense (Dense)               (None, 100)               20100     \n",
            "                                                                 \n",
            " pred (Dense)                (None, 3)                 303       \n",
            "                                                                 \n",
            "=================================================================\n",
            "Total params: 20,403\n",
            "Trainable params: 20,403\n",
            "Non-trainable params: 0\n",
            "_________________________________________________________________\n",
            "Model: \"model_2\"\n",
            "_________________________________________________________________\n",
            " Layer (type)                Output Shape              Param #   \n",
            "=================================================================\n",
            " input_2 (InputLayer)        [(None, 200)]             0         \n",
            "                                                                 \n",
            " repeat_vector_1 (RepeatVect  (None, 100, 200)         0         \n",
            " or)                                                             \n",
            "                                                                 \n",
            " bidirectional_1 (Bidirectio  (None, 100, 2500)        14510000  \n",
            " nal)                                                            \n",
            "                                                                 \n",
            " decoded_mean (TimeDistribut  (None, 100, 22814)       57057814  \n",
            " ed)                                                             \n",
            "                                                                 \n",
            "=================================================================\n",
            "Total params: 71,567,814\n",
            "Trainable params: 71,567,814\n",
            "Non-trainable params: 0\n",
            "_________________________________________________________________\n",
            "Model: \"model_3\"\n",
            "__________________________________________________________________________________________________\n",
            " Layer (type)                   Output Shape         Param #     Connected to                     \n",
            "==================================================================================================\n",
            " input_1 (InputLayer)           [(None, 100)]        0           []                               \n",
            "                                                                                                  \n",
            " embedding (Embedding)          (None, 100, 100)     2281400     ['input_1[0][0]']                \n",
            "                                                                                                  \n",
            " bidirectional (Bidirectional)  (None, 100, 2500)    13510000    ['embedding[0][0]']              \n",
            "                                                                                                  \n",
            " attention_couche (AttentionCou  (None, 2500)        2600        ['bidirectional[0][0]']          \n",
            " che)                                                                                             \n",
            "                                                                                                  \n",
            " dense_1 (Dense)                (None, 300)          750300      ['attention_couche[0][0]']       \n",
            "                                                                                                  \n",
            " z_mean (Dense)                 (None, 200)          60200       ['dense_1[0][0]']                \n",
            "                                                                                                  \n",
            " z_log_var (Dense)              (None, 200)          60200       ['dense_1[0][0]']                \n",
            "                                                                                                  \n",
            " z (Lambda)                     (None, 200)          0           ['z_mean[0][0]',                 \n",
            "                                                                  'z_log_var[0][0]']              \n",
            "                                                                                                  \n",
            " repeat_vector_2 (RepeatVector)  (None, 100, 200)    0           ['z[0][0]']                      \n",
            "                                                                                                  \n",
            " bidirectional_2 (Bidirectional  (None, 100, 2500)   14510000    ['repeat_vector_2[0][0]']        \n",
            " )                                                                                                \n",
            "                                                                                                  \n",
            " dense_3 (Dense)                (None, 100)          20100       ['z[0][0]']                      \n",
            "                                                                                                  \n",
            " decoded_mean (TimeDistributed)  (None, 100, 22814)  57057814    ['bidirectional_2[0][0]']        \n",
            "                                                                                                  \n",
            " pred (Dense)                   (None, 3)            303         ['dense_3[0][0]']                \n",
            "                                                                                                  \n",
            "==================================================================================================\n",
            "Total params: 88,252,917\n",
            "Trainable params: 88,252,917\n",
            "Non-trainable params: 0\n",
            "__________________________________________________________________________________________________\n"
          ]
        }
      ]
    },
    {
      "cell_type": "code",
      "metadata": {
        "colab": {
          "base_uri": "https://localhost:8080/"
        },
        "id": "G7jXYO8juKGK",
        "outputId": "3a236439-dbaf-46ed-bf2f-322fb4b7d6a4"
      },
      "source": [
        "\n",
        "history = autoencoder.fit(x=X_train, y={'decoded_mean': Conversion_X_train, 'pred': y_train}, batch_size=100, epochs=100, validation_data=(X_test, {'decoded_mean': Conversion_X_test, 'pred':  y_test}),callbacks=[early_stopping, save_best])\n"
      ],
      "execution_count": null,
      "outputs": [
        {
          "output_type": "stream",
          "name": "stdout",
          "text": [
            "Train on 350 samples, validate on 250 samples\n",
            "Epoch 1/100\n",
            "200/350 [================>.............] - ETA: 1:23 - loss: 0.7395 - decoded_mean_loss: 0.0484 - pred_loss: 0.6911 - decoded_mean_acc: 0.0000e+00 - decoded_mean_f1_m: 0.0000e+00 - decoded_mean_precision_m: 0.0000e+00 - decoded_mean_recall_m: 0.0000e+00 - pred_acc: 0.6667 - pred_f1_m: 0.0000e+00 - pred_precision_m: 0.0000e+00 - pred_recall_m: 0.0000e+00"
          ]
        }
      ]
    },
    {
      "cell_type": "code",
      "metadata": {
        "id": "uPd0SLQCuKCQ"
      },
      "source": [
        "autoencoder.evaluate(x=X_test, y={'decoded_mean': Conversion_X_test, 'pred': y_test})"
      ],
      "execution_count": null,
      "outputs": []
    },
    {
      "cell_type": "code",
      "metadata": {
        "id": "Aj2gt08QuJ-a"
      },
      "source": [
        "plt.plot(history.history['pred_acc'])\n",
        "plt.plot(history.history['val_pred_acc'])\n",
        "plt.title('model accuracy')\n",
        "plt.ylabel('accuracy')\n",
        "plt.xlabel('epoch')\n",
        "plt.legend(['train', 'validation'], loc='upper left')\n",
        "plt.show()\n",
        "# Plot of loss in each epoch\n",
        "plt.plot(history.history['loss'])\n",
        "plt.plot(history.history['val_loss'])\n",
        "plt.title('model loss')\n",
        "plt.ylabel('loss')\n",
        "plt.xlabel('epoch')\n",
        "plt.show()\n",
        "\n",
        "plt.plot(history.history['pred_loss'])\n",
        "plt.plot(history.history['val_pred_loss'])\n",
        "plt.title('model pred_loss')\n",
        "plt.ylabel('pred_loss')\n",
        "plt.xlabel('epoch')\n",
        "plt.show()\n",
        "\n",
        "plt.plot(history.history['pred_f1_m'])\n",
        "plt.plot(history.history['val_pred_f1_m'])\n",
        "\n",
        "plt.title('model F1_score')\n",
        "plt.ylabel('f1_m')\n",
        "plt.xlabel('epoch')\n",
        "plt.legend(['train','test'], loc='upper left')\n",
        "plt.show()"
      ],
      "execution_count": null,
      "outputs": []
    },
    {
      "cell_type": "code",
      "metadata": {
        "id": "gR3uZpPEuJwL"
      },
      "source": [
        ""
      ],
      "execution_count": null,
      "outputs": []
    },
    {
      "cell_type": "markdown",
      "metadata": {
        "id": "TksoCTbW9WWu"
      },
      "source": [
        "# **Test_5** :\n",
        "Deux couches cachés avec 1024 et 500 Neurones pour chaqu'une\n"
      ]
    },
    {
      "cell_type": "code",
      "metadata": {
        "id": "AinoILKnqPdX",
        "colab": {
          "base_uri": "https://localhost:8080/",
          "height": 393
        },
        "outputId": "902c3c6b-1ade-4484-872c-982407f017fd"
      },
      "source": [
        "MODEL_FILE_PATH = '/content/drive/MyDrive/dossier_de_travail/'\n",
        "MODEL_FILE_NAME = 'Test_6.h5'\n",
        "LR=0.0001\n",
        "\n",
        "batch_size = 100\n",
        "vocab_size=vocab_size\n",
        "max_length=100 \n",
        "dim_latent=200\n",
        "intermediate_dim=500\n",
        "\n",
        "encoder = None\n",
        "decoder = None\n",
        "predicter_opinion = None\n",
        "autoencoder = None\n",
        "\n",
        "x = Input(shape=(max_length,))\n",
        "x_embed = Embedding(vocab_size, 100, weights=[embedding_matrix], input_length=max_length)(x)\n",
        "\n",
        "\n",
        "def Encodeur(x, dim_latent=200, max_length=100, epsilon_std=0.01):\n",
        "    h = Bidirectional(LSTM(975, return_sequences=True,dropout=0.25),merge_mode='concat')(x)\n",
        "    h = AttentionCouche()(h) \n",
        "    h = Bidirectional(LSTM(500, return_sequences=False,dropout=0.25),merge_mode='concat')(h)\n",
        "    h = Dense(300, activation='relu', name='dense_1')(h)\n",
        "    \n",
        "    def sampling(args):\n",
        "        z_mean, z_log_var = args\n",
        "        batch = K.shape(z_mean)[0]\n",
        "        # by default, random_normal has mean=0 and std=1.0\n",
        "        epsilon = K.random_normal(shape=(batch, dim_latent), mean=0., stddev=epsilon_std)\n",
        "        return z_mean + K.exp(z_log_var / 2) * epsilon\n",
        "    \n",
        "    \n",
        "    z_mean = Dense(dim_latent, name='z_mean', activation='linear')(h)\n",
        "    z_log_var = Dense(dim_latent, name='z_log_var', activation='linear')(h)\n",
        "    z = Lambda(sampling, output_shape=(dim_latent,), name='z')([z_mean, z_log_var])\n",
        "\n",
        "\n",
        "    def fct_loss(x, x_decoded_mean):\n",
        "        x = K.flatten(x)\n",
        "        x_decoded_mean = K.flatten(x_decoded_mean)\n",
        "        xent_loss = max_length * metrics.binary_crossentropy(x, x_decoded_mean)\n",
        "        kl_loss = - 0.5 * K.mean(1 + z_log_var - K.square(z_mean) - K.exp(z_log_var), axis=-1)\n",
        "        return xent_loss + kl_loss\n",
        "    \n",
        "    return (fct_loss, z)\n",
        "    \n",
        "     \n",
        "fct_loss, encoded = Encodeur(x_embed, dim_latent=dim_latent, max_length=max_length)\n",
        "encoder = Model(inputs=x, outputs=encoded)\n",
        "encoder.summary()\n",
        "\n",
        "\n",
        "def Codage_opinion(encoded):\n",
        "    h = Dense(100, activation='linear')(encoded)     \n",
        "    return Dense(3, activation='softmax', name='pred')(h)\n",
        "\n",
        "\n",
        "encoded_input = Input(shape=(dim_latent,))\n",
        "opinion_lab = Codage_opinion(encoded_input)\n",
        "predicter_opinion = Model(encoded_input, opinion_lab)\n",
        "predicter_opinion.summary()\n",
        "\n",
        "\n",
        "def Decodeur(encoded, vocab_size, max_length):\n",
        "    repeated_context = RepeatVector(max_length)(encoded)\n",
        "    h = Bidirectional(LSTM(1024, return_sequences=True, name='dec_lstm_1',dropout=0.25))(repeated_context)\n",
        "    h = Bidirectional(LSTM(500, return_sequences=True, name='dec_lstm_1',dropout=0.25))(h)\n",
        "    decoded = TimeDistributed(Dense(vocab_size, activation='softmax'), name='decoded_mean')(h)        \n",
        "    return decoded\n",
        "\n",
        "\n",
        "decoded = Decodeur(encoded_input, vocab_size, max_length)\n",
        "decoder = Model(encoded_input, decoded)\n",
        "decoder.summary()\n",
        "autoencoder = Model(inputs=x, outputs=[Decodeur(encoded, vocab_size, max_length), Codage_opinion(encoded)])\n",
        "tf.config.run_functions_eagerly(False)\n",
        "#tf.compat.v1.disable_eager_execution()\n",
        "\n",
        "\n",
        "early_stopping = EarlyStopping(monitor='val_loss', mode='min', verbose=1, patience=20)\n",
        "\n",
        "save_best = ModelCheckpoint(os.path.join(MODEL_FILE_PATH,MODEL_FILE_NAME), \n",
        "                     monitor='val_pred_acc', \n",
        "                     mode='max', \n",
        "                     verbose=1, \n",
        "                     save_best_only=True) \n",
        "autoencoder.compile(optimizer=Adam(learning_rate=0.0001), loss=[fct_loss, 'binary_crossentropy'], metrics=['accuracy',f1_m,precision_m, recall_m])\n",
        "autoencoder.summary()\n"
      ],
      "execution_count": null,
      "outputs": [
        {
          "output_type": "error",
          "ename": "TypeError",
          "evalue": "ignored",
          "traceback": [
            "\u001b[0;31m---------------------------------------------------------------------------\u001b[0m",
            "\u001b[0;31mTypeError\u001b[0m                                 Traceback (most recent call last)",
            "\u001b[0;32m<ipython-input-22-57b48c9807ce>\u001b[0m in \u001b[0;36m<module>\u001b[0;34m()\u001b[0m\n\u001b[1;32m     47\u001b[0m \u001b[0;34m\u001b[0m\u001b[0m\n\u001b[1;32m     48\u001b[0m \u001b[0;34m\u001b[0m\u001b[0m\n\u001b[0;32m---> 49\u001b[0;31m \u001b[0mfct_loss\u001b[0m\u001b[0;34m,\u001b[0m \u001b[0mencoded\u001b[0m \u001b[0;34m=\u001b[0m \u001b[0mEncodeur\u001b[0m\u001b[0;34m(\u001b[0m\u001b[0mx_embed\u001b[0m\u001b[0;34m,\u001b[0m \u001b[0mdim_latent\u001b[0m\u001b[0;34m=\u001b[0m\u001b[0mdim_latent\u001b[0m\u001b[0;34m,\u001b[0m \u001b[0mmax_length\u001b[0m\u001b[0;34m=\u001b[0m\u001b[0mmax_length\u001b[0m\u001b[0;34m)\u001b[0m\u001b[0;34m\u001b[0m\u001b[0;34m\u001b[0m\u001b[0m\n\u001b[0m\u001b[1;32m     50\u001b[0m \u001b[0mencoder\u001b[0m \u001b[0;34m=\u001b[0m \u001b[0mModel\u001b[0m\u001b[0;34m(\u001b[0m\u001b[0minputs\u001b[0m\u001b[0;34m=\u001b[0m\u001b[0mx\u001b[0m\u001b[0;34m,\u001b[0m \u001b[0moutputs\u001b[0m\u001b[0;34m=\u001b[0m\u001b[0mencoded\u001b[0m\u001b[0;34m)\u001b[0m\u001b[0;34m\u001b[0m\u001b[0;34m\u001b[0m\u001b[0m\n\u001b[1;32m     51\u001b[0m \u001b[0mencoder\u001b[0m\u001b[0;34m.\u001b[0m\u001b[0msummary\u001b[0m\u001b[0;34m(\u001b[0m\u001b[0;34m)\u001b[0m\u001b[0;34m\u001b[0m\u001b[0;34m\u001b[0m\u001b[0m\n",
            "\u001b[0;32m<ipython-input-22-57b48c9807ce>\u001b[0m in \u001b[0;36mEncodeur\u001b[0;34m(x, dim_latent, max_length, epsilon_std)\u001b[0m\n\u001b[1;32m     20\u001b[0m \u001b[0;32mdef\u001b[0m \u001b[0mEncodeur\u001b[0m\u001b[0;34m(\u001b[0m\u001b[0mx\u001b[0m\u001b[0;34m,\u001b[0m \u001b[0mdim_latent\u001b[0m\u001b[0;34m=\u001b[0m\u001b[0;36m200\u001b[0m\u001b[0;34m,\u001b[0m \u001b[0mmax_length\u001b[0m\u001b[0;34m=\u001b[0m\u001b[0;36m100\u001b[0m\u001b[0;34m,\u001b[0m \u001b[0mepsilon_std\u001b[0m\u001b[0;34m=\u001b[0m\u001b[0;36m0.01\u001b[0m\u001b[0;34m)\u001b[0m\u001b[0;34m:\u001b[0m\u001b[0;34m\u001b[0m\u001b[0;34m\u001b[0m\u001b[0m\n\u001b[1;32m     21\u001b[0m     \u001b[0mh\u001b[0m \u001b[0;34m=\u001b[0m \u001b[0mBidirectional\u001b[0m\u001b[0;34m(\u001b[0m\u001b[0mLSTM\u001b[0m\u001b[0;34m(\u001b[0m\u001b[0;36m1024\u001b[0m\u001b[0;34m,\u001b[0m \u001b[0mreturn_sequences\u001b[0m\u001b[0;34m=\u001b[0m\u001b[0;32mFalse\u001b[0m\u001b[0;34m,\u001b[0m\u001b[0mdropout\u001b[0m\u001b[0;34m=\u001b[0m\u001b[0;36m0.25\u001b[0m\u001b[0;34m)\u001b[0m\u001b[0;34m,\u001b[0m\u001b[0mmerge_mode\u001b[0m\u001b[0;34m=\u001b[0m\u001b[0;34m'concat'\u001b[0m\u001b[0;34m)\u001b[0m\u001b[0;34m(\u001b[0m\u001b[0mx\u001b[0m\u001b[0;34m)\u001b[0m\u001b[0;34m\u001b[0m\u001b[0;34m\u001b[0m\u001b[0m\n\u001b[0;32m---> 22\u001b[0;31m     \u001b[0mh\u001b[0m \u001b[0;34m=\u001b[0m \u001b[0mAttentionCouche\u001b[0m\u001b[0;34m(\u001b[0m\u001b[0;34m)\u001b[0m\u001b[0;34m(\u001b[0m\u001b[0mh\u001b[0m\u001b[0;34m)\u001b[0m\u001b[0;34m\u001b[0m\u001b[0;34m\u001b[0m\u001b[0m\n\u001b[0m\u001b[1;32m     23\u001b[0m     \u001b[0mh\u001b[0m \u001b[0;34m=\u001b[0m \u001b[0mBidirectional\u001b[0m\u001b[0;34m(\u001b[0m\u001b[0mLSTM\u001b[0m\u001b[0;34m(\u001b[0m\u001b[0;36m500\u001b[0m\u001b[0;34m,\u001b[0m \u001b[0mreturn_sequences\u001b[0m\u001b[0;34m=\u001b[0m\u001b[0;32mFalse\u001b[0m\u001b[0;34m,\u001b[0m\u001b[0mdropout\u001b[0m\u001b[0;34m=\u001b[0m\u001b[0;36m0.25\u001b[0m\u001b[0;34m)\u001b[0m\u001b[0;34m,\u001b[0m\u001b[0mmerge_mode\u001b[0m\u001b[0;34m=\u001b[0m\u001b[0;34m'concat'\u001b[0m\u001b[0;34m)\u001b[0m\u001b[0;34m(\u001b[0m\u001b[0mh\u001b[0m\u001b[0;34m)\u001b[0m\u001b[0;34m\u001b[0m\u001b[0;34m\u001b[0m\u001b[0m\n\u001b[1;32m     24\u001b[0m     \u001b[0mh\u001b[0m \u001b[0;34m=\u001b[0m \u001b[0mDense\u001b[0m\u001b[0;34m(\u001b[0m\u001b[0;36m300\u001b[0m\u001b[0;34m,\u001b[0m \u001b[0mactivation\u001b[0m\u001b[0;34m=\u001b[0m\u001b[0;34m'relu'\u001b[0m\u001b[0;34m,\u001b[0m \u001b[0mname\u001b[0m\u001b[0;34m=\u001b[0m\u001b[0;34m'dense_1'\u001b[0m\u001b[0;34m)\u001b[0m\u001b[0;34m(\u001b[0m\u001b[0mh\u001b[0m\u001b[0;34m)\u001b[0m\u001b[0;34m\u001b[0m\u001b[0;34m\u001b[0m\u001b[0m\n",
            "\u001b[0;32m/usr/local/lib/python3.7/dist-packages/keras/engine/base_layer_v1.py\u001b[0m in \u001b[0;36m__call__\u001b[0;34m(self, *args, **kwargs)\u001b[0m\n\u001b[1;32m    743\u001b[0m           \u001b[0;31m# Build layer if applicable (if the `build` method has been\u001b[0m\u001b[0;34m\u001b[0m\u001b[0;34m\u001b[0m\u001b[0;34m\u001b[0m\u001b[0m\n\u001b[1;32m    744\u001b[0m           \u001b[0;31m# overridden).\u001b[0m\u001b[0;34m\u001b[0m\u001b[0;34m\u001b[0m\u001b[0;34m\u001b[0m\u001b[0m\n\u001b[0;32m--> 745\u001b[0;31m           \u001b[0mself\u001b[0m\u001b[0;34m.\u001b[0m\u001b[0m_maybe_build\u001b[0m\u001b[0;34m(\u001b[0m\u001b[0minputs\u001b[0m\u001b[0;34m)\u001b[0m\u001b[0;34m\u001b[0m\u001b[0;34m\u001b[0m\u001b[0m\n\u001b[0m\u001b[1;32m    746\u001b[0m           \u001b[0mcast_inputs\u001b[0m \u001b[0;34m=\u001b[0m \u001b[0mself\u001b[0m\u001b[0;34m.\u001b[0m\u001b[0m_maybe_cast_inputs\u001b[0m\u001b[0;34m(\u001b[0m\u001b[0minputs\u001b[0m\u001b[0;34m)\u001b[0m\u001b[0;34m\u001b[0m\u001b[0;34m\u001b[0m\u001b[0m\n\u001b[1;32m    747\u001b[0m \u001b[0;34m\u001b[0m\u001b[0m\n",
            "\u001b[0;32m/usr/local/lib/python3.7/dist-packages/keras/engine/base_layer_v1.py\u001b[0m in \u001b[0;36m_maybe_build\u001b[0;34m(self, inputs)\u001b[0m\n\u001b[1;32m   2070\u001b[0m         \u001b[0;31m# operations.\u001b[0m\u001b[0;34m\u001b[0m\u001b[0;34m\u001b[0m\u001b[0;34m\u001b[0m\u001b[0m\n\u001b[1;32m   2071\u001b[0m         \u001b[0;32mwith\u001b[0m \u001b[0mtf_utils\u001b[0m\u001b[0;34m.\u001b[0m\u001b[0mmaybe_init_scope\u001b[0m\u001b[0;34m(\u001b[0m\u001b[0mself\u001b[0m\u001b[0;34m)\u001b[0m\u001b[0;34m:\u001b[0m\u001b[0;34m\u001b[0m\u001b[0;34m\u001b[0m\u001b[0m\n\u001b[0;32m-> 2072\u001b[0;31m           \u001b[0mself\u001b[0m\u001b[0;34m.\u001b[0m\u001b[0mbuild\u001b[0m\u001b[0;34m(\u001b[0m\u001b[0minput_shapes\u001b[0m\u001b[0;34m)\u001b[0m\u001b[0;34m\u001b[0m\u001b[0;34m\u001b[0m\u001b[0m\n\u001b[0m\u001b[1;32m   2073\u001b[0m       \u001b[0;31m# We must set also ensure that the layer is marked as built, and the build\u001b[0m\u001b[0;34m\u001b[0m\u001b[0;34m\u001b[0m\u001b[0;34m\u001b[0m\u001b[0m\n\u001b[1;32m   2074\u001b[0m       \u001b[0;31m# shape is stored since user defined build functions may not be calling\u001b[0m\u001b[0;34m\u001b[0m\u001b[0;34m\u001b[0m\u001b[0;34m\u001b[0m\u001b[0m\n",
            "\u001b[0;32m<ipython-input-15-cb3fcab19d86>\u001b[0m in \u001b[0;36mbuild\u001b[0;34m(self, input_shape)\u001b[0m\n\u001b[1;32m     14\u001b[0m \u001b[0;34m\u001b[0m\u001b[0m\n\u001b[1;32m     15\u001b[0m         \u001b[0mself\u001b[0m\u001b[0;34m.\u001b[0m\u001b[0mw\u001b[0m \u001b[0;34m=\u001b[0m \u001b[0mself\u001b[0m\u001b[0;34m.\u001b[0m\u001b[0madd_weight\u001b[0m\u001b[0;34m(\u001b[0m\u001b[0mname\u001b[0m\u001b[0;34m=\u001b[0m\u001b[0;34m'attention_weigth'\u001b[0m\u001b[0;34m,\u001b[0m\u001b[0mshape\u001b[0m\u001b[0;34m=\u001b[0m\u001b[0;34m(\u001b[0m\u001b[0minput_shape\u001b[0m\u001b[0;34m[\u001b[0m\u001b[0;34m-\u001b[0m\u001b[0;36m1\u001b[0m\u001b[0;34m]\u001b[0m\u001b[0;34m,\u001b[0m\u001b[0;36m1\u001b[0m\u001b[0;34m)\u001b[0m\u001b[0;34m,\u001b[0m \u001b[0minitializer\u001b[0m\u001b[0;34m=\u001b[0m\u001b[0;34m'normal'\u001b[0m\u001b[0;34m)\u001b[0m\u001b[0;34m\u001b[0m\u001b[0;34m\u001b[0m\u001b[0m\n\u001b[0;32m---> 16\u001b[0;31m         \u001b[0mself\u001b[0m\u001b[0;34m.\u001b[0m\u001b[0mb\u001b[0m \u001b[0;34m=\u001b[0m \u001b[0mself\u001b[0m\u001b[0;34m.\u001b[0m\u001b[0madd_weight\u001b[0m\u001b[0;34m(\u001b[0m\u001b[0mname\u001b[0m\u001b[0;34m=\u001b[0m\u001b[0;34m'attention_bias'\u001b[0m\u001b[0;34m,\u001b[0m\u001b[0mshape\u001b[0m\u001b[0;34m=\u001b[0m\u001b[0;34m(\u001b[0m\u001b[0minput_shape\u001b[0m\u001b[0;34m[\u001b[0m\u001b[0;34m-\u001b[0m\u001b[0;36m2\u001b[0m\u001b[0;34m]\u001b[0m\u001b[0;34m,\u001b[0m\u001b[0;36m1\u001b[0m\u001b[0;34m)\u001b[0m\u001b[0;34m,\u001b[0m \u001b[0minitializer\u001b[0m\u001b[0;34m=\u001b[0m\u001b[0;34m'zero'\u001b[0m\u001b[0;34m)\u001b[0m\u001b[0;34m\u001b[0m\u001b[0;34m\u001b[0m\u001b[0m\n\u001b[0m\u001b[1;32m     17\u001b[0m \u001b[0;34m\u001b[0m\u001b[0m\n\u001b[1;32m     18\u001b[0m \u001b[0;34m\u001b[0m\u001b[0m\n",
            "\u001b[0;32m/usr/local/lib/python3.7/dist-packages/keras/engine/base_layer_v1.py\u001b[0m in \u001b[0;36madd_weight\u001b[0;34m(self, name, shape, dtype, initializer, regularizer, trainable, constraint, partitioner, use_resource, synchronization, aggregation, **kwargs)\u001b[0m\n\u001b[1;32m    438\u001b[0m         \u001b[0msynchronization\u001b[0m\u001b[0;34m=\u001b[0m\u001b[0msynchronization\u001b[0m\u001b[0;34m,\u001b[0m\u001b[0;34m\u001b[0m\u001b[0;34m\u001b[0m\u001b[0m\n\u001b[1;32m    439\u001b[0m         \u001b[0maggregation\u001b[0m\u001b[0;34m=\u001b[0m\u001b[0maggregation\u001b[0m\u001b[0;34m,\u001b[0m\u001b[0;34m\u001b[0m\u001b[0;34m\u001b[0m\u001b[0m\n\u001b[0;32m--> 440\u001b[0;31m         caching_device=caching_device)\n\u001b[0m\u001b[1;32m    441\u001b[0m     \u001b[0;32mif\u001b[0m \u001b[0mregularizer\u001b[0m \u001b[0;32mis\u001b[0m \u001b[0;32mnot\u001b[0m \u001b[0;32mNone\u001b[0m\u001b[0;34m:\u001b[0m\u001b[0;34m\u001b[0m\u001b[0;34m\u001b[0m\u001b[0m\n\u001b[1;32m    442\u001b[0m       \u001b[0;31m# TODO(fchollet): in the future, this should be handled at the\u001b[0m\u001b[0;34m\u001b[0m\u001b[0;34m\u001b[0m\u001b[0;34m\u001b[0m\u001b[0m\n",
            "\u001b[0;32m/usr/local/lib/python3.7/dist-packages/tensorflow/python/training/tracking/base.py\u001b[0m in \u001b[0;36m_add_variable_with_custom_getter\u001b[0;34m(self, name, shape, dtype, initializer, getter, overwrite, **kwargs_for_getter)\u001b[0m\n\u001b[1;32m    819\u001b[0m         \u001b[0mdtype\u001b[0m\u001b[0;34m=\u001b[0m\u001b[0mdtype\u001b[0m\u001b[0;34m,\u001b[0m\u001b[0;34m\u001b[0m\u001b[0;34m\u001b[0m\u001b[0m\n\u001b[1;32m    820\u001b[0m         \u001b[0minitializer\u001b[0m\u001b[0;34m=\u001b[0m\u001b[0minitializer\u001b[0m\u001b[0;34m,\u001b[0m\u001b[0;34m\u001b[0m\u001b[0;34m\u001b[0m\u001b[0m\n\u001b[0;32m--> 821\u001b[0;31m         **kwargs_for_getter)\n\u001b[0m\u001b[1;32m    822\u001b[0m \u001b[0;34m\u001b[0m\u001b[0m\n\u001b[1;32m    823\u001b[0m     \u001b[0;31m# If we set an initializer and the variable processed it, tracking will not\u001b[0m\u001b[0;34m\u001b[0m\u001b[0;34m\u001b[0m\u001b[0;34m\u001b[0m\u001b[0m\n",
            "\u001b[0;32m/usr/local/lib/python3.7/dist-packages/keras/engine/base_layer_utils.py\u001b[0m in \u001b[0;36mmake_variable\u001b[0;34m(name, shape, dtype, initializer, trainable, caching_device, validate_shape, constraint, use_resource, collections, synchronization, aggregation, partitioner)\u001b[0m\n\u001b[1;32m    127\u001b[0m       \u001b[0msynchronization\u001b[0m\u001b[0;34m=\u001b[0m\u001b[0msynchronization\u001b[0m\u001b[0;34m,\u001b[0m\u001b[0;34m\u001b[0m\u001b[0;34m\u001b[0m\u001b[0m\n\u001b[1;32m    128\u001b[0m       \u001b[0maggregation\u001b[0m\u001b[0;34m=\u001b[0m\u001b[0maggregation\u001b[0m\u001b[0;34m,\u001b[0m\u001b[0;34m\u001b[0m\u001b[0;34m\u001b[0m\u001b[0m\n\u001b[0;32m--> 129\u001b[0;31m       shape=variable_shape if variable_shape else None)\n\u001b[0m\u001b[1;32m    130\u001b[0m \u001b[0;34m\u001b[0m\u001b[0m\n\u001b[1;32m    131\u001b[0m \u001b[0;34m\u001b[0m\u001b[0m\n",
            "\u001b[0;32m/usr/local/lib/python3.7/dist-packages/tensorflow/python/util/traceback_utils.py\u001b[0m in \u001b[0;36merror_handler\u001b[0;34m(*args, **kwargs)\u001b[0m\n\u001b[1;32m    151\u001b[0m     \u001b[0;32mexcept\u001b[0m \u001b[0mException\u001b[0m \u001b[0;32mas\u001b[0m \u001b[0me\u001b[0m\u001b[0;34m:\u001b[0m\u001b[0;34m\u001b[0m\u001b[0;34m\u001b[0m\u001b[0m\n\u001b[1;32m    152\u001b[0m       \u001b[0mfiltered_tb\u001b[0m \u001b[0;34m=\u001b[0m \u001b[0m_process_traceback_frames\u001b[0m\u001b[0;34m(\u001b[0m\u001b[0me\u001b[0m\u001b[0;34m.\u001b[0m\u001b[0m__traceback__\u001b[0m\u001b[0;34m)\u001b[0m\u001b[0;34m\u001b[0m\u001b[0;34m\u001b[0m\u001b[0m\n\u001b[0;32m--> 153\u001b[0;31m       \u001b[0;32mraise\u001b[0m \u001b[0me\u001b[0m\u001b[0;34m.\u001b[0m\u001b[0mwith_traceback\u001b[0m\u001b[0;34m(\u001b[0m\u001b[0mfiltered_tb\u001b[0m\u001b[0;34m)\u001b[0m \u001b[0;32mfrom\u001b[0m \u001b[0;32mNone\u001b[0m\u001b[0;34m\u001b[0m\u001b[0;34m\u001b[0m\u001b[0m\n\u001b[0m\u001b[1;32m    154\u001b[0m     \u001b[0;32mfinally\u001b[0m\u001b[0;34m:\u001b[0m\u001b[0;34m\u001b[0m\u001b[0;34m\u001b[0m\u001b[0m\n\u001b[1;32m    155\u001b[0m       \u001b[0;32mdel\u001b[0m \u001b[0mfiltered_tb\u001b[0m\u001b[0;34m\u001b[0m\u001b[0;34m\u001b[0m\u001b[0m\n",
            "\u001b[0;32m/usr/local/lib/python3.7/dist-packages/tensorflow/python/framework/tensor_util.py\u001b[0m in \u001b[0;36mmake_tensor_proto\u001b[0;34m(values, dtype, shape, verify_shape, allow_broadcast)\u001b[0m\n\u001b[1;32m    456\u001b[0m     \u001b[0;32melse\u001b[0m\u001b[0;34m:\u001b[0m\u001b[0;34m\u001b[0m\u001b[0;34m\u001b[0m\u001b[0m\n\u001b[1;32m    457\u001b[0m       \u001b[0m_AssertCompatible\u001b[0m\u001b[0;34m(\u001b[0m\u001b[0mvalues\u001b[0m\u001b[0;34m,\u001b[0m \u001b[0mdtype\u001b[0m\u001b[0;34m)\u001b[0m\u001b[0;34m\u001b[0m\u001b[0;34m\u001b[0m\u001b[0m\n\u001b[0;32m--> 458\u001b[0;31m       \u001b[0mnparray\u001b[0m \u001b[0;34m=\u001b[0m \u001b[0mnp\u001b[0m\u001b[0;34m.\u001b[0m\u001b[0marray\u001b[0m\u001b[0;34m(\u001b[0m\u001b[0mvalues\u001b[0m\u001b[0;34m,\u001b[0m \u001b[0mdtype\u001b[0m\u001b[0;34m=\u001b[0m\u001b[0mnp_dt\u001b[0m\u001b[0;34m)\u001b[0m\u001b[0;34m\u001b[0m\u001b[0;34m\u001b[0m\u001b[0m\n\u001b[0m\u001b[1;32m    459\u001b[0m       \u001b[0;31m# check to them.\u001b[0m\u001b[0;34m\u001b[0m\u001b[0;34m\u001b[0m\u001b[0;34m\u001b[0m\u001b[0m\n\u001b[1;32m    460\u001b[0m       \u001b[0;31m# We need to pass in quantized values as tuples, so don't apply the shape\u001b[0m\u001b[0;34m\u001b[0m\u001b[0;34m\u001b[0m\u001b[0;34m\u001b[0m\u001b[0m\n",
            "\u001b[0;31mTypeError\u001b[0m: __int__ returned non-int (type NoneType)"
          ]
        }
      ]
    },
    {
      "cell_type": "code",
      "metadata": {
        "id": "RF1crKtAqPgL"
      },
      "source": [
        "\n",
        "history = autoencoder.fit(x=X_train, y={'decoded_mean': Conversion_X_train, 'pred': y_train}, batch_size=100, epochs=100, validation_data=(X_test, {'decoded_mean': Conversion_X_test, 'pred':  y_test}),callbacks=[early_stopping, save_best])\n"
      ],
      "execution_count": null,
      "outputs": []
    },
    {
      "cell_type": "code",
      "metadata": {
        "id": "ZBr2iluWqPli"
      },
      "source": [
        "autoencoder.evaluate(X_test, {'decoded_mean': Conversion_X_test, 'pred':  y_test})"
      ],
      "execution_count": null,
      "outputs": []
    },
    {
      "cell_type": "code",
      "metadata": {
        "id": "_lbXtCUDqPtT"
      },
      "source": [
        "plt.plot(history.history['pred_acc'])\n",
        "plt.plot(history.history['val_pred_acc'])\n",
        "plt.title('model accuracy')\n",
        "plt.ylabel('accuracy')\n",
        "plt.xlabel('epoch')\n",
        "plt.legend(['train', 'validation'], loc='upper left')\n",
        "plt.show()\n",
        "# Plot of loss in each epoch\n",
        "plt.plot(history.history['loss'])\n",
        "plt.plot(history.history['val_loss'])\n",
        "plt.title('model loss')\n",
        "plt.ylabel('loss')\n",
        "plt.xlabel('epoch')\n",
        "plt.legend(['train', 'validation'], loc='upper left')\n",
        "plt.show()\n",
        "plt.plot(history.history['pred_loss'])\n",
        "plt.plot(history.history['val_pred_loss'])\n",
        "plt.title('model pred_loss')\n",
        "plt.ylabel('pred_loss')\n",
        "plt.xlabel('epoch')\n",
        "plt.legend(['train', 'validation'], loc='upper left')\n",
        "plt.show()\n",
        "\n",
        "plt.plot(history.history['pred_f1_m'])\n",
        "plt.plot(history.history['val_pred_f1_m'])\n",
        "\n",
        "plt.title('model F1_score')\n",
        "plt.ylabel('f1_m')\n",
        "plt.xlabel('epoch')\n",
        "plt.legend(['train','test'], loc='upper left')\n",
        "plt.show()"
      ],
      "execution_count": null,
      "outputs": []
    },
    {
      "cell_type": "markdown",
      "metadata": {
        "id": "43GI0kjA81zL"
      },
      "source": [
        "# **Test_6**\n",
        "Deux couches cachés avec 1024 et 750 pour chaqu'une \n"
      ]
    },
    {
      "cell_type": "code",
      "metadata": {
        "id": "x7m9lB8s87pZ"
      },
      "source": [
        "MODEL_FILE_PATH = '/content/drive/MyDrive/dossier_de_travail/'\n",
        "MODEL_FILE_NAME = 'Adamaxmodel0.001.h5'\n",
        "LR=0.0001\n",
        "\n",
        "batch_size = 128\n",
        "vocab_size=vocab_size\n",
        "max_length=100 \n",
        "dim_latent=200\n",
        "intermediate_dim=500\n",
        "\n",
        "encoder = None\n",
        "decoder = None\n",
        "predicter_opinion = None\n",
        "autoencoder = None\n",
        "\n",
        "x = Input(shape=(max_length,))\n",
        "x_embed = Embedding(vocab_size, 100, weights=[embedding_matrix], input_length=max_length)(x)\n",
        "\n",
        "\n",
        "def Encodeur(x, dim_latent=200, max_length=100, epsilon_std=0.01):\n",
        "    h = Bidirectional(LSTM(1024, return_sequences=True,dropout=0.25),merge_mode='concat')(x)\n",
        "    h = AttentionCouche()(h) \n",
        "    h = Bidirectional(LSTM(750, return_sequences=True,dropout=0.25),merge_mode='concat')(h)\n",
        "    h = Dense(300, activation='relu', name='dense_1')(h)\n",
        "    \n",
        "    def sampling(args):\n",
        "        z_mean, z_log_var = args\n",
        "        batch = K.shape(z_mean)[0]\n",
        "        # by default, random_normal has mean=0 and std=1.0\n",
        "        epsilon = K.random_normal(shape=(batch, dim_latent), mean=0., stddev=epsilon_std)\n",
        "        return z_mean + K.exp(z_log_var / 2) * epsilon\n",
        "    \n",
        "    \n",
        "    z_mean = Dense(dim_latent, name='z_mean', activation='linear')(h)\n",
        "    z_log_var = Dense(dim_latent, name='z_log_var', activation='linear')(h)\n",
        "    z = Lambda(sampling, output_shape=(dim_latent,), name='z')([z_mean, z_log_var])\n",
        "\n",
        "\n",
        "    def fct_loss(x, x_decoded_mean):\n",
        "        x = K.flatten(x)\n",
        "        x_decoded_mean = K.flatten(x_decoded_mean)\n",
        "        xent_loss = max_length * metrics.binary_crossentropy(x, x_decoded_mean)\n",
        "        kl_loss = - 0.5 * K.mean(1 + z_log_var - K.square(z_mean) - K.exp(z_log_var), axis=-1)\n",
        "        return xent_loss + kl_loss\n",
        "    \n",
        "    return (fct_loss, z)\n",
        "    \n",
        "     \n",
        "fct_loss, encoded = Encodeur(x_embed, dim_latent=dim_latent, max_length=max_length)\n",
        "encoder = Model(inputs=x, outputs=encoded)\n",
        "encoder.summary()\n",
        "\n",
        "\n",
        "def Codage_opinion(encoded):\n",
        "    h = Dense(100, activation='linear')(encoded)     \n",
        "    return Dense(3, activation='softmax', name='pred')(h)\n",
        "\n",
        "\n",
        "encoded_input = Input(shape=(dim_latent,))\n",
        "opinion_lab = Codage_opinion(encoded_input)\n",
        "predicter_opinion = Model(encoded_input, opinion_lab)\n",
        "predicter_opinion.summary()\n",
        "\n",
        "\n",
        "def Decodeur(encoded, vocab_size, max_length):\n",
        "    repeated_context = RepeatVector(max_length)(encoded)\n",
        "    h =Bidirectional( LSTM(1024, return_sequences=True,dropout=0.25, name='dec_lstm_1'))(repeated_context)\n",
        "    h =Bidirectional( LSTM(750, return_sequences=True,dropout=0.25, name='dec_lstm_2'))(h)\n",
        "    decoded = TimeDistributed(Dense(vocab_size, activation='softmax'), name='decoded_mean')(h)        \n",
        "    return decoded\n",
        "\n",
        "\n",
        "decoded = Decodeur(encoded_input, vocab_size, max_length)\n",
        "decoder = Model(encoded_input, decoded)\n",
        "decoder.summary()\n",
        "autoencoder = Model(inputs=x, outputs=[Decodeur(encoded, vocab_size, max_length), Codage_opinion(encoded)])\n",
        "tf.config.run_functions_eagerly(False)\n",
        "tf.compat.v1.disable_eager_execution()\n",
        "\n",
        "\n",
        "early_stopping = EarlyStopping(monitor='loss', mode='min', verbose=1, patience=7)\n",
        "save_best = ModelCheckpoint(os.path.join(MODEL_FILE_PATH,MODEL_FILE_NAME), \n",
        "                     monitor='pred_acc', \n",
        "\n",
        "                     mode='max', \n",
        "                     verbose=1, \n",
        "                     save_best_only=True)  \n",
        "autoencoder.compile(optimizer=Adama(learning_rate=0.0001), loss=[fct_loss, 'binary_crossentropy'], metrics=['accuracy',f1_m,precision_m, recall_m])\n",
        "autoencoder.summary()\n"
      ],
      "execution_count": null,
      "outputs": []
    },
    {
      "cell_type": "code",
      "metadata": {
        "id": "1P1pwFkU9CJP"
      },
      "source": [
        "\n",
        "history = autoencoder.fit(x=X_train, y={'decoded_mean': Conversion_X_train, 'pred': y_train}, batch_size=100, epochs=100, validation_data=(X_test, {'decoded_mean': Conversion_X_test, 'pred':  y_test}),callbacks=[early_stopping, save_best])\n",
        "#"
      ],
      "execution_count": null,
      "outputs": []
    },
    {
      "cell_type": "code",
      "metadata": {
        "id": "hZhwhYKX9Dgi"
      },
      "source": [
        "plt.plot(history.history['pred_acc'])\n",
        "plt.plot(history.history['val_pred_acc'])\n",
        "plt.title('model accuracy')\n",
        "plt.ylabel('accuracy')\n",
        "plt.xlabel('epoch')\n",
        "plt.legend(['train', 'validation'], loc='upper left')\n",
        "plt.show()\n",
        "# Plot of loss in each epoch\n",
        "plt.plot(history.history['loss'])\n",
        "plt.plot(history.history['val_loss'])\n",
        "plt.title('model loss')\n",
        "plt.ylabel('loss')\n",
        "plt.xlabel('epoch')\n",
        "plt.legend(['train', 'validation'], loc='upper left')\n",
        "plt.show()\n",
        "\n",
        "plt.plot(history.history['pred_loss'])\n",
        "plt.plot(history.history['val_pred_loss'])\n",
        "plt.title('model pred_loss')\n",
        "plt.ylabel('pred_loss')\n",
        "plt.xlabel('epoch')\n",
        "plt.legend(['train', 'validation'], loc='upper left')\n",
        "plt.show()\n",
        "\n",
        "plt.plot(history.history['pred_f1_m'])\n",
        "plt.plot(history.history['val_pred_f1_m'])\n",
        "plt.title('model F1_score')\n",
        "plt.ylabel('f1_m')\n",
        "plt.xlabel('epoch')\n",
        "plt.legend(['train','test'], loc='upper left')\n",
        "plt.show()"
      ],
      "execution_count": null,
      "outputs": []
    },
    {
      "cell_type": "code",
      "metadata": {
        "id": "1RE83jFgMmTu"
      },
      "source": [
        "autoencoder.evaluate(X_test, {'decoded_mean': Conversion_X_test, 'pred':  y_test})"
      ],
      "execution_count": null,
      "outputs": []
    },
    {
      "cell_type": "markdown",
      "metadata": {
        "id": "RBaFWyt_JRV9"
      },
      "source": [
        "# Test_7"
      ]
    },
    {
      "cell_type": "code",
      "metadata": {
        "id": "59GVMZbfJNiX"
      },
      "source": [
        "MODEL_FILE_PATH = '/content/drive/MyDrive/dossier_de_travail/'\n",
        "MODEL_FILE_NAME = 'Adamaxmodel0.001.h5'\n",
        "LR=0.0001\n",
        "\n",
        "batch_size = 128\n",
        "vocab_size=vocab_size\n",
        "max_length=100 \n",
        "dim_latent=200\n",
        "intermediate_dim=500\n",
        "\n",
        "encoder = None\n",
        "decoder = None\n",
        "predicter_opinion = None\n",
        "autoencoder = None\n",
        "\n",
        "x = Input(shape=(max_length,))\n",
        "x_embed = Embedding(vocab_size, 100, weights=[embedding_matrix], input_length=max_length)(x)\n",
        "\n",
        "\n",
        "def Encodeur(x, dim_latent=200, max_length=100, epsilon_std=0.01):\n",
        "    h = Bidirectional(LSTM(1024, return_sequences=True,dropout=0.25),merge_mode='concat')(x)\n",
        "    h = AttentionCouche()(h) \n",
        "    h = Bidirectional(LSTM(750, return_sequences=True,dropout=0.25),merge_mode='concat')(h)\n",
        "    h = Dense(300, activation='relu', name='dense_1')(h)\n",
        "    \n",
        "    def sampling(args):\n",
        "        z_mean, z_log_var = args\n",
        "        batch = K.shape(z_mean)[0]\n",
        "        # by default, random_normal has mean=0 and std=1.0\n",
        "        epsilon = K.random_normal(shape=(batch, dim_latent), mean=0., stddev=epsilon_std)\n",
        "        return z_mean + K.exp(z_log_var / 2) * epsilon\n",
        "    \n",
        "    \n",
        "    z_mean = Dense(dim_latent, name='z_mean', activation='linear')(h)\n",
        "    z_log_var = Dense(dim_latent, name='z_log_var', activation='linear')(h)\n",
        "    z = Lambda(sampling, output_shape=(dim_latent,), name='z')([z_mean, z_log_var])\n",
        "\n",
        "\n",
        "    def fct_loss(x, x_decoded_mean):\n",
        "        x = K.flatten(x)\n",
        "        x_decoded_mean = K.flatten(x_decoded_mean)\n",
        "        xent_loss = max_length * metrics.binary_crossentropy(x, x_decoded_mean)\n",
        "        kl_loss = - 0.5 * K.mean(1 + z_log_var - K.square(z_mean) - K.exp(z_log_var), axis=-1)\n",
        "        return xent_loss + kl_loss\n",
        "    \n",
        "    return (fct_loss, z)\n",
        "    \n",
        "     \n",
        "fct_loss, encoded = Encodeur(x_embed, dim_latent=dim_latent, max_length=max_length)\n",
        "encoder = Model(inputs=x, outputs=encoded)\n",
        "encoder.summary()\n",
        "\n",
        "\n",
        "def Codage_opinion(encoded):\n",
        "    h = Dense(100, activation='linear')(encoded)     \n",
        "    return Dense(3, activation='softmax', name='pred')(h)\n",
        "\n",
        "\n",
        "encoded_input = Input(shape=(dim_latent,))\n",
        "opinion_lab = Codage_opinion(encoded_input)\n",
        "predicter_opinion = Model(encoded_input, opinion_lab)\n",
        "predicter_opinion.summary()\n",
        "\n",
        "\n",
        "def Decodeur(encoded, vocab_size, max_length):\n",
        "    repeated_context = RepeatVector(max_length)(encoded)\n",
        "    h =Bidirectional( LSTM(1024, return_sequences=True,dropout=0.25, name='dec_lstm_1'))(repeated_context)\n",
        "    h =Bidirectional( LSTM(750, return_sequences=True,dropout=0.25, name='dec_lstm_2'))(h)\n",
        "    decoded = TimeDistributed(Dense(vocab_size, activation='softmax'), name='decoded_mean')(h)        \n",
        "    return decoded\n",
        "\n",
        "\n",
        "decoded = Decodeur(encoded_input, vocab_size, max_length)\n",
        "decoder = Model(encoded_input, decoded)\n",
        "decoder.summary()\n",
        "autoencoder = Model(inputs=x, outputs=[Decodeur(encoded, vocab_size, max_length), Codage_opinion(encoded)])\n",
        "tf.config.run_functions_eagerly(False)\n",
        "tf.compat.v1.disable_eager_execution()\n",
        "\n",
        "\n",
        "early_stopping = EarlyStopping(monitor='loss', mode='min', verbose=1, patience=7)\n",
        "save_best = ModelCheckpoint(os.path.join(MODEL_FILE_PATH,MODEL_FILE_NAME), \n",
        "                     monitor='pred_acc', \n",
        "\n",
        "                     mode='max', \n",
        "                     verbose=1, \n",
        "                     save_best_only=True)  \n",
        "autoencoder.compile(optimizer=Adama(learning_rate=0.0001), loss=[fct_loss, 'binary_crossentropy'], metrics=['accuracy',f1_m,precision_m, recall_m])\n",
        "autoencoder.summary()\n"
      ],
      "execution_count": null,
      "outputs": []
    },
    {
      "cell_type": "code",
      "metadata": {
        "id": "xls0t2BFJNaX"
      },
      "source": [
        "\n",
        "history = autoencoder.fit(x=X_train, y={'decoded_mean': Conversion_X_train, 'pred': y_train}, batch_size=100, epochs=100, validation_data=(X_test, {'decoded_mean': Conversion_X_test, 'pred':  y_test}),callbacks=[early_stopping, save_best])\n",
        "#"
      ],
      "execution_count": null,
      "outputs": []
    },
    {
      "cell_type": "code",
      "metadata": {
        "id": "wOM3sfRjJNPZ"
      },
      "source": [
        "plt.plot(history.history['pred_acc'])\n",
        "plt.plot(history.history['val_pred_acc'])\n",
        "plt.title('model accuracy')\n",
        "plt.ylabel('accuracy')\n",
        "plt.xlabel('epoch')\n",
        "plt.legend(['train', 'validation'], loc='upper left')\n",
        "plt.show()\n",
        "# Plot of loss in each epoch\n",
        "plt.plot(history.history['loss'])\n",
        "plt.plot(history.history['val_loss'])\n",
        "plt.title('model loss')\n",
        "plt.ylabel('loss')\n",
        "plt.xlabel('epoch')\n",
        "plt.legend(['train', 'validation'], loc='upper left')\n",
        "plt.show()\n",
        "\n",
        "plt.plot(history.history['pred_loss'])\n",
        "plt.plot(history.history['val_pred_loss'])\n",
        "plt.title('model pred_loss')\n",
        "plt.ylabel('pred_loss')\n",
        "plt.xlabel('epoch')\n",
        "plt.legend(['train', 'validation'], loc='upper left')\n",
        "plt.show()\n",
        "\n",
        "plt.plot(history.history['pred_f1_m'])\n",
        "plt.plot(history.history['val_pred_f1_m'])\n",
        "plt.title('model F1_score')\n",
        "plt.ylabel('f1_m')\n",
        "plt.xlabel('epoch')\n",
        "plt.legend(['train','test'], loc='upper left')\n",
        "plt.show()"
      ],
      "execution_count": null,
      "outputs": []
    }
  ]
}